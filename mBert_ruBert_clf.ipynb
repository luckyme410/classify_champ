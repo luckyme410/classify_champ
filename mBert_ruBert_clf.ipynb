{
  "nbformat": 4,
  "nbformat_minor": 0,
  "metadata": {
    "colab": {
      "provenance": [],
      "authorship_tag": "ABX9TyNmMfOn7Dz0qaoqI6FSJSHZ",
      "include_colab_link": true
    },
    "kernelspec": {
      "name": "python3",
      "display_name": "Python 3"
    },
    "language_info": {
      "name": "python"
    },
    "widgets": {
      "application/vnd.jupyter.widget-state+json": {
        "9a8c6123260c4e0d92d81d49972bade7": {
          "model_module": "@jupyter-widgets/controls",
          "model_name": "HBoxModel",
          "model_module_version": "1.5.0",
          "state": {
            "_dom_classes": [],
            "_model_module": "@jupyter-widgets/controls",
            "_model_module_version": "1.5.0",
            "_model_name": "HBoxModel",
            "_view_count": null,
            "_view_module": "@jupyter-widgets/controls",
            "_view_module_version": "1.5.0",
            "_view_name": "HBoxView",
            "box_style": "",
            "children": [
              "IPY_MODEL_b22e80d0290047499b35062652036b9a",
              "IPY_MODEL_2a9a61c8592546079d0c9d443e58e2af",
              "IPY_MODEL_7a6ef4c13a3e46689fcafa93d5464192"
            ],
            "layout": "IPY_MODEL_8bbb9e57a8db4bd4899b5bc873d4e893"
          }
        },
        "b22e80d0290047499b35062652036b9a": {
          "model_module": "@jupyter-widgets/controls",
          "model_name": "HTMLModel",
          "model_module_version": "1.5.0",
          "state": {
            "_dom_classes": [],
            "_model_module": "@jupyter-widgets/controls",
            "_model_module_version": "1.5.0",
            "_model_name": "HTMLModel",
            "_view_count": null,
            "_view_module": "@jupyter-widgets/controls",
            "_view_module_version": "1.5.0",
            "_view_name": "HTMLView",
            "description": "",
            "description_tooltip": null,
            "layout": "IPY_MODEL_17ba7b24d22a444aac58fc66e47a3b8c",
            "placeholder": "​",
            "style": "IPY_MODEL_b03b948b089441dcaed7f5e746b26212",
            "value": "tokenizer_config.json: 100%"
          }
        },
        "2a9a61c8592546079d0c9d443e58e2af": {
          "model_module": "@jupyter-widgets/controls",
          "model_name": "FloatProgressModel",
          "model_module_version": "1.5.0",
          "state": {
            "_dom_classes": [],
            "_model_module": "@jupyter-widgets/controls",
            "_model_module_version": "1.5.0",
            "_model_name": "FloatProgressModel",
            "_view_count": null,
            "_view_module": "@jupyter-widgets/controls",
            "_view_module_version": "1.5.0",
            "_view_name": "ProgressView",
            "bar_style": "success",
            "description": "",
            "description_tooltip": null,
            "layout": "IPY_MODEL_cf3b54b03c7d45b29789c51d93f1e6f1",
            "max": 82,
            "min": 0,
            "orientation": "horizontal",
            "style": "IPY_MODEL_1365d068ba374a54ac181fab173ac1a4",
            "value": 82
          }
        },
        "7a6ef4c13a3e46689fcafa93d5464192": {
          "model_module": "@jupyter-widgets/controls",
          "model_name": "HTMLModel",
          "model_module_version": "1.5.0",
          "state": {
            "_dom_classes": [],
            "_model_module": "@jupyter-widgets/controls",
            "_model_module_version": "1.5.0",
            "_model_name": "HTMLModel",
            "_view_count": null,
            "_view_module": "@jupyter-widgets/controls",
            "_view_module_version": "1.5.0",
            "_view_name": "HTMLView",
            "description": "",
            "description_tooltip": null,
            "layout": "IPY_MODEL_dd3d86f4de274e7ab77608394c6d112e",
            "placeholder": "​",
            "style": "IPY_MODEL_a227bcff1c8f4471a6086d7a9061414b",
            "value": " 82.0/82.0 [00:00&lt;00:00, 3.12kB/s]"
          }
        },
        "8bbb9e57a8db4bd4899b5bc873d4e893": {
          "model_module": "@jupyter-widgets/base",
          "model_name": "LayoutModel",
          "model_module_version": "1.2.0",
          "state": {
            "_model_module": "@jupyter-widgets/base",
            "_model_module_version": "1.2.0",
            "_model_name": "LayoutModel",
            "_view_count": null,
            "_view_module": "@jupyter-widgets/base",
            "_view_module_version": "1.2.0",
            "_view_name": "LayoutView",
            "align_content": null,
            "align_items": null,
            "align_self": null,
            "border": null,
            "bottom": null,
            "display": null,
            "flex": null,
            "flex_flow": null,
            "grid_area": null,
            "grid_auto_columns": null,
            "grid_auto_flow": null,
            "grid_auto_rows": null,
            "grid_column": null,
            "grid_gap": null,
            "grid_row": null,
            "grid_template_areas": null,
            "grid_template_columns": null,
            "grid_template_rows": null,
            "height": null,
            "justify_content": null,
            "justify_items": null,
            "left": null,
            "margin": null,
            "max_height": null,
            "max_width": null,
            "min_height": null,
            "min_width": null,
            "object_fit": null,
            "object_position": null,
            "order": null,
            "overflow": null,
            "overflow_x": null,
            "overflow_y": null,
            "padding": null,
            "right": null,
            "top": null,
            "visibility": null,
            "width": null
          }
        },
        "17ba7b24d22a444aac58fc66e47a3b8c": {
          "model_module": "@jupyter-widgets/base",
          "model_name": "LayoutModel",
          "model_module_version": "1.2.0",
          "state": {
            "_model_module": "@jupyter-widgets/base",
            "_model_module_version": "1.2.0",
            "_model_name": "LayoutModel",
            "_view_count": null,
            "_view_module": "@jupyter-widgets/base",
            "_view_module_version": "1.2.0",
            "_view_name": "LayoutView",
            "align_content": null,
            "align_items": null,
            "align_self": null,
            "border": null,
            "bottom": null,
            "display": null,
            "flex": null,
            "flex_flow": null,
            "grid_area": null,
            "grid_auto_columns": null,
            "grid_auto_flow": null,
            "grid_auto_rows": null,
            "grid_column": null,
            "grid_gap": null,
            "grid_row": null,
            "grid_template_areas": null,
            "grid_template_columns": null,
            "grid_template_rows": null,
            "height": null,
            "justify_content": null,
            "justify_items": null,
            "left": null,
            "margin": null,
            "max_height": null,
            "max_width": null,
            "min_height": null,
            "min_width": null,
            "object_fit": null,
            "object_position": null,
            "order": null,
            "overflow": null,
            "overflow_x": null,
            "overflow_y": null,
            "padding": null,
            "right": null,
            "top": null,
            "visibility": null,
            "width": null
          }
        },
        "b03b948b089441dcaed7f5e746b26212": {
          "model_module": "@jupyter-widgets/controls",
          "model_name": "DescriptionStyleModel",
          "model_module_version": "1.5.0",
          "state": {
            "_model_module": "@jupyter-widgets/controls",
            "_model_module_version": "1.5.0",
            "_model_name": "DescriptionStyleModel",
            "_view_count": null,
            "_view_module": "@jupyter-widgets/base",
            "_view_module_version": "1.2.0",
            "_view_name": "StyleView",
            "description_width": ""
          }
        },
        "cf3b54b03c7d45b29789c51d93f1e6f1": {
          "model_module": "@jupyter-widgets/base",
          "model_name": "LayoutModel",
          "model_module_version": "1.2.0",
          "state": {
            "_model_module": "@jupyter-widgets/base",
            "_model_module_version": "1.2.0",
            "_model_name": "LayoutModel",
            "_view_count": null,
            "_view_module": "@jupyter-widgets/base",
            "_view_module_version": "1.2.0",
            "_view_name": "LayoutView",
            "align_content": null,
            "align_items": null,
            "align_self": null,
            "border": null,
            "bottom": null,
            "display": null,
            "flex": null,
            "flex_flow": null,
            "grid_area": null,
            "grid_auto_columns": null,
            "grid_auto_flow": null,
            "grid_auto_rows": null,
            "grid_column": null,
            "grid_gap": null,
            "grid_row": null,
            "grid_template_areas": null,
            "grid_template_columns": null,
            "grid_template_rows": null,
            "height": null,
            "justify_content": null,
            "justify_items": null,
            "left": null,
            "margin": null,
            "max_height": null,
            "max_width": null,
            "min_height": null,
            "min_width": null,
            "object_fit": null,
            "object_position": null,
            "order": null,
            "overflow": null,
            "overflow_x": null,
            "overflow_y": null,
            "padding": null,
            "right": null,
            "top": null,
            "visibility": null,
            "width": null
          }
        },
        "1365d068ba374a54ac181fab173ac1a4": {
          "model_module": "@jupyter-widgets/controls",
          "model_name": "ProgressStyleModel",
          "model_module_version": "1.5.0",
          "state": {
            "_model_module": "@jupyter-widgets/controls",
            "_model_module_version": "1.5.0",
            "_model_name": "ProgressStyleModel",
            "_view_count": null,
            "_view_module": "@jupyter-widgets/base",
            "_view_module_version": "1.2.0",
            "_view_name": "StyleView",
            "bar_color": null,
            "description_width": ""
          }
        },
        "dd3d86f4de274e7ab77608394c6d112e": {
          "model_module": "@jupyter-widgets/base",
          "model_name": "LayoutModel",
          "model_module_version": "1.2.0",
          "state": {
            "_model_module": "@jupyter-widgets/base",
            "_model_module_version": "1.2.0",
            "_model_name": "LayoutModel",
            "_view_count": null,
            "_view_module": "@jupyter-widgets/base",
            "_view_module_version": "1.2.0",
            "_view_name": "LayoutView",
            "align_content": null,
            "align_items": null,
            "align_self": null,
            "border": null,
            "bottom": null,
            "display": null,
            "flex": null,
            "flex_flow": null,
            "grid_area": null,
            "grid_auto_columns": null,
            "grid_auto_flow": null,
            "grid_auto_rows": null,
            "grid_column": null,
            "grid_gap": null,
            "grid_row": null,
            "grid_template_areas": null,
            "grid_template_columns": null,
            "grid_template_rows": null,
            "height": null,
            "justify_content": null,
            "justify_items": null,
            "left": null,
            "margin": null,
            "max_height": null,
            "max_width": null,
            "min_height": null,
            "min_width": null,
            "object_fit": null,
            "object_position": null,
            "order": null,
            "overflow": null,
            "overflow_x": null,
            "overflow_y": null,
            "padding": null,
            "right": null,
            "top": null,
            "visibility": null,
            "width": null
          }
        },
        "a227bcff1c8f4471a6086d7a9061414b": {
          "model_module": "@jupyter-widgets/controls",
          "model_name": "DescriptionStyleModel",
          "model_module_version": "1.5.0",
          "state": {
            "_model_module": "@jupyter-widgets/controls",
            "_model_module_version": "1.5.0",
            "_model_name": "DescriptionStyleModel",
            "_view_count": null,
            "_view_module": "@jupyter-widgets/base",
            "_view_module_version": "1.2.0",
            "_view_name": "StyleView",
            "description_width": ""
          }
        },
        "3173ec2be42544389a1b1b6349daf2f0": {
          "model_module": "@jupyter-widgets/controls",
          "model_name": "HBoxModel",
          "model_module_version": "1.5.0",
          "state": {
            "_dom_classes": [],
            "_model_module": "@jupyter-widgets/controls",
            "_model_module_version": "1.5.0",
            "_model_name": "HBoxModel",
            "_view_count": null,
            "_view_module": "@jupyter-widgets/controls",
            "_view_module_version": "1.5.0",
            "_view_name": "HBoxView",
            "box_style": "",
            "children": [
              "IPY_MODEL_078eb455414748448c8bccc39d4a2f2f",
              "IPY_MODEL_4165dc40aedc4b689de67e7de29b35b8",
              "IPY_MODEL_309fdc7a18264eddb5d3b6b1b9bdefe4"
            ],
            "layout": "IPY_MODEL_6776428fb7794dc1a16e7fec631c26f3"
          }
        },
        "078eb455414748448c8bccc39d4a2f2f": {
          "model_module": "@jupyter-widgets/controls",
          "model_name": "HTMLModel",
          "model_module_version": "1.5.0",
          "state": {
            "_dom_classes": [],
            "_model_module": "@jupyter-widgets/controls",
            "_model_module_version": "1.5.0",
            "_model_name": "HTMLModel",
            "_view_count": null,
            "_view_module": "@jupyter-widgets/controls",
            "_view_module_version": "1.5.0",
            "_view_name": "HTMLView",
            "description": "",
            "description_tooltip": null,
            "layout": "IPY_MODEL_5714597f3a0840fdbc8b8bdbad6320a1",
            "placeholder": "​",
            "style": "IPY_MODEL_4d52821f70284b48a5054dbcd96d843a",
            "value": "config.json: 100%"
          }
        },
        "4165dc40aedc4b689de67e7de29b35b8": {
          "model_module": "@jupyter-widgets/controls",
          "model_name": "FloatProgressModel",
          "model_module_version": "1.5.0",
          "state": {
            "_dom_classes": [],
            "_model_module": "@jupyter-widgets/controls",
            "_model_module_version": "1.5.0",
            "_model_name": "FloatProgressModel",
            "_view_count": null,
            "_view_module": "@jupyter-widgets/controls",
            "_view_module_version": "1.5.0",
            "_view_name": "ProgressView",
            "bar_style": "success",
            "description": "",
            "description_tooltip": null,
            "layout": "IPY_MODEL_f5d552865868459087f565c49a3e9964",
            "max": 553,
            "min": 0,
            "orientation": "horizontal",
            "style": "IPY_MODEL_5848fbd77f9b4d5e964936e9afe09764",
            "value": 553
          }
        },
        "309fdc7a18264eddb5d3b6b1b9bdefe4": {
          "model_module": "@jupyter-widgets/controls",
          "model_name": "HTMLModel",
          "model_module_version": "1.5.0",
          "state": {
            "_dom_classes": [],
            "_model_module": "@jupyter-widgets/controls",
            "_model_module_version": "1.5.0",
            "_model_name": "HTMLModel",
            "_view_count": null,
            "_view_module": "@jupyter-widgets/controls",
            "_view_module_version": "1.5.0",
            "_view_name": "HTMLView",
            "description": "",
            "description_tooltip": null,
            "layout": "IPY_MODEL_0768fa3d60014c0c83a7801d3aefa426",
            "placeholder": "​",
            "style": "IPY_MODEL_3682b31185cd42f19f13e548f950d083",
            "value": " 553/553 [00:00&lt;00:00, 42.7kB/s]"
          }
        },
        "6776428fb7794dc1a16e7fec631c26f3": {
          "model_module": "@jupyter-widgets/base",
          "model_name": "LayoutModel",
          "model_module_version": "1.2.0",
          "state": {
            "_model_module": "@jupyter-widgets/base",
            "_model_module_version": "1.2.0",
            "_model_name": "LayoutModel",
            "_view_count": null,
            "_view_module": "@jupyter-widgets/base",
            "_view_module_version": "1.2.0",
            "_view_name": "LayoutView",
            "align_content": null,
            "align_items": null,
            "align_self": null,
            "border": null,
            "bottom": null,
            "display": null,
            "flex": null,
            "flex_flow": null,
            "grid_area": null,
            "grid_auto_columns": null,
            "grid_auto_flow": null,
            "grid_auto_rows": null,
            "grid_column": null,
            "grid_gap": null,
            "grid_row": null,
            "grid_template_areas": null,
            "grid_template_columns": null,
            "grid_template_rows": null,
            "height": null,
            "justify_content": null,
            "justify_items": null,
            "left": null,
            "margin": null,
            "max_height": null,
            "max_width": null,
            "min_height": null,
            "min_width": null,
            "object_fit": null,
            "object_position": null,
            "order": null,
            "overflow": null,
            "overflow_x": null,
            "overflow_y": null,
            "padding": null,
            "right": null,
            "top": null,
            "visibility": null,
            "width": null
          }
        },
        "5714597f3a0840fdbc8b8bdbad6320a1": {
          "model_module": "@jupyter-widgets/base",
          "model_name": "LayoutModel",
          "model_module_version": "1.2.0",
          "state": {
            "_model_module": "@jupyter-widgets/base",
            "_model_module_version": "1.2.0",
            "_model_name": "LayoutModel",
            "_view_count": null,
            "_view_module": "@jupyter-widgets/base",
            "_view_module_version": "1.2.0",
            "_view_name": "LayoutView",
            "align_content": null,
            "align_items": null,
            "align_self": null,
            "border": null,
            "bottom": null,
            "display": null,
            "flex": null,
            "flex_flow": null,
            "grid_area": null,
            "grid_auto_columns": null,
            "grid_auto_flow": null,
            "grid_auto_rows": null,
            "grid_column": null,
            "grid_gap": null,
            "grid_row": null,
            "grid_template_areas": null,
            "grid_template_columns": null,
            "grid_template_rows": null,
            "height": null,
            "justify_content": null,
            "justify_items": null,
            "left": null,
            "margin": null,
            "max_height": null,
            "max_width": null,
            "min_height": null,
            "min_width": null,
            "object_fit": null,
            "object_position": null,
            "order": null,
            "overflow": null,
            "overflow_x": null,
            "overflow_y": null,
            "padding": null,
            "right": null,
            "top": null,
            "visibility": null,
            "width": null
          }
        },
        "4d52821f70284b48a5054dbcd96d843a": {
          "model_module": "@jupyter-widgets/controls",
          "model_name": "DescriptionStyleModel",
          "model_module_version": "1.5.0",
          "state": {
            "_model_module": "@jupyter-widgets/controls",
            "_model_module_version": "1.5.0",
            "_model_name": "DescriptionStyleModel",
            "_view_count": null,
            "_view_module": "@jupyter-widgets/base",
            "_view_module_version": "1.2.0",
            "_view_name": "StyleView",
            "description_width": ""
          }
        },
        "f5d552865868459087f565c49a3e9964": {
          "model_module": "@jupyter-widgets/base",
          "model_name": "LayoutModel",
          "model_module_version": "1.2.0",
          "state": {
            "_model_module": "@jupyter-widgets/base",
            "_model_module_version": "1.2.0",
            "_model_name": "LayoutModel",
            "_view_count": null,
            "_view_module": "@jupyter-widgets/base",
            "_view_module_version": "1.2.0",
            "_view_name": "LayoutView",
            "align_content": null,
            "align_items": null,
            "align_self": null,
            "border": null,
            "bottom": null,
            "display": null,
            "flex": null,
            "flex_flow": null,
            "grid_area": null,
            "grid_auto_columns": null,
            "grid_auto_flow": null,
            "grid_auto_rows": null,
            "grid_column": null,
            "grid_gap": null,
            "grid_row": null,
            "grid_template_areas": null,
            "grid_template_columns": null,
            "grid_template_rows": null,
            "height": null,
            "justify_content": null,
            "justify_items": null,
            "left": null,
            "margin": null,
            "max_height": null,
            "max_width": null,
            "min_height": null,
            "min_width": null,
            "object_fit": null,
            "object_position": null,
            "order": null,
            "overflow": null,
            "overflow_x": null,
            "overflow_y": null,
            "padding": null,
            "right": null,
            "top": null,
            "visibility": null,
            "width": null
          }
        },
        "5848fbd77f9b4d5e964936e9afe09764": {
          "model_module": "@jupyter-widgets/controls",
          "model_name": "ProgressStyleModel",
          "model_module_version": "1.5.0",
          "state": {
            "_model_module": "@jupyter-widgets/controls",
            "_model_module_version": "1.5.0",
            "_model_name": "ProgressStyleModel",
            "_view_count": null,
            "_view_module": "@jupyter-widgets/base",
            "_view_module_version": "1.2.0",
            "_view_name": "StyleView",
            "bar_color": null,
            "description_width": ""
          }
        },
        "0768fa3d60014c0c83a7801d3aefa426": {
          "model_module": "@jupyter-widgets/base",
          "model_name": "LayoutModel",
          "model_module_version": "1.2.0",
          "state": {
            "_model_module": "@jupyter-widgets/base",
            "_model_module_version": "1.2.0",
            "_model_name": "LayoutModel",
            "_view_count": null,
            "_view_module": "@jupyter-widgets/base",
            "_view_module_version": "1.2.0",
            "_view_name": "LayoutView",
            "align_content": null,
            "align_items": null,
            "align_self": null,
            "border": null,
            "bottom": null,
            "display": null,
            "flex": null,
            "flex_flow": null,
            "grid_area": null,
            "grid_auto_columns": null,
            "grid_auto_flow": null,
            "grid_auto_rows": null,
            "grid_column": null,
            "grid_gap": null,
            "grid_row": null,
            "grid_template_areas": null,
            "grid_template_columns": null,
            "grid_template_rows": null,
            "height": null,
            "justify_content": null,
            "justify_items": null,
            "left": null,
            "margin": null,
            "max_height": null,
            "max_width": null,
            "min_height": null,
            "min_width": null,
            "object_fit": null,
            "object_position": null,
            "order": null,
            "overflow": null,
            "overflow_x": null,
            "overflow_y": null,
            "padding": null,
            "right": null,
            "top": null,
            "visibility": null,
            "width": null
          }
        },
        "3682b31185cd42f19f13e548f950d083": {
          "model_module": "@jupyter-widgets/controls",
          "model_name": "DescriptionStyleModel",
          "model_module_version": "1.5.0",
          "state": {
            "_model_module": "@jupyter-widgets/controls",
            "_model_module_version": "1.5.0",
            "_model_name": "DescriptionStyleModel",
            "_view_count": null,
            "_view_module": "@jupyter-widgets/base",
            "_view_module_version": "1.2.0",
            "_view_name": "StyleView",
            "description_width": ""
          }
        },
        "3b6f474954334debb4143f6184bf0ff0": {
          "model_module": "@jupyter-widgets/controls",
          "model_name": "HBoxModel",
          "model_module_version": "1.5.0",
          "state": {
            "_dom_classes": [],
            "_model_module": "@jupyter-widgets/controls",
            "_model_module_version": "1.5.0",
            "_model_name": "HBoxModel",
            "_view_count": null,
            "_view_module": "@jupyter-widgets/controls",
            "_view_module_version": "1.5.0",
            "_view_name": "HBoxView",
            "box_style": "",
            "children": [
              "IPY_MODEL_725b4c83a2124656a8f5c3df964562c9",
              "IPY_MODEL_ecc342929aca4c748b4ede63d3ff7b1e",
              "IPY_MODEL_394315d6c76c43ae862336d70739cf65"
            ],
            "layout": "IPY_MODEL_af16ea93e4b9441581f01c007f3f62f1"
          }
        },
        "725b4c83a2124656a8f5c3df964562c9": {
          "model_module": "@jupyter-widgets/controls",
          "model_name": "HTMLModel",
          "model_module_version": "1.5.0",
          "state": {
            "_dom_classes": [],
            "_model_module": "@jupyter-widgets/controls",
            "_model_module_version": "1.5.0",
            "_model_name": "HTMLModel",
            "_view_count": null,
            "_view_module": "@jupyter-widgets/controls",
            "_view_module_version": "1.5.0",
            "_view_name": "HTMLView",
            "description": "",
            "description_tooltip": null,
            "layout": "IPY_MODEL_f6aea5a5d4f449fcb095106efdcc2d6f",
            "placeholder": "​",
            "style": "IPY_MODEL_aa919a81087c48338b46a7563aac55b8",
            "value": "spiece.model: 100%"
          }
        },
        "ecc342929aca4c748b4ede63d3ff7b1e": {
          "model_module": "@jupyter-widgets/controls",
          "model_name": "FloatProgressModel",
          "model_module_version": "1.5.0",
          "state": {
            "_dom_classes": [],
            "_model_module": "@jupyter-widgets/controls",
            "_model_module_version": "1.5.0",
            "_model_name": "FloatProgressModel",
            "_view_count": null,
            "_view_module": "@jupyter-widgets/controls",
            "_view_module_version": "1.5.0",
            "_view_name": "ProgressView",
            "bar_style": "success",
            "description": "",
            "description_tooltip": null,
            "layout": "IPY_MODEL_498a516d39764180a2a5409579d5b448",
            "max": 4309802,
            "min": 0,
            "orientation": "horizontal",
            "style": "IPY_MODEL_36574a657bd24ab2a45e8398f96c0d94",
            "value": 4309802
          }
        },
        "394315d6c76c43ae862336d70739cf65": {
          "model_module": "@jupyter-widgets/controls",
          "model_name": "HTMLModel",
          "model_module_version": "1.5.0",
          "state": {
            "_dom_classes": [],
            "_model_module": "@jupyter-widgets/controls",
            "_model_module_version": "1.5.0",
            "_model_name": "HTMLModel",
            "_view_count": null,
            "_view_module": "@jupyter-widgets/controls",
            "_view_module_version": "1.5.0",
            "_view_name": "HTMLView",
            "description": "",
            "description_tooltip": null,
            "layout": "IPY_MODEL_bdd4a9b7f5384a0c89c883b7a18f946b",
            "placeholder": "​",
            "style": "IPY_MODEL_984eeb7a8a3a4f1abb8bdad19cdb40ac",
            "value": " 4.31M/4.31M [00:00&lt;00:00, 22.7MB/s]"
          }
        },
        "af16ea93e4b9441581f01c007f3f62f1": {
          "model_module": "@jupyter-widgets/base",
          "model_name": "LayoutModel",
          "model_module_version": "1.2.0",
          "state": {
            "_model_module": "@jupyter-widgets/base",
            "_model_module_version": "1.2.0",
            "_model_name": "LayoutModel",
            "_view_count": null,
            "_view_module": "@jupyter-widgets/base",
            "_view_module_version": "1.2.0",
            "_view_name": "LayoutView",
            "align_content": null,
            "align_items": null,
            "align_self": null,
            "border": null,
            "bottom": null,
            "display": null,
            "flex": null,
            "flex_flow": null,
            "grid_area": null,
            "grid_auto_columns": null,
            "grid_auto_flow": null,
            "grid_auto_rows": null,
            "grid_column": null,
            "grid_gap": null,
            "grid_row": null,
            "grid_template_areas": null,
            "grid_template_columns": null,
            "grid_template_rows": null,
            "height": null,
            "justify_content": null,
            "justify_items": null,
            "left": null,
            "margin": null,
            "max_height": null,
            "max_width": null,
            "min_height": null,
            "min_width": null,
            "object_fit": null,
            "object_position": null,
            "order": null,
            "overflow": null,
            "overflow_x": null,
            "overflow_y": null,
            "padding": null,
            "right": null,
            "top": null,
            "visibility": null,
            "width": null
          }
        },
        "f6aea5a5d4f449fcb095106efdcc2d6f": {
          "model_module": "@jupyter-widgets/base",
          "model_name": "LayoutModel",
          "model_module_version": "1.2.0",
          "state": {
            "_model_module": "@jupyter-widgets/base",
            "_model_module_version": "1.2.0",
            "_model_name": "LayoutModel",
            "_view_count": null,
            "_view_module": "@jupyter-widgets/base",
            "_view_module_version": "1.2.0",
            "_view_name": "LayoutView",
            "align_content": null,
            "align_items": null,
            "align_self": null,
            "border": null,
            "bottom": null,
            "display": null,
            "flex": null,
            "flex_flow": null,
            "grid_area": null,
            "grid_auto_columns": null,
            "grid_auto_flow": null,
            "grid_auto_rows": null,
            "grid_column": null,
            "grid_gap": null,
            "grid_row": null,
            "grid_template_areas": null,
            "grid_template_columns": null,
            "grid_template_rows": null,
            "height": null,
            "justify_content": null,
            "justify_items": null,
            "left": null,
            "margin": null,
            "max_height": null,
            "max_width": null,
            "min_height": null,
            "min_width": null,
            "object_fit": null,
            "object_position": null,
            "order": null,
            "overflow": null,
            "overflow_x": null,
            "overflow_y": null,
            "padding": null,
            "right": null,
            "top": null,
            "visibility": null,
            "width": null
          }
        },
        "aa919a81087c48338b46a7563aac55b8": {
          "model_module": "@jupyter-widgets/controls",
          "model_name": "DescriptionStyleModel",
          "model_module_version": "1.5.0",
          "state": {
            "_model_module": "@jupyter-widgets/controls",
            "_model_module_version": "1.5.0",
            "_model_name": "DescriptionStyleModel",
            "_view_count": null,
            "_view_module": "@jupyter-widgets/base",
            "_view_module_version": "1.2.0",
            "_view_name": "StyleView",
            "description_width": ""
          }
        },
        "498a516d39764180a2a5409579d5b448": {
          "model_module": "@jupyter-widgets/base",
          "model_name": "LayoutModel",
          "model_module_version": "1.2.0",
          "state": {
            "_model_module": "@jupyter-widgets/base",
            "_model_module_version": "1.2.0",
            "_model_name": "LayoutModel",
            "_view_count": null,
            "_view_module": "@jupyter-widgets/base",
            "_view_module_version": "1.2.0",
            "_view_name": "LayoutView",
            "align_content": null,
            "align_items": null,
            "align_self": null,
            "border": null,
            "bottom": null,
            "display": null,
            "flex": null,
            "flex_flow": null,
            "grid_area": null,
            "grid_auto_columns": null,
            "grid_auto_flow": null,
            "grid_auto_rows": null,
            "grid_column": null,
            "grid_gap": null,
            "grid_row": null,
            "grid_template_areas": null,
            "grid_template_columns": null,
            "grid_template_rows": null,
            "height": null,
            "justify_content": null,
            "justify_items": null,
            "left": null,
            "margin": null,
            "max_height": null,
            "max_width": null,
            "min_height": null,
            "min_width": null,
            "object_fit": null,
            "object_position": null,
            "order": null,
            "overflow": null,
            "overflow_x": null,
            "overflow_y": null,
            "padding": null,
            "right": null,
            "top": null,
            "visibility": null,
            "width": null
          }
        },
        "36574a657bd24ab2a45e8398f96c0d94": {
          "model_module": "@jupyter-widgets/controls",
          "model_name": "ProgressStyleModel",
          "model_module_version": "1.5.0",
          "state": {
            "_model_module": "@jupyter-widgets/controls",
            "_model_module_version": "1.5.0",
            "_model_name": "ProgressStyleModel",
            "_view_count": null,
            "_view_module": "@jupyter-widgets/base",
            "_view_module_version": "1.2.0",
            "_view_name": "StyleView",
            "bar_color": null,
            "description_width": ""
          }
        },
        "bdd4a9b7f5384a0c89c883b7a18f946b": {
          "model_module": "@jupyter-widgets/base",
          "model_name": "LayoutModel",
          "model_module_version": "1.2.0",
          "state": {
            "_model_module": "@jupyter-widgets/base",
            "_model_module_version": "1.2.0",
            "_model_name": "LayoutModel",
            "_view_count": null,
            "_view_module": "@jupyter-widgets/base",
            "_view_module_version": "1.2.0",
            "_view_name": "LayoutView",
            "align_content": null,
            "align_items": null,
            "align_self": null,
            "border": null,
            "bottom": null,
            "display": null,
            "flex": null,
            "flex_flow": null,
            "grid_area": null,
            "grid_auto_columns": null,
            "grid_auto_flow": null,
            "grid_auto_rows": null,
            "grid_column": null,
            "grid_gap": null,
            "grid_row": null,
            "grid_template_areas": null,
            "grid_template_columns": null,
            "grid_template_rows": null,
            "height": null,
            "justify_content": null,
            "justify_items": null,
            "left": null,
            "margin": null,
            "max_height": null,
            "max_width": null,
            "min_height": null,
            "min_width": null,
            "object_fit": null,
            "object_position": null,
            "order": null,
            "overflow": null,
            "overflow_x": null,
            "overflow_y": null,
            "padding": null,
            "right": null,
            "top": null,
            "visibility": null,
            "width": null
          }
        },
        "984eeb7a8a3a4f1abb8bdad19cdb40ac": {
          "model_module": "@jupyter-widgets/controls",
          "model_name": "DescriptionStyleModel",
          "model_module_version": "1.5.0",
          "state": {
            "_model_module": "@jupyter-widgets/controls",
            "_model_module_version": "1.5.0",
            "_model_name": "DescriptionStyleModel",
            "_view_count": null,
            "_view_module": "@jupyter-widgets/base",
            "_view_module_version": "1.2.0",
            "_view_name": "StyleView",
            "description_width": ""
          }
        },
        "414a67f2c23c49fbad2f92d5d20609b3": {
          "model_module": "@jupyter-widgets/controls",
          "model_name": "HBoxModel",
          "model_module_version": "1.5.0",
          "state": {
            "_dom_classes": [],
            "_model_module": "@jupyter-widgets/controls",
            "_model_module_version": "1.5.0",
            "_model_name": "HBoxModel",
            "_view_count": null,
            "_view_module": "@jupyter-widgets/controls",
            "_view_module_version": "1.5.0",
            "_view_name": "HBoxView",
            "box_style": "",
            "children": [
              "IPY_MODEL_5e7aab842c954cd19d8046899b1f69a4",
              "IPY_MODEL_2862ccefe5e94a22918bf9dbb828f187",
              "IPY_MODEL_33035a5daaad4fcf9f2769ad7ff1b96d"
            ],
            "layout": "IPY_MODEL_1c34849110614bdeb7ce5e9e291f4222"
          }
        },
        "5e7aab842c954cd19d8046899b1f69a4": {
          "model_module": "@jupyter-widgets/controls",
          "model_name": "HTMLModel",
          "model_module_version": "1.5.0",
          "state": {
            "_dom_classes": [],
            "_model_module": "@jupyter-widgets/controls",
            "_model_module_version": "1.5.0",
            "_model_name": "HTMLModel",
            "_view_count": null,
            "_view_module": "@jupyter-widgets/controls",
            "_view_module_version": "1.5.0",
            "_view_name": "HTMLView",
            "description": "",
            "description_tooltip": null,
            "layout": "IPY_MODEL_b2734b7f12da45b4a02d8c9d1dce5424",
            "placeholder": "​",
            "style": "IPY_MODEL_30b8c93ebae54cab9ce27f7528576892",
            "value": "special_tokens_map.json: 100%"
          }
        },
        "2862ccefe5e94a22918bf9dbb828f187": {
          "model_module": "@jupyter-widgets/controls",
          "model_name": "FloatProgressModel",
          "model_module_version": "1.5.0",
          "state": {
            "_dom_classes": [],
            "_model_module": "@jupyter-widgets/controls",
            "_model_module_version": "1.5.0",
            "_model_name": "FloatProgressModel",
            "_view_count": null,
            "_view_module": "@jupyter-widgets/controls",
            "_view_module_version": "1.5.0",
            "_view_name": "ProgressView",
            "bar_style": "success",
            "description": "",
            "description_tooltip": null,
            "layout": "IPY_MODEL_d6b425887a41451f98aaca6123663bb8",
            "max": 99,
            "min": 0,
            "orientation": "horizontal",
            "style": "IPY_MODEL_4f58f50843fe4340b1d9696ad1fe6ede",
            "value": 99
          }
        },
        "33035a5daaad4fcf9f2769ad7ff1b96d": {
          "model_module": "@jupyter-widgets/controls",
          "model_name": "HTMLModel",
          "model_module_version": "1.5.0",
          "state": {
            "_dom_classes": [],
            "_model_module": "@jupyter-widgets/controls",
            "_model_module_version": "1.5.0",
            "_model_name": "HTMLModel",
            "_view_count": null,
            "_view_module": "@jupyter-widgets/controls",
            "_view_module_version": "1.5.0",
            "_view_name": "HTMLView",
            "description": "",
            "description_tooltip": null,
            "layout": "IPY_MODEL_46b3306b50b84a36b452e66a9ff04ea4",
            "placeholder": "​",
            "style": "IPY_MODEL_38b4d4dbaa7b4a6d8e81ace9223b965b",
            "value": " 99.0/99.0 [00:00&lt;00:00, 6.10kB/s]"
          }
        },
        "1c34849110614bdeb7ce5e9e291f4222": {
          "model_module": "@jupyter-widgets/base",
          "model_name": "LayoutModel",
          "model_module_version": "1.2.0",
          "state": {
            "_model_module": "@jupyter-widgets/base",
            "_model_module_version": "1.2.0",
            "_model_name": "LayoutModel",
            "_view_count": null,
            "_view_module": "@jupyter-widgets/base",
            "_view_module_version": "1.2.0",
            "_view_name": "LayoutView",
            "align_content": null,
            "align_items": null,
            "align_self": null,
            "border": null,
            "bottom": null,
            "display": null,
            "flex": null,
            "flex_flow": null,
            "grid_area": null,
            "grid_auto_columns": null,
            "grid_auto_flow": null,
            "grid_auto_rows": null,
            "grid_column": null,
            "grid_gap": null,
            "grid_row": null,
            "grid_template_areas": null,
            "grid_template_columns": null,
            "grid_template_rows": null,
            "height": null,
            "justify_content": null,
            "justify_items": null,
            "left": null,
            "margin": null,
            "max_height": null,
            "max_width": null,
            "min_height": null,
            "min_width": null,
            "object_fit": null,
            "object_position": null,
            "order": null,
            "overflow": null,
            "overflow_x": null,
            "overflow_y": null,
            "padding": null,
            "right": null,
            "top": null,
            "visibility": null,
            "width": null
          }
        },
        "b2734b7f12da45b4a02d8c9d1dce5424": {
          "model_module": "@jupyter-widgets/base",
          "model_name": "LayoutModel",
          "model_module_version": "1.2.0",
          "state": {
            "_model_module": "@jupyter-widgets/base",
            "_model_module_version": "1.2.0",
            "_model_name": "LayoutModel",
            "_view_count": null,
            "_view_module": "@jupyter-widgets/base",
            "_view_module_version": "1.2.0",
            "_view_name": "LayoutView",
            "align_content": null,
            "align_items": null,
            "align_self": null,
            "border": null,
            "bottom": null,
            "display": null,
            "flex": null,
            "flex_flow": null,
            "grid_area": null,
            "grid_auto_columns": null,
            "grid_auto_flow": null,
            "grid_auto_rows": null,
            "grid_column": null,
            "grid_gap": null,
            "grid_row": null,
            "grid_template_areas": null,
            "grid_template_columns": null,
            "grid_template_rows": null,
            "height": null,
            "justify_content": null,
            "justify_items": null,
            "left": null,
            "margin": null,
            "max_height": null,
            "max_width": null,
            "min_height": null,
            "min_width": null,
            "object_fit": null,
            "object_position": null,
            "order": null,
            "overflow": null,
            "overflow_x": null,
            "overflow_y": null,
            "padding": null,
            "right": null,
            "top": null,
            "visibility": null,
            "width": null
          }
        },
        "30b8c93ebae54cab9ce27f7528576892": {
          "model_module": "@jupyter-widgets/controls",
          "model_name": "DescriptionStyleModel",
          "model_module_version": "1.5.0",
          "state": {
            "_model_module": "@jupyter-widgets/controls",
            "_model_module_version": "1.5.0",
            "_model_name": "DescriptionStyleModel",
            "_view_count": null,
            "_view_module": "@jupyter-widgets/base",
            "_view_module_version": "1.2.0",
            "_view_name": "StyleView",
            "description_width": ""
          }
        },
        "d6b425887a41451f98aaca6123663bb8": {
          "model_module": "@jupyter-widgets/base",
          "model_name": "LayoutModel",
          "model_module_version": "1.2.0",
          "state": {
            "_model_module": "@jupyter-widgets/base",
            "_model_module_version": "1.2.0",
            "_model_name": "LayoutModel",
            "_view_count": null,
            "_view_module": "@jupyter-widgets/base",
            "_view_module_version": "1.2.0",
            "_view_name": "LayoutView",
            "align_content": null,
            "align_items": null,
            "align_self": null,
            "border": null,
            "bottom": null,
            "display": null,
            "flex": null,
            "flex_flow": null,
            "grid_area": null,
            "grid_auto_columns": null,
            "grid_auto_flow": null,
            "grid_auto_rows": null,
            "grid_column": null,
            "grid_gap": null,
            "grid_row": null,
            "grid_template_areas": null,
            "grid_template_columns": null,
            "grid_template_rows": null,
            "height": null,
            "justify_content": null,
            "justify_items": null,
            "left": null,
            "margin": null,
            "max_height": null,
            "max_width": null,
            "min_height": null,
            "min_width": null,
            "object_fit": null,
            "object_position": null,
            "order": null,
            "overflow": null,
            "overflow_x": null,
            "overflow_y": null,
            "padding": null,
            "right": null,
            "top": null,
            "visibility": null,
            "width": null
          }
        },
        "4f58f50843fe4340b1d9696ad1fe6ede": {
          "model_module": "@jupyter-widgets/controls",
          "model_name": "ProgressStyleModel",
          "model_module_version": "1.5.0",
          "state": {
            "_model_module": "@jupyter-widgets/controls",
            "_model_module_version": "1.5.0",
            "_model_name": "ProgressStyleModel",
            "_view_count": null,
            "_view_module": "@jupyter-widgets/base",
            "_view_module_version": "1.2.0",
            "_view_name": "StyleView",
            "bar_color": null,
            "description_width": ""
          }
        },
        "46b3306b50b84a36b452e66a9ff04ea4": {
          "model_module": "@jupyter-widgets/base",
          "model_name": "LayoutModel",
          "model_module_version": "1.2.0",
          "state": {
            "_model_module": "@jupyter-widgets/base",
            "_model_module_version": "1.2.0",
            "_model_name": "LayoutModel",
            "_view_count": null,
            "_view_module": "@jupyter-widgets/base",
            "_view_module_version": "1.2.0",
            "_view_name": "LayoutView",
            "align_content": null,
            "align_items": null,
            "align_self": null,
            "border": null,
            "bottom": null,
            "display": null,
            "flex": null,
            "flex_flow": null,
            "grid_area": null,
            "grid_auto_columns": null,
            "grid_auto_flow": null,
            "grid_auto_rows": null,
            "grid_column": null,
            "grid_gap": null,
            "grid_row": null,
            "grid_template_areas": null,
            "grid_template_columns": null,
            "grid_template_rows": null,
            "height": null,
            "justify_content": null,
            "justify_items": null,
            "left": null,
            "margin": null,
            "max_height": null,
            "max_width": null,
            "min_height": null,
            "min_width": null,
            "object_fit": null,
            "object_position": null,
            "order": null,
            "overflow": null,
            "overflow_x": null,
            "overflow_y": null,
            "padding": null,
            "right": null,
            "top": null,
            "visibility": null,
            "width": null
          }
        },
        "38b4d4dbaa7b4a6d8e81ace9223b965b": {
          "model_module": "@jupyter-widgets/controls",
          "model_name": "DescriptionStyleModel",
          "model_module_version": "1.5.0",
          "state": {
            "_model_module": "@jupyter-widgets/controls",
            "_model_module_version": "1.5.0",
            "_model_name": "DescriptionStyleModel",
            "_view_count": null,
            "_view_module": "@jupyter-widgets/base",
            "_view_module_version": "1.2.0",
            "_view_name": "StyleView",
            "description_width": ""
          }
        },
        "30984e121a974c2d911c8f2dfed14c11": {
          "model_module": "@jupyter-widgets/controls",
          "model_name": "HBoxModel",
          "model_module_version": "1.5.0",
          "state": {
            "_dom_classes": [],
            "_model_module": "@jupyter-widgets/controls",
            "_model_module_version": "1.5.0",
            "_model_name": "HBoxModel",
            "_view_count": null,
            "_view_module": "@jupyter-widgets/controls",
            "_view_module_version": "1.5.0",
            "_view_name": "HBoxView",
            "box_style": "",
            "children": [
              "IPY_MODEL_114555058afa4f21be6c0c971f90adcb",
              "IPY_MODEL_8a99d6f9ac6647e3ac3fa6d26aaa8f43",
              "IPY_MODEL_3fc7dd3c012c45de867b498799f6962e"
            ],
            "layout": "IPY_MODEL_97a89bb63af14c7ca17048343706f552"
          }
        },
        "114555058afa4f21be6c0c971f90adcb": {
          "model_module": "@jupyter-widgets/controls",
          "model_name": "HTMLModel",
          "model_module_version": "1.5.0",
          "state": {
            "_dom_classes": [],
            "_model_module": "@jupyter-widgets/controls",
            "_model_module_version": "1.5.0",
            "_model_name": "HTMLModel",
            "_view_count": null,
            "_view_module": "@jupyter-widgets/controls",
            "_view_module_version": "1.5.0",
            "_view_name": "HTMLView",
            "description": "",
            "description_tooltip": null,
            "layout": "IPY_MODEL_033ed3e9704d45638bc9d068aa5004e7",
            "placeholder": "​",
            "style": "IPY_MODEL_cd6b5f7f14b64069b30885a8aeeeb479",
            "value": "Map: 100%"
          }
        },
        "8a99d6f9ac6647e3ac3fa6d26aaa8f43": {
          "model_module": "@jupyter-widgets/controls",
          "model_name": "FloatProgressModel",
          "model_module_version": "1.5.0",
          "state": {
            "_dom_classes": [],
            "_model_module": "@jupyter-widgets/controls",
            "_model_module_version": "1.5.0",
            "_model_name": "FloatProgressModel",
            "_view_count": null,
            "_view_module": "@jupyter-widgets/controls",
            "_view_module_version": "1.5.0",
            "_view_name": "ProgressView",
            "bar_style": "success",
            "description": "",
            "description_tooltip": null,
            "layout": "IPY_MODEL_404d62459e3b48268a198d734c867387",
            "max": 12837,
            "min": 0,
            "orientation": "horizontal",
            "style": "IPY_MODEL_a96e49c20fc74566ab26415ba95d7a4e",
            "value": 12837
          }
        },
        "3fc7dd3c012c45de867b498799f6962e": {
          "model_module": "@jupyter-widgets/controls",
          "model_name": "HTMLModel",
          "model_module_version": "1.5.0",
          "state": {
            "_dom_classes": [],
            "_model_module": "@jupyter-widgets/controls",
            "_model_module_version": "1.5.0",
            "_model_name": "HTMLModel",
            "_view_count": null,
            "_view_module": "@jupyter-widgets/controls",
            "_view_module_version": "1.5.0",
            "_view_name": "HTMLView",
            "description": "",
            "description_tooltip": null,
            "layout": "IPY_MODEL_a5cf55ebd44241eb81581b154996e279",
            "placeholder": "​",
            "style": "IPY_MODEL_698532c45b5d49028a7c6da1dea89c33",
            "value": " 12837/12837 [00:03&lt;00:00, 3512.01 examples/s]"
          }
        },
        "97a89bb63af14c7ca17048343706f552": {
          "model_module": "@jupyter-widgets/base",
          "model_name": "LayoutModel",
          "model_module_version": "1.2.0",
          "state": {
            "_model_module": "@jupyter-widgets/base",
            "_model_module_version": "1.2.0",
            "_model_name": "LayoutModel",
            "_view_count": null,
            "_view_module": "@jupyter-widgets/base",
            "_view_module_version": "1.2.0",
            "_view_name": "LayoutView",
            "align_content": null,
            "align_items": null,
            "align_self": null,
            "border": null,
            "bottom": null,
            "display": null,
            "flex": null,
            "flex_flow": null,
            "grid_area": null,
            "grid_auto_columns": null,
            "grid_auto_flow": null,
            "grid_auto_rows": null,
            "grid_column": null,
            "grid_gap": null,
            "grid_row": null,
            "grid_template_areas": null,
            "grid_template_columns": null,
            "grid_template_rows": null,
            "height": null,
            "justify_content": null,
            "justify_items": null,
            "left": null,
            "margin": null,
            "max_height": null,
            "max_width": null,
            "min_height": null,
            "min_width": null,
            "object_fit": null,
            "object_position": null,
            "order": null,
            "overflow": null,
            "overflow_x": null,
            "overflow_y": null,
            "padding": null,
            "right": null,
            "top": null,
            "visibility": null,
            "width": null
          }
        },
        "033ed3e9704d45638bc9d068aa5004e7": {
          "model_module": "@jupyter-widgets/base",
          "model_name": "LayoutModel",
          "model_module_version": "1.2.0",
          "state": {
            "_model_module": "@jupyter-widgets/base",
            "_model_module_version": "1.2.0",
            "_model_name": "LayoutModel",
            "_view_count": null,
            "_view_module": "@jupyter-widgets/base",
            "_view_module_version": "1.2.0",
            "_view_name": "LayoutView",
            "align_content": null,
            "align_items": null,
            "align_self": null,
            "border": null,
            "bottom": null,
            "display": null,
            "flex": null,
            "flex_flow": null,
            "grid_area": null,
            "grid_auto_columns": null,
            "grid_auto_flow": null,
            "grid_auto_rows": null,
            "grid_column": null,
            "grid_gap": null,
            "grid_row": null,
            "grid_template_areas": null,
            "grid_template_columns": null,
            "grid_template_rows": null,
            "height": null,
            "justify_content": null,
            "justify_items": null,
            "left": null,
            "margin": null,
            "max_height": null,
            "max_width": null,
            "min_height": null,
            "min_width": null,
            "object_fit": null,
            "object_position": null,
            "order": null,
            "overflow": null,
            "overflow_x": null,
            "overflow_y": null,
            "padding": null,
            "right": null,
            "top": null,
            "visibility": null,
            "width": null
          }
        },
        "cd6b5f7f14b64069b30885a8aeeeb479": {
          "model_module": "@jupyter-widgets/controls",
          "model_name": "DescriptionStyleModel",
          "model_module_version": "1.5.0",
          "state": {
            "_model_module": "@jupyter-widgets/controls",
            "_model_module_version": "1.5.0",
            "_model_name": "DescriptionStyleModel",
            "_view_count": null,
            "_view_module": "@jupyter-widgets/base",
            "_view_module_version": "1.2.0",
            "_view_name": "StyleView",
            "description_width": ""
          }
        },
        "404d62459e3b48268a198d734c867387": {
          "model_module": "@jupyter-widgets/base",
          "model_name": "LayoutModel",
          "model_module_version": "1.2.0",
          "state": {
            "_model_module": "@jupyter-widgets/base",
            "_model_module_version": "1.2.0",
            "_model_name": "LayoutModel",
            "_view_count": null,
            "_view_module": "@jupyter-widgets/base",
            "_view_module_version": "1.2.0",
            "_view_name": "LayoutView",
            "align_content": null,
            "align_items": null,
            "align_self": null,
            "border": null,
            "bottom": null,
            "display": null,
            "flex": null,
            "flex_flow": null,
            "grid_area": null,
            "grid_auto_columns": null,
            "grid_auto_flow": null,
            "grid_auto_rows": null,
            "grid_column": null,
            "grid_gap": null,
            "grid_row": null,
            "grid_template_areas": null,
            "grid_template_columns": null,
            "grid_template_rows": null,
            "height": null,
            "justify_content": null,
            "justify_items": null,
            "left": null,
            "margin": null,
            "max_height": null,
            "max_width": null,
            "min_height": null,
            "min_width": null,
            "object_fit": null,
            "object_position": null,
            "order": null,
            "overflow": null,
            "overflow_x": null,
            "overflow_y": null,
            "padding": null,
            "right": null,
            "top": null,
            "visibility": null,
            "width": null
          }
        },
        "a96e49c20fc74566ab26415ba95d7a4e": {
          "model_module": "@jupyter-widgets/controls",
          "model_name": "ProgressStyleModel",
          "model_module_version": "1.5.0",
          "state": {
            "_model_module": "@jupyter-widgets/controls",
            "_model_module_version": "1.5.0",
            "_model_name": "ProgressStyleModel",
            "_view_count": null,
            "_view_module": "@jupyter-widgets/base",
            "_view_module_version": "1.2.0",
            "_view_name": "StyleView",
            "bar_color": null,
            "description_width": ""
          }
        },
        "a5cf55ebd44241eb81581b154996e279": {
          "model_module": "@jupyter-widgets/base",
          "model_name": "LayoutModel",
          "model_module_version": "1.2.0",
          "state": {
            "_model_module": "@jupyter-widgets/base",
            "_model_module_version": "1.2.0",
            "_model_name": "LayoutModel",
            "_view_count": null,
            "_view_module": "@jupyter-widgets/base",
            "_view_module_version": "1.2.0",
            "_view_name": "LayoutView",
            "align_content": null,
            "align_items": null,
            "align_self": null,
            "border": null,
            "bottom": null,
            "display": null,
            "flex": null,
            "flex_flow": null,
            "grid_area": null,
            "grid_auto_columns": null,
            "grid_auto_flow": null,
            "grid_auto_rows": null,
            "grid_column": null,
            "grid_gap": null,
            "grid_row": null,
            "grid_template_areas": null,
            "grid_template_columns": null,
            "grid_template_rows": null,
            "height": null,
            "justify_content": null,
            "justify_items": null,
            "left": null,
            "margin": null,
            "max_height": null,
            "max_width": null,
            "min_height": null,
            "min_width": null,
            "object_fit": null,
            "object_position": null,
            "order": null,
            "overflow": null,
            "overflow_x": null,
            "overflow_y": null,
            "padding": null,
            "right": null,
            "top": null,
            "visibility": null,
            "width": null
          }
        },
        "698532c45b5d49028a7c6da1dea89c33": {
          "model_module": "@jupyter-widgets/controls",
          "model_name": "DescriptionStyleModel",
          "model_module_version": "1.5.0",
          "state": {
            "_model_module": "@jupyter-widgets/controls",
            "_model_module_version": "1.5.0",
            "_model_name": "DescriptionStyleModel",
            "_view_count": null,
            "_view_module": "@jupyter-widgets/base",
            "_view_module_version": "1.2.0",
            "_view_name": "StyleView",
            "description_width": ""
          }
        },
        "1c016e36025d4fb98733223672ccbf31": {
          "model_module": "@jupyter-widgets/controls",
          "model_name": "HBoxModel",
          "model_module_version": "1.5.0",
          "state": {
            "_dom_classes": [],
            "_model_module": "@jupyter-widgets/controls",
            "_model_module_version": "1.5.0",
            "_model_name": "HBoxModel",
            "_view_count": null,
            "_view_module": "@jupyter-widgets/controls",
            "_view_module_version": "1.5.0",
            "_view_name": "HBoxView",
            "box_style": "",
            "children": [
              "IPY_MODEL_8e7e4219a8d241288bcef4fdbd2ef9e2",
              "IPY_MODEL_5a7ca07583014f61a9d885c28ad98295",
              "IPY_MODEL_b3864b2b16d241489035cd3c764698bb"
            ],
            "layout": "IPY_MODEL_b120bce02a7d4ab3a670f2063cf31e44"
          }
        },
        "8e7e4219a8d241288bcef4fdbd2ef9e2": {
          "model_module": "@jupyter-widgets/controls",
          "model_name": "HTMLModel",
          "model_module_version": "1.5.0",
          "state": {
            "_dom_classes": [],
            "_model_module": "@jupyter-widgets/controls",
            "_model_module_version": "1.5.0",
            "_model_name": "HTMLModel",
            "_view_count": null,
            "_view_module": "@jupyter-widgets/controls",
            "_view_module_version": "1.5.0",
            "_view_name": "HTMLView",
            "description": "",
            "description_tooltip": null,
            "layout": "IPY_MODEL_550ef8298938405dabb862f41a8bab46",
            "placeholder": "​",
            "style": "IPY_MODEL_15284c5d47684a7c8c4d654ebbe27972",
            "value": "Map: 100%"
          }
        },
        "5a7ca07583014f61a9d885c28ad98295": {
          "model_module": "@jupyter-widgets/controls",
          "model_name": "FloatProgressModel",
          "model_module_version": "1.5.0",
          "state": {
            "_dom_classes": [],
            "_model_module": "@jupyter-widgets/controls",
            "_model_module_version": "1.5.0",
            "_model_name": "FloatProgressModel",
            "_view_count": null,
            "_view_module": "@jupyter-widgets/controls",
            "_view_module_version": "1.5.0",
            "_view_name": "ProgressView",
            "bar_style": "success",
            "description": "",
            "description_tooltip": null,
            "layout": "IPY_MODEL_84dbdb6ba1bc468d92e7bae9a7400ef3",
            "max": 3210,
            "min": 0,
            "orientation": "horizontal",
            "style": "IPY_MODEL_74241d53996a4a0988b4b24393b04ea8",
            "value": 3210
          }
        },
        "b3864b2b16d241489035cd3c764698bb": {
          "model_module": "@jupyter-widgets/controls",
          "model_name": "HTMLModel",
          "model_module_version": "1.5.0",
          "state": {
            "_dom_classes": [],
            "_model_module": "@jupyter-widgets/controls",
            "_model_module_version": "1.5.0",
            "_model_name": "HTMLModel",
            "_view_count": null,
            "_view_module": "@jupyter-widgets/controls",
            "_view_module_version": "1.5.0",
            "_view_name": "HTMLView",
            "description": "",
            "description_tooltip": null,
            "layout": "IPY_MODEL_10b986eb14844a8da6e5bf2b5a0a9738",
            "placeholder": "​",
            "style": "IPY_MODEL_b0de3ded449c4a1aa71ea50165a724e9",
            "value": " 3210/3210 [00:01&lt;00:00, 2982.98 examples/s]"
          }
        },
        "b120bce02a7d4ab3a670f2063cf31e44": {
          "model_module": "@jupyter-widgets/base",
          "model_name": "LayoutModel",
          "model_module_version": "1.2.0",
          "state": {
            "_model_module": "@jupyter-widgets/base",
            "_model_module_version": "1.2.0",
            "_model_name": "LayoutModel",
            "_view_count": null,
            "_view_module": "@jupyter-widgets/base",
            "_view_module_version": "1.2.0",
            "_view_name": "LayoutView",
            "align_content": null,
            "align_items": null,
            "align_self": null,
            "border": null,
            "bottom": null,
            "display": null,
            "flex": null,
            "flex_flow": null,
            "grid_area": null,
            "grid_auto_columns": null,
            "grid_auto_flow": null,
            "grid_auto_rows": null,
            "grid_column": null,
            "grid_gap": null,
            "grid_row": null,
            "grid_template_areas": null,
            "grid_template_columns": null,
            "grid_template_rows": null,
            "height": null,
            "justify_content": null,
            "justify_items": null,
            "left": null,
            "margin": null,
            "max_height": null,
            "max_width": null,
            "min_height": null,
            "min_width": null,
            "object_fit": null,
            "object_position": null,
            "order": null,
            "overflow": null,
            "overflow_x": null,
            "overflow_y": null,
            "padding": null,
            "right": null,
            "top": null,
            "visibility": null,
            "width": null
          }
        },
        "550ef8298938405dabb862f41a8bab46": {
          "model_module": "@jupyter-widgets/base",
          "model_name": "LayoutModel",
          "model_module_version": "1.2.0",
          "state": {
            "_model_module": "@jupyter-widgets/base",
            "_model_module_version": "1.2.0",
            "_model_name": "LayoutModel",
            "_view_count": null,
            "_view_module": "@jupyter-widgets/base",
            "_view_module_version": "1.2.0",
            "_view_name": "LayoutView",
            "align_content": null,
            "align_items": null,
            "align_self": null,
            "border": null,
            "bottom": null,
            "display": null,
            "flex": null,
            "flex_flow": null,
            "grid_area": null,
            "grid_auto_columns": null,
            "grid_auto_flow": null,
            "grid_auto_rows": null,
            "grid_column": null,
            "grid_gap": null,
            "grid_row": null,
            "grid_template_areas": null,
            "grid_template_columns": null,
            "grid_template_rows": null,
            "height": null,
            "justify_content": null,
            "justify_items": null,
            "left": null,
            "margin": null,
            "max_height": null,
            "max_width": null,
            "min_height": null,
            "min_width": null,
            "object_fit": null,
            "object_position": null,
            "order": null,
            "overflow": null,
            "overflow_x": null,
            "overflow_y": null,
            "padding": null,
            "right": null,
            "top": null,
            "visibility": null,
            "width": null
          }
        },
        "15284c5d47684a7c8c4d654ebbe27972": {
          "model_module": "@jupyter-widgets/controls",
          "model_name": "DescriptionStyleModel",
          "model_module_version": "1.5.0",
          "state": {
            "_model_module": "@jupyter-widgets/controls",
            "_model_module_version": "1.5.0",
            "_model_name": "DescriptionStyleModel",
            "_view_count": null,
            "_view_module": "@jupyter-widgets/base",
            "_view_module_version": "1.2.0",
            "_view_name": "StyleView",
            "description_width": ""
          }
        },
        "84dbdb6ba1bc468d92e7bae9a7400ef3": {
          "model_module": "@jupyter-widgets/base",
          "model_name": "LayoutModel",
          "model_module_version": "1.2.0",
          "state": {
            "_model_module": "@jupyter-widgets/base",
            "_model_module_version": "1.2.0",
            "_model_name": "LayoutModel",
            "_view_count": null,
            "_view_module": "@jupyter-widgets/base",
            "_view_module_version": "1.2.0",
            "_view_name": "LayoutView",
            "align_content": null,
            "align_items": null,
            "align_self": null,
            "border": null,
            "bottom": null,
            "display": null,
            "flex": null,
            "flex_flow": null,
            "grid_area": null,
            "grid_auto_columns": null,
            "grid_auto_flow": null,
            "grid_auto_rows": null,
            "grid_column": null,
            "grid_gap": null,
            "grid_row": null,
            "grid_template_areas": null,
            "grid_template_columns": null,
            "grid_template_rows": null,
            "height": null,
            "justify_content": null,
            "justify_items": null,
            "left": null,
            "margin": null,
            "max_height": null,
            "max_width": null,
            "min_height": null,
            "min_width": null,
            "object_fit": null,
            "object_position": null,
            "order": null,
            "overflow": null,
            "overflow_x": null,
            "overflow_y": null,
            "padding": null,
            "right": null,
            "top": null,
            "visibility": null,
            "width": null
          }
        },
        "74241d53996a4a0988b4b24393b04ea8": {
          "model_module": "@jupyter-widgets/controls",
          "model_name": "ProgressStyleModel",
          "model_module_version": "1.5.0",
          "state": {
            "_model_module": "@jupyter-widgets/controls",
            "_model_module_version": "1.5.0",
            "_model_name": "ProgressStyleModel",
            "_view_count": null,
            "_view_module": "@jupyter-widgets/base",
            "_view_module_version": "1.2.0",
            "_view_name": "StyleView",
            "bar_color": null,
            "description_width": ""
          }
        },
        "10b986eb14844a8da6e5bf2b5a0a9738": {
          "model_module": "@jupyter-widgets/base",
          "model_name": "LayoutModel",
          "model_module_version": "1.2.0",
          "state": {
            "_model_module": "@jupyter-widgets/base",
            "_model_module_version": "1.2.0",
            "_model_name": "LayoutModel",
            "_view_count": null,
            "_view_module": "@jupyter-widgets/base",
            "_view_module_version": "1.2.0",
            "_view_name": "LayoutView",
            "align_content": null,
            "align_items": null,
            "align_self": null,
            "border": null,
            "bottom": null,
            "display": null,
            "flex": null,
            "flex_flow": null,
            "grid_area": null,
            "grid_auto_columns": null,
            "grid_auto_flow": null,
            "grid_auto_rows": null,
            "grid_column": null,
            "grid_gap": null,
            "grid_row": null,
            "grid_template_areas": null,
            "grid_template_columns": null,
            "grid_template_rows": null,
            "height": null,
            "justify_content": null,
            "justify_items": null,
            "left": null,
            "margin": null,
            "max_height": null,
            "max_width": null,
            "min_height": null,
            "min_width": null,
            "object_fit": null,
            "object_position": null,
            "order": null,
            "overflow": null,
            "overflow_x": null,
            "overflow_y": null,
            "padding": null,
            "right": null,
            "top": null,
            "visibility": null,
            "width": null
          }
        },
        "b0de3ded449c4a1aa71ea50165a724e9": {
          "model_module": "@jupyter-widgets/controls",
          "model_name": "DescriptionStyleModel",
          "model_module_version": "1.5.0",
          "state": {
            "_model_module": "@jupyter-widgets/controls",
            "_model_module_version": "1.5.0",
            "_model_name": "DescriptionStyleModel",
            "_view_count": null,
            "_view_module": "@jupyter-widgets/base",
            "_view_module_version": "1.2.0",
            "_view_name": "StyleView",
            "description_width": ""
          }
        },
        "cdc2306085ed496db21be7e8907a64bd": {
          "model_module": "@jupyter-widgets/controls",
          "model_name": "HBoxModel",
          "model_module_version": "1.5.0",
          "state": {
            "_dom_classes": [],
            "_model_module": "@jupyter-widgets/controls",
            "_model_module_version": "1.5.0",
            "_model_name": "HBoxModel",
            "_view_count": null,
            "_view_module": "@jupyter-widgets/controls",
            "_view_module_version": "1.5.0",
            "_view_name": "HBoxView",
            "box_style": "",
            "children": [
              "IPY_MODEL_2fc79dd09cf64771abe049fadb4b7ce9",
              "IPY_MODEL_f03c33dad4a34421a0976f536e61a5d1",
              "IPY_MODEL_010904b87b984361a6205112f6ce309c"
            ],
            "layout": "IPY_MODEL_2f90f524af1f489cac9d3a2468136225"
          }
        },
        "2fc79dd09cf64771abe049fadb4b7ce9": {
          "model_module": "@jupyter-widgets/controls",
          "model_name": "HTMLModel",
          "model_module_version": "1.5.0",
          "state": {
            "_dom_classes": [],
            "_model_module": "@jupyter-widgets/controls",
            "_model_module_version": "1.5.0",
            "_model_name": "HTMLModel",
            "_view_count": null,
            "_view_module": "@jupyter-widgets/controls",
            "_view_module_version": "1.5.0",
            "_view_name": "HTMLView",
            "description": "",
            "description_tooltip": null,
            "layout": "IPY_MODEL_9023f3e1d35c475a8e56ecf5df2c8856",
            "placeholder": "​",
            "style": "IPY_MODEL_f420ceecbc934f6d9caea35a9ace922f",
            "value": "tokenizer_config.json: 100%"
          }
        },
        "f03c33dad4a34421a0976f536e61a5d1": {
          "model_module": "@jupyter-widgets/controls",
          "model_name": "FloatProgressModel",
          "model_module_version": "1.5.0",
          "state": {
            "_dom_classes": [],
            "_model_module": "@jupyter-widgets/controls",
            "_model_module_version": "1.5.0",
            "_model_name": "FloatProgressModel",
            "_view_count": null,
            "_view_module": "@jupyter-widgets/controls",
            "_view_module_version": "1.5.0",
            "_view_name": "ProgressView",
            "bar_style": "success",
            "description": "",
            "description_tooltip": null,
            "layout": "IPY_MODEL_8e505c66964549dabc7299a72dd1a94e",
            "max": 49,
            "min": 0,
            "orientation": "horizontal",
            "style": "IPY_MODEL_aabaf469c929413f92ffd90576c46511",
            "value": 49
          }
        },
        "010904b87b984361a6205112f6ce309c": {
          "model_module": "@jupyter-widgets/controls",
          "model_name": "HTMLModel",
          "model_module_version": "1.5.0",
          "state": {
            "_dom_classes": [],
            "_model_module": "@jupyter-widgets/controls",
            "_model_module_version": "1.5.0",
            "_model_name": "HTMLModel",
            "_view_count": null,
            "_view_module": "@jupyter-widgets/controls",
            "_view_module_version": "1.5.0",
            "_view_name": "HTMLView",
            "description": "",
            "description_tooltip": null,
            "layout": "IPY_MODEL_f783bec17ddd4326a516d250b5d8567f",
            "placeholder": "​",
            "style": "IPY_MODEL_52e784b993054181900792dfcf075f7a",
            "value": " 49.0/49.0 [00:00&lt;00:00, 2.55kB/s]"
          }
        },
        "2f90f524af1f489cac9d3a2468136225": {
          "model_module": "@jupyter-widgets/base",
          "model_name": "LayoutModel",
          "model_module_version": "1.2.0",
          "state": {
            "_model_module": "@jupyter-widgets/base",
            "_model_module_version": "1.2.0",
            "_model_name": "LayoutModel",
            "_view_count": null,
            "_view_module": "@jupyter-widgets/base",
            "_view_module_version": "1.2.0",
            "_view_name": "LayoutView",
            "align_content": null,
            "align_items": null,
            "align_self": null,
            "border": null,
            "bottom": null,
            "display": null,
            "flex": null,
            "flex_flow": null,
            "grid_area": null,
            "grid_auto_columns": null,
            "grid_auto_flow": null,
            "grid_auto_rows": null,
            "grid_column": null,
            "grid_gap": null,
            "grid_row": null,
            "grid_template_areas": null,
            "grid_template_columns": null,
            "grid_template_rows": null,
            "height": null,
            "justify_content": null,
            "justify_items": null,
            "left": null,
            "margin": null,
            "max_height": null,
            "max_width": null,
            "min_height": null,
            "min_width": null,
            "object_fit": null,
            "object_position": null,
            "order": null,
            "overflow": null,
            "overflow_x": null,
            "overflow_y": null,
            "padding": null,
            "right": null,
            "top": null,
            "visibility": null,
            "width": null
          }
        },
        "9023f3e1d35c475a8e56ecf5df2c8856": {
          "model_module": "@jupyter-widgets/base",
          "model_name": "LayoutModel",
          "model_module_version": "1.2.0",
          "state": {
            "_model_module": "@jupyter-widgets/base",
            "_model_module_version": "1.2.0",
            "_model_name": "LayoutModel",
            "_view_count": null,
            "_view_module": "@jupyter-widgets/base",
            "_view_module_version": "1.2.0",
            "_view_name": "LayoutView",
            "align_content": null,
            "align_items": null,
            "align_self": null,
            "border": null,
            "bottom": null,
            "display": null,
            "flex": null,
            "flex_flow": null,
            "grid_area": null,
            "grid_auto_columns": null,
            "grid_auto_flow": null,
            "grid_auto_rows": null,
            "grid_column": null,
            "grid_gap": null,
            "grid_row": null,
            "grid_template_areas": null,
            "grid_template_columns": null,
            "grid_template_rows": null,
            "height": null,
            "justify_content": null,
            "justify_items": null,
            "left": null,
            "margin": null,
            "max_height": null,
            "max_width": null,
            "min_height": null,
            "min_width": null,
            "object_fit": null,
            "object_position": null,
            "order": null,
            "overflow": null,
            "overflow_x": null,
            "overflow_y": null,
            "padding": null,
            "right": null,
            "top": null,
            "visibility": null,
            "width": null
          }
        },
        "f420ceecbc934f6d9caea35a9ace922f": {
          "model_module": "@jupyter-widgets/controls",
          "model_name": "DescriptionStyleModel",
          "model_module_version": "1.5.0",
          "state": {
            "_model_module": "@jupyter-widgets/controls",
            "_model_module_version": "1.5.0",
            "_model_name": "DescriptionStyleModel",
            "_view_count": null,
            "_view_module": "@jupyter-widgets/base",
            "_view_module_version": "1.2.0",
            "_view_name": "StyleView",
            "description_width": ""
          }
        },
        "8e505c66964549dabc7299a72dd1a94e": {
          "model_module": "@jupyter-widgets/base",
          "model_name": "LayoutModel",
          "model_module_version": "1.2.0",
          "state": {
            "_model_module": "@jupyter-widgets/base",
            "_model_module_version": "1.2.0",
            "_model_name": "LayoutModel",
            "_view_count": null,
            "_view_module": "@jupyter-widgets/base",
            "_view_module_version": "1.2.0",
            "_view_name": "LayoutView",
            "align_content": null,
            "align_items": null,
            "align_self": null,
            "border": null,
            "bottom": null,
            "display": null,
            "flex": null,
            "flex_flow": null,
            "grid_area": null,
            "grid_auto_columns": null,
            "grid_auto_flow": null,
            "grid_auto_rows": null,
            "grid_column": null,
            "grid_gap": null,
            "grid_row": null,
            "grid_template_areas": null,
            "grid_template_columns": null,
            "grid_template_rows": null,
            "height": null,
            "justify_content": null,
            "justify_items": null,
            "left": null,
            "margin": null,
            "max_height": null,
            "max_width": null,
            "min_height": null,
            "min_width": null,
            "object_fit": null,
            "object_position": null,
            "order": null,
            "overflow": null,
            "overflow_x": null,
            "overflow_y": null,
            "padding": null,
            "right": null,
            "top": null,
            "visibility": null,
            "width": null
          }
        },
        "aabaf469c929413f92ffd90576c46511": {
          "model_module": "@jupyter-widgets/controls",
          "model_name": "ProgressStyleModel",
          "model_module_version": "1.5.0",
          "state": {
            "_model_module": "@jupyter-widgets/controls",
            "_model_module_version": "1.5.0",
            "_model_name": "ProgressStyleModel",
            "_view_count": null,
            "_view_module": "@jupyter-widgets/base",
            "_view_module_version": "1.2.0",
            "_view_name": "StyleView",
            "bar_color": null,
            "description_width": ""
          }
        },
        "f783bec17ddd4326a516d250b5d8567f": {
          "model_module": "@jupyter-widgets/base",
          "model_name": "LayoutModel",
          "model_module_version": "1.2.0",
          "state": {
            "_model_module": "@jupyter-widgets/base",
            "_model_module_version": "1.2.0",
            "_model_name": "LayoutModel",
            "_view_count": null,
            "_view_module": "@jupyter-widgets/base",
            "_view_module_version": "1.2.0",
            "_view_name": "LayoutView",
            "align_content": null,
            "align_items": null,
            "align_self": null,
            "border": null,
            "bottom": null,
            "display": null,
            "flex": null,
            "flex_flow": null,
            "grid_area": null,
            "grid_auto_columns": null,
            "grid_auto_flow": null,
            "grid_auto_rows": null,
            "grid_column": null,
            "grid_gap": null,
            "grid_row": null,
            "grid_template_areas": null,
            "grid_template_columns": null,
            "grid_template_rows": null,
            "height": null,
            "justify_content": null,
            "justify_items": null,
            "left": null,
            "margin": null,
            "max_height": null,
            "max_width": null,
            "min_height": null,
            "min_width": null,
            "object_fit": null,
            "object_position": null,
            "order": null,
            "overflow": null,
            "overflow_x": null,
            "overflow_y": null,
            "padding": null,
            "right": null,
            "top": null,
            "visibility": null,
            "width": null
          }
        },
        "52e784b993054181900792dfcf075f7a": {
          "model_module": "@jupyter-widgets/controls",
          "model_name": "DescriptionStyleModel",
          "model_module_version": "1.5.0",
          "state": {
            "_model_module": "@jupyter-widgets/controls",
            "_model_module_version": "1.5.0",
            "_model_name": "DescriptionStyleModel",
            "_view_count": null,
            "_view_module": "@jupyter-widgets/base",
            "_view_module_version": "1.2.0",
            "_view_name": "StyleView",
            "description_width": ""
          }
        },
        "e6fb393233094ccf8a07d7ca6e9f57bc": {
          "model_module": "@jupyter-widgets/controls",
          "model_name": "HBoxModel",
          "model_module_version": "1.5.0",
          "state": {
            "_dom_classes": [],
            "_model_module": "@jupyter-widgets/controls",
            "_model_module_version": "1.5.0",
            "_model_name": "HBoxModel",
            "_view_count": null,
            "_view_module": "@jupyter-widgets/controls",
            "_view_module_version": "1.5.0",
            "_view_name": "HBoxView",
            "box_style": "",
            "children": [
              "IPY_MODEL_d6121dee12294e2da424c58adf896feb",
              "IPY_MODEL_1131f779c4c74cacb38ee49956f6995f",
              "IPY_MODEL_513e97a4799b49ac875c50bb9ac19d09"
            ],
            "layout": "IPY_MODEL_37186eae6e754207ae92873034687229"
          }
        },
        "d6121dee12294e2da424c58adf896feb": {
          "model_module": "@jupyter-widgets/controls",
          "model_name": "HTMLModel",
          "model_module_version": "1.5.0",
          "state": {
            "_dom_classes": [],
            "_model_module": "@jupyter-widgets/controls",
            "_model_module_version": "1.5.0",
            "_model_name": "HTMLModel",
            "_view_count": null,
            "_view_module": "@jupyter-widgets/controls",
            "_view_module_version": "1.5.0",
            "_view_name": "HTMLView",
            "description": "",
            "description_tooltip": null,
            "layout": "IPY_MODEL_da4290fa7edd4b5c8edac92c0fee3d25",
            "placeholder": "​",
            "style": "IPY_MODEL_c807f99ee15d454faeea0af7f02ed9e8",
            "value": "config.json: 100%"
          }
        },
        "1131f779c4c74cacb38ee49956f6995f": {
          "model_module": "@jupyter-widgets/controls",
          "model_name": "FloatProgressModel",
          "model_module_version": "1.5.0",
          "state": {
            "_dom_classes": [],
            "_model_module": "@jupyter-widgets/controls",
            "_model_module_version": "1.5.0",
            "_model_name": "FloatProgressModel",
            "_view_count": null,
            "_view_module": "@jupyter-widgets/controls",
            "_view_module_version": "1.5.0",
            "_view_name": "ProgressView",
            "bar_style": "success",
            "description": "",
            "description_tooltip": null,
            "layout": "IPY_MODEL_4a60cdd4a23849ab9614d163ac25d4e2",
            "max": 625,
            "min": 0,
            "orientation": "horizontal",
            "style": "IPY_MODEL_f8e9e50c78e448f5b24f1d4083eafcb8",
            "value": 625
          }
        },
        "513e97a4799b49ac875c50bb9ac19d09": {
          "model_module": "@jupyter-widgets/controls",
          "model_name": "HTMLModel",
          "model_module_version": "1.5.0",
          "state": {
            "_dom_classes": [],
            "_model_module": "@jupyter-widgets/controls",
            "_model_module_version": "1.5.0",
            "_model_name": "HTMLModel",
            "_view_count": null,
            "_view_module": "@jupyter-widgets/controls",
            "_view_module_version": "1.5.0",
            "_view_name": "HTMLView",
            "description": "",
            "description_tooltip": null,
            "layout": "IPY_MODEL_a4b2446cf2b24723bd390fd962dc5040",
            "placeholder": "​",
            "style": "IPY_MODEL_15ba7ca18642418eaab765d8db0a8832",
            "value": " 625/625 [00:00&lt;00:00, 57.1kB/s]"
          }
        },
        "37186eae6e754207ae92873034687229": {
          "model_module": "@jupyter-widgets/base",
          "model_name": "LayoutModel",
          "model_module_version": "1.2.0",
          "state": {
            "_model_module": "@jupyter-widgets/base",
            "_model_module_version": "1.2.0",
            "_model_name": "LayoutModel",
            "_view_count": null,
            "_view_module": "@jupyter-widgets/base",
            "_view_module_version": "1.2.0",
            "_view_name": "LayoutView",
            "align_content": null,
            "align_items": null,
            "align_self": null,
            "border": null,
            "bottom": null,
            "display": null,
            "flex": null,
            "flex_flow": null,
            "grid_area": null,
            "grid_auto_columns": null,
            "grid_auto_flow": null,
            "grid_auto_rows": null,
            "grid_column": null,
            "grid_gap": null,
            "grid_row": null,
            "grid_template_areas": null,
            "grid_template_columns": null,
            "grid_template_rows": null,
            "height": null,
            "justify_content": null,
            "justify_items": null,
            "left": null,
            "margin": null,
            "max_height": null,
            "max_width": null,
            "min_height": null,
            "min_width": null,
            "object_fit": null,
            "object_position": null,
            "order": null,
            "overflow": null,
            "overflow_x": null,
            "overflow_y": null,
            "padding": null,
            "right": null,
            "top": null,
            "visibility": null,
            "width": null
          }
        },
        "da4290fa7edd4b5c8edac92c0fee3d25": {
          "model_module": "@jupyter-widgets/base",
          "model_name": "LayoutModel",
          "model_module_version": "1.2.0",
          "state": {
            "_model_module": "@jupyter-widgets/base",
            "_model_module_version": "1.2.0",
            "_model_name": "LayoutModel",
            "_view_count": null,
            "_view_module": "@jupyter-widgets/base",
            "_view_module_version": "1.2.0",
            "_view_name": "LayoutView",
            "align_content": null,
            "align_items": null,
            "align_self": null,
            "border": null,
            "bottom": null,
            "display": null,
            "flex": null,
            "flex_flow": null,
            "grid_area": null,
            "grid_auto_columns": null,
            "grid_auto_flow": null,
            "grid_auto_rows": null,
            "grid_column": null,
            "grid_gap": null,
            "grid_row": null,
            "grid_template_areas": null,
            "grid_template_columns": null,
            "grid_template_rows": null,
            "height": null,
            "justify_content": null,
            "justify_items": null,
            "left": null,
            "margin": null,
            "max_height": null,
            "max_width": null,
            "min_height": null,
            "min_width": null,
            "object_fit": null,
            "object_position": null,
            "order": null,
            "overflow": null,
            "overflow_x": null,
            "overflow_y": null,
            "padding": null,
            "right": null,
            "top": null,
            "visibility": null,
            "width": null
          }
        },
        "c807f99ee15d454faeea0af7f02ed9e8": {
          "model_module": "@jupyter-widgets/controls",
          "model_name": "DescriptionStyleModel",
          "model_module_version": "1.5.0",
          "state": {
            "_model_module": "@jupyter-widgets/controls",
            "_model_module_version": "1.5.0",
            "_model_name": "DescriptionStyleModel",
            "_view_count": null,
            "_view_module": "@jupyter-widgets/base",
            "_view_module_version": "1.2.0",
            "_view_name": "StyleView",
            "description_width": ""
          }
        },
        "4a60cdd4a23849ab9614d163ac25d4e2": {
          "model_module": "@jupyter-widgets/base",
          "model_name": "LayoutModel",
          "model_module_version": "1.2.0",
          "state": {
            "_model_module": "@jupyter-widgets/base",
            "_model_module_version": "1.2.0",
            "_model_name": "LayoutModel",
            "_view_count": null,
            "_view_module": "@jupyter-widgets/base",
            "_view_module_version": "1.2.0",
            "_view_name": "LayoutView",
            "align_content": null,
            "align_items": null,
            "align_self": null,
            "border": null,
            "bottom": null,
            "display": null,
            "flex": null,
            "flex_flow": null,
            "grid_area": null,
            "grid_auto_columns": null,
            "grid_auto_flow": null,
            "grid_auto_rows": null,
            "grid_column": null,
            "grid_gap": null,
            "grid_row": null,
            "grid_template_areas": null,
            "grid_template_columns": null,
            "grid_template_rows": null,
            "height": null,
            "justify_content": null,
            "justify_items": null,
            "left": null,
            "margin": null,
            "max_height": null,
            "max_width": null,
            "min_height": null,
            "min_width": null,
            "object_fit": null,
            "object_position": null,
            "order": null,
            "overflow": null,
            "overflow_x": null,
            "overflow_y": null,
            "padding": null,
            "right": null,
            "top": null,
            "visibility": null,
            "width": null
          }
        },
        "f8e9e50c78e448f5b24f1d4083eafcb8": {
          "model_module": "@jupyter-widgets/controls",
          "model_name": "ProgressStyleModel",
          "model_module_version": "1.5.0",
          "state": {
            "_model_module": "@jupyter-widgets/controls",
            "_model_module_version": "1.5.0",
            "_model_name": "ProgressStyleModel",
            "_view_count": null,
            "_view_module": "@jupyter-widgets/base",
            "_view_module_version": "1.2.0",
            "_view_name": "StyleView",
            "bar_color": null,
            "description_width": ""
          }
        },
        "a4b2446cf2b24723bd390fd962dc5040": {
          "model_module": "@jupyter-widgets/base",
          "model_name": "LayoutModel",
          "model_module_version": "1.2.0",
          "state": {
            "_model_module": "@jupyter-widgets/base",
            "_model_module_version": "1.2.0",
            "_model_name": "LayoutModel",
            "_view_count": null,
            "_view_module": "@jupyter-widgets/base",
            "_view_module_version": "1.2.0",
            "_view_name": "LayoutView",
            "align_content": null,
            "align_items": null,
            "align_self": null,
            "border": null,
            "bottom": null,
            "display": null,
            "flex": null,
            "flex_flow": null,
            "grid_area": null,
            "grid_auto_columns": null,
            "grid_auto_flow": null,
            "grid_auto_rows": null,
            "grid_column": null,
            "grid_gap": null,
            "grid_row": null,
            "grid_template_areas": null,
            "grid_template_columns": null,
            "grid_template_rows": null,
            "height": null,
            "justify_content": null,
            "justify_items": null,
            "left": null,
            "margin": null,
            "max_height": null,
            "max_width": null,
            "min_height": null,
            "min_width": null,
            "object_fit": null,
            "object_position": null,
            "order": null,
            "overflow": null,
            "overflow_x": null,
            "overflow_y": null,
            "padding": null,
            "right": null,
            "top": null,
            "visibility": null,
            "width": null
          }
        },
        "15ba7ca18642418eaab765d8db0a8832": {
          "model_module": "@jupyter-widgets/controls",
          "model_name": "DescriptionStyleModel",
          "model_module_version": "1.5.0",
          "state": {
            "_model_module": "@jupyter-widgets/controls",
            "_model_module_version": "1.5.0",
            "_model_name": "DescriptionStyleModel",
            "_view_count": null,
            "_view_module": "@jupyter-widgets/base",
            "_view_module_version": "1.2.0",
            "_view_name": "StyleView",
            "description_width": ""
          }
        },
        "302400a2540c456d9bd8a63559242142": {
          "model_module": "@jupyter-widgets/controls",
          "model_name": "HBoxModel",
          "model_module_version": "1.5.0",
          "state": {
            "_dom_classes": [],
            "_model_module": "@jupyter-widgets/controls",
            "_model_module_version": "1.5.0",
            "_model_name": "HBoxModel",
            "_view_count": null,
            "_view_module": "@jupyter-widgets/controls",
            "_view_module_version": "1.5.0",
            "_view_name": "HBoxView",
            "box_style": "",
            "children": [
              "IPY_MODEL_ed1c8e4f5d524186a452ada8f19a515f",
              "IPY_MODEL_7586072a354e4f369e806ab0da22006b",
              "IPY_MODEL_8cec1f89cc504648aeeca05721cbc3b8"
            ],
            "layout": "IPY_MODEL_ddd9c9f86f774f059ce0acb61ff5b194"
          }
        },
        "ed1c8e4f5d524186a452ada8f19a515f": {
          "model_module": "@jupyter-widgets/controls",
          "model_name": "HTMLModel",
          "model_module_version": "1.5.0",
          "state": {
            "_dom_classes": [],
            "_model_module": "@jupyter-widgets/controls",
            "_model_module_version": "1.5.0",
            "_model_name": "HTMLModel",
            "_view_count": null,
            "_view_module": "@jupyter-widgets/controls",
            "_view_module_version": "1.5.0",
            "_view_name": "HTMLView",
            "description": "",
            "description_tooltip": null,
            "layout": "IPY_MODEL_bbcd64aa5484433294dc7abba590f894",
            "placeholder": "​",
            "style": "IPY_MODEL_015788a2b87649cf951e9aed4f28ede0",
            "value": "vocab.txt: 100%"
          }
        },
        "7586072a354e4f369e806ab0da22006b": {
          "model_module": "@jupyter-widgets/controls",
          "model_name": "FloatProgressModel",
          "model_module_version": "1.5.0",
          "state": {
            "_dom_classes": [],
            "_model_module": "@jupyter-widgets/controls",
            "_model_module_version": "1.5.0",
            "_model_name": "FloatProgressModel",
            "_view_count": null,
            "_view_module": "@jupyter-widgets/controls",
            "_view_module_version": "1.5.0",
            "_view_name": "ProgressView",
            "bar_style": "success",
            "description": "",
            "description_tooltip": null,
            "layout": "IPY_MODEL_f418a0ab926548ff8741f20252df955c",
            "max": 995526,
            "min": 0,
            "orientation": "horizontal",
            "style": "IPY_MODEL_e14d8e2e8619490f8349b78e2ca4aca4",
            "value": 995526
          }
        },
        "8cec1f89cc504648aeeca05721cbc3b8": {
          "model_module": "@jupyter-widgets/controls",
          "model_name": "HTMLModel",
          "model_module_version": "1.5.0",
          "state": {
            "_dom_classes": [],
            "_model_module": "@jupyter-widgets/controls",
            "_model_module_version": "1.5.0",
            "_model_name": "HTMLModel",
            "_view_count": null,
            "_view_module": "@jupyter-widgets/controls",
            "_view_module_version": "1.5.0",
            "_view_name": "HTMLView",
            "description": "",
            "description_tooltip": null,
            "layout": "IPY_MODEL_abcf025e8e9c420baf39c85f3aa8d0a6",
            "placeholder": "​",
            "style": "IPY_MODEL_b49d1e1f161c466cbc5e67ee90c6300c",
            "value": " 996k/996k [00:00&lt;00:00, 13.2MB/s]"
          }
        },
        "ddd9c9f86f774f059ce0acb61ff5b194": {
          "model_module": "@jupyter-widgets/base",
          "model_name": "LayoutModel",
          "model_module_version": "1.2.0",
          "state": {
            "_model_module": "@jupyter-widgets/base",
            "_model_module_version": "1.2.0",
            "_model_name": "LayoutModel",
            "_view_count": null,
            "_view_module": "@jupyter-widgets/base",
            "_view_module_version": "1.2.0",
            "_view_name": "LayoutView",
            "align_content": null,
            "align_items": null,
            "align_self": null,
            "border": null,
            "bottom": null,
            "display": null,
            "flex": null,
            "flex_flow": null,
            "grid_area": null,
            "grid_auto_columns": null,
            "grid_auto_flow": null,
            "grid_auto_rows": null,
            "grid_column": null,
            "grid_gap": null,
            "grid_row": null,
            "grid_template_areas": null,
            "grid_template_columns": null,
            "grid_template_rows": null,
            "height": null,
            "justify_content": null,
            "justify_items": null,
            "left": null,
            "margin": null,
            "max_height": null,
            "max_width": null,
            "min_height": null,
            "min_width": null,
            "object_fit": null,
            "object_position": null,
            "order": null,
            "overflow": null,
            "overflow_x": null,
            "overflow_y": null,
            "padding": null,
            "right": null,
            "top": null,
            "visibility": null,
            "width": null
          }
        },
        "bbcd64aa5484433294dc7abba590f894": {
          "model_module": "@jupyter-widgets/base",
          "model_name": "LayoutModel",
          "model_module_version": "1.2.0",
          "state": {
            "_model_module": "@jupyter-widgets/base",
            "_model_module_version": "1.2.0",
            "_model_name": "LayoutModel",
            "_view_count": null,
            "_view_module": "@jupyter-widgets/base",
            "_view_module_version": "1.2.0",
            "_view_name": "LayoutView",
            "align_content": null,
            "align_items": null,
            "align_self": null,
            "border": null,
            "bottom": null,
            "display": null,
            "flex": null,
            "flex_flow": null,
            "grid_area": null,
            "grid_auto_columns": null,
            "grid_auto_flow": null,
            "grid_auto_rows": null,
            "grid_column": null,
            "grid_gap": null,
            "grid_row": null,
            "grid_template_areas": null,
            "grid_template_columns": null,
            "grid_template_rows": null,
            "height": null,
            "justify_content": null,
            "justify_items": null,
            "left": null,
            "margin": null,
            "max_height": null,
            "max_width": null,
            "min_height": null,
            "min_width": null,
            "object_fit": null,
            "object_position": null,
            "order": null,
            "overflow": null,
            "overflow_x": null,
            "overflow_y": null,
            "padding": null,
            "right": null,
            "top": null,
            "visibility": null,
            "width": null
          }
        },
        "015788a2b87649cf951e9aed4f28ede0": {
          "model_module": "@jupyter-widgets/controls",
          "model_name": "DescriptionStyleModel",
          "model_module_version": "1.5.0",
          "state": {
            "_model_module": "@jupyter-widgets/controls",
            "_model_module_version": "1.5.0",
            "_model_name": "DescriptionStyleModel",
            "_view_count": null,
            "_view_module": "@jupyter-widgets/base",
            "_view_module_version": "1.2.0",
            "_view_name": "StyleView",
            "description_width": ""
          }
        },
        "f418a0ab926548ff8741f20252df955c": {
          "model_module": "@jupyter-widgets/base",
          "model_name": "LayoutModel",
          "model_module_version": "1.2.0",
          "state": {
            "_model_module": "@jupyter-widgets/base",
            "_model_module_version": "1.2.0",
            "_model_name": "LayoutModel",
            "_view_count": null,
            "_view_module": "@jupyter-widgets/base",
            "_view_module_version": "1.2.0",
            "_view_name": "LayoutView",
            "align_content": null,
            "align_items": null,
            "align_self": null,
            "border": null,
            "bottom": null,
            "display": null,
            "flex": null,
            "flex_flow": null,
            "grid_area": null,
            "grid_auto_columns": null,
            "grid_auto_flow": null,
            "grid_auto_rows": null,
            "grid_column": null,
            "grid_gap": null,
            "grid_row": null,
            "grid_template_areas": null,
            "grid_template_columns": null,
            "grid_template_rows": null,
            "height": null,
            "justify_content": null,
            "justify_items": null,
            "left": null,
            "margin": null,
            "max_height": null,
            "max_width": null,
            "min_height": null,
            "min_width": null,
            "object_fit": null,
            "object_position": null,
            "order": null,
            "overflow": null,
            "overflow_x": null,
            "overflow_y": null,
            "padding": null,
            "right": null,
            "top": null,
            "visibility": null,
            "width": null
          }
        },
        "e14d8e2e8619490f8349b78e2ca4aca4": {
          "model_module": "@jupyter-widgets/controls",
          "model_name": "ProgressStyleModel",
          "model_module_version": "1.5.0",
          "state": {
            "_model_module": "@jupyter-widgets/controls",
            "_model_module_version": "1.5.0",
            "_model_name": "ProgressStyleModel",
            "_view_count": null,
            "_view_module": "@jupyter-widgets/base",
            "_view_module_version": "1.2.0",
            "_view_name": "StyleView",
            "bar_color": null,
            "description_width": ""
          }
        },
        "abcf025e8e9c420baf39c85f3aa8d0a6": {
          "model_module": "@jupyter-widgets/base",
          "model_name": "LayoutModel",
          "model_module_version": "1.2.0",
          "state": {
            "_model_module": "@jupyter-widgets/base",
            "_model_module_version": "1.2.0",
            "_model_name": "LayoutModel",
            "_view_count": null,
            "_view_module": "@jupyter-widgets/base",
            "_view_module_version": "1.2.0",
            "_view_name": "LayoutView",
            "align_content": null,
            "align_items": null,
            "align_self": null,
            "border": null,
            "bottom": null,
            "display": null,
            "flex": null,
            "flex_flow": null,
            "grid_area": null,
            "grid_auto_columns": null,
            "grid_auto_flow": null,
            "grid_auto_rows": null,
            "grid_column": null,
            "grid_gap": null,
            "grid_row": null,
            "grid_template_areas": null,
            "grid_template_columns": null,
            "grid_template_rows": null,
            "height": null,
            "justify_content": null,
            "justify_items": null,
            "left": null,
            "margin": null,
            "max_height": null,
            "max_width": null,
            "min_height": null,
            "min_width": null,
            "object_fit": null,
            "object_position": null,
            "order": null,
            "overflow": null,
            "overflow_x": null,
            "overflow_y": null,
            "padding": null,
            "right": null,
            "top": null,
            "visibility": null,
            "width": null
          }
        },
        "b49d1e1f161c466cbc5e67ee90c6300c": {
          "model_module": "@jupyter-widgets/controls",
          "model_name": "DescriptionStyleModel",
          "model_module_version": "1.5.0",
          "state": {
            "_model_module": "@jupyter-widgets/controls",
            "_model_module_version": "1.5.0",
            "_model_name": "DescriptionStyleModel",
            "_view_count": null,
            "_view_module": "@jupyter-widgets/base",
            "_view_module_version": "1.2.0",
            "_view_name": "StyleView",
            "description_width": ""
          }
        },
        "19dd4c5df65147648db53b6dfce58274": {
          "model_module": "@jupyter-widgets/controls",
          "model_name": "HBoxModel",
          "model_module_version": "1.5.0",
          "state": {
            "_dom_classes": [],
            "_model_module": "@jupyter-widgets/controls",
            "_model_module_version": "1.5.0",
            "_model_name": "HBoxModel",
            "_view_count": null,
            "_view_module": "@jupyter-widgets/controls",
            "_view_module_version": "1.5.0",
            "_view_name": "HBoxView",
            "box_style": "",
            "children": [
              "IPY_MODEL_e3fd66465d7f4822a1f89c89315fd248",
              "IPY_MODEL_2e319796594546cf85f5c4546d177b99",
              "IPY_MODEL_e8453a5f814e4468bbda38526ca3f96b"
            ],
            "layout": "IPY_MODEL_c65e2078f0354b82b7080f26f007301e"
          }
        },
        "e3fd66465d7f4822a1f89c89315fd248": {
          "model_module": "@jupyter-widgets/controls",
          "model_name": "HTMLModel",
          "model_module_version": "1.5.0",
          "state": {
            "_dom_classes": [],
            "_model_module": "@jupyter-widgets/controls",
            "_model_module_version": "1.5.0",
            "_model_name": "HTMLModel",
            "_view_count": null,
            "_view_module": "@jupyter-widgets/controls",
            "_view_module_version": "1.5.0",
            "_view_name": "HTMLView",
            "description": "",
            "description_tooltip": null,
            "layout": "IPY_MODEL_291f4e5a23f643f2a7bce8091b4e4c08",
            "placeholder": "​",
            "style": "IPY_MODEL_d13837192698458884c4ea1786d5221d",
            "value": "tokenizer.json: 100%"
          }
        },
        "2e319796594546cf85f5c4546d177b99": {
          "model_module": "@jupyter-widgets/controls",
          "model_name": "FloatProgressModel",
          "model_module_version": "1.5.0",
          "state": {
            "_dom_classes": [],
            "_model_module": "@jupyter-widgets/controls",
            "_model_module_version": "1.5.0",
            "_model_name": "FloatProgressModel",
            "_view_count": null,
            "_view_module": "@jupyter-widgets/controls",
            "_view_module_version": "1.5.0",
            "_view_name": "ProgressView",
            "bar_style": "success",
            "description": "",
            "description_tooltip": null,
            "layout": "IPY_MODEL_ffcdaed2a8b94907a13ec0e66f42997e",
            "max": 1961828,
            "min": 0,
            "orientation": "horizontal",
            "style": "IPY_MODEL_7f9248efbbd4479cbd194ae19f2e54f6",
            "value": 1961828
          }
        },
        "e8453a5f814e4468bbda38526ca3f96b": {
          "model_module": "@jupyter-widgets/controls",
          "model_name": "HTMLModel",
          "model_module_version": "1.5.0",
          "state": {
            "_dom_classes": [],
            "_model_module": "@jupyter-widgets/controls",
            "_model_module_version": "1.5.0",
            "_model_name": "HTMLModel",
            "_view_count": null,
            "_view_module": "@jupyter-widgets/controls",
            "_view_module_version": "1.5.0",
            "_view_name": "HTMLView",
            "description": "",
            "description_tooltip": null,
            "layout": "IPY_MODEL_5b09515442b34af08d434794cd32c064",
            "placeholder": "​",
            "style": "IPY_MODEL_3e56f29490b84c449fb62de1eba4bd3b",
            "value": " 1.96M/1.96M [00:00&lt;00:00, 10.9MB/s]"
          }
        },
        "c65e2078f0354b82b7080f26f007301e": {
          "model_module": "@jupyter-widgets/base",
          "model_name": "LayoutModel",
          "model_module_version": "1.2.0",
          "state": {
            "_model_module": "@jupyter-widgets/base",
            "_model_module_version": "1.2.0",
            "_model_name": "LayoutModel",
            "_view_count": null,
            "_view_module": "@jupyter-widgets/base",
            "_view_module_version": "1.2.0",
            "_view_name": "LayoutView",
            "align_content": null,
            "align_items": null,
            "align_self": null,
            "border": null,
            "bottom": null,
            "display": null,
            "flex": null,
            "flex_flow": null,
            "grid_area": null,
            "grid_auto_columns": null,
            "grid_auto_flow": null,
            "grid_auto_rows": null,
            "grid_column": null,
            "grid_gap": null,
            "grid_row": null,
            "grid_template_areas": null,
            "grid_template_columns": null,
            "grid_template_rows": null,
            "height": null,
            "justify_content": null,
            "justify_items": null,
            "left": null,
            "margin": null,
            "max_height": null,
            "max_width": null,
            "min_height": null,
            "min_width": null,
            "object_fit": null,
            "object_position": null,
            "order": null,
            "overflow": null,
            "overflow_x": null,
            "overflow_y": null,
            "padding": null,
            "right": null,
            "top": null,
            "visibility": null,
            "width": null
          }
        },
        "291f4e5a23f643f2a7bce8091b4e4c08": {
          "model_module": "@jupyter-widgets/base",
          "model_name": "LayoutModel",
          "model_module_version": "1.2.0",
          "state": {
            "_model_module": "@jupyter-widgets/base",
            "_model_module_version": "1.2.0",
            "_model_name": "LayoutModel",
            "_view_count": null,
            "_view_module": "@jupyter-widgets/base",
            "_view_module_version": "1.2.0",
            "_view_name": "LayoutView",
            "align_content": null,
            "align_items": null,
            "align_self": null,
            "border": null,
            "bottom": null,
            "display": null,
            "flex": null,
            "flex_flow": null,
            "grid_area": null,
            "grid_auto_columns": null,
            "grid_auto_flow": null,
            "grid_auto_rows": null,
            "grid_column": null,
            "grid_gap": null,
            "grid_row": null,
            "grid_template_areas": null,
            "grid_template_columns": null,
            "grid_template_rows": null,
            "height": null,
            "justify_content": null,
            "justify_items": null,
            "left": null,
            "margin": null,
            "max_height": null,
            "max_width": null,
            "min_height": null,
            "min_width": null,
            "object_fit": null,
            "object_position": null,
            "order": null,
            "overflow": null,
            "overflow_x": null,
            "overflow_y": null,
            "padding": null,
            "right": null,
            "top": null,
            "visibility": null,
            "width": null
          }
        },
        "d13837192698458884c4ea1786d5221d": {
          "model_module": "@jupyter-widgets/controls",
          "model_name": "DescriptionStyleModel",
          "model_module_version": "1.5.0",
          "state": {
            "_model_module": "@jupyter-widgets/controls",
            "_model_module_version": "1.5.0",
            "_model_name": "DescriptionStyleModel",
            "_view_count": null,
            "_view_module": "@jupyter-widgets/base",
            "_view_module_version": "1.2.0",
            "_view_name": "StyleView",
            "description_width": ""
          }
        },
        "ffcdaed2a8b94907a13ec0e66f42997e": {
          "model_module": "@jupyter-widgets/base",
          "model_name": "LayoutModel",
          "model_module_version": "1.2.0",
          "state": {
            "_model_module": "@jupyter-widgets/base",
            "_model_module_version": "1.2.0",
            "_model_name": "LayoutModel",
            "_view_count": null,
            "_view_module": "@jupyter-widgets/base",
            "_view_module_version": "1.2.0",
            "_view_name": "LayoutView",
            "align_content": null,
            "align_items": null,
            "align_self": null,
            "border": null,
            "bottom": null,
            "display": null,
            "flex": null,
            "flex_flow": null,
            "grid_area": null,
            "grid_auto_columns": null,
            "grid_auto_flow": null,
            "grid_auto_rows": null,
            "grid_column": null,
            "grid_gap": null,
            "grid_row": null,
            "grid_template_areas": null,
            "grid_template_columns": null,
            "grid_template_rows": null,
            "height": null,
            "justify_content": null,
            "justify_items": null,
            "left": null,
            "margin": null,
            "max_height": null,
            "max_width": null,
            "min_height": null,
            "min_width": null,
            "object_fit": null,
            "object_position": null,
            "order": null,
            "overflow": null,
            "overflow_x": null,
            "overflow_y": null,
            "padding": null,
            "right": null,
            "top": null,
            "visibility": null,
            "width": null
          }
        },
        "7f9248efbbd4479cbd194ae19f2e54f6": {
          "model_module": "@jupyter-widgets/controls",
          "model_name": "ProgressStyleModel",
          "model_module_version": "1.5.0",
          "state": {
            "_model_module": "@jupyter-widgets/controls",
            "_model_module_version": "1.5.0",
            "_model_name": "ProgressStyleModel",
            "_view_count": null,
            "_view_module": "@jupyter-widgets/base",
            "_view_module_version": "1.2.0",
            "_view_name": "StyleView",
            "bar_color": null,
            "description_width": ""
          }
        },
        "5b09515442b34af08d434794cd32c064": {
          "model_module": "@jupyter-widgets/base",
          "model_name": "LayoutModel",
          "model_module_version": "1.2.0",
          "state": {
            "_model_module": "@jupyter-widgets/base",
            "_model_module_version": "1.2.0",
            "_model_name": "LayoutModel",
            "_view_count": null,
            "_view_module": "@jupyter-widgets/base",
            "_view_module_version": "1.2.0",
            "_view_name": "LayoutView",
            "align_content": null,
            "align_items": null,
            "align_self": null,
            "border": null,
            "bottom": null,
            "display": null,
            "flex": null,
            "flex_flow": null,
            "grid_area": null,
            "grid_auto_columns": null,
            "grid_auto_flow": null,
            "grid_auto_rows": null,
            "grid_column": null,
            "grid_gap": null,
            "grid_row": null,
            "grid_template_areas": null,
            "grid_template_columns": null,
            "grid_template_rows": null,
            "height": null,
            "justify_content": null,
            "justify_items": null,
            "left": null,
            "margin": null,
            "max_height": null,
            "max_width": null,
            "min_height": null,
            "min_width": null,
            "object_fit": null,
            "object_position": null,
            "order": null,
            "overflow": null,
            "overflow_x": null,
            "overflow_y": null,
            "padding": null,
            "right": null,
            "top": null,
            "visibility": null,
            "width": null
          }
        },
        "3e56f29490b84c449fb62de1eba4bd3b": {
          "model_module": "@jupyter-widgets/controls",
          "model_name": "DescriptionStyleModel",
          "model_module_version": "1.5.0",
          "state": {
            "_model_module": "@jupyter-widgets/controls",
            "_model_module_version": "1.5.0",
            "_model_name": "DescriptionStyleModel",
            "_view_count": null,
            "_view_module": "@jupyter-widgets/base",
            "_view_module_version": "1.2.0",
            "_view_name": "StyleView",
            "description_width": ""
          }
        },
        "29c2a0194a904fa194d54765f23f8d7d": {
          "model_module": "@jupyter-widgets/controls",
          "model_name": "HBoxModel",
          "model_module_version": "1.5.0",
          "state": {
            "_dom_classes": [],
            "_model_module": "@jupyter-widgets/controls",
            "_model_module_version": "1.5.0",
            "_model_name": "HBoxModel",
            "_view_count": null,
            "_view_module": "@jupyter-widgets/controls",
            "_view_module_version": "1.5.0",
            "_view_name": "HBoxView",
            "box_style": "",
            "children": [
              "IPY_MODEL_7a727ebabc09436399dbf0554e51e9a0",
              "IPY_MODEL_c1bf9581088a472185b17e5683257de7",
              "IPY_MODEL_2ed3185c32fe42268c6f87bc810bd7ed"
            ],
            "layout": "IPY_MODEL_07450ac48cbc475da7a9c71e0f8261c8"
          }
        },
        "7a727ebabc09436399dbf0554e51e9a0": {
          "model_module": "@jupyter-widgets/controls",
          "model_name": "HTMLModel",
          "model_module_version": "1.5.0",
          "state": {
            "_dom_classes": [],
            "_model_module": "@jupyter-widgets/controls",
            "_model_module_version": "1.5.0",
            "_model_name": "HTMLModel",
            "_view_count": null,
            "_view_module": "@jupyter-widgets/controls",
            "_view_module_version": "1.5.0",
            "_view_name": "HTMLView",
            "description": "",
            "description_tooltip": null,
            "layout": "IPY_MODEL_f9e5ce840d1c45e0b16b753072a056a6",
            "placeholder": "​",
            "style": "IPY_MODEL_958be428b7874e278fd8a19487c3f5e8",
            "value": "Map: 100%"
          }
        },
        "c1bf9581088a472185b17e5683257de7": {
          "model_module": "@jupyter-widgets/controls",
          "model_name": "FloatProgressModel",
          "model_module_version": "1.5.0",
          "state": {
            "_dom_classes": [],
            "_model_module": "@jupyter-widgets/controls",
            "_model_module_version": "1.5.0",
            "_model_name": "FloatProgressModel",
            "_view_count": null,
            "_view_module": "@jupyter-widgets/controls",
            "_view_module_version": "1.5.0",
            "_view_name": "ProgressView",
            "bar_style": "success",
            "description": "",
            "description_tooltip": null,
            "layout": "IPY_MODEL_6b3dbbae55544897b21f768b26d5c0c4",
            "max": 12837,
            "min": 0,
            "orientation": "horizontal",
            "style": "IPY_MODEL_6e71fca1573141939a2bfd8d2b9b5f02",
            "value": 12837
          }
        },
        "2ed3185c32fe42268c6f87bc810bd7ed": {
          "model_module": "@jupyter-widgets/controls",
          "model_name": "HTMLModel",
          "model_module_version": "1.5.0",
          "state": {
            "_dom_classes": [],
            "_model_module": "@jupyter-widgets/controls",
            "_model_module_version": "1.5.0",
            "_model_name": "HTMLModel",
            "_view_count": null,
            "_view_module": "@jupyter-widgets/controls",
            "_view_module_version": "1.5.0",
            "_view_name": "HTMLView",
            "description": "",
            "description_tooltip": null,
            "layout": "IPY_MODEL_6dd090f8523748878a12bcee907a7a95",
            "placeholder": "​",
            "style": "IPY_MODEL_a356eef3a1a74b41b13b6c5d46ea504b",
            "value": " 12837/12837 [00:02&lt;00:00, 6271.77 examples/s]"
          }
        },
        "07450ac48cbc475da7a9c71e0f8261c8": {
          "model_module": "@jupyter-widgets/base",
          "model_name": "LayoutModel",
          "model_module_version": "1.2.0",
          "state": {
            "_model_module": "@jupyter-widgets/base",
            "_model_module_version": "1.2.0",
            "_model_name": "LayoutModel",
            "_view_count": null,
            "_view_module": "@jupyter-widgets/base",
            "_view_module_version": "1.2.0",
            "_view_name": "LayoutView",
            "align_content": null,
            "align_items": null,
            "align_self": null,
            "border": null,
            "bottom": null,
            "display": null,
            "flex": null,
            "flex_flow": null,
            "grid_area": null,
            "grid_auto_columns": null,
            "grid_auto_flow": null,
            "grid_auto_rows": null,
            "grid_column": null,
            "grid_gap": null,
            "grid_row": null,
            "grid_template_areas": null,
            "grid_template_columns": null,
            "grid_template_rows": null,
            "height": null,
            "justify_content": null,
            "justify_items": null,
            "left": null,
            "margin": null,
            "max_height": null,
            "max_width": null,
            "min_height": null,
            "min_width": null,
            "object_fit": null,
            "object_position": null,
            "order": null,
            "overflow": null,
            "overflow_x": null,
            "overflow_y": null,
            "padding": null,
            "right": null,
            "top": null,
            "visibility": null,
            "width": null
          }
        },
        "f9e5ce840d1c45e0b16b753072a056a6": {
          "model_module": "@jupyter-widgets/base",
          "model_name": "LayoutModel",
          "model_module_version": "1.2.0",
          "state": {
            "_model_module": "@jupyter-widgets/base",
            "_model_module_version": "1.2.0",
            "_model_name": "LayoutModel",
            "_view_count": null,
            "_view_module": "@jupyter-widgets/base",
            "_view_module_version": "1.2.0",
            "_view_name": "LayoutView",
            "align_content": null,
            "align_items": null,
            "align_self": null,
            "border": null,
            "bottom": null,
            "display": null,
            "flex": null,
            "flex_flow": null,
            "grid_area": null,
            "grid_auto_columns": null,
            "grid_auto_flow": null,
            "grid_auto_rows": null,
            "grid_column": null,
            "grid_gap": null,
            "grid_row": null,
            "grid_template_areas": null,
            "grid_template_columns": null,
            "grid_template_rows": null,
            "height": null,
            "justify_content": null,
            "justify_items": null,
            "left": null,
            "margin": null,
            "max_height": null,
            "max_width": null,
            "min_height": null,
            "min_width": null,
            "object_fit": null,
            "object_position": null,
            "order": null,
            "overflow": null,
            "overflow_x": null,
            "overflow_y": null,
            "padding": null,
            "right": null,
            "top": null,
            "visibility": null,
            "width": null
          }
        },
        "958be428b7874e278fd8a19487c3f5e8": {
          "model_module": "@jupyter-widgets/controls",
          "model_name": "DescriptionStyleModel",
          "model_module_version": "1.5.0",
          "state": {
            "_model_module": "@jupyter-widgets/controls",
            "_model_module_version": "1.5.0",
            "_model_name": "DescriptionStyleModel",
            "_view_count": null,
            "_view_module": "@jupyter-widgets/base",
            "_view_module_version": "1.2.0",
            "_view_name": "StyleView",
            "description_width": ""
          }
        },
        "6b3dbbae55544897b21f768b26d5c0c4": {
          "model_module": "@jupyter-widgets/base",
          "model_name": "LayoutModel",
          "model_module_version": "1.2.0",
          "state": {
            "_model_module": "@jupyter-widgets/base",
            "_model_module_version": "1.2.0",
            "_model_name": "LayoutModel",
            "_view_count": null,
            "_view_module": "@jupyter-widgets/base",
            "_view_module_version": "1.2.0",
            "_view_name": "LayoutView",
            "align_content": null,
            "align_items": null,
            "align_self": null,
            "border": null,
            "bottom": null,
            "display": null,
            "flex": null,
            "flex_flow": null,
            "grid_area": null,
            "grid_auto_columns": null,
            "grid_auto_flow": null,
            "grid_auto_rows": null,
            "grid_column": null,
            "grid_gap": null,
            "grid_row": null,
            "grid_template_areas": null,
            "grid_template_columns": null,
            "grid_template_rows": null,
            "height": null,
            "justify_content": null,
            "justify_items": null,
            "left": null,
            "margin": null,
            "max_height": null,
            "max_width": null,
            "min_height": null,
            "min_width": null,
            "object_fit": null,
            "object_position": null,
            "order": null,
            "overflow": null,
            "overflow_x": null,
            "overflow_y": null,
            "padding": null,
            "right": null,
            "top": null,
            "visibility": null,
            "width": null
          }
        },
        "6e71fca1573141939a2bfd8d2b9b5f02": {
          "model_module": "@jupyter-widgets/controls",
          "model_name": "ProgressStyleModel",
          "model_module_version": "1.5.0",
          "state": {
            "_model_module": "@jupyter-widgets/controls",
            "_model_module_version": "1.5.0",
            "_model_name": "ProgressStyleModel",
            "_view_count": null,
            "_view_module": "@jupyter-widgets/base",
            "_view_module_version": "1.2.0",
            "_view_name": "StyleView",
            "bar_color": null,
            "description_width": ""
          }
        },
        "6dd090f8523748878a12bcee907a7a95": {
          "model_module": "@jupyter-widgets/base",
          "model_name": "LayoutModel",
          "model_module_version": "1.2.0",
          "state": {
            "_model_module": "@jupyter-widgets/base",
            "_model_module_version": "1.2.0",
            "_model_name": "LayoutModel",
            "_view_count": null,
            "_view_module": "@jupyter-widgets/base",
            "_view_module_version": "1.2.0",
            "_view_name": "LayoutView",
            "align_content": null,
            "align_items": null,
            "align_self": null,
            "border": null,
            "bottom": null,
            "display": null,
            "flex": null,
            "flex_flow": null,
            "grid_area": null,
            "grid_auto_columns": null,
            "grid_auto_flow": null,
            "grid_auto_rows": null,
            "grid_column": null,
            "grid_gap": null,
            "grid_row": null,
            "grid_template_areas": null,
            "grid_template_columns": null,
            "grid_template_rows": null,
            "height": null,
            "justify_content": null,
            "justify_items": null,
            "left": null,
            "margin": null,
            "max_height": null,
            "max_width": null,
            "min_height": null,
            "min_width": null,
            "object_fit": null,
            "object_position": null,
            "order": null,
            "overflow": null,
            "overflow_x": null,
            "overflow_y": null,
            "padding": null,
            "right": null,
            "top": null,
            "visibility": null,
            "width": null
          }
        },
        "a356eef3a1a74b41b13b6c5d46ea504b": {
          "model_module": "@jupyter-widgets/controls",
          "model_name": "DescriptionStyleModel",
          "model_module_version": "1.5.0",
          "state": {
            "_model_module": "@jupyter-widgets/controls",
            "_model_module_version": "1.5.0",
            "_model_name": "DescriptionStyleModel",
            "_view_count": null,
            "_view_module": "@jupyter-widgets/base",
            "_view_module_version": "1.2.0",
            "_view_name": "StyleView",
            "description_width": ""
          }
        },
        "8545b1eeb5944acbafc8d322512baea4": {
          "model_module": "@jupyter-widgets/controls",
          "model_name": "HBoxModel",
          "model_module_version": "1.5.0",
          "state": {
            "_dom_classes": [],
            "_model_module": "@jupyter-widgets/controls",
            "_model_module_version": "1.5.0",
            "_model_name": "HBoxModel",
            "_view_count": null,
            "_view_module": "@jupyter-widgets/controls",
            "_view_module_version": "1.5.0",
            "_view_name": "HBoxView",
            "box_style": "",
            "children": [
              "IPY_MODEL_7f7db5fbef0445dc9e31bd3627b00e9c",
              "IPY_MODEL_67bbc5c02fd44e46bbb392d0547bdebc",
              "IPY_MODEL_3b544fc6227242bc89f7ec42d643573f"
            ],
            "layout": "IPY_MODEL_2d0914512e4e4e41a433708eafef4eb3"
          }
        },
        "7f7db5fbef0445dc9e31bd3627b00e9c": {
          "model_module": "@jupyter-widgets/controls",
          "model_name": "HTMLModel",
          "model_module_version": "1.5.0",
          "state": {
            "_dom_classes": [],
            "_model_module": "@jupyter-widgets/controls",
            "_model_module_version": "1.5.0",
            "_model_name": "HTMLModel",
            "_view_count": null,
            "_view_module": "@jupyter-widgets/controls",
            "_view_module_version": "1.5.0",
            "_view_name": "HTMLView",
            "description": "",
            "description_tooltip": null,
            "layout": "IPY_MODEL_c8aa1a2db138494c853c2810dcf82d8d",
            "placeholder": "​",
            "style": "IPY_MODEL_f94b6eb7ace44d3995265533ee51a74c",
            "value": "Map: 100%"
          }
        },
        "67bbc5c02fd44e46bbb392d0547bdebc": {
          "model_module": "@jupyter-widgets/controls",
          "model_name": "FloatProgressModel",
          "model_module_version": "1.5.0",
          "state": {
            "_dom_classes": [],
            "_model_module": "@jupyter-widgets/controls",
            "_model_module_version": "1.5.0",
            "_model_name": "FloatProgressModel",
            "_view_count": null,
            "_view_module": "@jupyter-widgets/controls",
            "_view_module_version": "1.5.0",
            "_view_name": "ProgressView",
            "bar_style": "success",
            "description": "",
            "description_tooltip": null,
            "layout": "IPY_MODEL_6801838af5e44444bf8fc0fd076ec849",
            "max": 3210,
            "min": 0,
            "orientation": "horizontal",
            "style": "IPY_MODEL_c452038907044c5fb07d7a6e590ad855",
            "value": 3210
          }
        },
        "3b544fc6227242bc89f7ec42d643573f": {
          "model_module": "@jupyter-widgets/controls",
          "model_name": "HTMLModel",
          "model_module_version": "1.5.0",
          "state": {
            "_dom_classes": [],
            "_model_module": "@jupyter-widgets/controls",
            "_model_module_version": "1.5.0",
            "_model_name": "HTMLModel",
            "_view_count": null,
            "_view_module": "@jupyter-widgets/controls",
            "_view_module_version": "1.5.0",
            "_view_name": "HTMLView",
            "description": "",
            "description_tooltip": null,
            "layout": "IPY_MODEL_2614cefaf2634189aee2107cdb94ffd1",
            "placeholder": "​",
            "style": "IPY_MODEL_027d705f4e134a639b6ec97d480321db",
            "value": " 3210/3210 [00:00&lt;00:00, 5526.91 examples/s]"
          }
        },
        "2d0914512e4e4e41a433708eafef4eb3": {
          "model_module": "@jupyter-widgets/base",
          "model_name": "LayoutModel",
          "model_module_version": "1.2.0",
          "state": {
            "_model_module": "@jupyter-widgets/base",
            "_model_module_version": "1.2.0",
            "_model_name": "LayoutModel",
            "_view_count": null,
            "_view_module": "@jupyter-widgets/base",
            "_view_module_version": "1.2.0",
            "_view_name": "LayoutView",
            "align_content": null,
            "align_items": null,
            "align_self": null,
            "border": null,
            "bottom": null,
            "display": null,
            "flex": null,
            "flex_flow": null,
            "grid_area": null,
            "grid_auto_columns": null,
            "grid_auto_flow": null,
            "grid_auto_rows": null,
            "grid_column": null,
            "grid_gap": null,
            "grid_row": null,
            "grid_template_areas": null,
            "grid_template_columns": null,
            "grid_template_rows": null,
            "height": null,
            "justify_content": null,
            "justify_items": null,
            "left": null,
            "margin": null,
            "max_height": null,
            "max_width": null,
            "min_height": null,
            "min_width": null,
            "object_fit": null,
            "object_position": null,
            "order": null,
            "overflow": null,
            "overflow_x": null,
            "overflow_y": null,
            "padding": null,
            "right": null,
            "top": null,
            "visibility": null,
            "width": null
          }
        },
        "c8aa1a2db138494c853c2810dcf82d8d": {
          "model_module": "@jupyter-widgets/base",
          "model_name": "LayoutModel",
          "model_module_version": "1.2.0",
          "state": {
            "_model_module": "@jupyter-widgets/base",
            "_model_module_version": "1.2.0",
            "_model_name": "LayoutModel",
            "_view_count": null,
            "_view_module": "@jupyter-widgets/base",
            "_view_module_version": "1.2.0",
            "_view_name": "LayoutView",
            "align_content": null,
            "align_items": null,
            "align_self": null,
            "border": null,
            "bottom": null,
            "display": null,
            "flex": null,
            "flex_flow": null,
            "grid_area": null,
            "grid_auto_columns": null,
            "grid_auto_flow": null,
            "grid_auto_rows": null,
            "grid_column": null,
            "grid_gap": null,
            "grid_row": null,
            "grid_template_areas": null,
            "grid_template_columns": null,
            "grid_template_rows": null,
            "height": null,
            "justify_content": null,
            "justify_items": null,
            "left": null,
            "margin": null,
            "max_height": null,
            "max_width": null,
            "min_height": null,
            "min_width": null,
            "object_fit": null,
            "object_position": null,
            "order": null,
            "overflow": null,
            "overflow_x": null,
            "overflow_y": null,
            "padding": null,
            "right": null,
            "top": null,
            "visibility": null,
            "width": null
          }
        },
        "f94b6eb7ace44d3995265533ee51a74c": {
          "model_module": "@jupyter-widgets/controls",
          "model_name": "DescriptionStyleModel",
          "model_module_version": "1.5.0",
          "state": {
            "_model_module": "@jupyter-widgets/controls",
            "_model_module_version": "1.5.0",
            "_model_name": "DescriptionStyleModel",
            "_view_count": null,
            "_view_module": "@jupyter-widgets/base",
            "_view_module_version": "1.2.0",
            "_view_name": "StyleView",
            "description_width": ""
          }
        },
        "6801838af5e44444bf8fc0fd076ec849": {
          "model_module": "@jupyter-widgets/base",
          "model_name": "LayoutModel",
          "model_module_version": "1.2.0",
          "state": {
            "_model_module": "@jupyter-widgets/base",
            "_model_module_version": "1.2.0",
            "_model_name": "LayoutModel",
            "_view_count": null,
            "_view_module": "@jupyter-widgets/base",
            "_view_module_version": "1.2.0",
            "_view_name": "LayoutView",
            "align_content": null,
            "align_items": null,
            "align_self": null,
            "border": null,
            "bottom": null,
            "display": null,
            "flex": null,
            "flex_flow": null,
            "grid_area": null,
            "grid_auto_columns": null,
            "grid_auto_flow": null,
            "grid_auto_rows": null,
            "grid_column": null,
            "grid_gap": null,
            "grid_row": null,
            "grid_template_areas": null,
            "grid_template_columns": null,
            "grid_template_rows": null,
            "height": null,
            "justify_content": null,
            "justify_items": null,
            "left": null,
            "margin": null,
            "max_height": null,
            "max_width": null,
            "min_height": null,
            "min_width": null,
            "object_fit": null,
            "object_position": null,
            "order": null,
            "overflow": null,
            "overflow_x": null,
            "overflow_y": null,
            "padding": null,
            "right": null,
            "top": null,
            "visibility": null,
            "width": null
          }
        },
        "c452038907044c5fb07d7a6e590ad855": {
          "model_module": "@jupyter-widgets/controls",
          "model_name": "ProgressStyleModel",
          "model_module_version": "1.5.0",
          "state": {
            "_model_module": "@jupyter-widgets/controls",
            "_model_module_version": "1.5.0",
            "_model_name": "ProgressStyleModel",
            "_view_count": null,
            "_view_module": "@jupyter-widgets/base",
            "_view_module_version": "1.2.0",
            "_view_name": "StyleView",
            "bar_color": null,
            "description_width": ""
          }
        },
        "2614cefaf2634189aee2107cdb94ffd1": {
          "model_module": "@jupyter-widgets/base",
          "model_name": "LayoutModel",
          "model_module_version": "1.2.0",
          "state": {
            "_model_module": "@jupyter-widgets/base",
            "_model_module_version": "1.2.0",
            "_model_name": "LayoutModel",
            "_view_count": null,
            "_view_module": "@jupyter-widgets/base",
            "_view_module_version": "1.2.0",
            "_view_name": "LayoutView",
            "align_content": null,
            "align_items": null,
            "align_self": null,
            "border": null,
            "bottom": null,
            "display": null,
            "flex": null,
            "flex_flow": null,
            "grid_area": null,
            "grid_auto_columns": null,
            "grid_auto_flow": null,
            "grid_auto_rows": null,
            "grid_column": null,
            "grid_gap": null,
            "grid_row": null,
            "grid_template_areas": null,
            "grid_template_columns": null,
            "grid_template_rows": null,
            "height": null,
            "justify_content": null,
            "justify_items": null,
            "left": null,
            "margin": null,
            "max_height": null,
            "max_width": null,
            "min_height": null,
            "min_width": null,
            "object_fit": null,
            "object_position": null,
            "order": null,
            "overflow": null,
            "overflow_x": null,
            "overflow_y": null,
            "padding": null,
            "right": null,
            "top": null,
            "visibility": null,
            "width": null
          }
        },
        "027d705f4e134a639b6ec97d480321db": {
          "model_module": "@jupyter-widgets/controls",
          "model_name": "DescriptionStyleModel",
          "model_module_version": "1.5.0",
          "state": {
            "_model_module": "@jupyter-widgets/controls",
            "_model_module_version": "1.5.0",
            "_model_name": "DescriptionStyleModel",
            "_view_count": null,
            "_view_module": "@jupyter-widgets/base",
            "_view_module_version": "1.2.0",
            "_view_name": "StyleView",
            "description_width": ""
          }
        },
        "30f665feca1d499e83f810ee05981c4e": {
          "model_module": "@jupyter-widgets/controls",
          "model_name": "HBoxModel",
          "model_module_version": "1.5.0",
          "state": {
            "_dom_classes": [],
            "_model_module": "@jupyter-widgets/controls",
            "_model_module_version": "1.5.0",
            "_model_name": "HBoxModel",
            "_view_count": null,
            "_view_module": "@jupyter-widgets/controls",
            "_view_module_version": "1.5.0",
            "_view_name": "HBoxView",
            "box_style": "",
            "children": [
              "IPY_MODEL_c93d3a8a826a4db7bdb6b8ad61f1c146",
              "IPY_MODEL_45ab3b691d154716a5ae61c30dd74be3",
              "IPY_MODEL_8e49dde406ac49b283ffd54772dcd894"
            ],
            "layout": "IPY_MODEL_d0c5d04e61654ad8a9ff6b88aa9e85a1"
          }
        },
        "c93d3a8a826a4db7bdb6b8ad61f1c146": {
          "model_module": "@jupyter-widgets/controls",
          "model_name": "HTMLModel",
          "model_module_version": "1.5.0",
          "state": {
            "_dom_classes": [],
            "_model_module": "@jupyter-widgets/controls",
            "_model_module_version": "1.5.0",
            "_model_name": "HTMLModel",
            "_view_count": null,
            "_view_module": "@jupyter-widgets/controls",
            "_view_module_version": "1.5.0",
            "_view_name": "HTMLView",
            "description": "",
            "description_tooltip": null,
            "layout": "IPY_MODEL_27a0bbb94a424f14a7013dd81285a3a8",
            "placeholder": "​",
            "style": "IPY_MODEL_80268bd5994a4d889414562006cb7cfd",
            "value": "model.safetensors: 100%"
          }
        },
        "45ab3b691d154716a5ae61c30dd74be3": {
          "model_module": "@jupyter-widgets/controls",
          "model_name": "FloatProgressModel",
          "model_module_version": "1.5.0",
          "state": {
            "_dom_classes": [],
            "_model_module": "@jupyter-widgets/controls",
            "_model_module_version": "1.5.0",
            "_model_name": "FloatProgressModel",
            "_view_count": null,
            "_view_module": "@jupyter-widgets/controls",
            "_view_module_version": "1.5.0",
            "_view_name": "ProgressView",
            "bar_style": "success",
            "description": "",
            "description_tooltip": null,
            "layout": "IPY_MODEL_ff659a8f2d2147e5a1cada1b24af42ad",
            "max": 714290682,
            "min": 0,
            "orientation": "horizontal",
            "style": "IPY_MODEL_31eaf03b80914e26abd7b9728da51736",
            "value": 714290682
          }
        },
        "8e49dde406ac49b283ffd54772dcd894": {
          "model_module": "@jupyter-widgets/controls",
          "model_name": "HTMLModel",
          "model_module_version": "1.5.0",
          "state": {
            "_dom_classes": [],
            "_model_module": "@jupyter-widgets/controls",
            "_model_module_version": "1.5.0",
            "_model_name": "HTMLModel",
            "_view_count": null,
            "_view_module": "@jupyter-widgets/controls",
            "_view_module_version": "1.5.0",
            "_view_name": "HTMLView",
            "description": "",
            "description_tooltip": null,
            "layout": "IPY_MODEL_55e4623ce38b4370ae43c9a058881498",
            "placeholder": "​",
            "style": "IPY_MODEL_a04fe3acbd0242bcb2e3e959f4beb891",
            "value": " 714M/714M [00:06&lt;00:00, 125MB/s]"
          }
        },
        "d0c5d04e61654ad8a9ff6b88aa9e85a1": {
          "model_module": "@jupyter-widgets/base",
          "model_name": "LayoutModel",
          "model_module_version": "1.2.0",
          "state": {
            "_model_module": "@jupyter-widgets/base",
            "_model_module_version": "1.2.0",
            "_model_name": "LayoutModel",
            "_view_count": null,
            "_view_module": "@jupyter-widgets/base",
            "_view_module_version": "1.2.0",
            "_view_name": "LayoutView",
            "align_content": null,
            "align_items": null,
            "align_self": null,
            "border": null,
            "bottom": null,
            "display": null,
            "flex": null,
            "flex_flow": null,
            "grid_area": null,
            "grid_auto_columns": null,
            "grid_auto_flow": null,
            "grid_auto_rows": null,
            "grid_column": null,
            "grid_gap": null,
            "grid_row": null,
            "grid_template_areas": null,
            "grid_template_columns": null,
            "grid_template_rows": null,
            "height": null,
            "justify_content": null,
            "justify_items": null,
            "left": null,
            "margin": null,
            "max_height": null,
            "max_width": null,
            "min_height": null,
            "min_width": null,
            "object_fit": null,
            "object_position": null,
            "order": null,
            "overflow": null,
            "overflow_x": null,
            "overflow_y": null,
            "padding": null,
            "right": null,
            "top": null,
            "visibility": null,
            "width": null
          }
        },
        "27a0bbb94a424f14a7013dd81285a3a8": {
          "model_module": "@jupyter-widgets/base",
          "model_name": "LayoutModel",
          "model_module_version": "1.2.0",
          "state": {
            "_model_module": "@jupyter-widgets/base",
            "_model_module_version": "1.2.0",
            "_model_name": "LayoutModel",
            "_view_count": null,
            "_view_module": "@jupyter-widgets/base",
            "_view_module_version": "1.2.0",
            "_view_name": "LayoutView",
            "align_content": null,
            "align_items": null,
            "align_self": null,
            "border": null,
            "bottom": null,
            "display": null,
            "flex": null,
            "flex_flow": null,
            "grid_area": null,
            "grid_auto_columns": null,
            "grid_auto_flow": null,
            "grid_auto_rows": null,
            "grid_column": null,
            "grid_gap": null,
            "grid_row": null,
            "grid_template_areas": null,
            "grid_template_columns": null,
            "grid_template_rows": null,
            "height": null,
            "justify_content": null,
            "justify_items": null,
            "left": null,
            "margin": null,
            "max_height": null,
            "max_width": null,
            "min_height": null,
            "min_width": null,
            "object_fit": null,
            "object_position": null,
            "order": null,
            "overflow": null,
            "overflow_x": null,
            "overflow_y": null,
            "padding": null,
            "right": null,
            "top": null,
            "visibility": null,
            "width": null
          }
        },
        "80268bd5994a4d889414562006cb7cfd": {
          "model_module": "@jupyter-widgets/controls",
          "model_name": "DescriptionStyleModel",
          "model_module_version": "1.5.0",
          "state": {
            "_model_module": "@jupyter-widgets/controls",
            "_model_module_version": "1.5.0",
            "_model_name": "DescriptionStyleModel",
            "_view_count": null,
            "_view_module": "@jupyter-widgets/base",
            "_view_module_version": "1.2.0",
            "_view_name": "StyleView",
            "description_width": ""
          }
        },
        "ff659a8f2d2147e5a1cada1b24af42ad": {
          "model_module": "@jupyter-widgets/base",
          "model_name": "LayoutModel",
          "model_module_version": "1.2.0",
          "state": {
            "_model_module": "@jupyter-widgets/base",
            "_model_module_version": "1.2.0",
            "_model_name": "LayoutModel",
            "_view_count": null,
            "_view_module": "@jupyter-widgets/base",
            "_view_module_version": "1.2.0",
            "_view_name": "LayoutView",
            "align_content": null,
            "align_items": null,
            "align_self": null,
            "border": null,
            "bottom": null,
            "display": null,
            "flex": null,
            "flex_flow": null,
            "grid_area": null,
            "grid_auto_columns": null,
            "grid_auto_flow": null,
            "grid_auto_rows": null,
            "grid_column": null,
            "grid_gap": null,
            "grid_row": null,
            "grid_template_areas": null,
            "grid_template_columns": null,
            "grid_template_rows": null,
            "height": null,
            "justify_content": null,
            "justify_items": null,
            "left": null,
            "margin": null,
            "max_height": null,
            "max_width": null,
            "min_height": null,
            "min_width": null,
            "object_fit": null,
            "object_position": null,
            "order": null,
            "overflow": null,
            "overflow_x": null,
            "overflow_y": null,
            "padding": null,
            "right": null,
            "top": null,
            "visibility": null,
            "width": null
          }
        },
        "31eaf03b80914e26abd7b9728da51736": {
          "model_module": "@jupyter-widgets/controls",
          "model_name": "ProgressStyleModel",
          "model_module_version": "1.5.0",
          "state": {
            "_model_module": "@jupyter-widgets/controls",
            "_model_module_version": "1.5.0",
            "_model_name": "ProgressStyleModel",
            "_view_count": null,
            "_view_module": "@jupyter-widgets/base",
            "_view_module_version": "1.2.0",
            "_view_name": "StyleView",
            "bar_color": null,
            "description_width": ""
          }
        },
        "55e4623ce38b4370ae43c9a058881498": {
          "model_module": "@jupyter-widgets/base",
          "model_name": "LayoutModel",
          "model_module_version": "1.2.0",
          "state": {
            "_model_module": "@jupyter-widgets/base",
            "_model_module_version": "1.2.0",
            "_model_name": "LayoutModel",
            "_view_count": null,
            "_view_module": "@jupyter-widgets/base",
            "_view_module_version": "1.2.0",
            "_view_name": "LayoutView",
            "align_content": null,
            "align_items": null,
            "align_self": null,
            "border": null,
            "bottom": null,
            "display": null,
            "flex": null,
            "flex_flow": null,
            "grid_area": null,
            "grid_auto_columns": null,
            "grid_auto_flow": null,
            "grid_auto_rows": null,
            "grid_column": null,
            "grid_gap": null,
            "grid_row": null,
            "grid_template_areas": null,
            "grid_template_columns": null,
            "grid_template_rows": null,
            "height": null,
            "justify_content": null,
            "justify_items": null,
            "left": null,
            "margin": null,
            "max_height": null,
            "max_width": null,
            "min_height": null,
            "min_width": null,
            "object_fit": null,
            "object_position": null,
            "order": null,
            "overflow": null,
            "overflow_x": null,
            "overflow_y": null,
            "padding": null,
            "right": null,
            "top": null,
            "visibility": null,
            "width": null
          }
        },
        "a04fe3acbd0242bcb2e3e959f4beb891": {
          "model_module": "@jupyter-widgets/controls",
          "model_name": "DescriptionStyleModel",
          "model_module_version": "1.5.0",
          "state": {
            "_model_module": "@jupyter-widgets/controls",
            "_model_module_version": "1.5.0",
            "_model_name": "DescriptionStyleModel",
            "_view_count": null,
            "_view_module": "@jupyter-widgets/base",
            "_view_module_version": "1.2.0",
            "_view_name": "StyleView",
            "description_width": ""
          }
        }
      }
    }
  },
  "cells": [
    {
      "cell_type": "markdown",
      "metadata": {
        "id": "view-in-github",
        "colab_type": "text"
      },
      "source": [
        "<a href=\"https://colab.research.google.com/github/luckyme410/classify_champ/blob/main/mBert_ruBert_clf.ipynb\" target=\"_parent\"><img src=\"https://colab.research.google.com/assets/colab-badge.svg\" alt=\"Open In Colab\"/></a>"
      ]
    },
    {
      "cell_type": "markdown",
      "source": [
        "## В приведенном ноутбуке мы будем классифицировать спортивные статьи с Чемпионат.com (https://www.championat.com/). Статьи выбраны по 7 видам спорта (футбол, баскетбол, хоккей, ...) их и будем предсказывать, т.е. решается задача многоклассовой классификации. Предсказывать о каком виде спорта идет речь в статье, мы будем по ее заголовку и подзаголовку."
      ],
      "metadata": {
        "id": "nfO-vnHPR-B8"
      }
    },
    {
      "cell_type": "markdown",
      "source": [
        "## Глава 1. Загрузка и анализ данных"
      ],
      "metadata": {
        "id": "YLS4CimVI9Yi"
      }
    },
    {
      "cell_type": "code",
      "execution_count": null,
      "metadata": {
        "collapsed": true,
        "id": "b8ghLKAa2wk2"
      },
      "outputs": [],
      "source": [
        "! pip install datasets transformers"
      ]
    },
    {
      "cell_type": "code",
      "source": [
        "import numpy as np\n",
        "import pandas as pd\n",
        "import matplotlib.pyplot as plt\n",
        "\n",
        "import seaborn as sns\n",
        "\n",
        "sns.set_style('darkgrid')"
      ],
      "metadata": {
        "id": "N3VBp7uD29fU"
      },
      "execution_count": null,
      "outputs": []
    },
    {
      "cell_type": "markdown",
      "source": [
        "### Загрузим данные:"
      ],
      "metadata": {
        "id": "ID5Jsn1K3Jiz"
      }
    },
    {
      "cell_type": "code",
      "source": [
        "! unzip articles_championat.zip"
      ],
      "metadata": {
        "colab": {
          "base_uri": "https://localhost:8080/"
        },
        "id": "0VuL3F-13UtC",
        "outputId": "10f6c18d-3ee3-4685-bf3b-918919d67765"
      },
      "execution_count": null,
      "outputs": [
        {
          "output_type": "stream",
          "name": "stdout",
          "text": [
            "Archive:  articles_championat.zip\n",
            "  inflating: content/articles_championat.csv  \n"
          ]
        }
      ]
    },
    {
      "cell_type": "code",
      "source": [
        "data = pd.read_csv(\"/content/content/articles_championat.csv\")\n",
        "print('Кол-во статей:', data.shape[0])\n",
        "print()\n",
        "data.head()"
      ],
      "metadata": {
        "colab": {
          "base_uri": "https://localhost:8080/",
          "height": 327
        },
        "id": "W2TO8Cnz3Uwb",
        "outputId": "acfc39c8-136e-4201-8785-cbef508f0026"
      },
      "execution_count": null,
      "outputs": [
        {
          "output_type": "stream",
          "name": "stdout",
          "text": [
            "Кол-во статей: 16047\n",
            "\n"
          ]
        },
        {
          "output_type": "execute_result",
          "data": {
            "text/plain": [
              "                                                text  \\\n",
              "0  В то время пока «Ред Булл» близится к тому, чт...   \n",
              "1  Авторитетный обозреватель Формулы-1 Джо Сейвуд...   \n",
              "2  В марте ФИА открыла приём заявок на участие в ...   \n",
              "3  Свершилось. Ника де Вриса всё-таки уволили из ...   \n",
              "4  Одним из главных трансферных активов этого лет...   \n",
              "\n",
              "                                               title  \\\n",
              "0  10 худших команд в истории Формулы-1. От дерев...   \n",
              "1  Норрис в «Феррари», Леклер в «Мерседесе»?! Раз...   \n",
              "2  Скучаете по шинным войнам в Формуле-1? Вот 2 п...   \n",
              "3  8 громких случаев, когда пилоты Формулы-1 поки...   \n",
              "4  Звезда IndyCar рвётся в Ф-1. Но у Палоу не пол...   \n",
              "\n",
              "                                            subtitle                     date  \\\n",
              "0    Одна из команд была связана с Советским Союзом.  16 июля 2023, 11:30 МСК   \n",
              "1  Через год Формулу-1 могут подкараулить мощнейш...  15 июля 2023, 12:30 МСК   \n",
              "2  Хэмилтон за возвращение дуэли шинников, но это...  14 июля 2023, 12:30 МСК   \n",
              "3  Однажды «Феррари» выгнала гонщика уже после пе...  13 июля 2023, 16:30 МСК   \n",
              "4  Алекс, безусловно, талантлив, но выстрелить ср...  12 июля 2023, 17:00 МСК   \n",
              "\n",
              "  sport  \n",
              "0  auto  \n",
              "1  auto  \n",
              "2  auto  \n",
              "3  auto  \n",
              "4  auto  "
            ],
            "text/html": [
              "\n",
              "  <div id=\"df-64b66b79-20b4-49c1-bd83-547d274d6aa9\" class=\"colab-df-container\">\n",
              "    <div>\n",
              "<style scoped>\n",
              "    .dataframe tbody tr th:only-of-type {\n",
              "        vertical-align: middle;\n",
              "    }\n",
              "\n",
              "    .dataframe tbody tr th {\n",
              "        vertical-align: top;\n",
              "    }\n",
              "\n",
              "    .dataframe thead th {\n",
              "        text-align: right;\n",
              "    }\n",
              "</style>\n",
              "<table border=\"1\" class=\"dataframe\">\n",
              "  <thead>\n",
              "    <tr style=\"text-align: right;\">\n",
              "      <th></th>\n",
              "      <th>text</th>\n",
              "      <th>title</th>\n",
              "      <th>subtitle</th>\n",
              "      <th>date</th>\n",
              "      <th>sport</th>\n",
              "    </tr>\n",
              "  </thead>\n",
              "  <tbody>\n",
              "    <tr>\n",
              "      <th>0</th>\n",
              "      <td>В то время пока «Ред Булл» близится к тому, чт...</td>\n",
              "      <td>10 худших команд в истории Формулы-1. От дерев...</td>\n",
              "      <td>Одна из команд была связана с Советским Союзом.</td>\n",
              "      <td>16 июля 2023, 11:30 МСК</td>\n",
              "      <td>auto</td>\n",
              "    </tr>\n",
              "    <tr>\n",
              "      <th>1</th>\n",
              "      <td>Авторитетный обозреватель Формулы-1 Джо Сейвуд...</td>\n",
              "      <td>Норрис в «Феррари», Леклер в «Мерседесе»?! Раз...</td>\n",
              "      <td>Через год Формулу-1 могут подкараулить мощнейш...</td>\n",
              "      <td>15 июля 2023, 12:30 МСК</td>\n",
              "      <td>auto</td>\n",
              "    </tr>\n",
              "    <tr>\n",
              "      <th>2</th>\n",
              "      <td>В марте ФИА открыла приём заявок на участие в ...</td>\n",
              "      <td>Скучаете по шинным войнам в Формуле-1? Вот 2 п...</td>\n",
              "      <td>Хэмилтон за возвращение дуэли шинников, но это...</td>\n",
              "      <td>14 июля 2023, 12:30 МСК</td>\n",
              "      <td>auto</td>\n",
              "    </tr>\n",
              "    <tr>\n",
              "      <th>3</th>\n",
              "      <td>Свершилось. Ника де Вриса всё-таки уволили из ...</td>\n",
              "      <td>8 громких случаев, когда пилоты Формулы-1 поки...</td>\n",
              "      <td>Однажды «Феррари» выгнала гонщика уже после пе...</td>\n",
              "      <td>13 июля 2023, 16:30 МСК</td>\n",
              "      <td>auto</td>\n",
              "    </tr>\n",
              "    <tr>\n",
              "      <th>4</th>\n",
              "      <td>Одним из главных трансферных активов этого лет...</td>\n",
              "      <td>Звезда IndyCar рвётся в Ф-1. Но у Палоу не пол...</td>\n",
              "      <td>Алекс, безусловно, талантлив, но выстрелить ср...</td>\n",
              "      <td>12 июля 2023, 17:00 МСК</td>\n",
              "      <td>auto</td>\n",
              "    </tr>\n",
              "  </tbody>\n",
              "</table>\n",
              "</div>\n",
              "    <div class=\"colab-df-buttons\">\n",
              "\n",
              "  <div class=\"colab-df-container\">\n",
              "    <button class=\"colab-df-convert\" onclick=\"convertToInteractive('df-64b66b79-20b4-49c1-bd83-547d274d6aa9')\"\n",
              "            title=\"Convert this dataframe to an interactive table.\"\n",
              "            style=\"display:none;\">\n",
              "\n",
              "  <svg xmlns=\"http://www.w3.org/2000/svg\" height=\"24px\" viewBox=\"0 -960 960 960\">\n",
              "    <path d=\"M120-120v-720h720v720H120Zm60-500h600v-160H180v160Zm220 220h160v-160H400v160Zm0 220h160v-160H400v160ZM180-400h160v-160H180v160Zm440 0h160v-160H620v160ZM180-180h160v-160H180v160Zm440 0h160v-160H620v160Z\"/>\n",
              "  </svg>\n",
              "    </button>\n",
              "\n",
              "  <style>\n",
              "    .colab-df-container {\n",
              "      display:flex;\n",
              "      gap: 12px;\n",
              "    }\n",
              "\n",
              "    .colab-df-convert {\n",
              "      background-color: #E8F0FE;\n",
              "      border: none;\n",
              "      border-radius: 50%;\n",
              "      cursor: pointer;\n",
              "      display: none;\n",
              "      fill: #1967D2;\n",
              "      height: 32px;\n",
              "      padding: 0 0 0 0;\n",
              "      width: 32px;\n",
              "    }\n",
              "\n",
              "    .colab-df-convert:hover {\n",
              "      background-color: #E2EBFA;\n",
              "      box-shadow: 0px 1px 2px rgba(60, 64, 67, 0.3), 0px 1px 3px 1px rgba(60, 64, 67, 0.15);\n",
              "      fill: #174EA6;\n",
              "    }\n",
              "\n",
              "    .colab-df-buttons div {\n",
              "      margin-bottom: 4px;\n",
              "    }\n",
              "\n",
              "    [theme=dark] .colab-df-convert {\n",
              "      background-color: #3B4455;\n",
              "      fill: #D2E3FC;\n",
              "    }\n",
              "\n",
              "    [theme=dark] .colab-df-convert:hover {\n",
              "      background-color: #434B5C;\n",
              "      box-shadow: 0px 1px 3px 1px rgba(0, 0, 0, 0.15);\n",
              "      filter: drop-shadow(0px 1px 2px rgba(0, 0, 0, 0.3));\n",
              "      fill: #FFFFFF;\n",
              "    }\n",
              "  </style>\n",
              "\n",
              "    <script>\n",
              "      const buttonEl =\n",
              "        document.querySelector('#df-64b66b79-20b4-49c1-bd83-547d274d6aa9 button.colab-df-convert');\n",
              "      buttonEl.style.display =\n",
              "        google.colab.kernel.accessAllowed ? 'block' : 'none';\n",
              "\n",
              "      async function convertToInteractive(key) {\n",
              "        const element = document.querySelector('#df-64b66b79-20b4-49c1-bd83-547d274d6aa9');\n",
              "        const dataTable =\n",
              "          await google.colab.kernel.invokeFunction('convertToInteractive',\n",
              "                                                    [key], {});\n",
              "        if (!dataTable) return;\n",
              "\n",
              "        const docLinkHtml = 'Like what you see? Visit the ' +\n",
              "          '<a target=\"_blank\" href=https://colab.research.google.com/notebooks/data_table.ipynb>data table notebook</a>'\n",
              "          + ' to learn more about interactive tables.';\n",
              "        element.innerHTML = '';\n",
              "        dataTable['output_type'] = 'display_data';\n",
              "        await google.colab.output.renderOutput(dataTable, element);\n",
              "        const docLink = document.createElement('div');\n",
              "        docLink.innerHTML = docLinkHtml;\n",
              "        element.appendChild(docLink);\n",
              "      }\n",
              "    </script>\n",
              "  </div>\n",
              "\n",
              "\n",
              "<div id=\"df-58b3ccad-f068-4111-9768-21e4d33580b9\">\n",
              "  <button class=\"colab-df-quickchart\" onclick=\"quickchart('df-58b3ccad-f068-4111-9768-21e4d33580b9')\"\n",
              "            title=\"Suggest charts\"\n",
              "            style=\"display:none;\">\n",
              "\n",
              "<svg xmlns=\"http://www.w3.org/2000/svg\" height=\"24px\"viewBox=\"0 0 24 24\"\n",
              "     width=\"24px\">\n",
              "    <g>\n",
              "        <path d=\"M19 3H5c-1.1 0-2 .9-2 2v14c0 1.1.9 2 2 2h14c1.1 0 2-.9 2-2V5c0-1.1-.9-2-2-2zM9 17H7v-7h2v7zm4 0h-2V7h2v10zm4 0h-2v-4h2v4z\"/>\n",
              "    </g>\n",
              "</svg>\n",
              "  </button>\n",
              "\n",
              "<style>\n",
              "  .colab-df-quickchart {\n",
              "      --bg-color: #E8F0FE;\n",
              "      --fill-color: #1967D2;\n",
              "      --hover-bg-color: #E2EBFA;\n",
              "      --hover-fill-color: #174EA6;\n",
              "      --disabled-fill-color: #AAA;\n",
              "      --disabled-bg-color: #DDD;\n",
              "  }\n",
              "\n",
              "  [theme=dark] .colab-df-quickchart {\n",
              "      --bg-color: #3B4455;\n",
              "      --fill-color: #D2E3FC;\n",
              "      --hover-bg-color: #434B5C;\n",
              "      --hover-fill-color: #FFFFFF;\n",
              "      --disabled-bg-color: #3B4455;\n",
              "      --disabled-fill-color: #666;\n",
              "  }\n",
              "\n",
              "  .colab-df-quickchart {\n",
              "    background-color: var(--bg-color);\n",
              "    border: none;\n",
              "    border-radius: 50%;\n",
              "    cursor: pointer;\n",
              "    display: none;\n",
              "    fill: var(--fill-color);\n",
              "    height: 32px;\n",
              "    padding: 0;\n",
              "    width: 32px;\n",
              "  }\n",
              "\n",
              "  .colab-df-quickchart:hover {\n",
              "    background-color: var(--hover-bg-color);\n",
              "    box-shadow: 0 1px 2px rgba(60, 64, 67, 0.3), 0 1px 3px 1px rgba(60, 64, 67, 0.15);\n",
              "    fill: var(--button-hover-fill-color);\n",
              "  }\n",
              "\n",
              "  .colab-df-quickchart-complete:disabled,\n",
              "  .colab-df-quickchart-complete:disabled:hover {\n",
              "    background-color: var(--disabled-bg-color);\n",
              "    fill: var(--disabled-fill-color);\n",
              "    box-shadow: none;\n",
              "  }\n",
              "\n",
              "  .colab-df-spinner {\n",
              "    border: 2px solid var(--fill-color);\n",
              "    border-color: transparent;\n",
              "    border-bottom-color: var(--fill-color);\n",
              "    animation:\n",
              "      spin 1s steps(1) infinite;\n",
              "  }\n",
              "\n",
              "  @keyframes spin {\n",
              "    0% {\n",
              "      border-color: transparent;\n",
              "      border-bottom-color: var(--fill-color);\n",
              "      border-left-color: var(--fill-color);\n",
              "    }\n",
              "    20% {\n",
              "      border-color: transparent;\n",
              "      border-left-color: var(--fill-color);\n",
              "      border-top-color: var(--fill-color);\n",
              "    }\n",
              "    30% {\n",
              "      border-color: transparent;\n",
              "      border-left-color: var(--fill-color);\n",
              "      border-top-color: var(--fill-color);\n",
              "      border-right-color: var(--fill-color);\n",
              "    }\n",
              "    40% {\n",
              "      border-color: transparent;\n",
              "      border-right-color: var(--fill-color);\n",
              "      border-top-color: var(--fill-color);\n",
              "    }\n",
              "    60% {\n",
              "      border-color: transparent;\n",
              "      border-right-color: var(--fill-color);\n",
              "    }\n",
              "    80% {\n",
              "      border-color: transparent;\n",
              "      border-right-color: var(--fill-color);\n",
              "      border-bottom-color: var(--fill-color);\n",
              "    }\n",
              "    90% {\n",
              "      border-color: transparent;\n",
              "      border-bottom-color: var(--fill-color);\n",
              "    }\n",
              "  }\n",
              "</style>\n",
              "\n",
              "  <script>\n",
              "    async function quickchart(key) {\n",
              "      const quickchartButtonEl =\n",
              "        document.querySelector('#' + key + ' button');\n",
              "      quickchartButtonEl.disabled = true;  // To prevent multiple clicks.\n",
              "      quickchartButtonEl.classList.add('colab-df-spinner');\n",
              "      try {\n",
              "        const charts = await google.colab.kernel.invokeFunction(\n",
              "            'suggestCharts', [key], {});\n",
              "      } catch (error) {\n",
              "        console.error('Error during call to suggestCharts:', error);\n",
              "      }\n",
              "      quickchartButtonEl.classList.remove('colab-df-spinner');\n",
              "      quickchartButtonEl.classList.add('colab-df-quickchart-complete');\n",
              "    }\n",
              "    (() => {\n",
              "      let quickchartButtonEl =\n",
              "        document.querySelector('#df-58b3ccad-f068-4111-9768-21e4d33580b9 button');\n",
              "      quickchartButtonEl.style.display =\n",
              "        google.colab.kernel.accessAllowed ? 'block' : 'none';\n",
              "    })();\n",
              "  </script>\n",
              "</div>\n",
              "    </div>\n",
              "  </div>\n"
            ],
            "application/vnd.google.colaboratory.intrinsic+json": {
              "type": "dataframe",
              "variable_name": "data",
              "summary": "{\n  \"name\": \"data\",\n  \"rows\": 16047,\n  \"fields\": [\n    {\n      \"column\": \"text\",\n      \"properties\": {\n        \"dtype\": \"string\",\n        \"num_unique_values\": 15790,\n        \"samples\": [\n          \"10-\\u043a\\u0440\\u0430\\u0442\\u043d\\u044b\\u0439 \\u0447\\u0435\\u043c\\u043f\\u0438\\u043e\\u043d Australian Open \\u041d\\u043e\\u0432\\u0430\\u043a \\u0414\\u0436\\u043e\\u043a\\u043e\\u0432\\u0438\\u0447 \\u0442\\u043e\\u043b\\u044c\\u043a\\u043e \\u0447\\u0442\\u043e \\u0432\\u044b\\u0438\\u0433\\u0440\\u0430\\u043b \\u0441\\u0432\\u043e\\u0439 22-\\u0439 \\u043c\\u044d\\u0439\\u0434\\u0436\\u043e\\u0440 \\u0432 \\u043a\\u0430\\u0440\\u044c\\u0435\\u0440\\u0435 \\u0438 \\u0434\\u043e\\u0433\\u043d\\u0430\\u043b \\u0440\\u0435\\u043a\\u043e\\u0440\\u0434\\u0441\\u043c\\u0435\\u043d\\u0430 \\u0420\\u0430\\u0444\\u0430\\u044d\\u043b\\u044f \\u041d\\u0430\\u0434\\u0430\\u043b\\u044f. \\u0411\\u0438\\u0442\\u0432\\u0430 \\u0437\\u0430 \\u00ab\\u0428\\u043b\\u0435\\u043c\\u044b\\u00bb \\u043f\\u0440\\u043e\\u0434\\u043e\\u043b\\u0436\\u0430\\u0435\\u0442\\u0441\\u044f. \\u041a\\u0442\\u043e \\u0436\\u0435 \\u0432\\u044b\\u0439\\u0434\\u0435\\u0442 \\u0438\\u0437 \\u043d\\u0435\\u0451 \\u043f\\u043e\\u0431\\u0435\\u0434\\u0438\\u0442\\u0435\\u043b\\u0435\\u043c? \\u041a\\u0430\\u0436\\u0435\\u0442\\u0441\\u044f, \\u0447\\u0442\\u043e \\u0443 \\u0441\\u0435\\u0440\\u0431\\u0430 \\u0435\\u0441\\u0442\\u044c \\u043d\\u0435\\u0431\\u043e\\u043b\\u044c\\u0448\\u043e\\u0435 \\u043f\\u0440\\u0435\\u0438\\u043c\\u0443\\u0449\\u0435\\u0441\\u0442\\u0432\\u043e. \\u0418 \\u043d\\u0435 \\u0442\\u043e\\u043b\\u044c\\u043a\\u043e \\u0432 \\u0442\\u043e\\u043c, \\u0447\\u0442\\u043e \\u043e\\u043d \\u043d\\u0430 \\u0433\\u043e\\u0434 \\u043c\\u043e\\u043b\\u043e\\u0436\\u0435 \\u0438\\u0441\\u043f\\u0430\\u043d\\u0446\\u0430, \\u043d\\u043e \\u0438 \\u0435\\u0449\\u0451 \\u043a\\u043e\\u0435 \\u0432 \\u0447\\u0451\\u043c \\u0434\\u0440\\u0443\\u0433\\u043e\\u043c.\\n\\u00ab\\u041d\\u0435 \\u043d\\u043e\\u0432\\u0430\\u044f \\u043f\\u0440\\u043e\\u0433\\u0440\\u0430\\u043c\\u043c\\u0430 \\u0442\\u0440\\u0435\\u043d\\u0438\\u0440\\u043e\\u0432\\u043e\\u043a \\u0441\\u0434\\u0435\\u043b\\u0430\\u043b\\u0430 \\u043c\\u0435\\u043d\\u044f \\u0438\\u0437 \\u043e\\u0447\\u0435\\u043d\\u044c \\u0445\\u043e\\u0440\\u043e\\u0448\\u0435\\u0433\\u043e \\u0442\\u0435\\u043d\\u043d\\u0438\\u0441\\u0438\\u0441\\u0442\\u0430 \\u043b\\u0443\\u0447\\u0448\\u0438\\u043c \\u0432 \\u043c\\u0438\\u0440\\u0435 \\u0432\\u0441\\u0435\\u0433\\u043e \\u0437\\u0430 \\u043f\\u043e\\u043b\\u0442\\u043e\\u0440\\u0430 \\u0433\\u043e\\u0434\\u0430. \\u041d\\u0435 \\u043d\\u043e\\u0432\\u0430\\u044f \\u0440\\u0430\\u043a\\u0435\\u0442\\u043a\\u0430, \\u043d\\u0435 \\u043d\\u043e\\u0432\\u044b\\u0439 \\u043c\\u0435\\u0442\\u043e\\u0434 \\u043f\\u043e\\u0434\\u0433\\u043e\\u0442\\u043e\\u0432\\u043a\\u0438 \\u0438 \\u0434\\u0430\\u0436\\u0435 \\u043d\\u0435 \\u043d\\u043e\\u0432\\u044b\\u0435 \\u043f\\u043e\\u0440\\u0446\\u0438\\u0438 \\u0435\\u0434\\u044b \\u043f\\u043e\\u043c\\u043e\\u0433\\u043b\\u0438 \\u043c\\u043d\\u0435 \\u043f\\u043e\\u0445\\u0443\\u0434\\u0435\\u0442\\u044c, \\u0434\\u043e\\u0431\\u0438\\u0442\\u044c\\u0441\\u044f \\u043f\\u0441\\u0438\\u0445\\u043e\\u043b\\u043e\\u0433\\u0438\\u0447\\u0435\\u0441\\u043a\\u043e\\u0439 \\u043a\\u043e\\u043d\\u0446\\u0435\\u043d\\u0442\\u0440\\u0430\\u0446\\u0438\\u0438 \\u0438 \\u043e\\u0449\\u0443\\u0442\\u0438\\u0442\\u044c \\u0441\\u0435\\u0431\\u044f \\u043d\\u0435\\u043f\\u0440\\u0438\\u0432\\u044b\\u0447\\u043d\\u043e \\u0437\\u0434\\u043e\\u0440\\u043e\\u0432\\u044b\\u043c\\u00bb, \\u2014 \\u0442\\u0430\\u043a\\u043e\\u0435 \\u0433\\u0440\\u043e\\u043c\\u043a\\u043e\\u0435 \\u0437\\u0430\\u044f\\u0432\\u043b\\u0435\\u043d\\u0438\\u0435 \\u0441\\u0434\\u0435\\u043b\\u0430\\u043b \\u041d\\u043e\\u0432\\u0430\\u043a \\u0414\\u0436\\u043e\\u043a\\u043e\\u0432\\u0438\\u0447 \\u0432 2014 \\u0433\\u043e\\u0434\\u0443, \\u043a\\u043e\\u0433\\u0434\\u0430 \\u0443\\u0436\\u0435 \\u0431\\u044b\\u043b\\u043e \\u0442\\u0440\\u0443\\u0434\\u043d\\u043e \\u043e\\u0442\\u0440\\u0438\\u0446\\u0430\\u0442\\u044c, \\u0447\\u0442\\u043e \\u0441\\u0435\\u0440\\u0431 \\u044f\\u0432\\u043b\\u044f\\u0435\\u0442\\u0441\\u044f \\u043e\\u0434\\u043d\\u0438\\u043c \\u0438\\u0437 \\u0432\\u0435\\u043b\\u0438\\u0447\\u0430\\u0439\\u0448\\u0438\\u0445 \\u0442\\u0435\\u043d\\u043d\\u0438\\u0441\\u0438\\u0441\\u0442\\u043e\\u0432 \\u0432 \\u0438\\u0441\\u0442\\u043e\\u0440\\u0438\\u0438. \\u0412 \\u043a\\u043d\\u0438\\u0433\\u0435 \\u00ab\\u0412\\u043a\\u0443\\u0441 \\u043f\\u043e\\u0431\\u0435\\u0434\\u044b\\u00bb \\u0441\\u043f\\u043e\\u0440\\u0442\\u0441\\u043c\\u0435\\u043d \\u0440\\u0430\\u0441\\u0441\\u043a\\u0430\\u0437\\u0430\\u043b, \\u0447\\u0442\\u043e \\u0432\\u044b\\u0438\\u0433\\u0440\\u044b\\u0432\\u0430\\u0442\\u044c \\u043c\\u0430\\u0442\\u0447 \\u0437\\u0430 \\u043c\\u0430\\u0442\\u0447\\u0435\\u043c \\u0435\\u043c\\u0443 \\u043f\\u043e\\u043c\\u043e\\u0433\\u043b\\u0430 \\u043e\\u0441\\u043e\\u0431\\u0430\\u044f \\u0434\\u0438\\u0435\\u0442\\u0430, \\u043d\\u0430\\u0432\\u0441\\u0435\\u0433\\u0434\\u0430 \\u0438\\u0437\\u043c\\u0435\\u043d\\u0438\\u0432\\u0448\\u0430\\u044f \\u0435\\u0433\\u043e \\u0436\\u0438\\u0437\\u043d\\u044c.\\n\\u041f\\u043e \\u043f\\u0440\\u0438\\u0437\\u043d\\u0430\\u043d\\u0438\\u044e \\u0414\\u0436\\u043e\\u043a\\u043e\\u0432\\u0438\\u0447\\u0430, \\u043e\\u043d \\u043d\\u0430\\u0447\\u0430\\u043b \\u0435\\u0441\\u0442\\u044c \\u043f\\u0440\\u043e\\u0434\\u0443\\u043a\\u0442\\u044b, \\u043f\\u043e\\u0434\\u0445\\u043e\\u0434\\u044f\\u0449\\u0438\\u0435 \\u0434\\u043b\\u044f \\u0435\\u0433\\u043e \\u043e\\u0440\\u0433\\u0430\\u043d\\u0438\\u0437\\u043c\\u0430, \\u0438 \\u0440\\u0435\\u0437\\u0443\\u043b\\u044c\\u0442\\u0430\\u0442 \\u043d\\u0435 \\u0437\\u0430\\u0441\\u0442\\u0430\\u0432\\u0438\\u043b \\u0441\\u0435\\u0431\\u044f \\u0436\\u0434\\u0430\\u0442\\u044c. \\u0417\\u0430 \\u043f\\u0435\\u0440\\u0432\\u044b\\u0435 \\u0442\\u0440\\u0438 \\u043c\\u0435\\u0441\\u044f\\u0446\\u0430 \\u041d\\u043e\\u0432\\u0430\\u043a\\u0443 \\u0443\\u0434\\u0430\\u043b\\u043e\\u0441\\u044c \\u043f\\u043e\\u0445\\u0443\\u0434\\u0435\\u0442\\u044c \\u043d\\u0430 \\u0447\\u0435\\u0442\\u044b\\u0440\\u0435 \\u043a\\u0438\\u043b\\u043e\\u0433\\u0440\\u0430\\u043c\\u043c\\u0430, \\u0447\\u0442\\u043e \\u0441\\u0435\\u0440\\u044c\\u0451\\u0437\\u043d\\u043e \\u043e\\u0442\\u0440\\u0430\\u0437\\u0438\\u043b\\u043e\\u0441\\u044c \\u043d\\u0430 \\u0435\\u0433\\u043e \\u0441\\u0430\\u043c\\u043e\\u043e\\u0449\\u0443\\u0449\\u0435\\u043d\\u0438\\u0438.\\n\\u00ab\\u042f \\u0447\\u0443\\u0432\\u0441\\u0442\\u0432\\u043e\\u0432\\u0430\\u043b \\u0441\\u0435\\u0431\\u044f \\u0441\\u0432\\u0435\\u0436\\u0435\\u0435, \\u0436\\u0438\\u0432\\u0435\\u0435, \\u043f\\u0440\\u043e\\u0432\\u043e\\u0440\\u043d\\u0435\\u0435 \\u0438 \\u044d\\u043d\\u0435\\u0440\\u0433\\u0438\\u0447\\u043d\\u0435\\u0435, \\u0447\\u0435\\u043c \\u043a\\u043e\\u0433\\u0434\\u0430-\\u043b\\u0438\\u0431\\u043e. \\u042f \\u0441\\u0442\\u0430\\u043b \\u0431\\u043e\\u043b\\u0435\\u0435 \\u0431\\u044b\\u0441\\u0442\\u0440\\u044b\\u043c, \\u0433\\u0438\\u0431\\u043a\\u0438\\u043c, \\u043c\\u043e\\u0433 \\u0431\\u0440\\u0430\\u0442\\u044c \\u043c\\u044f\\u0447\\u0438, \\u043a\\u043e\\u0442\\u043e\\u0440\\u044b\\u0435 \\u043d\\u0435 \\u043c\\u043e\\u0433\\u043b\\u0438 \\u043e\\u0442\\u0431\\u0438\\u0442\\u044c \\u0434\\u0440\\u0443\\u0433\\u0438\\u0435 \\u0438\\u0433\\u0440\\u043e\\u043a\\u0438, \\u0438 \\u043f\\u0440\\u0438 \\u044d\\u0442\\u043e\\u043c \\u043d\\u0435 \\u0442\\u0435\\u0440\\u044f\\u043b \\u0441\\u0438\\u043b \\u0438 \\u0441\\u043e\\u0441\\u0440\\u0435\\u0434\\u043e\\u0442\\u043e\\u0447\\u0435\\u043d\\u043d\\u043e\\u0441\\u0442\\u0438 \\u2014 \\u043d\\u0438\\u043a\\u0430\\u043a\\u043e\\u0433\\u043e \\u0442\\u0443\\u043c\\u0430\\u043d\\u0430 \\u0432 \\u0433\\u043e\\u043b\\u043e\\u0432\\u0435. \\u042f \\u043d\\u0435 \\u0443\\u0441\\u0442\\u0430\\u0432\\u0430\\u043b \\u0438 \\u043d\\u0435 \\u0441\\u0431\\u0438\\u0432\\u0430\\u043b \\u0434\\u044b\\u0445\\u0430\\u043d\\u0438\\u044f. \\u0410\\u043b\\u043b\\u0435\\u0440\\u0433\\u0438\\u0447\\u0435\\u0441\\u043a\\u0438\\u0435 \\u0440\\u0435\\u0430\\u043a\\u0446\\u0438\\u0438 \\u0437\\u043d\\u0430\\u0447\\u0438\\u0442\\u0435\\u043b\\u044c\\u043d\\u043e \\u043e\\u0441\\u043b\\u0430\\u0431\\u043b\\u0438, \\u0430\\u0441\\u0442\\u043c\\u0430 \\u043e\\u0442\\u0441\\u0442\\u0443\\u043f\\u0438\\u043b\\u0430, \\u0441\\u0442\\u0440\\u0430\\u0445\\u0438 \\u0438 \\u0441\\u043e\\u043c\\u043d\\u0435\\u043d\\u0438\\u044f \\u0441\\u043c\\u0435\\u043d\\u0438\\u043b\\u0438\\u0441\\u044c \\u0443\\u0432\\u0435\\u0440\\u0435\\u043d\\u043d\\u043e\\u0441\\u0442\\u044c\\u044e \\u0432 \\u0441\\u0435\\u0431\\u0435. \\u0423\\u0436\\u0435 \\u043f\\u043e\\u0447\\u0442\\u0438 \\u0442\\u0440\\u0438 \\u0433\\u043e\\u0434\\u0430 \\u044f \\u043d\\u0435 \\u0437\\u043d\\u0430\\u044e \\u0441\\u0435\\u0440\\u044c\\u0451\\u0437\\u043d\\u044b\\u0445 \\u043f\\u0440\\u043e\\u0441\\u0442\\u0443\\u0434 \\u0438\\u043b\\u0438 \\u0433\\u0440\\u0438\\u043f\\u043f\\u0430\\u00bb, \\u2014 \\u043f\\u0440\\u0438\\u0437\\u043d\\u0430\\u0432\\u0430\\u043b\\u0441\\u044f \\u0442\\u0435\\u043d\\u043d\\u0438\\u0441\\u0438\\u0441\\u0442.\\n\\u0422\\u0430\\u043a \\u043a\\u0430\\u043a\\u043e\\u0439 \\u0436\\u0435 \\u0432\\u0430\\u0436\\u043d\\u044b\\u0439 \\u0441\\u0435\\u043a\\u0440\\u0435\\u0442 \\u043f\\u0438\\u0442\\u0430\\u043d\\u0438\\u044f \\u043f\\u043e\\u0437\\u043d\\u0430\\u043b \\u0414\\u0436\\u043e\\u043a\\u043e\\u0432\\u0438\\u0447? \\u0418 \\u043f\\u043e\\u0447\\u0435\\u043c\\u0443 \\u0435\\u043c\\u0443 \\u043f\\u0440\\u0438\\u0448\\u043b\\u043e\\u0441\\u044c \\u043f\\u0440\\u0438\\u043a\\u043b\\u0430\\u0434\\u044b\\u0432\\u0430\\u0442\\u044c \\u0445\\u043b\\u0435\\u0431 \\u043a \\u0436\\u0438\\u0432\\u043e\\u0442\\u0443?\\n\\u041d\\u043e\\u0432\\u0430\\u043a \\u0414\\u0436\\u043e\\u043a\\u043e\\u0432\\u0438\\u0447\\n\\u0418\\u0441\\u0442\\u043e\\u0440\\u0438\\u044f \\u043f\\u043e\\u0440\\u0430\\u0437\\u0438\\u0442\\u0435\\u043b\\u044c\\u043d\\u043e\\u0433\\u043e \\u043f\\u0440\\u0435\\u043e\\u0431\\u0440\\u0430\\u0436\\u0435\\u043d\\u0438\\u044f \\u0414\\u0436\\u043e\\u043a\\u043e\\u0432\\u0438\\u0447\\u0430 \\u043d\\u0430\\u0447\\u0430\\u043b\\u0430\\u0441\\u044c \\u0432 2010 \\u0433\\u043e\\u0434\\u0443, \\u043a\\u043e\\u0433\\u0434\\u0430 \\u043d\\u0430 \\u0442\\u0443\\u0440\\u043d\\u0438\\u0440\\u0435 \\u0432 \\u0425\\u043e\\u0440\\u0432\\u0430\\u0442\\u0438\\u0438 \\u041d\\u043e\\u0432\\u0430\\u043a \\u043f\\u043e\\u0432\\u0441\\u0442\\u0440\\u0435\\u0447\\u0430\\u043b \\u0434\\u043e\\u043a\\u0442\\u043e\\u0440\\u0430 \\u0418\\u0433\\u043e\\u0440\\u044f \\u0427\\u0435\\u0442\\u043e\\u0435\\u0432\\u0438\\u0447\\u0430. \\u0412\\u0440\\u0430\\u0447 \\u0443\\u0431\\u0435\\u0434\\u0438\\u043b \\u0442\\u0435\\u043d\\u043d\\u0438\\u0441\\u0438\\u0441\\u0442\\u0430, \\u0447\\u0442\\u043e \\u0437\\u043d\\u0430\\u0435\\u0442 \\u043f\\u0440\\u0438\\u0447\\u0438\\u043d\\u0443 \\u0435\\u0433\\u043e \\u043d\\u0435\\u0443\\u0434\\u0430\\u0447, \\u0438 \\u043f\\u043e\\u0441\\u043e\\u0432\\u0435\\u0442\\u043e\\u0432\\u0430\\u043b \\u0435\\u043c\\u0443 \\u0438\\u0437\\u043c\\u0435\\u043d\\u0438\\u0442\\u044c \\u0440\\u0430\\u0446\\u0438\\u043e\\u043d. \\u041e\\u0434\\u043d\\u0430\\u043a\\u043e \\u043f\\u0435\\u0440\\u0435\\u0434 \\u044d\\u0442\\u0438\\u043c \\u043f\\u043e\\u043f\\u0440\\u043e\\u0441\\u0438\\u043b \\u0441\\u043f\\u043e\\u0440\\u0442\\u0441\\u043c\\u0435\\u043d\\u0430 \\u0441\\u0434\\u0435\\u043b\\u0430\\u0442\\u044c \\u043d\\u0435\\u0447\\u0442\\u043e \\u0441\\u0442\\u0440\\u0430\\u043d\\u043d\\u043e\\u0435.\\n\\u00ab\\u041c\\u043d\\u0435 \\u043d\\u0430\\u0434\\u043e \\u0431\\u044b\\u043b\\u043e \\u043f\\u043e\\u043b\\u043e\\u0436\\u0438\\u0442\\u044c \\u043b\\u0435\\u0432\\u0443\\u044e \\u0440\\u0443\\u043a\\u0443 \\u043d\\u0430 \\u0436\\u0438\\u0432\\u043e\\u0442, \\u0430 \\u043f\\u0440\\u0430\\u0432\\u0443\\u044e \\u0432\\u044b\\u0442\\u044f\\u043d\\u0443\\u0442\\u044c \\u0432 \\u0441\\u0442\\u043e\\u0440\\u043e\\u043d\\u0443. \\u0417\\u0430\\u0442\\u0435\\u043c \\u043e\\u043d \\u0434\\u0430\\u043b \\u043c\\u043d\\u0435 \\u043b\\u043e\\u043c\\u043e\\u0442\\u044c \\u0445\\u043b\\u0435\\u0431\\u0430. \\u041c\\u043d\\u0435 \\u0447\\u0442\\u043e, \\u0435\\u0433\\u043e \\u0441\\u044a\\u0435\\u0441\\u0442\\u044c? \\u00ab\\u041d\\u0435\\u0442, \\u2014 \\u0437\\u0430\\u0441\\u043c\\u0435\\u044f\\u043b\\u0441\\u044f \\u0427\\u0435\\u0442\\u043e\\u0435\\u0432\\u0438\\u0447. \\u2014 \\u041f\\u0440\\u0438\\u0436\\u043c\\u0438 \\u0435\\u0433\\u043e \\u043a \\u0436\\u0438\\u0432\\u043e\\u0442\\u0443, \\u0430 \\u043f\\u0440\\u0430\\u0432\\u0443\\u044e \\u0440\\u0443\\u043a\\u0443 \\u0441\\u043d\\u043e\\u0432\\u0430 \\u0432\\u044b\\u0442\\u044f\\u043d\\u0438\\u00bb. \\u041e\\u043d \\u0435\\u0449\\u0451 \\u0440\\u0430\\u0437 \\u043d\\u0430\\u0434\\u0430\\u0432\\u0438\\u043b \\u043d\\u0430 \\u0432\\u044b\\u0442\\u044f\\u043d\\u0443\\u0442\\u0443\\u044e \\u0440\\u0443\\u043a\\u0443, \\u043f\\u043e\\u044f\\u0441\\u043d\\u0438\\u0432, \\u0447\\u0442\\u043e \\u044d\\u0442\\u043e\\u0442 \\u043f\\u0440\\u0435\\u0434\\u0432\\u0430\\u0440\\u0438\\u0442\\u0435\\u043b\\u044c\\u043d\\u044b\\u0439 \\u0442\\u0435\\u0441\\u0442 \\u043f\\u043e\\u043a\\u0430\\u0436\\u0435\\u0442, \\u0435\\u0441\\u0442\\u044c \\u043b\\u0438 \\u0443 \\u043c\\u0435\\u043d\\u044f \\u043f\\u043e\\u0432\\u044b\\u0448\\u0435\\u043d\\u043d\\u0430\\u044f \\u0447\\u0443\\u0432\\u0441\\u0442\\u0432\\u0438\\u0442\\u0435\\u043b\\u044c\\u043d\\u043e\\u0441\\u0442\\u044c \\u043a \\u0433\\u043b\\u044e\\u0442\\u0435\\u043d\\u0443 \\u2014 \\u0431\\u0435\\u043b\\u043a\\u0443, \\u0441\\u043e\\u0434\\u0435\\u0440\\u0436\\u0430\\u0449\\u0435\\u043c\\u0443\\u0441\\u044f \\u0432 \\u043f\\u0448\\u0435\\u043d\\u0438\\u0446\\u0435, \\u043e\\u0432\\u0441\\u0435, \\u0440\\u0436\\u0438 \\u0438 \\u0434\\u0440\\u0443\\u0433\\u0438\\u0445 \\u0445\\u043b\\u0435\\u0431\\u043d\\u044b\\u0445 \\u0437\\u043b\\u0430\\u043a\\u0430\\u0445. \\u042d\\u043a\\u0441\\u043f\\u0435\\u0440\\u0438\\u043c\\u0435\\u043d\\u0442 \\u043f\\u043e\\u043a\\u0430\\u0437\\u0430\\u043b\\u0441\\u044f \\u043c\\u043d\\u0435 \\u0431\\u0435\\u0441\\u0441\\u043c\\u044b\\u0441\\u043b\\u0438\\u0446\\u0435\\u0439. \\u041e\\u0434\\u043d\\u0430\\u043a\\u043e \\u044f \\u043e\\u0449\\u0443\\u0442\\u0438\\u043b \\u0437\\u0430\\u043c\\u0435\\u0442\\u043d\\u0443\\u044e \\u0440\\u0430\\u0437\\u043d\\u0438\\u0446\\u0443. \\u041a\\u043e\\u0433\\u0434\\u0430 \\u044f \\u043f\\u0440\\u0438\\u0436\\u0438\\u043c\\u0430\\u043b \\u043a \\u0436\\u0438\\u0432\\u043e\\u0442\\u0443 \\u0445\\u043b\\u0435\\u0431, \\u043f\\u0440\\u0430\\u0432\\u0430\\u044f \\u0440\\u0443\\u043a\\u0430 \\u0441 \\u0431\\u043e\\u043b\\u044c\\u0448\\u0438\\u043c \\u0443\\u0441\\u0438\\u043b\\u0438\\u0435\\u043c \\u0432\\u044b\\u0434\\u0435\\u0440\\u0436\\u0438\\u0432\\u0430\\u043b\\u0430 \\u0434\\u0430\\u0432\\u043b\\u0435\\u043d\\u0438\\u0435 \\u0427\\u0435\\u0442\\u043e\\u0435\\u0432\\u0438\\u0447\\u0430. \\u042f \\u0434\\u0435\\u0439\\u0441\\u0442\\u0432\\u0438\\u0442\\u0435\\u043b\\u044c\\u043d\\u043e \\u0441\\u0442\\u0430\\u043b \\u0441\\u043b\\u0430\\u0431\\u0435\\u0435!\\u00bb \\u2014 \\u0434\\u0435\\u043b\\u0438\\u043b\\u0441\\u044f \\u0432\\u043e\\u0441\\u043f\\u043e\\u043c\\u0438\\u043d\\u0430\\u043d\\u0438\\u044f\\u043c\\u0438 \\u0414\\u0436\\u043e\\u043a\\u043e\\u0432\\u0438\\u0447. \\u0422\\u0430\\u043a \\u043e\\u043d \\u0443\\u0437\\u043d\\u0430\\u043b, \\u0447\\u0442\\u043e \\u0443 \\u043d\\u0435\\u0433\\u043e \\u0435\\u0441\\u0442\\u044c \\u0430\\u043b\\u043b\\u0435\\u0440\\u0433\\u0438\\u044f \\u043d\\u0430 \\u0433\\u043b\\u044e\\u0442\\u0435\\u043d, \\u0438 \\u0440\\u0435\\u0448\\u0438\\u043b \\u0438\\u0441\\u043a\\u043b\\u044e\\u0447\\u0438\\u0442\\u044c \\u0435\\u0433\\u043e \\u0438\\u0437 \\u0441\\u0432\\u043e\\u0435\\u0433\\u043e \\u0440\\u0430\\u0446\\u0438\\u043e\\u043d\\u0430.\\n\\u0417\\u0430 \\u0433\\u043e\\u0434\\u044b \\u044d\\u043a\\u0441\\u043f\\u0435\\u0440\\u0438\\u043c\\u0435\\u043d\\u0442\\u0430 \\u041d\\u043e\\u0432\\u0430\\u043a \\u0442\\u0449\\u0430\\u0442\\u0435\\u043b\\u044c\\u043d\\u043e \\u0438\\u0437\\u0443\\u0447\\u0438\\u043b \\u0442\\u0435\\u043c\\u0443 \\u0438 \\u043f\\u043e\\u0434\\u0435\\u043b\\u0438\\u043b\\u0441\\u044f \\u0441\\u0432\\u043e\\u0438\\u043c\\u0438 \\u043e\\u0442\\u043a\\u0440\\u044b\\u0442\\u0438\\u044f\\u043c\\u0438 \\u0441 \\u0448\\u0438\\u0440\\u043e\\u043a\\u043e\\u0439 \\u043f\\u0443\\u0431\\u043b\\u0438\\u043a\\u043e\\u0439. \\u041f\\u043e\\u0434\\u0440\\u043e\\u0431\\u043d\\u043e \\u043e\\u043f\\u0438\\u0441\\u0430\\u043b \\u043e\\u043d \\u043f\\u043e\\u0441\\u043b\\u0435\\u0434\\u0441\\u0442\\u0432\\u0438\\u044f \\u0446\\u0435\\u043b\\u0438\\u0430\\u043a\\u0438\\u0438 \\u2014 \\u0440\\u0435\\u0437\\u043a\\u043e \\u0432\\u044b\\u0440\\u0430\\u0436\\u0435\\u043d\\u043d\\u043e\\u0439 \\u0430\\u043b\\u043b\\u0435\\u0440\\u0433\\u0438\\u0447\\u0435\\u0441\\u043a\\u043e\\u0439 \\u0440\\u0435\\u0430\\u043a\\u0446\\u0438\\u0438 \\u043d\\u0430 \\u0433\\u043b\\u044e\\u0442\\u0435\\u043d. \\u0412\\u043e\\u0441\\u043f\\u0430\\u043b\\u0435\\u043d\\u0438\\u044f \\u0442\\u043e\\u043d\\u043a\\u043e\\u0433\\u043e \\u043a\\u0438\\u0448\\u0435\\u0447\\u043d\\u0438\\u043a\\u0430, \\u0443\\u0442\\u043e\\u043c\\u043b\\u044f\\u0435\\u043c\\u043e\\u0441\\u0442\\u044c, \\u043a\\u043e\\u0436\\u043d\\u044b\\u0435 \\u0432\\u044b\\u0441\\u044b\\u043f\\u0430\\u043d\\u0438\\u044f, \\u0431\\u043e\\u043b\\u0435\\u0437\\u043d\\u0435\\u043d\\u043d\\u043e\\u0435 \\u043f\\u043e\\u0445\\u0443\\u0434\\u0430\\u043d\\u0438\\u0435, \\u0430\\u043d\\u0435\\u043c\\u0438\\u044f \\u0438 \\u043e\\u0441\\u0442\\u0435\\u043e\\u043f\\u043e\\u0440\\u043e\\u0437 \\u2014 \\u0432\\u0441\\u0451 \\u044d\\u0442\\u043e \\u0441\\u0438\\u043c\\u043f\\u0442\\u043e\\u043c\\u044b \\u043d\\u0435\\u043f\\u0440\\u0430\\u0432\\u0438\\u043b\\u044c\\u043d\\u043e\\u0433\\u043e \\u043f\\u0438\\u0442\\u0430\\u043d\\u0438\\u044f.\\n\\u041f\\u0440\\u043e\\u0434\\u0443\\u043a\\u0442\\u043e\\u0432, \\u0432 \\u043a\\u043e\\u0442\\u043e\\u0440\\u044b\\u0445 \\u0435\\u0441\\u0442\\u044c \\u0433\\u043b\\u044e\\u0442\\u0435\\u043d, \\u043c\\u043d\\u043e\\u0433\\u043e \\u2014 \\u0432 \\u043e\\u0441\\u043d\\u043e\\u0432\\u043d\\u043e\\u043c \\u044d\\u0442\\u043e \\u0445\\u043b\\u0435\\u0431 \\u0438 \\u0434\\u0440\\u0443\\u0433\\u0438\\u0435 \\u043c\\u0443\\u0447\\u043d\\u044b\\u0435 \\u043f\\u0440\\u043e\\u0434\\u0443\\u043a\\u0442\\u044b, \\u043e\\u0434\\u043d\\u0430\\u043a\\u043e \\u0442\\u0435\\u043d\\u043d\\u0438\\u0441\\u0438\\u0441\\u0442 \\u043d\\u0435 \\u0433\\u043e\\u0432\\u043e\\u0440\\u0438\\u0442 \\u0438\\u0437\\u0431\\u0430\\u0432\\u043b\\u044f\\u0442\\u044c\\u0441\\u044f \\u043e\\u0442 \\u043d\\u0438\\u0445 \\u00ab\\u043d\\u0430 \\u0432\\u0435\\u043a\\u0438 \\u0432\\u0435\\u0447\\u043d\\u044b\\u0435\\u00bb. \\u041e\\u043d \\u0441\\u043e\\u0432\\u0435\\u0442\\u0443\\u0435\\u0442 \\u043f\\u043e\\u043f\\u0440\\u043e\\u0431\\u043e\\u0432\\u0430\\u0442\\u044c \\u043e\\u0442\\u043a\\u0430\\u0437\\u0430\\u0442\\u044c\\u0441\\u044f \\u043e\\u0442 \\u043d\\u0438\\u0445 \\u043d\\u0430 \\u0434\\u0432\\u0435 \\u043d\\u0435\\u0434\\u0435\\u043b\\u0438, \\u0430 \\u0437\\u0430\\u0442\\u0435\\u043c \\u043f\\u043e\\u0441\\u043c\\u043e\\u0442\\u0440\\u0435\\u0442\\u044c \\u043d\\u0430 \\u0440\\u0435\\u0430\\u043a\\u0446\\u0438\\u044e \\u0432\\u0430\\u0448\\u0435\\u0433\\u043e \\u043e\\u0440\\u0433\\u0430\\u043d\\u0438\\u0437\\u043c\\u0430. \\u041a\\u0440\\u043e\\u043c\\u0435 \\u0442\\u043e\\u0433\\u043e, \\u041d\\u043e\\u0432\\u0430\\u043a \\u0434\\u043e\\u043a\\u0430\\u0437\\u044b\\u0432\\u0430\\u0435\\u0442, \\u0447\\u0442\\u043e \\u0434\\u0430\\u0436\\u0435 \\u043d\\u0430 \\u0431\\u0435\\u0437\\u0433\\u043b\\u044e\\u0442\\u0435\\u043d\\u043e\\u0432\\u043e\\u0439 \\u0434\\u0438\\u0435\\u0442\\u0435 \\u043c\\u043e\\u0436\\u043d\\u043e \\u0432\\u043a\\u0443\\u0441\\u043d\\u043e \\u0438 \\u043f\\u043e\\u043b\\u043d\\u043e\\u0446\\u0435\\u043d\\u043d\\u043e \\u043f\\u0438\\u0442\\u0430\\u0442\\u044c\\u0441\\u044f.\\n\\u00ab\\u041e\\u0441\\u043d\\u043e\\u0432\\u0430 \\u043d\\u0430\\u0448\\u0435\\u0439 \\u0436\\u0438\\u0437\\u043d\\u0438 \\u2014 \\u0441\\u0431\\u0430\\u043b\\u0430\\u043d\\u0441\\u0438\\u0440\\u043e\\u0432\\u0430\\u043d\\u043d\\u043e\\u0441\\u0442\\u044c \\u0438 \\u0443\\u043c\\u0435\\u0440\\u0435\\u043d\\u043d\\u043e\\u0441\\u0442\\u044c \\u0432\\u043e \\u0432\\u0441\\u0451\\u043c: \\u0432 \\u043f\\u0438\\u0442\\u0430\\u043d\\u0438\\u0438, \\u0442\\u0440\\u0435\\u043d\\u0438\\u0440\\u043e\\u0432\\u043a\\u0430\\u0445, \\u0440\\u0430\\u0431\\u043e\\u0442\\u0435, \\u043b\\u044e\\u0431\\u0432\\u0438 \\u0438 \\u0441\\u0435\\u043a\\u0441\\u0435 (\\u043b\\u0430\\u0434\\u043d\\u043e, \\u0441\\u043e\\u0433\\u043b\\u0430\\u0441\\u0435\\u043d, \\u0441\\u0435\\u043a\\u0441 \\u0437\\u0430\\u0441\\u043b\\u0443\\u0436\\u0438\\u0432\\u0430\\u0435\\u0442 \\u0438\\u0441\\u043a\\u043b\\u044e\\u0447\\u0435\\u043d\\u0438\\u044f, \\u043d\\u043e \\u0432 \\u0446\\u0435\\u043b\\u043e\\u043c \\u0432\\u044b \\u043c\\u0435\\u043d\\u044f \\u043f\\u043e\\u043d\\u044f\\u043b\\u0438). \\u0415\\u0441\\u0442\\u044c \\u0441\\u0442\\u0430\\u0440\\u0430\\u044f \\u043f\\u043e\\u0433\\u043e\\u0432\\u043e\\u0440\\u043a\\u0430 \\u043e \\u0447\\u0435\\u0442\\u044b\\u0440\\u0451\\u0445 \\u00ab\\u0431\\u0435\\u043b\\u044b\\u0445 \\u0441\\u043c\\u0435\\u0440\\u0442\\u044f\\u0445\\u00bb: \\u0431\\u0435\\u043b\\u043e\\u043c \\u0445\\u043b\\u0435\\u0431\\u0435, \\u0431\\u0435\\u043b\\u043e\\u043c \\u0441\\u0430\\u0445\\u0430\\u0440\\u0435, \\u0441\\u043e\\u043b\\u0438 \\u0438 \\u0431\\u0435\\u043b\\u043e\\u043c \\u0436\\u0438\\u0440\\u0435. \\u041b\\u0443\\u0447\\u0448\\u0435 \\u0432\\u0441\\u0435\\u0433\\u043e, \\u043d\\u0435\\u0437\\u0430\\u0432\\u0438\\u0441\\u0438\\u043c\\u043e \\u043e\\u0442 \\u0442\\u0438\\u043f\\u0430 \\u0432\\u0430\\u0448\\u0435\\u0433\\u043e \\u043e\\u0440\\u0433\\u0430\\u043d\\u0438\\u0437\\u043c\\u0430, \\u0438\\u0437\\u0431\\u0435\\u0433\\u0430\\u0442\\u044c \\u0432\\u044b\\u0448\\u0435\\u043e\\u0437\\u043d\\u0430\\u0447\\u0435\\u043d\\u043d\\u0443\\u044e \\u0447\\u0435\\u0442\\u0432\\u0451\\u0440\\u043a\\u0443, \\u0430 \\u043a\\u043e\\u0433\\u0434\\u0430 \\u0432\\u0441\\u0451 \\u0436\\u0435 \\u043f\\u043e\\u0437\\u0432\\u043e\\u043b\\u044f\\u0435\\u0442\\u0435 \\u0441\\u0435\\u0431\\u0435 \\u043f\\u043e\\u043b\\u0430\\u043a\\u043e\\u043c\\u0438\\u0442\\u044c\\u0441\\u044f, \\u0442\\u043e \\u0435\\u0448\\u044c\\u0442\\u0435 \\u0443\\u043c\\u0435\\u0440\\u0435\\u043d\\u043d\\u043e. \\u0412\\u043e\\u043e\\u0431\\u0449\\u0435, \\u044f \\u0441\\u0442\\u0430\\u0440\\u0430\\u044e\\u0441\\u044c \\u043b\\u044e\\u0431\\u0443\\u044e \\u043f\\u0438\\u0449\\u0443 \\u0435\\u0441\\u0442\\u044c \\u043f\\u043e\\u043d\\u0435\\u043c\\u043d\\u043e\\u0433\\u0443, \\u0434\\u0430\\u0436\\u0435 \\u043f\\u043e\\u043b\\u0435\\u0437\\u043d\\u0443\\u044e. \\u041a\\u0443\\u0434\\u0430 \\u0431\\u044b \\u044f \\u043d\\u0438 \\u043f\\u0440\\u0438\\u0435\\u0445\\u0430\\u043b, \\u0438\\u0449\\u0443 \\u0441\\u043b\\u0435\\u0434\\u0443\\u044e\\u0449\\u0438\\u0435 \\u043f\\u0440\\u043e\\u0434\\u0443\\u043a\\u0442\\u044b: \\u043c\\u044f\\u0441\\u043e, \\u0440\\u044b\\u0431\\u0443 \\u0438 \\u044f\\u0439\\u0446\\u0430. \\u0421\\u0430\\u043c\\u044b\\u0439 \\u043e\\u0447\\u0435\\u0432\\u0438\\u0434\\u043d\\u044b\\u0439 \\u0432\\u044b\\u0431\\u043e\\u0440 \\u0434\\u043b\\u044f \\u0442\\u043e\\u0433\\u043e, \\u043a\\u0442\\u043e \\u043e\\u0442\\u043a\\u0430\\u0437\\u0430\\u043b\\u0441\\u044f \\u043e\\u0442 \\u0445\\u043b\\u0435\\u0431\\u0430 \\u0438 \\u0441\\u0430\\u0445\\u0430\\u0440\\u0430\\u00bb, \\u2014 \\u043f\\u0438\\u0441\\u0430\\u043b \\u0414\\u0436\\u043e\\u043a\\u043e\\u0432\\u0438\\u0447.\\n\\u041f\\u043e\\u043c\\u0438\\u043c\\u043e \\u044d\\u0442\\u0438\\u0445 \\u043f\\u0440\\u043e\\u0434\\u0443\\u043a\\u0442\\u043e\\u0432, \\u0441\\u0435\\u0440\\u0431 \\u043d\\u0430\\u043b\\u0435\\u0433\\u0430\\u0435\\u0442 \\u043d\\u0430 \\u043e\\u0432\\u043e\\u0449\\u0438 \\u2014 \\u043e\\u0441\\u043d\\u043e\\u0432\\u043d\\u043e\\u0439 \\u043f\\u0440\\u0438\\u0440\\u043e\\u0434\\u043d\\u044b\\u0439 \\u0438\\u0441\\u0442\\u043e\\u0447\\u043d\\u0438\\u043a \\u043f\\u0440\\u0430\\u043a\\u0442\\u0438\\u0447\\u0435\\u0441\\u043a\\u0438 \\u0432\\u0441\\u0435\\u0445 \\u043f\\u0438\\u0442\\u0430\\u0442\\u0435\\u043b\\u044c\\u043d\\u044b\\u0445 \\u0432\\u0435\\u0449\\u0435\\u0441\\u0442\\u0432: \\u0432\\u0438\\u0442\\u0430\\u043c\\u0438\\u043d\\u043e\\u0432, \\u043c\\u0438\\u043d\\u0435\\u0440\\u0430\\u043b\\u043e\\u0432, \\u043a\\u043b\\u0435\\u0442\\u0447\\u0430\\u0442\\u043a\\u0438, \\u0430\\u043d\\u0442\\u0438\\u043e\\u043a\\u0441\\u0438\\u0434\\u0430\\u043d\\u0442\\u043e\\u0432. \\u0415\\u0434\\u0438\\u043d\\u0441\\u0442\\u0432\\u0435\\u043d\\u043d\\u043e\\u0435, \\u043e\\u043d \\u043d\\u0435 \\u0443\\u0436\\u0438\\u043d\\u0430\\u0435\\u0442 \\u043e\\u0432\\u043e\\u0449\\u0430\\u043c\\u0438, \\u0432 \\u043a\\u043e\\u0442\\u043e\\u0440\\u044b\\u0445 \\u043c\\u043d\\u043e\\u0433\\u043e \\u043a\\u0440\\u0430\\u0445\\u043c\\u0430\\u043b\\u0430 \\u0438 \\u0443\\u0433\\u043b\\u0435\\u0432\\u043e\\u0434\\u043e\\u0432, \\u2014 \\u0441\\u0432\\u0435\\u043a\\u043b\\u043e\\u0439, \\u043a\\u0430\\u0440\\u0442\\u043e\\u0444\\u0435\\u043b\\u0435\\u043c, \\u043a\\u0430\\u0431\\u0430\\u0447\\u043a\\u0430\\u043c\\u0438 \\u0438 \\u0442\\u044b\\u043a\\u0432\\u043e\\u0439. \\u041d\\u043e\\u0432\\u0430\\u043a \\u043f\\u0440\\u0435\\u0434\\u043f\\u043e\\u0447\\u0438\\u0442\\u0430\\u0435\\u0442 \\u0438\\u0445 \\u0437\\u0430\\u043c\\u0435\\u043d\\u044f\\u0442\\u044c \\u0441\\u0430\\u043b\\u0430\\u0442\\u0430\\u043c\\u0438, \\u0431\\u0440\\u043e\\u043a\\u043a\\u043e\\u043b\\u0438, \\u0446\\u0432\\u0435\\u0442\\u043d\\u043e\\u0439 \\u043a\\u0430\\u043f\\u0443\\u0441\\u0442\\u043e\\u0439, \\u0437\\u0435\\u043b\\u0451\\u043d\\u043e\\u0439 \\u0444\\u0430\\u0441\\u043e\\u043b\\u044c\\u044e \\u0438 \\u0441\\u043f\\u0430\\u0440\\u0436\\u0435\\u0439.\\n\\u0424\\u0440\\u0443\\u043a\\u0442\\u0430\\u043c\\u0438 \\u0441\\u0435\\u0431\\u044f \\u0431\\u0430\\u043b\\u0443\\u0435\\u0442 \\u0442\\u0435\\u043d\\u043d\\u0438\\u0441\\u0438\\u0441\\u0442, \\u043a\\u043e\\u0433\\u0434\\u0430 \\u0445\\u043e\\u0447\\u0435\\u0442 \\u0441\\u043b\\u0430\\u0434\\u043a\\u043e\\u0433\\u043e. \\u041f\\u043e\\u043b\\u0435\\u0437\\u043d\\u044b\\u0435 \\u0436\\u0438\\u0440\\u044b \\u043e\\u043d \\u0447\\u0435\\u0440\\u043f\\u0430\\u0435\\u0442 \\u0432 \\u043e\\u0440\\u0435\\u0445\\u0430\\u0445 \\u0438 \\u0441\\u0435\\u043c\\u0435\\u0447\\u043a\\u0430\\u0445, \\u0430 \\u0442\\u0430\\u043a\\u0436\\u0435 \\u0440\\u0430\\u0437\\u043d\\u043e\\u043e\\u0431\\u0440\\u0430\\u0437\\u043d\\u044b\\u0445 \\u043c\\u0430\\u0441\\u043b\\u0430\\u0445 \\u2014 \\u043e\\u043b\\u0438\\u0432\\u043a\\u043e\\u0432\\u043e\\u043c, \\u043a\\u043e\\u043a\\u043e\\u0441\\u043e\\u0432\\u043e\\u043c, \\u043b\\u044c\\u043d\\u044f\\u043d\\u043e\\u043c. \\u0427\\u0442\\u043e\\u0431\\u044b \\u0435\\u0434\\u0430 \\u043d\\u0435 \\u0431\\u044b\\u043b\\u0430 \\u043f\\u0440\\u0435\\u0441\\u043d\\u043e\\u0439, \\u0414\\u0436\\u043e\\u043a\\u043e\\u0432\\u0438\\u0447 \\u0434\\u043e\\u0431\\u0430\\u0432\\u043b\\u044f\\u0435\\u0442 \\u0432 \\u043d\\u0435\\u0451 \\u043f\\u0440\\u0438\\u043f\\u0440\\u0430\\u0432\\u044b, \\u043d\\u043e \\u0442\\u043e\\u043b\\u044c\\u043a\\u043e \\u0442\\u0435, \\u0432 \\u043a\\u043e\\u0442\\u043e\\u0440\\u044b\\u0445 \\u043d\\u0435\\u0442 \\u0438\\u0437\\u0431\\u044b\\u0442\\u043a\\u0430 \\u0441\\u0430\\u0445\\u0430\\u0440\\u0430, \\u2014 \\u0433\\u043e\\u0440\\u0447\\u0438\\u0446\\u0430, \\u0445\\u0440\\u0435\\u043d, \\u0443\\u043a\\u0441\\u0443\\u0441, \\u0432\\u0430\\u0441\\u0430\\u0431\\u0438 \\u0438 \\u0434\\u0440\\u0443\\u0433\\u0438\\u0435.\\n\\u041d\\u043e \\u043d\\u0435 \\u0442\\u043e\\u043b\\u044c\\u043a\\u043e \\u043e\\u0442 \\u0441\\u043e\\u0441\\u0442\\u0430\\u0432\\u0430 \\u0431\\u043b\\u044e\\u0434 \\u0437\\u0430\\u0432\\u0438\\u0441\\u0438\\u0442 \\u043a\\u0430\\u0447\\u0435\\u0441\\u0442\\u0432\\u043e \\u043f\\u0438\\u0442\\u0430\\u043d\\u0438\\u044f, \\u0437\\u0430\\u044f\\u0432\\u043b\\u044f\\u0435\\u0442 \\u041d\\u043e\\u0432\\u0430\\u043a. \\u0415\\u0441\\u0442\\u044c \\u0435\\u0449\\u0451 \\u043f\\u0440\\u0430\\u0432\\u0438\\u043b\\u0430, \\u043a\\u043e\\u0442\\u043e\\u0440\\u044b\\u0435 \\u043d\\u0435\\u043e\\u0431\\u0445\\u043e\\u0434\\u0438\\u043c\\u043e \\u0441\\u043e\\u0431\\u043b\\u044e\\u0434\\u0430\\u0442\\u044c. \\u0423 \\u0442\\u0435\\u043d\\u043d\\u0438\\u0441\\u0438\\u0441\\u0442\\u0430 \\u0438\\u0445 \\u0447\\u0435\\u0442\\u044b\\u0440\\u0435.\\n\\u00ab\\u041f\\u0440\\u0430\\u0432\\u0438\\u043b\\u043e \\u043d\\u043e\\u043c\\u0435\\u0440 \\u043e\\u0434\\u0438\\u043d: \\u0435\\u0448\\u044c\\u0442\\u0435 \\u043c\\u0435\\u0434\\u043b\\u0435\\u043d\\u043d\\u043e \\u0438 \\u043e\\u0441\\u043e\\u0437\\u043d\\u0430\\u043d\\u043d\\u043e. \\u041a\\u0430\\u043a \\u0441\\u043f\\u043e\\u0440\\u0442\\u0441\\u043c\\u0435\\u043d \\u044f \\u043e\\u0431\\u043b\\u0430\\u0434\\u0430\\u044e \\u0431\\u044b\\u0441\\u0442\\u0440\\u044b\\u043c \\u043c\\u0435\\u0442\\u0430\\u0431\\u043e\\u043b\\u0438\\u0437\\u043c\\u043e\\u043c. \\u041c\\u043e\\u0451 \\u0442\\u0435\\u043b\\u043e \\u0442\\u0440\\u0435\\u0431\\u0443\\u0435\\u0442 \\u043c\\u043d\\u043e\\u0433\\u043e \\u044d\\u043d\\u0435\\u0440\\u0433\\u0438\\u0438, \\u043e\\u0441\\u043e\\u0431\\u0435\\u043d\\u043d\\u043e \\u0432\\u043e \\u0432\\u0440\\u0435\\u043c\\u044f \\u043c\\u0430\\u0442\\u0447\\u0430, \\u043f\\u043e\\u044d\\u0442\\u043e\\u043c\\u0443 \\u044f \\u0445\\u043e\\u0447\\u0443 \\u043f\\u0435\\u0440\\u0435\\u0432\\u0430\\u0440\\u0438\\u0432\\u0430\\u0442\\u044c \\u043f\\u0438\\u0449\\u0443 \\u043a\\u0430\\u043a \\u043c\\u043e\\u0436\\u043d\\u043e \\u044d\\u0444\\u0444\\u0435\\u043a\\u0442\\u0438\\u0432\\u043d\\u0435\\u0435 \\u0438 \\u043f\\u043e\\u043b\\u0443\\u0447\\u0430\\u0442\\u044c \\u043c\\u0430\\u043a\\u0441\\u0438\\u043c\\u0443\\u043c \\u044d\\u043d\\u0435\\u0440\\u0433\\u0438\\u0438. \\u0412\\u0441\\u043f\\u043e\\u043c\\u043d\\u0438\\u0442\\u0435 \\u0443\\u0440\\u043e\\u043a\\u0438 \\u0431\\u0438\\u043e\\u043b\\u043e\\u0433\\u0438\\u0438: \\u0434\\u043b\\u044f \\u043f\\u0435\\u0440\\u0435\\u0432\\u0430\\u0440\\u0438\\u0432\\u0430\\u043d\\u0438\\u044f \\u043f\\u0438\\u0449\\u0438 \\u043d\\u0435\\u043e\\u0431\\u0445\\u043e\\u0434\\u0438\\u043c \\u043f\\u0440\\u0438\\u043b\\u0438\\u0432 \\u043a\\u0440\\u043e\\u0432\\u0438. \\u041d\\u043e \\u043c\\u043d\\u0435 \\u044d\\u0442\\u0430 \\u043a\\u0440\\u043e\\u0432\\u044c \\u0442\\u043e\\u0436\\u0435 \\u043d\\u0443\\u0436\\u043d\\u0430, \\u043a\\u043e\\u0433\\u0434\\u0430 \\u044f \\u0432\\u044b\\u0441\\u0442\\u0443\\u043f\\u0430\\u044e \\u043d\\u0430 \\u043a\\u043e\\u0440\\u0442\\u0435. \\u0418 \\u0435\\u0441\\u043b\\u0438 \\u044f \\u0434\\u043e\\u0431\\u044c\\u044e\\u0441\\u044c, \\u0447\\u0442\\u043e\\u0431\\u044b \\u043f\\u0438\\u0449\\u0435\\u0432\\u0430\\u0440\\u0438\\u0442\\u0435\\u043b\\u044c\\u043d\\u0430\\u044f \\u0441\\u0438\\u0441\\u0442\\u0435\\u043c\\u0430 \\u0440\\u0430\\u0431\\u043e\\u0442\\u0430\\u043b\\u0430 \\u0431\\u044b\\u0441\\u0442\\u0440\\u0435\\u0435 \\u0438 \\u043b\\u0443\\u0447\\u0448\\u0435, \\u0442\\u043e \\u0441\\u043c\\u043e\\u0433\\u0443 \\u0440\\u0430\\u043d\\u044c\\u0448\\u0435 \\u0432\\u0435\\u0440\\u043d\\u0443\\u0442\\u044c\\u0441\\u044f \\u043a \\u0444\\u0438\\u0437\\u0438\\u0447\\u0435\\u0441\\u043a\\u043e\\u0439 \\u0430\\u043a\\u0442\\u0438\\u0432\\u043d\\u043e\\u0441\\u0442\\u0438 \\u0441 \\u043d\\u043e\\u0432\\u044b\\u043c\\u0438 \\u0441\\u0438\\u043b\\u0430\\u043c\\u0438.\\n\\u041d\\u043e\\u0432\\u0430\\u043a \\u0414\\u0436\\u043e\\u043a\\u043e\\u0432\\u0438\\u0447\\n\\u0412\\u0442\\u043e\\u0440\\u043e\\u0435 \\u043f\\u0440\\u0430\\u0432\\u0438\\u043b\\u043e: \\u0434\\u0430\\u0432\\u0430\\u0439\\u0442\\u0435 \\u043e\\u0440\\u0433\\u0430\\u043d\\u0438\\u0437\\u043c\\u0443 \\u0447\\u0451\\u0442\\u043a\\u0438\\u0435 \\u0443\\u043a\\u0430\\u0437\\u0430\\u043d\\u0438\\u044f. \\u041d\\u0430\\u0448 \\u043e\\u0440\\u0433\\u0430\\u043d\\u0438\\u0437\\u043c \\u0438\\u0441\\u043f\\u043e\\u043b\\u044c\\u0437\\u0443\\u0435\\u0442 \\u043f\\u0438\\u0449\\u0443 \\u0434\\u043b\\u044f \\u0434\\u0432\\u0443\\u0445 \\u043e\\u0441\\u043d\\u043e\\u0432\\u043d\\u044b\\u0445 \\u0446\\u0435\\u043b\\u0435\\u0439: \\u0432\\u043e-\\u043f\\u0435\\u0440\\u0432\\u044b\\u0445, \\u0440\\u0430\\u0434\\u0438 \\u043f\\u043e\\u043b\\u0443\\u0447\\u0435\\u043d\\u0438\\u044f \\u044d\\u043d\\u0435\\u0440\\u0433\\u0438\\u0438 \\u2014 \\u0447\\u0442\\u043e\\u0431\\u044b \\u043d\\u043e\\u0433\\u0438 \\u0434\\u0432\\u0438\\u0433\\u0430\\u043b\\u0438\\u0441\\u044c, \\u0441\\u0435\\u0440\\u0434\\u0446\\u0435 \\u0431\\u0438\\u043b\\u043e\\u0441\\u044c, \\u0440\\u0430\\u043a\\u0435\\u0442\\u043a\\u0430 \\u043b\\u0435\\u0442\\u0430\\u043b\\u0430 \\u0432 \\u0440\\u0443\\u043a\\u0430\\u0445. \\u0412\\u043e-\\u0432\\u0442\\u043e\\u0440\\u044b\\u0445, \\u0434\\u043b\\u044f \\u0432\\u043e\\u0441\\u0441\\u0442\\u0430\\u043d\\u043e\\u0432\\u043b\\u0435\\u043d\\u0438\\u044f, \\u0447\\u0442\\u043e\\u0431\\u044b \\u0438\\u0441\\u043f\\u0440\\u0430\\u0432\\u0438\\u0442\\u044c \\u0443\\u0449\\u0435\\u0440\\u0431, \\u043d\\u0430\\u043d\\u0435\\u0441\\u0451\\u043d\\u043d\\u044b\\u0439 \\u0437\\u0430 \\u0434\\u0435\\u043d\\u044c, \\u0431\\u0443\\u0434\\u044c \\u0442\\u043e \\u043e\\u0442 \\u0434\\u043e\\u043b\\u0433\\u0438\\u0445 \\u0442\\u0440\\u0435\\u043d\\u0438\\u0440\\u043e\\u0432\\u043e\\u043a \\u0438\\u043b\\u0438 \\u0446\\u0435\\u043b\\u043e\\u0433\\u043e \\u0434\\u043d\\u044f \\u0432 \\u043e\\u0444\\u0438\\u0441\\u0435. \\u041f\\u0440\\u043e\\u0442\\u0435\\u0438\\u043d \\u0438 \\u0434\\u0440\\u0443\\u0433\\u0438\\u0435 \\u043f\\u0438\\u0442\\u0430\\u0442\\u0435\\u043b\\u044c\\u043d\\u044b\\u0435 \\u0432\\u0435\\u0449\\u0435\\u0441\\u0442\\u0432\\u0430 \\u043f\\u043e\\u043c\\u043e\\u0433\\u0430\\u044e\\u0442 \\u0432\\u043e\\u0441\\u0441\\u0442\\u0430\\u043d\\u0430\\u0432\\u043b\\u0438\\u0432\\u0430\\u0442\\u044c \\u043c\\u044b\\u0448\\u0446\\u044b, \\u0432\\u044b\\u0440\\u0430\\u0431\\u0430\\u0442\\u044b\\u0432\\u0430\\u0442\\u044c \\u043d\\u043e\\u0432\\u044b\\u0435 \\u043a\\u0440\\u043e\\u0432\\u044f\\u043d\\u044b\\u0435 \\u043a\\u043b\\u0435\\u0442\\u043a\\u0438 \\u0438 \\u0432\\u043e\\u0441\\u043f\\u043e\\u043b\\u043d\\u044f\\u0442\\u044c \\u0443\\u0440\\u043e\\u0432\\u0435\\u043d\\u044c \\u0433\\u043e\\u0440\\u043c\\u043e\\u043d\\u043e\\u0432. \\u0412\\u043e\\u0442 \\u043f\\u043e\\u0447\\u0435\\u043c\\u0443 \\u043e\\u0441\\u043d\\u043e\\u0432\\u043d\\u043e\\u0435 \\u043a\\u043e\\u043b\\u0438\\u0447\\u0435\\u0441\\u0442\\u0432\\u043e \\u043a\\u0430\\u043b\\u043e\\u0440\\u0438\\u0439, \\u043a\\u043e\\u0442\\u043e\\u0440\\u044b\\u0435 \\u044f \\u0441\\u044a\\u0435\\u0434\\u0430\\u044e \\u0432 \\u043f\\u0435\\u0440\\u0432\\u043e\\u0439 \\u043f\\u043e\\u043b\\u043e\\u0432\\u0438\\u043d\\u0435 \\u0434\\u043d\\u044f \\u0434\\u043e \\u043b\\u0430\\u043d\\u0447\\u0430, \\u0437\\u0430\\u043a\\u043b\\u044e\\u0447\\u0435\\u043d\\u043e \\u0432 \\u0443\\u0433\\u043b\\u0435\\u0432\\u043e\\u0434\\u0430\\u0445. \\u0423\\u043f\\u043e\\u0442\\u0440\\u0435\\u0431\\u043b\\u044f\\u044f \\u0443\\u0433\\u043b\\u0435\\u0432\\u043e\\u0434\\u044b \\u0438 \\u043e\\u0447\\u0435\\u043d\\u044c \\u043c\\u0430\\u043b\\u043e \\u0431\\u0435\\u043b\\u043a\\u0430, \\u044f \\u0433\\u043e\\u0432\\u043e\\u0440\\u044e \\u043e\\u0440\\u0433\\u0430\\u043d\\u0438\\u0437\\u043c\\u0443: \\u00ab\\u041c\\u043d\\u0435 \\u043d\\u0443\\u0436\\u043d\\u0430 \\u044d\\u043d\\u0435\\u0440\\u0433\\u0438\\u044f, \\u043f\\u0435\\u0440\\u0435\\u0440\\u0430\\u0431\\u0430\\u0442\\u044b\\u0432\\u0430\\u0439 \\u043f\\u043e \\u043c\\u0435\\u0440\\u0435 \\u043d\\u0435\\u043e\\u0431\\u0445\\u043e\\u0434\\u0438\\u043c\\u043e\\u0441\\u0442\\u0438\\u00bb. \\u041d\\u043e\\u0447\\u044c\\u044e \\u044d\\u043d\\u0435\\u0440\\u0433\\u0438\\u044f \\u043c\\u043d\\u0435 \\u043d\\u0435 \\u043d\\u0443\\u0436\\u043d\\u0430. \\u042f \\u0443\\u0441\\u0442\\u0430\\u043b \\u0438 \\u0445\\u043e\\u0447\\u0443 \\u0445\\u043e\\u0440\\u043e\\u0448\\u043e \\u0432\\u044b\\u0441\\u043f\\u0430\\u0442\\u044c\\u0441\\u044f. \\u041f\\u043e\\u044d\\u0442\\u043e\\u043c\\u0443 \\u0437\\u0430 \\u0443\\u0436\\u0438\\u043d\\u043e\\u043c \\u044f \\u0433\\u043e\\u0432\\u043e\\u0440\\u044e \\u043e\\u0440\\u0433\\u0430\\u043d\\u0438\\u0437\\u043c\\u0443: \\u00ab\\u041d\\u0443\\u0436\\u043d\\u043e, \\u0447\\u0442\\u043e\\u0431\\u044b \\u0442\\u044b \\u0438\\u0441\\u043f\\u0440\\u0430\\u0432\\u0438\\u043b \\u0432\\u0441\\u0451, \\u0447\\u0442\\u043e \\u044f \\u043d\\u0430\\u0442\\u0432\\u043e\\u0440\\u0438\\u043b. \\u041f\\u043e\\u0436\\u0430\\u043b\\u0443\\u0439\\u0441\\u0442\\u0430, \\u0431\\u0435\\u0440\\u0438 \\u043f\\u0440\\u043e\\u0442\\u0435\\u0438\\u043d \\u0438 \\u0434\\u0435\\u043b\\u0430\\u0439, \\u0447\\u0442\\u043e \\u043d\\u0430\\u0434\\u043e\\u00bb.\\n\\u041f\\u0440\\u0430\\u0432\\u0438\\u043b\\u043e \\u043d\\u043e\\u043c\\u0435\\u0440 \\u0442\\u0440\\u0438: \\u043e\\u0441\\u0442\\u0430\\u0432\\u0430\\u0439\\u0442\\u0435\\u0441\\u044c \\u043f\\u043e\\u0437\\u0438\\u0442\\u0438\\u0432\\u043d\\u044b\\u043c\\u0438. \\u042f \\u0441\\u0447\\u0438\\u0442\\u0430\\u044e, \\u0447\\u0442\\u043e \\u0435\\u0434\\u0430 \\u0441\\u043f\\u043e\\u0441\\u043e\\u0431\\u043d\\u0430 \\u043f\\u0435\\u0440\\u0435\\u0434\\u0430\\u0432\\u0430\\u0442\\u044c \\u043e\\u0440\\u0433\\u0430\\u043d\\u0438\\u0437\\u043c\\u0443 \\u043f\\u043e\\u0437\\u0438\\u0442\\u0438\\u0432\\u043d\\u0443\\u044e \\u0438\\u043b\\u0438 \\u043d\\u0435\\u0433\\u0430\\u0442\\u0438\\u0432\\u043d\\u0443\\u044e \\u044d\\u043d\\u0435\\u0440\\u0433\\u0438\\u044e. \\u0415\\u0441\\u043b\\u0438 \\u0432\\u044b \\u0435\\u0434\\u0438\\u0442\\u0435, \\u0438\\u0441\\u043f\\u044b\\u0442\\u044b\\u0432\\u0430\\u044f \\u0441\\u0442\\u0440\\u0430\\u0445, \\u0431\\u0435\\u0441\\u043f\\u043e\\u043a\\u043e\\u0439\\u0441\\u0442\\u0432\\u043e \\u0438\\u043b\\u0438 \\u0433\\u043d\\u0435\\u0432, \\u0432\\u043a\\u0443\\u0441 \\u0435\\u0434\\u044b \\u0438 \\u044d\\u043d\\u0435\\u0440\\u0433\\u0438\\u044f, \\u043a\\u043e\\u0442\\u043e\\u0440\\u0443\\u044e \\u0432\\u044b \\u043e\\u0442 \\u043d\\u0435\\u0451 \\u043f\\u043e\\u043b\\u0443\\u0447\\u0430\\u0435\\u0442\\u0435, \\u043d\\u043e\\u0440\\u043c\\u0430\\u043b\\u044c\\u043d\\u044b\\u043c\\u0438 \\u043d\\u0435 \\u0431\\u0443\\u0434\\u0443\\u0442.\\n\\u041f\\u0440\\u0430\\u0432\\u0438\\u043b\\u043e \\u043d\\u043e\\u043c\\u0435\\u0440 \\u0447\\u0435\\u0442\\u044b\\u0440\\u0435: \\u0441\\u0442\\u0430\\u0432\\u044c\\u0442\\u0435 \\u0446\\u0435\\u043b\\u044c\\u044e \\u043a\\u0430\\u0447\\u0435\\u0441\\u0442\\u0432\\u043e, \\u0430 \\u043d\\u0435 \\u043a\\u043e\\u043b\\u0438\\u0447\\u0435\\u0441\\u0442\\u0432\\u043e. \\u0412 \\u043c\\u0438\\u0440\\u0435 \\u0441\\u043f\\u043e\\u0440\\u0442\\u0430 \\u0441\\u043f\\u043e\\u0440\\u0442\\u0441\\u043c\\u0435\\u043d\\u044b \\u0432\\u0441\\u0435\\u0433\\u0434\\u0430 \\u0431\\u043e\\u044f\\u0442\\u0441\\u044f, \\u0447\\u0442\\u043e \\u0438\\u043c \\u043d\\u0435 \\u0445\\u0432\\u0430\\u0442\\u0438\\u0442 \\u0441\\u0438\\u043b, \\u0436\\u0438\\u0434\\u043a\\u043e\\u0441\\u0442\\u0438, \\u043f\\u0438\\u0442\\u0430\\u0442\\u0435\\u043b\\u044c\\u043d\\u044b\\u0445 \\u0432\\u0435\\u0449\\u0435\\u0441\\u0442\\u0432. \\u041a\\u0430\\u043a \\u0431\\u043e\\u043b\\u044c\\u0448\\u0438\\u043d\\u0441\\u0442\\u0432\\u043e \\u0441\\u043f\\u043e\\u0440\\u0442\\u0441\\u043c\\u0435\\u043d\\u043e\\u0432, \\u044f \\u0440\\u0430\\u043d\\u044c\\u0448\\u0435 \\u0431\\u0435\\u0441\\u043f\\u043e\\u043a\\u043e\\u0438\\u043b\\u0441\\u044f, \\u0447\\u0442\\u043e \\u043c\\u0430\\u043b\\u043e \\u0441\\u044a\\u0435\\u043b. \\u0427\\u0442\\u043e, \\u0435\\u0441\\u043b\\u0438 \\u0443 \\u043c\\u0435\\u043d\\u044f \\u043a\\u043e\\u043d\\u0447\\u0430\\u0442\\u0441\\u044f \\u0441\\u0438\\u043b\\u044b, \\u043f\\u043e\\u0441\\u0442\\u043e\\u044f\\u043d\\u043d\\u043e \\u0441\\u043f\\u0440\\u0430\\u0448\\u0438\\u0432\\u0430\\u043b \\u044f \\u0441\\u0435\\u0431\\u044f. \\u0425\\u0432\\u0430\\u0442\\u0438\\u0442 \\u043b\\u0438 \\u0443 \\u043c\\u0435\\u043d\\u044f \\u044d\\u043d\\u0435\\u0440\\u0433\\u0438\\u0438 \\u0432\\u044b\\u0434\\u0435\\u0440\\u0436\\u0430\\u0442\\u044c \\u0446\\u0435\\u043b\\u044b\\u0439 \\u0434\\u0435\\u043d\\u044c \\u0442\\u0440\\u0435\\u043d\\u0438\\u0440\\u043e\\u0432\\u043e\\u043a? \\u042f \\u0432\\u0441\\u0435\\u0433\\u0434\\u0430 \\u0435\\u043b \\u0441 \\u0437\\u0430\\u043f\\u0430\\u0441\\u043e\\u043c, \\u0434\\u0430\\u0436\\u0435 \\u043a\\u043e\\u0433\\u0434\\u0430 \\u0443\\u0436\\u0435 \\u0438 \\u043d\\u0435 \\u0445\\u043e\\u0442\\u0435\\u043b\\u043e\\u0441\\u044c, \\u0430 \\u043d\\u0430 \\u0442\\u0440\\u0435\\u043d\\u0438\\u0440\\u043e\\u0432\\u043a\\u0430\\u0445 \\u0442\\u043e \\u0438 \\u0434\\u0435\\u043b\\u043e \\u043f\\u043e\\u0434\\u0431\\u0440\\u0430\\u0441\\u044b\\u0432\\u0430\\u043b \\u0432 \\u0442\\u043e\\u043f\\u043a\\u0443 \\u00ab\\u044d\\u043d\\u0435\\u0440\\u0433\\u0435\\u0442\\u0438\\u0447\\u0435\\u0441\\u043a\\u0438\\u0435 \\u0431\\u0430\\u0442\\u043e\\u043d\\u0447\\u0438\\u043a\\u0438\\u00bb, \\u0432 \\u043a\\u043e\\u0442\\u043e\\u0440\\u044b\\u0445 \\u043e\\u0434\\u043d\\u0438 \\u043a\\u043e\\u043d\\u0441\\u0435\\u0440\\u0432\\u0430\\u043d\\u0442\\u044b \\u0438 \\u0441\\u0430\\u0445\\u0430\\u0440. \\u041f\\u043e\\u043b\\u0443\\u0447\\u0430\\u0435\\u0442\\u0441\\u044f, \\u044f \\u043e\\u0442\\u043f\\u0440\\u0430\\u0432\\u043b\\u044f\\u043b \\u0432 \\u0436\\u0435\\u043b\\u0443\\u0434\\u043e\\u043a \\u0441\\u043b\\u0438\\u0448\\u043a\\u043e\\u043c \\u043c\\u043d\\u043e\\u0433\\u043e \\u0435\\u0434\\u044b, \\u0441\\u043b\\u0438\\u0448\\u043a\\u043e\\u043c \\u043c\\u043d\\u043e\\u0433\\u043e \\u0438\\u043d\\u0444\\u043e\\u0440\\u043c\\u0430\\u0446\\u0438\\u0438 \\u0434\\u043b\\u044f \\u043e\\u0431\\u0440\\u0430\\u0431\\u043e\\u0442\\u043a\\u0438\\u00bb.\\n\\u041f\\u0440\\u0435\\u0434\\u0441\\u0442\\u0430\\u0432\\u043b\\u044f\\u044f \\u0447\\u0438\\u0442\\u0430\\u0442\\u0435\\u043b\\u044f\\u043c \\u0441\\u043e\\u0431\\u0441\\u0442\\u0432\\u0435\\u043d\\u043d\\u044b\\u0439 \\u0440\\u0430\\u0446\\u0438\\u043e\\u043d, \\u041d\\u043e\\u0432\\u0430\\u043a \\u043e\\u0442\\u043c\\u0435\\u0447\\u0430\\u043b, \\u0447\\u0442\\u043e \\u044d\\u0442\\u043e \\u043d\\u0435 \\u0441\\u0442\\u0430\\u043d\\u0434\\u0430\\u0440\\u0442\\u043d\\u044b\\u0439 \\u043f\\u0438\\u0449\\u0435\\u0432\\u043e\\u0439 \\u043f\\u043b\\u0430\\u043d \\u0438 \\u043a\\u0430\\u0436\\u0434\\u044b\\u0439 \\u0447\\u0435\\u043b\\u043e\\u0432\\u0435\\u043a \\u0434\\u043e\\u043b\\u0436\\u0435\\u043d \\u043f\\u043e\\u0434\\u0441\\u0442\\u0440\\u0430\\u0438\\u0432\\u0430\\u0442\\u044c\\u0441\\u044f \\u043f\\u043e\\u0434 \\u043e\\u0441\\u043e\\u0431\\u0435\\u043d\\u043d\\u043e\\u0441\\u0442\\u0438 \\u0441\\u0432\\u043e\\u0435\\u0433\\u043e \\u043e\\u0440\\u0433\\u0430\\u043d\\u0438\\u0437\\u043c\\u0430. \\u0422\\u0435\\u043c \\u043d\\u0435 \\u043c\\u0435\\u043d\\u0435\\u0435 \\u0435\\u0441\\u043b\\u0438 \\u0432\\u044b \\u0445\\u043e\\u0442\\u0438\\u0442\\u0435 \\u043f\\u0438\\u0442\\u0430\\u0442\\u044c\\u0441\\u044f \\u043a\\u0430\\u043a \\u0447\\u0435\\u043c\\u043f\\u0438\\u043e\\u043d, \\u0442\\u043e \\u043c\\u043e\\u0436\\u0435\\u0442\\u0435 \\u043f\\u043e\\u0447\\u0435\\u0440\\u043f\\u043d\\u0443\\u0442\\u044c \\u0434\\u043b\\u044f \\u0441\\u0435\\u0431\\u044f \\u043d\\u0435\\u0441\\u043a\\u043e\\u043b\\u044c\\u043a\\u043e \\u0438\\u0434\\u0435\\u0439 \\u0438\\u0437 \\u0434\\u0438\\u0435\\u0442\\u044b \\u0414\\u0436\\u043e\\u043a\\u043e\\u0432\\u0438\\u0447\\u0430, \\u0441\\u0435\\u043a\\u0440\\u0435\\u0442\\u0430\\u043c\\u0438 \\u043a\\u043e\\u0442\\u043e\\u0440\\u043e\\u0439 \\u043f\\u043e\\u0434\\u0435\\u043b\\u0438\\u043b\\u0441\\u044f \\u0441\\u0430\\u043c \\u0442\\u0435\\u043d\\u043d\\u0438\\u0441\\u0438\\u0441\\u0442.\",\n          \"\\u0412 \\u043f\\u0440\\u043e\\u0448\\u043b\\u043e\\u043c \\u0441\\u0435\\u0437\\u043e\\u043d\\u0435 \\u00ab\\u041c\\u0430\\u043a\\u043b\\u0430\\u0440\\u0435\\u043d\\u00bb \\u0438 Seamless Digital \\u0437\\u0430\\u043a\\u043b\\u044e\\u0447\\u0438\\u043b\\u0438 \\u043c\\u043d\\u043e\\u0433\\u043e\\u043b\\u0435\\u0442\\u043d\\u0438\\u0439 \\u043a\\u043e\\u043d\\u0442\\u0440\\u0430\\u043a\\u0442 \\u043e \\u0441\\u043e\\u0442\\u0440\\u0443\\u0434\\u043d\\u0438\\u0447\\u0435\\u0441\\u0442\\u0432\\u0435. \\u0412 \\u0440\\u0430\\u043c\\u043a\\u0430\\u0445 \\u0441\\u0434\\u0435\\u043b\\u043a\\u0438 \\u043d\\u0430 \\u043f\\u044f\\u0442\\u043d\\u0438\\u0447\\u043d\\u044b\\u0445 \\u0442\\u0440\\u0435\\u043d\\u0438\\u0440\\u043e\\u0432\\u043a\\u0430\\u0445 \\u0432 \\u041e\\u0441\\u0442\\u0438\\u043d\\u0435 \\u0438 \\u043d\\u0430 \\u043e\\u0441\\u0442\\u0430\\u0432\\u0448\\u0438\\u0445\\u0441\\u044f \\u0413\\u0440\\u0430\\u043d-\\u043f\\u0440\\u0438 \\u043d\\u0430 \\u0431\\u043e\\u043b\\u0438\\u0434\\u0430\\u0445 \\u0431\\u044b\\u043b\\u0438 \\u0443\\u0441\\u0442\\u0430\\u043d\\u043e\\u0432\\u043b\\u0435\\u043d\\u044b \\u043d\\u0435\\u0431\\u043e\\u043b\\u044c\\u0448\\u0438\\u0435 \\u0434\\u0438\\u0441\\u043f\\u043b\\u0435\\u0438, \\u043d\\u0430 \\u043a\\u043e\\u0442\\u043e\\u0440\\u044b\\u0445 \\u0442\\u0440\\u0430\\u043d\\u0441\\u043b\\u0438\\u0440\\u043e\\u0432\\u0430\\u043b\\u0430\\u0441\\u044c \\u0440\\u0435\\u043a\\u043b\\u0430\\u043c\\u0430. \\u041a\\u0430\\u043a \\u044d\\u0442\\u0430 \\u0438\\u0434\\u0435\\u044f \\u043c\\u043e\\u0436\\u0435\\u0442 \\u043f\\u043e\\u0432\\u043b\\u0438\\u044f\\u0442\\u044c \\u043d\\u0430 \\u0424\\u043e\\u0440\\u043c\\u0443\\u043b\\u0443-1?\\n\\u0411\\u043e\\u043b\\u044c\\u0448\\u043e\\u0439 \\u043f\\u043b\\u044e\\u0441 \\u043d\\u043e\\u0432\\u043e\\u0433\\u043e \\u0432\\u0438\\u0434\\u0430 \\u0440\\u0435\\u043a\\u043b\\u0430\\u043c\\u044b \\u0432 \\u0442\\u043e\\u043c, \\u0447\\u0442\\u043e \\u0443\\u043f\\u0440\\u0430\\u0432\\u043b\\u044f\\u0442\\u044c \\u0435\\u044e \\u0441\\u0442\\u0430\\u043b\\u043e \\u0432\\u043e\\u0437\\u043c\\u043e\\u0436\\u043d\\u043e \\u0432 \\u0440\\u0435\\u0436\\u0438\\u043c\\u0435 \\u0440\\u0435\\u0430\\u043b\\u044c\\u043d\\u043e\\u0433\\u043e \\u0432\\u0440\\u0435\\u043c\\u0435\\u043d\\u0438, \\u043f\\u0440\\u0438 \\u044d\\u0442\\u043e\\u043c \\u043d\\u0430 \\u043e\\u0434\\u043d\\u043e\\u043c \\u0438 \\u0442\\u043e\\u043c \\u0436\\u0435 \\u043c\\u0435\\u0441\\u0442\\u0435 \\u043c\\u043e\\u0436\\u043d\\u043e \\u043f\\u043e\\u043a\\u0430\\u0437\\u044b\\u0432\\u0430\\u0442\\u044c \\u043b\\u043e\\u0433\\u043e\\u0442\\u0438\\u043f\\u044b \\u0440\\u0430\\u0437\\u043d\\u044b\\u0445 \\u0431\\u0440\\u0435\\u043d\\u0434\\u043e\\u0432. \\u0414\\u043b\\u044f \\u0441\\u043f\\u043e\\u043d\\u0441\\u043e\\u0440\\u043e\\u0432 \\u044d\\u0442\\u043e \\u043e\\u0447\\u0435\\u043d\\u044c \\u0443\\u0434\\u043e\\u0431\\u043d\\u043e, \\u043d\\u043e \\u043a\\u043e\\u043c\\u0430\\u043d\\u0434\\u044b \\u044f\\u0432\\u043d\\u043e \\u043d\\u0435 \\u0437\\u0430\\u0445\\u043e\\u0442\\u044f\\u0442 \\u043f\\u0440\\u0435\\u0432\\u0440\\u0430\\u0442\\u0438\\u0442\\u044c \\u0441\\u0432\\u043e\\u0438 \\u0431\\u043e\\u043b\\u0438\\u0434\\u044b \\u0432 \\u043e\\u0433\\u0440\\u043e\\u043c\\u043d\\u044b\\u0435 \\u0440\\u0435\\u043a\\u043b\\u0430\\u043c\\u043d\\u044b\\u0435 \\u0449\\u0438\\u0442\\u044b \\u043d\\u0430 \\u043a\\u043e\\u043b\\u0451\\u0441\\u0430\\u0445.\\n\\u0420\\u0435\\u043a\\u043b\\u0430\\u043c\\u043d\\u044b\\u0435 \\u0434\\u0438\\u0441\\u043f\\u043b\\u0435\\u0438 \\u043f\\u043e \\u043a\\u0440\\u0430\\u044f\\u043c \\u043a\\u043e\\u043a\\u043f\\u0438\\u0442\\u0430 \\u00ab\\u041c\\u0430\\u043a\\u043b\\u0430\\u0440\\u0435\\u043d\\u0430\\u00bb\\n\\u0421\\u0435\\u0439\\u0447\\u0430\\u0441 \\u0434\\u0438\\u0441\\u043f\\u043b\\u0435\\u0438 \\u0443\\u0441\\u0442\\u0430\\u043d\\u043e\\u0432\\u043b\\u0435\\u043d\\u044b \\u0432 \\u043c\\u0435\\u0441\\u0442\\u0430\\u0445, \\u043a\\u043e\\u0442\\u043e\\u0440\\u044b\\u0435 \\u043d\\u0435\\u0447\\u0430\\u0441\\u0442\\u043e \\u043f\\u043e\\u043f\\u0430\\u0434\\u0430\\u044e\\u0442 \\u0432 \\u0442\\u0440\\u0430\\u043d\\u0441\\u043b\\u044f\\u0446\\u0438\\u044e (\\u044d\\u0442\\u043e \\u043f\\u0440\\u043e\\u0442\\u0438\\u0432\\u043e\\u043f\\u043e\\u043b\\u043e\\u0436\\u043d\\u044b\\u0435 \\u0441\\u0442\\u043e\\u0440\\u043e\\u043d\\u044b \\u043a\\u043e\\u043a\\u043f\\u0438\\u0442\\u0430) \\u0438 \\u043a\\u043e\\u0442\\u043e\\u0440\\u044b\\u0435 \\u043d\\u0435\\u0432\\u043e\\u0437\\u043c\\u043e\\u0436\\u043d\\u043e \\u0443\\u0432\\u0438\\u0434\\u0435\\u0442\\u044c \\u0437\\u0440\\u0438\\u0442\\u0435\\u043b\\u044e \\u043d\\u0430 \\u0442\\u0440\\u0438\\u0431\\u0443\\u043d\\u0435. \\u0422\\u0430\\u043a\\u0430\\u044f \\u0440\\u0435\\u043a\\u043b\\u0430\\u043c\\u0430 \\u043d\\u0435\\u044d\\u0444\\u0444\\u0435\\u043a\\u0442\\u0438\\u0432\\u043d\\u0430, \\u0438 \\u043f\\u043e\\u043d\\u044f\\u0442\\u043d\\u043e, \\u0447\\u0442\\u043e \\u043f\\u043b\\u0430\\u0442\\u0438\\u0442\\u044c \\u0437\\u0430 \\u043d\\u0435\\u0451 \\u0440\\u0435\\u043a\\u043b\\u0430\\u043c\\u043e\\u0434\\u0430\\u0442\\u0435\\u043b\\u0438 \\u043d\\u0435 \\u0441\\u0442\\u0430\\u043d\\u0443\\u0442. \\u0422\\u0430\\u043a \\u0447\\u0442\\u043e \\u0435\\u0441\\u043b\\u0438 \\u0442\\u0435\\u0445\\u043d\\u043e\\u043b\\u043e\\u0433\\u0438\\u0438 \\u0434\\u0430\\u0434\\u0443\\u0442 \\u0445\\u043e\\u0434, \\u0442\\u043e \\u043e\\u043d\\u0430 \\u044f\\u0432\\u043d\\u043e \\u043f\\u0440\\u0435\\u0442\\u0435\\u0440\\u043f\\u0438\\u0442 \\u0438\\u0437\\u043c\\u0435\\u043d\\u0435\\u043d\\u0438\\u044f: \\u0434\\u0438\\u0441\\u043f\\u043b\\u0435\\u0438 \\u0441\\u0434\\u0435\\u043b\\u0430\\u044e\\u0442 \\u0431\\u043e\\u043b\\u044c\\u0448\\u0435 \\u0438 \\u043f\\u0435\\u0440\\u0435\\u043d\\u0435\\u0441\\u0443\\u0442 \\u0432 \\u0434\\u0440\\u0443\\u0433\\u0438\\u0435 \\u043c\\u0435\\u0441\\u0442\\u0430.\\n\\u041a\\u043e\\u043c\\u0430\\u043d\\u0434\\u044b \\u043c\\u043e\\u0433\\u0443\\u0442 \\u043f\\u043e\\u0434\\u0434\\u0435\\u0440\\u0436\\u0430\\u0442\\u044c \\u044d\\u0442\\u0443 \\u0438\\u0434\\u0435\\u044e. \\u041d\\u0430\\u043f\\u0440\\u0438\\u043c\\u0435\\u0440, \\u043f\\u043e\\u0442\\u043e\\u043c\\u0443, \\u0447\\u0442\\u043e \\u0434\\u0438\\u0441\\u043f\\u043b\\u0435\\u0438, \\u0432 \\u043e\\u0442\\u043b\\u0438\\u0447\\u0438\\u0435 \\u043e\\u0442 \\u0441\\u0442\\u0438\\u043a\\u0435\\u0440\\u043e\\u0432, \\u0443\\u0442\\u043e\\u043f\\u043b\\u0435\\u043d\\u044b \\u0432 \\u0431\\u043e\\u043b\\u0438\\u0434 \\u0438 \\u043d\\u0435 \\u043d\\u0430\\u0440\\u0443\\u0448\\u0430\\u044e\\u0442 \\u0435\\u0433\\u043e \\u0430\\u044d\\u0440\\u043e\\u0434\\u0438\\u043d\\u0430\\u043c\\u0438\\u043a\\u0443. \\u0418\\u043d\\u0436\\u0435\\u043d\\u0435\\u0440 \\u00ab\\u041c\\u0430\\u043a\\u043b\\u0430\\u0440\\u0435\\u043d\\u0430\\u00bb \\u0414\\u0436\\u0435\\u0439\\u043c\\u0441 \\u041a\\u0438 \\u043d\\u0435\\u0434\\u0430\\u0432\\u043d\\u043e \\u043f\\u043e\\u0434\\u0442\\u0432\\u0435\\u0440\\u0434\\u0438\\u043b, \\u0447\\u0442\\u043e \\u0441\\u0442\\u0438\\u043a\\u0435\\u0440\\u044b \\u043c\\u043e\\u0433\\u0443\\u0442 \\u043e\\u043a\\u0430\\u0437\\u044b\\u0432\\u0430\\u0442\\u044c \\u043d\\u0435\\u0433\\u0430\\u0442\\u0438\\u0432\\u043d\\u043e\\u0435 \\u0432\\u043b\\u0438\\u044f\\u043d\\u0438\\u0435 \\u043d\\u0430 \\u0432\\u043e\\u0437\\u0434\\u0443\\u0448\\u043d\\u044b\\u0439 \\u043f\\u043e\\u0442\\u043e\\u043a, \\u0438\\u0437-\\u0437\\u0430 \\u0447\\u0435\\u0433\\u043e \\u0431\\u043e\\u043b\\u0438\\u0434 \\u0442\\u0435\\u0440\\u044f\\u0435\\u0442 \\u0447\\u0430\\u0441\\u0442\\u044c \\u043f\\u0440\\u0438\\u0436\\u0438\\u043c\\u043d\\u043e\\u0439 \\u0441\\u0438\\u043b\\u044b. \\u0418\\u0441\\u043f\\u043e\\u043b\\u044c\\u0437\\u043e\\u0432\\u0430\\u043d\\u0438\\u0435 \\u0434\\u0438\\u0441\\u043f\\u043b\\u0435\\u0435\\u0432 \\u043c\\u043e\\u0436\\u0435\\u0442 \\u0440\\u0435\\u0448\\u0438\\u0442\\u044c \\u044d\\u0442\\u0443 \\u043f\\u0440\\u043e\\u0431\\u043b\\u0435\\u043c\\u0443. \\u041d\\u043e \\u0432\\u043e\\u043f\\u0440\\u043e\\u0441 \\u0432 \\u0434\\u0440\\u0443\\u0433\\u043e\\u043c \\u2013 \\u0441\\u043c\\u043e\\u0433\\u0443\\u0442 \\u043b\\u0438 \\u043a\\u043e\\u043c\\u0430\\u043d\\u0434\\u044b \\u043d\\u0430\\u0439\\u0442\\u0438 \\u0434\\u043b\\u044f \\u043d\\u0438\\u0445 \\u043c\\u0435\\u0441\\u0442\\u043e, \\u0432\\u0435\\u0434\\u044c \\u0441\\u0430\\u043c\\u0430 \\u0441\\u0438\\u0441\\u0442\\u0435\\u043c\\u0430 \\u043d\\u0435\\u043f\\u0440\\u043e\\u0441\\u0442\\u0430\\u044f \\u0438 \\u0442\\u044f\\u0436\\u0451\\u043b\\u0430\\u044f\\u2026\\n\\u0418\\u043d\\u0436\\u0435\\u043d\\u0435\\u0440\\u044b \\u0424\\u043e\\u0440\\u043c\\u0443\\u043b\\u044b-1 \\u0431\\u043e\\u0440\\u044e\\u0442\\u0441\\u044f \\u0437\\u0430 \\u043a\\u0430\\u0436\\u0434\\u044b\\u0439 \\u0433\\u0440\\u0430\\u043c\\u043c (\\u043d\\u0430\\u043f\\u0440\\u0438\\u043c\\u0435\\u0440, \\u043f\\u0440\\u0438\\u043c\\u0435\\u043d\\u044f\\u044e\\u0442 \\u0431\\u043e\\u043b\\u0435\\u0435 \\u043b\\u0451\\u0433\\u043a\\u0443\\u044e \\u043a\\u0440\\u0430\\u0441\\u043a\\u0443), \\u0438 \\u0432 \\u0442\\u0430\\u043a\\u043e\\u0439 \\u0441\\u0438\\u0442\\u0443\\u0430\\u0446\\u0438\\u0438 \\u0437\\u0430\\u043c\\u0435\\u043d\\u0430 \\u043d\\u0435\\u0432\\u0435\\u0441\\u043e\\u043c\\u043e\\u0439 \\u043d\\u0430\\u043a\\u043b\\u0435\\u0439\\u043a\\u0438 \\u043d\\u0430 \\u0434\\u0438\\u0441\\u043f\\u043b\\u0435\\u0439 \\u2013 \\u044d\\u0442\\u043e \\u0434\\u0435\\u0439\\u0441\\u0442\\u0432\\u0438\\u0442\\u0435\\u043b\\u044c\\u043d\\u043e \\u0441\\u0435\\u0440\\u044c\\u0451\\u0437\\u043d\\u043e. \\u0418 \\u0434\\u043b\\u044f \\u043d\\u0438\\u0445 \\u043d\\u0443\\u0436\\u043d\\u043e \\u043f\\u043e\\u0441\\u0442\\u0430\\u0440\\u0430\\u0442\\u044c\\u0441\\u044f \\u043d\\u0430\\u0439\\u0442\\u0438 \\u043c\\u0435\\u0441\\u0442\\u043e \\u2013 \\u043c\\u044b \\u0434\\u0430\\u0436\\u0435 \\u043d\\u0435 \\u043f\\u0440\\u043e \\u043f\\u043e\\u043f\\u0430\\u0434\\u0430\\u043d\\u0438\\u0435 \\u0432 \\u043e\\u0431\\u044a\\u0435\\u043a\\u0442\\u0438\\u0432 \\u0441\\u0442\\u0430\\u0446\\u0438\\u043e\\u043d\\u0430\\u0440\\u043d\\u044b\\u0445 \\u0438\\u043b\\u0438 \\u0431\\u043e\\u0440\\u0442\\u043e\\u0432\\u044b\\u0445 \\u043a\\u0430\\u043c\\u0435\\u0440. \\u0415\\u0441\\u043b\\u0438 \\u043d\\u0430\\u043a\\u043b\\u0435\\u0439\\u043a\\u0438 \\u043c\\u043e\\u0436\\u043d\\u043e \\u00ab\\u043b\\u0435\\u043f\\u0438\\u0442\\u044c\\u00bb \\u043d\\u0430 \\u043b\\u044e\\u0431\\u0443\\u044e \\u0447\\u0430\\u0441\\u0442\\u044c \\u0431\\u043e\\u043b\\u0438\\u0434\\u0430 \\u2013 \\u043d\\u0435\\u0432\\u0430\\u0436\\u043d\\u043e, \\u0441\\u0433\\u0438\\u0431 \\u044d\\u0442\\u043e \\u0438\\u043b\\u0438 \\u043f\\u0440\\u044f\\u043c\\u043e\\u0439 \\u0443\\u0447\\u0430\\u0441\\u0442\\u043e\\u043a, \\u2013 \\u0442\\u043e \\u0434\\u0438\\u0441\\u043f\\u043b\\u0435\\u0438 \\u0432\\u0441\\u0451 \\u0436\\u0435 \\u0441\\u0442\\u043e\\u0438\\u0442 \\u0443\\u0441\\u0442\\u0430\\u043d\\u0430\\u0432\\u043b\\u0438\\u0432\\u0430\\u0442\\u044c \\u0432 \\u043f\\u043b\\u043e\\u0441\\u043a\\u0438\\u0445 \\u043c\\u0435\\u0441\\u0442\\u0430\\u0445. \\u0412 \\u0437\\u0434\\u0440\\u0430\\u0432\\u043e\\u043c \\u0443\\u043c\\u0435 \\u0438\\u043d\\u0436\\u0435\\u043d\\u0435\\u0440\\u044b \\u043d\\u0435 \\u0431\\u0443\\u0434\\u0443\\u0442 \\u043c\\u0435\\u043d\\u044f\\u0442\\u044c \\u043a\\u043e\\u043d\\u0441\\u0442\\u0440\\u0443\\u043a\\u0446\\u0438\\u044e \\u0431\\u043e\\u043b\\u0438\\u0434\\u0430 \\u0442\\u043e\\u043b\\u044c\\u043a\\u043e \\u0440\\u0430\\u0434\\u0438 \\u0440\\u0435\\u043a\\u043b\\u0430\\u043c\\u044b.\\n\\u041d\\u0430\\u043a\\u043e\\u043d\\u0435\\u0446, \\u0441\\u0432\\u043e\\u0451 \\u0441\\u043b\\u043e\\u0432\\u043e \\u0441\\u043a\\u0430\\u0436\\u0435\\u0442 \\u0438 \\u0424\\u0418\\u0410. \\u041d\\u0438\\u043a\\u0430\\u043a\\u0438\\u0435 \\u0434\\u0438\\u0441\\u043f\\u043b\\u0435\\u0438 \\u043d\\u0430 \\u0431\\u043e\\u043b\\u0438\\u0434\\u0430\\u0445 \\u043f\\u0440\\u043e\\u0441\\u0442\\u043e \\u0442\\u0430\\u043a \\u0443\\u0441\\u0442\\u0430\\u043d\\u043e\\u0432\\u043b\\u0435\\u043d\\u044b \\u043d\\u0435 \\u0431\\u0443\\u0434\\u0443\\u0442: \\u0434\\u043b\\u044f \\u043d\\u0430\\u0447\\u0430\\u043b\\u0430 \\u043d\\u0443\\u0436\\u043d\\u043e, \\u0447\\u0442\\u043e\\u0431\\u044b \\u0442\\u0435\\u0445\\u043d\\u043e\\u043b\\u043e\\u0433\\u0438\\u044e \\u043e\\u0434\\u043e\\u0431\\u0440\\u0438\\u043b\\u0438 \\u0441 \\u0442\\u043e\\u0447\\u043a\\u0438 \\u0437\\u0440\\u0435\\u043d\\u0438\\u044f \\u0431\\u0435\\u0437\\u043e\\u043f\\u0430\\u0441\\u043d\\u043e\\u0441\\u0442\\u0438. \\u041d\\u0443\\u0436\\u043d\\u043e \\u043f\\u0440\\u043e\\u0432\\u0435\\u0440\\u0438\\u0442\\u044c, \\u043a\\u0430\\u043a \\u0434\\u0438\\u0441\\u043f\\u043b\\u0435\\u0438 \\u0431\\u0443\\u0434\\u0443\\u0442 \\u0432\\u0435\\u0441\\u0442\\u0438 \\u0441\\u0435\\u0431\\u044f \\u0432\\u043e \\u0432\\u0440\\u0435\\u043c\\u044f \\u0430\\u0432\\u0430\\u0440\\u0438\\u0439, \\u0438 \\u0443\\u0434\\u043e\\u0441\\u0442\\u043e\\u0432\\u0435\\u0440\\u0438\\u0442\\u044c\\u0441\\u044f, \\u0447\\u0442\\u043e \\u043c\\u0435\\u043d\\u044f\\u044e\\u0449\\u0430\\u044f\\u0441\\u044f \\u0440\\u0435\\u043a\\u043b\\u0430\\u043c\\u0430 \\u043d\\u0435 \\u043d\\u0430\\u0447\\u043d\\u0451\\u0442 \\u043e\\u0442\\u0432\\u043b\\u0435\\u043a\\u0430\\u0442\\u044c \\u043f\\u0438\\u043b\\u043e\\u0442\\u043e\\u0432, \\u043e\\u0441\\u043e\\u0431\\u0435\\u043d\\u043d\\u043e \\u043d\\u0430 \\u043d\\u043e\\u0447\\u043d\\u044b\\u0445 \\u0442\\u0440\\u0430\\u0441\\u0441\\u0430\\u0445.\\n\\u0415\\u0449\\u0451 \\u043e\\u0434\\u043d\\u0430 \\u043f\\u0440\\u043e\\u0431\\u043b\\u0435\\u043c\\u0430 \\u0441\\u0432\\u044f\\u0437\\u0430\\u043d\\u0430 \\u0441 \\u0441\\u0430\\u043c\\u043e\\u0439 \\u0440\\u0435\\u043a\\u043b\\u0430\\u043c\\u043e\\u0439. \\u0415\\u0441\\u043b\\u0438 \\u0434\\u0438\\u0441\\u043f\\u043b\\u0435\\u0438 \\u0441\\u0442\\u0430\\u043d\\u0443\\u0442 \\u043e\\u0441\\u043d\\u043e\\u0432\\u043d\\u044b\\u043c \\u0441\\u043f\\u043e\\u0441\\u043e\\u0431\\u043e\\u043c \\u0435\\u0451 \\u0440\\u0430\\u0437\\u043c\\u0435\\u0449\\u0435\\u043d\\u0438\\u044f, \\u0432\\u044b\\u0442\\u0435\\u0441\\u043d\\u0438\\u0432 \\u00ab\\u0443\\u0441\\u0442\\u0430\\u0440\\u0435\\u0432\\u0448\\u0438\\u0435\\u00bb \\u0441\\u0442\\u0438\\u043a\\u0435\\u0440\\u044b, \\u0442\\u043e \\u0441\\u043f\\u043e\\u043d\\u0441\\u043e\\u0440\\u044b \\u0431\\u0443\\u0434\\u0443\\u0442 \\u043f\\u043b\\u0430\\u0442\\u0438\\u0442\\u044c \\u0443\\u0436\\u0435 \\u043d\\u0435 \\u0437\\u0430 \\u0440\\u0430\\u0437\\u043c\\u0435\\u0440 \\u043d\\u0430\\u043a\\u043b\\u0435\\u0439\\u043a\\u0438, \\u0430 \\u0437\\u0430 \\u0432\\u0440\\u0435\\u043c\\u044f, \\u043a\\u043e\\u0442\\u043e\\u0440\\u043e\\u0435 \\u0438\\u0445 \\u043b\\u043e\\u0433\\u043e\\u0442\\u0438\\u043f \\u0431\\u0443\\u0434\\u0435\\u0442 \\u0442\\u0440\\u0430\\u043d\\u0441\\u043b\\u0438\\u0440\\u043e\\u0432\\u0430\\u0442\\u044c\\u0441\\u044f \\u043d\\u0430 \\u0434\\u0438\\u0441\\u043f\\u043b\\u0435\\u044f\\u0445.\\n\\u041a\\u0430\\u043a \\u0432\\u044b\\u0433\\u043b\\u044f\\u0434\\u0438\\u0442 \\u0434\\u0438\\u0441\\u043f\\u043b\\u0435\\u0439, \\u0432\\u043d\\u0435\\u0434\\u0440\\u0451\\u043d\\u043d\\u044b\\u0439 \\u0432 \\u043a\\u043e\\u043d\\u0441\\u0442\\u0440\\u0443\\u043a\\u0446\\u0438\\u044e \\u043c\\u0430\\u0448\\u0438\\u043d\\u044b\\n\\u041d\\u0435 \\u043a\\u0430\\u0436\\u0434\\u0430\\u044f \\u043a\\u0430\\u0440\\u0442\\u0438\\u043d\\u043a\\u0430 \\u0431\\u0443\\u0434\\u0435\\u0442 \\u043f\\u043e\\u043f\\u0430\\u0434\\u0430\\u0442\\u044c \\u0432 \\u0442\\u0440\\u0430\\u043d\\u0441\\u043b\\u044f\\u0446\\u0438\\u044e. \\u0422\\u043e\\u0433\\u0434\\u0430 \\u043a\\u043e\\u043b\\u0438\\u0447\\u0435\\u0441\\u0442\\u0432\\u043e \\u043f\\u043e\\u0442\\u0435\\u043d\\u0446\\u0438\\u0430\\u043b\\u044c\\u043d\\u044b\\u0445 \\u0440\\u0435\\u043a\\u043b\\u0430\\u043c\\u043e\\u0434\\u0430\\u0442\\u0435\\u043b\\u0435\\u0439 \\u043f\\u043e\\u0439\\u0434\\u0451\\u0442 \\u043d\\u0430 \\u0441\\u043f\\u0430\\u0434: \\u043a\\u0440\\u0443\\u043f\\u043d\\u044b\\u0435 \\u0438\\u0433\\u0440\\u043e\\u043a\\u0438 \\u043d\\u0430\\u0447\\u043d\\u0443\\u0442 \\u0432\\u044b\\u043a\\u0443\\u043f\\u0430\\u0442\\u044c \\u0431\\u043e\\u043b\\u044c\\u0448\\u0435\\u0435 \\u0432\\u0440\\u0435\\u043c\\u044f \\u0440\\u0430\\u0437\\u043c\\u0435\\u0449\\u0435\\u043d\\u0438\\u044f, \\u0432\\u044b\\u0442\\u0435\\u0441\\u043d\\u044f\\u044f \\u0441 \\u0440\\u044b\\u043d\\u043a\\u0430 \\u0431\\u043e\\u043b\\u0435\\u0435 \\u0441\\u043b\\u0430\\u0431\\u044b\\u0445 \\u043a\\u043e\\u043d\\u043a\\u0443\\u0440\\u0435\\u043d\\u0442\\u043e\\u0432. \\u0412 \\u0434\\u0430\\u043b\\u044c\\u043d\\u0435\\u0439\\u0448\\u0435\\u043c \\u044d\\u0442\\u043e \\u0441\\u043a\\u0430\\u0436\\u0435\\u0442\\u0441\\u044f \\u0438 \\u043d\\u0430 \\u0431\\u044e\\u0434\\u0436\\u0435\\u0442\\u0430\\u0445 \\u043a\\u043e\\u043c\\u0430\\u043d\\u0434.\\n\\u0420\\u0430\\u0437\\u0434\\u0435\\u043b\\u044f\\u0442\\u0441\\u044f \\u0438 \\u043c\\u043d\\u0435\\u043d\\u0438\\u044f \\u0430\\u0443\\u0434\\u0438\\u0442\\u043e\\u0440\\u0438\\u0438 \\u043d\\u0430\\u0441\\u0447\\u0435\\u0442 \\u0442\\u0430\\u043a\\u043e\\u0439 \\u0438\\u0434\\u0435\\u0438. \\u041a\\u043e\\u043c\\u0443-\\u0442\\u043e \\u0432\\u0441\\u0451 \\u0435\\u0449\\u0451 \\u0431\\u0443\\u0434\\u0435\\u0442 \\u0440\\u044f\\u0431\\u0438\\u0442\\u044c \\u043e\\u0442 \\u043a\\u043e\\u043b\\u0438\\u0447\\u0435\\u0441\\u0442\\u0432\\u0430 \\u0440\\u0435\\u043a\\u043b\\u0430\\u043c\\u044b, \\u0430 \\u043a\\u0442\\u043e-\\u0442\\u043e \\u0441\\u043a\\u0430\\u0436\\u0435\\u0442: \\u00ab\\u0420\\u0430\\u043d\\u044c\\u0448\\u0435 \\u0431\\u044b\\u043b\\u043e \\u043b\\u0443\\u0447\\u0448\\u0435\\u00bb. \\u0421\\u043f\\u043e\\u0440\\u043e\\u0432 \\u043d\\u0430 \\u044d\\u0442\\u0443 \\u0442\\u0435\\u043c\\u0443 \\u0431\\u0443\\u0434\\u0435\\u0442 \\u043c\\u043d\\u043e\\u0433\\u043e.\\n\\u0423 \\u0438\\u0434\\u0435\\u0438 \\u0435\\u0441\\u0442\\u044c \\u0438 \\u0434\\u0440\\u0443\\u0433\\u043e\\u0439 \\u043f\\u0443\\u0442\\u044c \\u0440\\u0430\\u0437\\u0432\\u0438\\u0442\\u0438\\u044f. \\u041d\\u0430 \\u0435\\u0451 \\u043e\\u0441\\u043d\\u043e\\u0432\\u0435 \\u0424\\u043e\\u0440\\u043c\\u0443\\u043b\\u0430-1 \\u043c\\u043e\\u0436\\u0435\\u0442 \\u0441\\u043e\\u0437\\u0434\\u0430\\u0442\\u044c \\u0441\\u043e\\u0431\\u0441\\u0442\\u0432\\u0435\\u043d\\u043d\\u0443\\u044e \\u044d\\u043a\\u043e\\u0441\\u0438\\u0441\\u0442\\u0435\\u043c\\u0443, \\u0432 \\u043a\\u043e\\u0442\\u043e\\u0440\\u043e\\u0439 \\u0442\\u0430\\u043a\\u0430\\u044f \\u0431\\u043e\\u043b\\u044c\\u0448\\u0430\\u044f \\u0441\\u0435\\u0439\\u0447\\u0430\\u0441 \\u0440\\u043e\\u043b\\u044c \\u0441\\u043f\\u043e\\u043d\\u0441\\u043e\\u0440\\u043e\\u0432 \\u0431\\u0443\\u0434\\u0435\\u0442 \\u043e\\u0442\\u0434\\u0430\\u043d\\u0430 \\u0430\\u0443\\u0434\\u0438\\u0442\\u043e\\u0440\\u0438\\u0438.\\n\\u041d\\u0430\\u043f\\u0440\\u0438\\u043c\\u0435\\u0440, \\u0440\\u0435\\u043a\\u043b\\u0430\\u043c\\u0443 \\u043a\\u043e\\u043c\\u043f\\u0430\\u043d\\u0438\\u0439 \\u043c\\u043e\\u0433\\u0443\\u0442 \\u0437\\u0430\\u043c\\u0435\\u043d\\u0438\\u0442\\u044c \\u043d\\u0430 \\u0441\\u0442\\u0430\\u0440\\u044b\\u0439 \\u0434\\u043e\\u0431\\u0440\\u044b\\u0439 \\u00ab\\u041f\\u0435\\u0440\\u0435\\u0434\\u0430\\u044e \\u043f\\u0440\\u0438\\u0432\\u0435\\u0442 \\u043c\\u0430\\u043c\\u0435\\u00bb. \\u0411\\u043e\\u043b\\u0435\\u043b\\u044c\\u0449\\u0438\\u043a\\u0438 \\u0441\\u043c\\u043e\\u0433\\u0443\\u0442 \\u043e\\u0442\\u043f\\u0440\\u0430\\u0432\\u043b\\u044f\\u0442\\u044c \\u0441\\u043e\\u043e\\u0431\\u0449\\u0435\\u043d\\u0438\\u044f \\u043d\\u0430 \\u0434\\u0438\\u0441\\u043f\\u043b\\u0435\\u0438 \\u0438 \\u043f\\u043e\\u043f\\u0430\\u0434\\u0430\\u0442\\u044c \\u0432 \\u0442\\u0440\\u0430\\u043d\\u0441\\u043b\\u044f\\u0446\\u0438\\u044e. \\u042d\\u0442\\u043e \\u043f\\u043e\\u0437\\u0432\\u043e\\u043b\\u0438\\u0442 \\u0424\\u043e\\u0440\\u043c\\u0443\\u043b\\u0435 \\u043f\\u0440\\u0438\\u0432\\u043b\\u0435\\u0447\\u044c \\u0435\\u0449\\u0451 \\u0431\\u043e\\u043b\\u044c\\u0448\\u0435 \\u0434\\u0435\\u043d\\u0435\\u0433 \\u043d\\u0430 \\u0440\\u0430\\u0437\\u0432\\u0438\\u0442\\u0438\\u0435 \\u0438 \\u043f\\u043e\\u043f\\u0443\\u043b\\u044f\\u0440\\u0438\\u0437\\u0430\\u0446\\u0438\\u044e \\u0441\\u0435\\u0440\\u0438\\u0438. \\u041d\\u043e, \\u0447\\u0435\\u0441\\u0442\\u043d\\u043e \\u0433\\u043e\\u0432\\u043e\\u0440\\u044f, \\u0432\\u0435\\u043b\\u0438\\u043a \\u0448\\u0430\\u043d\\u0441, \\u0447\\u0442\\u043e \\u0442\\u0430\\u043a\\u043e\\u0439 \\u043c\\u0430\\u0440\\u043a\\u0435\\u0442\\u0438\\u043d\\u0433\\u043e\\u0432\\u044b\\u0439 \\u0445\\u043e\\u0434 \\u043f\\u0440\\u0435\\u0432\\u0440\\u0430\\u0442\\u0438\\u0442 \\u0433\\u043e\\u043d\\u043a\\u0443 \\u0432 \\u00ab\\u043a\\u0430\\u0448\\u0443\\u00bb.\\n\\u0412 \\u043e\\u0431\\u0449\\u0435\\u043c-\\u0442\\u043e \\u0434\\u0438\\u0441\\u043f\\u043b\\u0435\\u0438 \\u2013 \\u043d\\u0435 \\u0441\\u0430\\u043c\\u0430\\u044f \\u043d\\u0435\\u043e\\u0431\\u0445\\u043e\\u0434\\u0438\\u043c\\u0430\\u044f \\u0432\\u0435\\u0449\\u044c \\u0434\\u043b\\u044f \\u0424\\u043e\\u0440\\u043c\\u0443\\u043b\\u044b. \\u041a\\u0440\\u0430\\u0441\\u0438\\u0432\\u0430\\u044f, \\u044d\\u0444\\u0444\\u0435\\u043a\\u0442\\u043d\\u0430\\u044f, \\u043d\\u043e \\u043a\\u0430\\u043a \\u0442\\u0430\\u043a\\u043e\\u0432\\u0430\\u044f \\u043d\\u0435 \\u043f\\u043e\\u043c\\u043e\\u0433\\u0430\\u0435\\u0442 \\u0442\\u0435\\u0445\\u043d\\u0438\\u0447\\u0435\\u0441\\u043a\\u0438 \\u0440\\u0430\\u0437\\u0432\\u0438\\u0432\\u0430\\u0442\\u044c \\u0441\\u043f\\u043e\\u0440\\u0442. \\u0415\\u0441\\u043b\\u0438 \\u043e\\u043d\\u0430 \\u043f\\u0440\\u0438\\u0432\\u043b\\u0435\\u0447\\u0451\\u0442 \\u0432\\u043d\\u0438\\u043c\\u0430\\u043d\\u0438\\u0435 \\u0440\\u0443\\u043a\\u043e\\u0432\\u043e\\u0434\\u0441\\u0442\\u0432\\u0430, \\u0442\\u043e \\u0424-1 \\u043f\\u0440\\u0438\\u0434\\u0451\\u0442\\u0441\\u044f \\u0441\\u0435\\u0440\\u044c\\u0451\\u0437\\u043d\\u043e \\u043f\\u043e\\u0440\\u0430\\u0431\\u043e\\u0442\\u0430\\u0442\\u044c \\u043d\\u0430\\u0434 \\u0442\\u0435\\u043c, \\u0447\\u0442\\u043e\\u0431\\u044b \\u00ab\\u043f\\u043e\\u0434\\u0440\\u0443\\u0436\\u0438\\u0442\\u044c\\u00bb \\u043d\\u043e\\u0432\\u0443\\u044e \\u0440\\u0435\\u043a\\u043b\\u0430\\u043c\\u0443 \\u0441 \\u0431\\u043e\\u043b\\u0435\\u043b\\u044c\\u0449\\u0438\\u043a\\u0430\\u043c\\u0438. \\u0412 \\u043f\\u0440\\u043e\\u0442\\u0438\\u0432\\u043d\\u043e\\u043c \\u0441\\u043b\\u0443\\u0447\\u0430\\u0435 \\u0441\\u0435\\u0440\\u0438\\u044f \\u0441\\u0442\\u0430\\u043d\\u0435\\u0442 \\u0435\\u0449\\u0451 \\u0431\\u043e\\u043b\\u044c\\u0448\\u0435 \\u043f\\u043e\\u0445\\u043e\\u0436\\u0430 \\u043d\\u0430 \\u0448\\u043e\\u0443, \\u0447\\u0435\\u043c \\u043d\\u0430 \\u0441\\u043f\\u043e\\u0440\\u0442\\u0438\\u0432\\u043d\\u043e\\u0435 \\u043c\\u0435\\u0440\\u043e\\u043f\\u0440\\u0438\\u044f\\u0442\\u0438\\u0435.\",\n          \"\\u0412 \\u043d\\u0430\\u0447\\u0430\\u043b\\u0435 \\u0430\\u0432\\u0433\\u0443\\u0441\\u0442\\u0430 \\u043f\\u043e\\u0434\\u043e\\u0448\\u043b\\u0430 \\u043a \\u043a\\u043e\\u043d\\u0446\\u0443 \\u043e\\u0434\\u043d\\u0430 \\u0438\\u0437 \\u0433\\u043b\\u0430\\u0432\\u043d\\u044b\\u0445 \\u0441\\u0430\\u0433 \\u043b\\u0435\\u0442\\u0430 \\u2014 \\u0447\\u0442\\u043e \\u0431\\u0443\\u0434\\u0435\\u0442 \\u0441 \\u041a\\u0438\\u0440\\u0438\\u043b\\u043b\\u043e\\u043c \\u041a\\u0430\\u043f\\u0440\\u0438\\u0437\\u043e\\u0432\\u044b\\u043c? \\u0425\\u043e\\u0434\\u0438\\u043b\\u043e \\u043c\\u043d\\u043e\\u0433\\u043e \\u043f\\u0440\\u043e\\u0442\\u0438\\u0432\\u043e\\u0440\\u0435\\u0447\\u0438\\u0432\\u044b\\u0445 \\u0441\\u043b\\u0443\\u0445\\u043e\\u0432 \\u043e \\u0442\\u043e\\u043c, \\u043f\\u043e\\u0447\\u0435\\u043c\\u0443 \\u0436\\u0435 \\u0440\\u043e\\u0441\\u0441\\u0438\\u044f\\u043d\\u0438\\u043d \\u0432\\u0441\\u0451 \\u043d\\u0438\\u043a\\u0430\\u043a \\u043d\\u0435 \\u043c\\u043e\\u0436\\u0435\\u0442 \\u0432\\u0435\\u0440\\u043d\\u0443\\u0442\\u044c\\u0441\\u044f \\u0432 \\u0421\\u0428\\u0410. \\u041e\\u043d \\u0442\\u043e \\u043f\\u043e\\u043b\\u0443\\u0447\\u0438\\u043b \\u0442\\u0440\\u0430\\u0432\\u043c\\u0443 \\u0438 \\u043e\\u043f\\u0440\\u0430\\u0432\\u043b\\u044f\\u043b\\u0441\\u044f \\u043e\\u0442 \\u043e\\u043f\\u0435\\u0440\\u0430\\u0446\\u0438\\u0438 \\u0432 \\u0413\\u0435\\u0440\\u043c\\u0430\\u043d\\u0438\\u0438, \\u0442\\u043e \\u043f\\u044b\\u0442\\u0430\\u043b\\u0441\\u044f \\u043f\\u0435\\u0440\\u0435\\u0441\\u0435\\u0447\\u044c \\u0433\\u0440\\u0430\\u043d\\u0438\\u0446\\u044b \\u043d\\u0435\\u0441\\u043a\\u043e\\u043b\\u044c\\u043a\\u0438\\u0445 \\u0441\\u0442\\u0440\\u0430\\u043d, \\u0447\\u0442\\u043e\\u0431\\u044b \\u0434\\u043e\\u0431\\u0440\\u0430\\u0442\\u044c\\u0441\\u044f \\u0434\\u043e \\u0410\\u043c\\u0435\\u0440\\u0438\\u043a\\u0438, \\u043d\\u043e \\u0435\\u043c\\u0443 \\u043e\\u0442\\u043a\\u0430\\u0437\\u044b\\u0432\\u0430\\u043b\\u0438 \\u0438\\u0437-\\u0437\\u0430 \\u043e\\u0442\\u0441\\u0443\\u0442\\u0441\\u0442\\u0432\\u0438\\u044f \\u0440\\u0430\\u0431\\u043e\\u0447\\u0435\\u0439 \\u0432\\u0438\\u0437\\u044b, \\u0442\\u043e \\u041a\\u0438\\u0440\\u0438\\u043b\\u043b\\u0430 \\u0438 \\u0432\\u043e\\u0432\\u0441\\u0435 \\u043d\\u0435 \\u0432\\u044b\\u043f\\u0443\\u0441\\u043a\\u0430\\u043b\\u0438 \\u0438\\u0437 \\u0420\\u043e\\u0441\\u0441\\u0438\\u0438. \\u041d\\u0430 \\u0444\\u043e\\u043d\\u0435 \\u0432\\u043e\\u043b\\u043d\\u0438\\u0442\\u0435\\u043b\\u044c\\u043d\\u044b\\u0445 \\u0441\\u0438\\u0442\\u0443\\u0430\\u0446\\u0438\\u0439 \\u0441 \\u0418\\u0432\\u0430\\u043d\\u043e\\u043c \\u0424\\u0435\\u0434\\u043e\\u0442\\u043e\\u0432\\u044b\\u043c \\u0438 \\u041c\\u0438\\u0445\\u0430\\u0438\\u043b\\u043e\\u043c \\u0412\\u043e\\u0440\\u043e\\u0431\\u044c\\u0451\\u0432\\u044b\\u043c \\u0437\\u0430 \\u0441\\u0443\\u0434\\u044c\\u0431\\u043e\\u0439 \\u041a\\u0430\\u043f\\u0440\\u0438\\u0437\\u043e\\u0432\\u0430 \\u043f\\u0440\\u0438\\u0441\\u0442\\u0430\\u043b\\u044c\\u043d\\u043e \\u0441\\u043b\\u0435\\u0434\\u0438\\u043b\\u0438 \\u0438 \\u0432 \\u0420\\u043e\\u0441\\u0441\\u0438\\u0438, \\u0438 \\u0432 \\u0421\\u0428\\u0410.\\n\\u0424\\u043e\\u0440\\u0432\\u0430\\u0440\\u0434 \\u0443\\u0441\\u043f\\u0435\\u0448\\u043d\\u043e \\u0432\\u0435\\u0440\\u043d\\u0443\\u043b\\u0441\\u044f \\u0432 \\u0410\\u043c\\u0435\\u0440\\u0438\\u043a\\u0443 \\u0442\\u0440\\u0430\\u043d\\u0437\\u0438\\u0442\\u043e\\u043c \\u0447\\u0435\\u0440\\u0435\\u0437 \\u0422\\u0443\\u0440\\u0446\\u0438\\u044e \\u2014 \\u043a\\u0430\\u043a \\u0440\\u0430\\u0437 \\u0432 \\u043d\\u0430\\u0447\\u0430\\u043b\\u0435 \\u0430\\u0432\\u0433\\u0443\\u0441\\u0442\\u0430. \\u0418 \\u0442\\u043e\\u043b\\u044c\\u043a\\u043e \\u0441\\u043f\\u0443\\u0441\\u0442\\u044f \\u043c\\u0435\\u0441\\u044f\\u0446 \\u0432 \\u00ab\\u041c\\u0438\\u043d\\u043d\\u0435\\u0441\\u043e\\u0442\\u0435\\u00bb \\u0440\\u0435\\u0448\\u0438\\u043b\\u0438\\u0441\\u044c \\u043f\\u0440\\u0438\\u043e\\u0442\\u043a\\u0440\\u044b\\u0442\\u044c \\u0437\\u0430\\u0432\\u0435\\u0441\\u0443 \\u0442\\u0430\\u0439\\u043d\\u044b \\u0438 \\u043d\\u0435\\u043c\\u043d\\u043e\\u0433\\u043e \\u0440\\u0430\\u0441\\u0441\\u043a\\u0430\\u0437\\u0430\\u0442\\u044c \\u043e \\u0442\\u043e\\u043c, \\u043a\\u0430\\u043a \\u0436\\u0435 \\u043f\\u0440\\u043e\\u0438\\u0441\\u0445\\u043e\\u0434\\u0438\\u043b\\u043e \\u0432\\u043e\\u0437\\u0432\\u0440\\u0430\\u0449\\u0435\\u043d\\u0438\\u0435 \\u0440\\u043e\\u0441\\u0441\\u0438\\u044f\\u043d\\u0438\\u043d\\u0430. \\u041e\\u0431 \\u044d\\u0442\\u043e\\u043c \\u0440\\u0430\\u0441\\u0441\\u043a\\u0430\\u0437\\u0430\\u043b \\u0433\\u0435\\u043d\\u0435\\u0440\\u0430\\u043b\\u044c\\u043d\\u044b\\u0439 \\u043c\\u0435\\u043d\\u0435\\u0434\\u0436\\u0435\\u0440 \\u00ab\\u0423\\u0430\\u0439\\u043b\\u0434\\u00bb \\u0411\\u0438\\u043b\\u043b \\u0413\\u0435\\u0440\\u0438\\u043d, \\u043a\\u043e\\u0442\\u043e\\u0440\\u044b\\u0439 \\u0432\\u043e \\u0432\\u0440\\u0435\\u043c\\u044f \\u043d\\u0430\\u0445\\u043e\\u0436\\u0434\\u0435\\u043d\\u0438\\u044f \\u041a\\u0438\\u0440\\u0438\\u043b\\u043b\\u0430 \\u0432 \\u0420\\u043e\\u0441\\u0441\\u0438\\u0438 \\u043d\\u0435 \\u0440\\u0435\\u0448\\u0430\\u043b\\u0441\\u044f \\u043c\\u043d\\u043e\\u0433\\u043e \\u0433\\u043e\\u0432\\u043e\\u0440\\u0438\\u0442\\u044c \\u043e\\u0431 \\u044d\\u0442\\u043e\\u0439 \\u0441\\u0438\\u0442\\u0443\\u0430\\u0446\\u0438\\u0438. \\u041a\\u0430\\u043a \\u043e\\u0442\\u043c\\u0435\\u0447\\u0430\\u043b\\u043e\\u0441\\u044c, \\u0441\\u0432\\u043e\\u0438\\u043c\\u0438 \\u0440\\u0435\\u0447\\u0430\\u043c\\u0438 \\u043e\\u043d \\u00ab\\u043d\\u0435 \\u0445\\u043e\\u0442\\u0435\\u043b \\u043d\\u0430\\u0432\\u0440\\u0435\\u0434\\u0438\\u0442\\u044c\\u00bb.\\n\\u0421\\u0435\\u0439\\u0447\\u0430\\u0441 \\u0436\\u0435 \\u0413\\u0435\\u0440\\u0438\\u043d \\u043f\\u043e\\u0441\\u0435\\u0442\\u0438\\u043b \\u043f\\u043e\\u0434\\u043a\\u0430\\u0441\\u0442 Wild on Demand \\u0438\\u0437\\u0432\\u0435\\u0441\\u0442\\u043d\\u043e\\u0433\\u043e \\u0436\\u0443\\u0440\\u043d\\u0430\\u043b\\u0438\\u0441\\u0442\\u0430 \\u041c\\u0430\\u0439\\u043a\\u043b\\u0430 \\u0420\\u0443\\u0441\\u0441\\u043e, \\u043a\\u043e\\u0442\\u043e\\u0440\\u044b\\u0439 \\u0441\\u043f\\u0435\\u0446\\u0438\\u0430\\u043b\\u0438\\u0437\\u0438\\u0440\\u0443\\u0435\\u0442\\u0441\\u044f \\u043d\\u0430 \\u043e\\u0431\\u043e\\u0437\\u0440\\u0435\\u0432\\u0430\\u043d\\u0438\\u0438 \\u043c\\u0430\\u0442\\u0447\\u0435\\u0439 \\u0438 \\u0436\\u0438\\u0437\\u043d\\u0438 \\u0432\\u043e\\u043a\\u0440\\u0443\\u0433 \\u00ab\\u041c\\u0438\\u043d\\u043d\\u0435\\u0441\\u043e\\u0442\\u044b\\u00bb. \\u0413\\u0435\\u043d\\u043c\\u0435\\u043d\\u0435\\u0434\\u0436\\u0435\\u0440 \\u0441\\u043e\\u043e\\u0431\\u0449\\u0438\\u043b, \\u0447\\u0442\\u043e \\u043f\\u0440\\u0438\\u0447\\u0438\\u043d\\u0430, \\u043f\\u043e \\u043a\\u043e\\u0442\\u043e\\u0440\\u043e\\u0439 \\u043f\\u0440\\u043e\\u0446\\u0435\\u0441\\u0441 \\u0432\\u043e\\u0437\\u0432\\u0440\\u0430\\u0449\\u0435\\u043d\\u0438\\u044f \\u041a\\u0430\\u043f\\u0440\\u0438\\u0437\\u043e\\u0432\\u0430 \\u0432 \\u0421\\u043e\\u0435\\u0434\\u0438\\u043d\\u0451\\u043d\\u043d\\u044b\\u0435 \\u0428\\u0442\\u0430\\u0442\\u044b \\u0431\\u044b\\u043b \\u0443\\u0441\\u043b\\u043e\\u0436\\u043d\\u0451\\u043d, \\u0434\\u0435\\u0439\\u0441\\u0442\\u0432\\u0438\\u0442\\u0435\\u043b\\u044c\\u043d\\u043e \\u0437\\u0430\\u043a\\u043b\\u044e\\u0447\\u0430\\u043b\\u0430\\u0441\\u044c \\u0432 \\u0438\\u0441\\u0442\\u0451\\u043a\\u0448\\u0435\\u043c \\u0441\\u0440\\u043e\\u043a\\u0435 \\u0434\\u0435\\u0439\\u0441\\u0442\\u0432\\u0438\\u044f \\u0435\\u0433\\u043e \\u0440\\u0430\\u0431\\u043e\\u0447\\u0435\\u0439 \\u0432\\u0438\\u0437\\u044b \\u0432 \\u0438\\u044e\\u043d\\u0435. \\u041f\\u043e\\u043a\\u0430 \\u0445\\u043e\\u0434\\u0438\\u043b\\u0438 \\u0441\\u043b\\u0443\\u0445\\u0438 \\u043e \\u0442\\u043e\\u043c, \\u0447\\u0442\\u043e \\u041a\\u0430\\u043f\\u0440\\u0438\\u0437\\u043e\\u0432 \\u043a\\u0443\\u043f\\u0438\\u043b \\u043f\\u043e\\u0434\\u0434\\u0435\\u043b\\u044c\\u043d\\u044b\\u0439 \\u0432\\u043e\\u0435\\u043d\\u043d\\u044b\\u0439 \\u0431\\u0438\\u043b\\u0435\\u0442, \\u00ab\\u0423\\u0430\\u0439\\u043b\\u0434\\u00bb \\u0441\\u0432\\u044f\\u0437\\u0430\\u043b\\u0438\\u0441\\u044c \\u0441 \\u00ab\\u043d\\u0435\\u043a\\u043e\\u0442\\u043e\\u0440\\u044b\\u043c\\u0438 \\u043b\\u044e\\u0434\\u044c\\u043c\\u0438\\u00bb \\u0432 \\u0412\\u0430\\u0448\\u0438\\u043d\\u0433\\u0442\\u043e\\u043d\\u0435, \\u043a\\u043e\\u0442\\u043e\\u0440\\u044b\\u0435 \\u0443\\u0431\\u0435\\u0434\\u0438\\u043b\\u0438 \\u041a\\u0430\\u043f\\u0440\\u0438\\u0437\\u043e\\u0432\\u0430 \\u043f\\u0440\\u043e\\u0434\\u043b\\u0438\\u0442\\u044c \\u0432\\u0438\\u0437\\u0443 \\u0432 \\u0422\\u0443\\u0440\\u0446\\u0438\\u0438 \\u043f\\u0435\\u0440\\u0435\\u0434 \\u0432\\u043e\\u0437\\u0432\\u0440\\u0430\\u0449\\u0435\\u043d\\u0438\\u0435\\u043c \\u0432 \\u041c\\u0438\\u043d\\u043d\\u0435\\u0441\\u043e\\u0442\\u0443.\\n\\u00ab\\u0411\\u044b\\u043b \\u043d\\u0435\\u043a\\u043e\\u0442\\u043e\\u0440\\u044b\\u0439 \\u0441\\u0442\\u0440\\u0435\\u0441\\u0441, \\u0438 \\u043c\\u044b \\u0434\\u0435\\u0439\\u0441\\u0442\\u0432\\u0438\\u0442\\u0435\\u043b\\u044c\\u043d\\u043e \\u043f\\u043e\\u043b\\u0443\\u0447\\u0438\\u043b\\u0438 \\u0444\\u0430\\u043d\\u0442\\u0430\\u0441\\u0442\\u0438\\u0447\\u0435\\u0441\\u043a\\u0443\\u044e, \\u0441\\u0442\\u043e\\u043b\\u044c \\u043d\\u0435\\u043e\\u0431\\u0445\\u043e\\u0434\\u0438\\u043c\\u0443\\u044e \\u043f\\u043e\\u043c\\u043e\\u0449\\u044c \\u043e\\u0442 \\u043d\\u0435\\u043a\\u043e\\u0442\\u043e\\u0440\\u044b\\u0445 \\u043b\\u044e\\u0434\\u0435\\u0439 \\u0432 \\u0412\\u0430\\u0448\\u0438\\u043d\\u0433\\u0442\\u043e\\u043d\\u0435 \\u0438 \\u043e\\u0442 \\u043d\\u0430\\u0448\\u0438\\u0445 \\u0445\\u043e\\u0440\\u043e\\u0448\\u0438\\u0445 \\u0434\\u0440\\u0443\\u0437\\u0435\\u0439, \\u043a\\u043e\\u0442\\u043e\\u0440\\u044b\\u0435 \\u0432 \\u044d\\u0442\\u043e\\u043c \\u043f\\u043e\\u043d\\u0438\\u043c\\u0430\\u044e\\u0442 \\u0431\\u043e\\u043b\\u044c\\u0448\\u0435, \\u0447\\u0435\\u043c \\u043c\\u044b. \\u041c\\u044b \\u043d\\u0435 \\u0441\\u043c\\u043e\\u0433\\u043b\\u0438 \\u0431\\u044b \\u0441\\u0434\\u0435\\u043b\\u0430\\u0442\\u044c \\u044d\\u0442\\u043e \\u0431\\u0435\\u0437 \\u0438\\u0445 \\u043f\\u043e\\u043c\\u043e\\u0449\\u0438. \\u0422\\u0435\\u043f\\u0435\\u0440\\u044c \\u043c\\u044b \\u043f\\u0440\\u043e\\u0441\\u0442\\u043e \\u0441\\u0447\\u0430\\u0441\\u0442\\u043b\\u0438\\u0432\\u044b, \\u0447\\u0442\\u043e \\u041a\\u0438\\u0440\\u0438\\u043b\\u043b \\u0437\\u0434\\u0435\\u0441\\u044c, \\u0447\\u0442\\u043e \\u043e\\u043d \\u0432 \\u0431\\u0435\\u0437\\u043e\\u043f\\u0430\\u0441\\u043d\\u043e\\u0441\\u0442\\u0438 \\u0438 \\u0432\\u0441\\u0451 \\u0445\\u043e\\u0440\\u043e\\u0448\\u043e. \\u041f\\u0440\\u043e\\u0441\\u0442\\u043e \\u044d\\u0442\\u043e \\u0431\\u044b\\u043b\\u043e \\u0434\\u0430\\u0432\\u043d\\u043e, \\u043d\\u043e \\u0441\\u0435\\u0439\\u0447\\u0430\\u0441 \\u0432\\u0441\\u0451 \\u0445\\u043e\\u0440\\u043e\\u0448\\u043e, \\u0438 \\u043c\\u044b \\u043f\\u0440\\u043e\\u0441\\u0442\\u043e \\u0431\\u0443\\u0434\\u0435\\u043c \\u0436\\u0434\\u0430\\u0442\\u044c\\u00bb, \\u2014 \\u0441\\u043a\\u0430\\u0437\\u0430\\u043b \\u0413\\u0435\\u0440\\u0438\\u043d.\\n\\u0412\\u043f\\u043e\\u043b\\u043d\\u0435 \\u0432\\u043e\\u0437\\u043c\\u043e\\u0436\\u043d\\u043e, \\u043f\\u043e\\u0434 \\u00ab\\u043b\\u044e\\u0434\\u044c\\u043c\\u0438 \\u0432 \\u0412\\u0430\\u0448\\u0438\\u043d\\u0433\\u0442\\u043e\\u043d\\u0435\\u00bb \\u0433\\u0435\\u043d\\u043c\\u0435\\u043d\\u0435\\u0434\\u0436\\u0435\\u0440 \\u0438\\u043c\\u0435\\u043b \\u0432 \\u0432\\u0438\\u0434\\u0443 \\u043a\\u043e\\u0433\\u043e-\\u0442\\u043e \\u0438\\u0437 \\u0447\\u0438\\u0441\\u043b\\u0430 \\u0447\\u0438\\u043d\\u043e\\u0432\\u043d\\u0438\\u043a\\u043e\\u0432 \\u0438 \\u043f\\u043e\\u043b\\u0438\\u0442\\u0438\\u043a\\u043e\\u0432 \\u2014 \\u0438\\u043d\\u0430\\u0447\\u0435 \\u0437\\u0430\\u0447\\u0435\\u043c \\u043d\\u0443\\u0436\\u043d\\u043e \\u0443\\u0442\\u043e\\u0447\\u043d\\u0435\\u043d\\u0438\\u0435 \\u043f\\u0440\\u043e \\u0441\\u0442\\u043e\\u043b\\u0438\\u0446\\u0443 \\u0421\\u0428\\u0410? \\u0422\\u0430\\u043a\\u043e\\u0433\\u043e \\u0436\\u0435 \\u043c\\u043d\\u0435\\u043d\\u0438\\u044f \\u043f\\u0440\\u0438\\u0434\\u0435\\u0440\\u0436\\u0438\\u0432\\u0430\\u0435\\u0442\\u0441\\u044f, \\u043d\\u0430\\u043f\\u0440\\u0438\\u043c\\u0435\\u0440, \\u0447\\u0435\\u0448\\u0441\\u043a\\u0438\\u0439 \\u0436\\u0443\\u0440\\u043d\\u0430\\u043b\\u0438\\u0441\\u0442 O2 TV Sport \\u0418\\u0440\\u0436\\u0438 \\u0412\\u0438\\u0442\\u0435\\u043a, \\u043a\\u043e\\u0442\\u043e\\u0440\\u044b\\u0439 \\u0432 \\u0441\\u0432\\u043e\\u0451\\u043c \\u00ab\\u0442\\u0432\\u0438\\u0442\\u0442\\u0435\\u0440\\u0435\\u00bb \\u0441\\u0447\\u0438\\u0442\\u0430\\u0435\\u0442 \\u044d\\u0442\\u0438\\u0445 \\u00ab\\u043b\\u044e\\u0434\\u0435\\u0439\\u00bb \\u0430\\u043c\\u0435\\u0440\\u0438\\u043a\\u0430\\u043d\\u0441\\u043a\\u0438\\u043c\\u0438 \\u0434\\u0438\\u043f\\u043b\\u043e\\u043c\\u0430\\u0442\\u0430\\u043c\\u0438. \\u0418\\u043d\\u0442\\u0435\\u0440\\u0435\\u0441\\u043d\\u043e. \\u041e\\u0434\\u043d\\u0430\\u043a\\u043e \\u0432\\u0441\\u0451 \\u0436\\u0435 \\u043d\\u0435 \\u0431\\u0443\\u0434\\u0435\\u043c \\u0443\\u0445\\u043e\\u0434\\u0438\\u0442\\u044c \\u0432 \\u0440\\u0430\\u0441\\u0441\\u0443\\u0436\\u0434\\u0435\\u043d\\u0438\\u044f, \\u043d\\u0430\\u0432\\u0435\\u0440\\u043d\\u044f\\u043a\\u0430 \\u044d\\u0442\\u0430 \\u0442\\u0435\\u043c\\u0430 \\u0435\\u0449\\u0451 \\u043d\\u0435 \\u0440\\u0430\\u0437 \\u0432\\u0441\\u043f\\u043b\\u044b\\u0432\\u0451\\u0442. \\u0422\\u043e\\u0433\\u0434\\u0430-\\u0442\\u043e \\u0413\\u0435\\u0440\\u0438\\u043d \\u043e\\u0442\\u0432\\u0435\\u0442\\u0438\\u0442 \\u0442\\u043e\\u0447\\u043d\\u0435\\u0435.\\n\\u041a\\u0438\\u0440\\u0438\\u043b\\u043b \\u041a\\u0430\\u043f\\u0440\\u0438\\u0437\\u043e\\u0432\\n\\u0421\\u043f\\u0435\\u0446\\u0438\\u0430\\u043b\\u0438\\u0441\\u0442 \\u043f\\u0440\\u043e\\u0434\\u043e\\u043b\\u0436\\u0438\\u043b \\u0441\\u0432\\u043e\\u0439 \\u0441\\u043f\\u0438\\u0447. \\u0413\\u0435\\u0440\\u0438\\u043d \\u043f\\u0440\\u0438\\u0437\\u043d\\u0430\\u043b, \\u0447\\u0442\\u043e \\u041a\\u0430\\u043f\\u0440\\u0438\\u0437\\u043e\\u0432\\u0443 \\u0442\\u0430\\u043a\\u0436\\u0435 \\u043f\\u043e\\u0439\\u0434\\u0451\\u0442 \\u043d\\u0430 \\u043f\\u043e\\u043b\\u044c\\u0437\\u0443 \\u0440\\u0430\\u043d\\u043d\\u0435\\u0435 \\u043f\\u0440\\u0438\\u0431\\u044b\\u0442\\u0438\\u0435 \\u0432 \\u041c\\u0438\\u043d\\u043d\\u0435\\u0441\\u043e\\u0442\\u0443 \\u043d\\u0430 \\u0442\\u0440\\u0435\\u043d\\u0438\\u0440\\u043e\\u0432\\u043e\\u0447\\u043d\\u044b\\u0439 \\u0441\\u0431\\u043e\\u0440. \\u0412 \\u044d\\u0442\\u043e \\u0432\\u0440\\u0435\\u043c\\u044f \\u0432 \\u043f\\u0440\\u043e\\u0448\\u043b\\u043e\\u043c \\u0433\\u043e\\u0434\\u0443 \\u041a\\u0430\\u043f\\u0440\\u0438\\u0437\\u043e\\u0432 \\u0431\\u044b\\u043b \\u0437\\u0430\\u043d\\u044f\\u0442 \\u043f\\u0435\\u0440\\u0435\\u0433\\u043e\\u0432\\u043e\\u0440\\u0430\\u043c\\u0438 \\u043e \\u043d\\u043e\\u0432\\u043e\\u043c \\u043a\\u043e\\u043d\\u0442\\u0440\\u0430\\u043a\\u0442\\u0435 \\u043f\\u0435\\u0440\\u0435\\u0434 \\u043f\\u0440\\u0438\\u0435\\u0437\\u0434\\u043e\\u043c \\u043d\\u0430\\u043a\\u0430\\u043d\\u0443\\u043d\\u0435 \\u043d\\u0430 \\u0441\\u0431\\u043e\\u0440\\u044b. \\u041e\\u043d \\u043d\\u0430\\u0447\\u0430\\u043b \\u0441\\u0435\\u0437\\u043e\\u043d \\u0431\\u0435\\u0437 \\u0433\\u043e\\u043b\\u043e\\u0432 \\u0432 \\u0441\\u0432\\u043e\\u0438\\u0445 \\u043f\\u0435\\u0440\\u0432\\u044b\\u0445 \\u0432\\u043e\\u0441\\u044c\\u043c\\u0438 \\u043c\\u0430\\u0442\\u0447\\u0430\\u0445, \\u043d\\u043e \\u0437\\u0430\\u0442\\u0435\\u043c \\u00ab\\u0437\\u0430\\u0436\\u0451\\u0433\\u00bb \\u0438 \\u0437\\u0430\\u043a\\u043e\\u043d\\u0447\\u0438\\u043b \\u0447\\u0435\\u043c\\u043f\\u0438\\u043e\\u043d\\u0430\\u0442 \\u0441 \\u0440\\u0435\\u043a\\u043e\\u0440\\u0434\\u043d\\u044b\\u043c\\u0438 \\u0434\\u043b\\u044f \\u0444\\u0440\\u0430\\u043d\\u0448\\u0438\\u0437\\u044b 47 \\u0433\\u043e\\u043b\\u0430\\u043c\\u0438: \\u00ab\\u042d\\u0442\\u043e \\u0431\\u044b\\u043b\\u043e \\u043d\\u0430\\u043f\\u0440\\u044f\\u0436\\u0451\\u043d\\u043d\\u043e\\u0435 \\u043b\\u0435\\u0442\\u043e \\u0434\\u043b\\u044f \\u041a\\u0438\\u0440\\u0438\\u043b\\u043b\\u0430. \\u042f \\u0437\\u043d\\u0430\\u044e, \\u0447\\u0442\\u043e \\u043e\\u043d \\u0433\\u043e\\u0442\\u043e\\u0432. \\u042f \\u0437\\u043d\\u0430\\u044e, \\u0447\\u0442\\u043e \\u043e\\u043d \\u043f\\u043e\\u0434\\u0433\\u043e\\u0442\\u043e\\u0432\\u0438\\u043b\\u0441\\u044f. \\u042f \\u0437\\u043d\\u0430\\u044e, \\u0447\\u0442\\u043e \\u043e\\u043d \\u0441\\u0447\\u0430\\u0441\\u0442\\u043b\\u0438\\u0432 \\u0431\\u044b\\u0442\\u044c \\u0437\\u0434\\u0435\\u0441\\u044c. \\u042d\\u0442\\u043e \\u043f\\u0440\\u043e\\u0441\\u0442\\u043e \\u0432\\u043e\\u043f\\u0440\\u043e\\u0441 \\u0442\\u043e\\u0433\\u043e, \\u0447\\u0442\\u043e\\u0431\\u044b \\u0432\\u044b\\u0441\\u0442\\u0440\\u043e\\u0438\\u0442\\u044c \\u043f\\u0440\\u0430\\u0432\\u0438\\u043b\\u044c\\u043d\\u044b\\u0435, \\u0445\\u043e\\u0440\\u043e\\u0448\\u0438\\u0435 \\u0432\\u0437\\u0430\\u0438\\u043c\\u043e\\u043e\\u0442\\u043d\\u043e\\u0448\\u0435\\u043d\\u0438\\u044f. \\u0412\\u043e\\u0437\\u043c\\u043e\\u0436\\u043d\\u043e, \\u043e\\u043d \\u043d\\u0430\\u0447\\u0430\\u043b \\u043f\\u0440\\u043e\\u0448\\u043b\\u044b\\u0439 \\u0441\\u0435\\u0437\\u043e\\u043d \\u043c\\u0435\\u0434\\u043b\\u0435\\u043d\\u043d\\u043e, \\u043d\\u043e \\u0432 \\u043a\\u043e\\u043d\\u0446\\u0435 \\u043a\\u043e\\u043d\\u0446\\u043e\\u0432 \\u043e\\u043d \\u0441 \\u043b\\u0438\\u0445\\u0432\\u043e\\u0439 \\u043a\\u043e\\u043c\\u043f\\u0435\\u043d\\u0441\\u0438\\u0440\\u043e\\u0432\\u0430\\u043b \\u044d\\u0442\\u043e\\u00bb.\\n\\u0413\\u0435\\u0440\\u0438\\u043d \\u0442\\u0430\\u043a\\u0436\\u0435 \\u0432\\u044b\\u0441\\u043a\\u0430\\u0437\\u0430\\u043b\\u0441\\u044f \\u043e\\u0431 \\u043e\\u0431\\u043c\\u0435\\u043d\\u0435 \\u0434\\u0440\\u0443\\u0433\\u043e\\u0433\\u043e \\u0440\\u043e\\u0441\\u0441\\u0438\\u044f\\u043d\\u0438\\u043d\\u0430 \\u0438\\u0437 \\u00ab\\u041c\\u0438\\u043d\\u043d\\u0435\\u0441\\u043e\\u0442\\u044b\\u00bb \\u2014 \\u0437\\u0430\\u0449\\u0438\\u0442\\u043d\\u0438\\u043a\\u0430 \\u0414\\u043c\\u0438\\u0442\\u0440\\u0438\\u044f \\u041a\\u0443\\u043b\\u0438\\u043a\\u043e\\u0432\\u0430 \\u0432 \\u00ab\\u0410\\u043d\\u0430\\u0445\\u0430\\u0439\\u043c \\u0414\\u0430\\u043a\\u0441\\u00bb. \\u042d\\u0442\\u043e\\u0442 \\u0448\\u0430\\u0433 \\u043e\\u0441\\u0432\\u043e\\u0431\\u043e\\u0434\\u0438\\u043b $ 2,25 \\u043c\\u043b\\u043d \\u0432 \\u043f\\u043b\\u0430\\u0442\\u0451\\u0436\\u043d\\u043e\\u0439 \\u0432\\u0435\\u0434\\u043e\\u043c\\u043e\\u0441\\u0442\\u0438. \\u041a \\u0442\\u043e\\u043c\\u0443 \\u0436\\u0435 \\u0433\\u0435\\u043d\\u043c\\u0435\\u043d\\u0435\\u0434\\u0436\\u0435\\u0440 \\u0440\\u0435\\u0448\\u0438\\u043b \\u043f\\u043e\\u0439\\u0442\\u0438 \\u043d\\u0430 \\u043e\\u0431\\u043c\\u0435\\u043d, \\u0447\\u0442\\u043e\\u0431\\u044b \\u0434\\u0430\\u0442\\u044c \\u0448\\u0430\\u043d\\u0441\\u044b \\u0434\\u0440\\u0443\\u0433\\u0438\\u043c \\u0438\\u0433\\u0440\\u043e\\u043a\\u0430\\u0445 \\u0432 \\u0441\\u043e\\u0441\\u0442\\u0430\\u0432\\u0435: \\u0430 \\u0438\\u043c\\u0435\\u043d\\u043d\\u043e 22-\\u043b\\u0435\\u0442\\u043d\\u0435\\u043c\\u0443 \\u041a\\u0430\\u043b\\u0435\\u043d\\u0443 \\u042d\\u0434\\u0434\\u0438\\u0441\\u043e\\u043d\\u0443 \\u0438 31-\\u043b\\u0435\\u0442\\u043d\\u0435\\u043c\\u0443 \\u0410\\u043d\\u0434\\u0440\\u0435\\u044e \\u0428\\u0443\\u0441\\u0442\\u0440\\u0443.\\n\\u00ab\\u041c\\u044b \\u043f\\u0440\\u043e\\u0441\\u0442\\u043e \\u0434\\u0443\\u043c\\u0430\\u0435\\u043c, \\u0447\\u0442\\u043e, \\u043a\\u043e\\u0433\\u0434\\u0430 \\u043d\\u0430\\u0448\\u0438 \\u0438\\u0433\\u0440\\u043e\\u043a\\u0438 \\u043e\\u043f\\u0440\\u0430\\u0432\\u044f\\u0442\\u0441\\u044f \\u043e\\u0442 \\u0442\\u0440\\u0430\\u0432\\u043c\\u2026 \\u0442\\u043e\\u0433\\u0434\\u0430 \\u0443 \\u043d\\u0430\\u0441 \\u0431\\u0443\\u0434\\u0435\\u0442 \\u0440\\u0435\\u0430\\u043b\\u044c\\u043d\\u0430\\u044f \\u043f\\u0440\\u043e\\u0431\\u043b\\u0435\\u043c\\u0430, \\u043f\\u043e\\u0442\\u043e\\u043c\\u0443 \\u0447\\u0442\\u043e \\u043c\\u044b \\u043e\\u0431\\u043c\\u0435\\u043d\\u044f\\u043b\\u0438 \\u0438\\u0433\\u0440\\u043e\\u043a\\u0430, \\u043a\\u043e\\u0442\\u043e\\u0440\\u044b\\u0439 \\u0441\\u043b\\u0438\\u0448\\u043a\\u043e\\u043c \\u0445\\u043e\\u0440\\u043e\\u0448, \\u0447\\u0442\\u043e\\u0431\\u044b \\u0435\\u0433\\u043e \\u043e\\u0431\\u043c\\u0435\\u043d\\u0438\\u0432\\u0430\\u0442\\u044c. \\u041d\\u0430\\u043c \\u043a\\u0430\\u043a \\u0431\\u044b \\u043f\\u0440\\u0438\\u0448\\u043b\\u043e\\u0441\\u044c \\u043f\\u0440\\u0438\\u043d\\u044f\\u0442\\u044c \\u0440\\u0435\\u0448\\u0435\\u043d\\u0438\\u0435 \\u043a\\u0430\\u043a \\u0431\\u0438\\u0437\\u043d\\u0435\\u0441\\u043c\\u0435\\u043d\\u0430\\u043c, \\u0438 \\u0432\\u044b \\u0437\\u043d\\u0430\\u0435\\u0442\\u0435, \\u043d\\u0430\\u0441\\u043a\\u043e\\u043b\\u044c\\u043a\\u043e \\u0446\\u0435\\u043d\\u043d\\u044b\\u043c \\u044f\\u0432\\u043b\\u044f\\u0435\\u0442\\u0441\\u044f \\u0441\\u0432\\u043e\\u0431\\u043e\\u0434\\u043d\\u043e\\u0435 \\u043c\\u0435\\u0441\\u0442\\u043e \\u043f\\u043e\\u0434 \\u043f\\u043e\\u0442\\u043e\\u043b\\u043a\\u043e\\u043c \\u0437\\u0430\\u0440\\u043f\\u043b\\u0430\\u0442 \\u0432 \\u043d\\u0430\\u0448\\u0438 \\u0434\\u043d\\u0438, \\u043e\\u0441\\u043e\\u0431\\u0435\\u043d\\u043d\\u043e \\u0432 \\u043d\\u0430\\u0448\\u0435\\u0439 \\u0441\\u0438\\u0442\\u0443\\u0430\\u0446\\u0438\\u0438. \\u041c\\u044b \\u043f\\u0440\\u043e\\u0441\\u0442\\u043e \\u0447\\u0443\\u0432\\u0441\\u0442\\u0432\\u0443\\u0435\\u043c, \\u0447\\u0442\\u043e \\u0443 \\u043d\\u0430\\u0441 \\u0432\\u0441\\u0451 \\u0435\\u0449\\u0451 \\u0434\\u043e\\u0441\\u0442\\u0430\\u0442\\u043e\\u0447\\u043d\\u043e \\u0445\\u043e\\u0440\\u043e\\u0448\\u0438\\u0445 \\u0437\\u0430\\u0449\\u0438\\u0442\\u043d\\u0438\\u043a\\u043e\\u0432\\u00bb, \\u2014 \\u0437\\u0430\\u043a\\u043b\\u044e\\u0447\\u0438\\u043b \\u0413\\u0435\\u0440\\u0438\\u043d.\\n\\u041a\\u043e\\u043d\\u0435\\u0447\\u043d\\u043e, \\u0432 \\u00ab\\u041c\\u0438\\u043d\\u043d\\u0435\\u0441\\u043e\\u0442\\u0435\\u00bb \\u0441\\u0442\\u0430\\u043b\\u043e \\u043d\\u0430 \\u043e\\u0434\\u043d\\u043e\\u0433\\u043e \\u0440\\u043e\\u0441\\u0441\\u0438\\u044f\\u043d\\u0438\\u043d\\u0430 \\u043c\\u0435\\u043d\\u044c\\u0448\\u0435, \\u0438 \\u044d\\u0442\\u043e \\u043f\\u0435\\u0447\\u0430\\u043b\\u044c\\u043d\\u043e. \\u041d\\u043e \\u0432 \\u0442\\u043e \\u0436\\u0435 \\u0432\\u0440\\u0435\\u043c\\u044f \\u0441\\u0432\\u043e\\u044e \\u0433\\u043b\\u0430\\u0432\\u043d\\u0443\\u044e \\u0437\\u0432\\u0451\\u0437\\u0434\\u043e\\u0447\\u043a\\u0443 \\u00ab\\u0423\\u0430\\u0439\\u043b\\u0434\\u00bb \\u0441\\u043e\\u0445\\u0440\\u0430\\u043d\\u0438\\u043b\\u0438 \\u2014 \\u0438 \\u044d\\u0442\\u043e \\u043d\\u0435 \\u043c\\u043e\\u0436\\u0435\\u0442 \\u043d\\u0435 \\u0440\\u0430\\u0434\\u043e\\u0432\\u0430\\u0442\\u044c. \\u0411\\u0443\\u0434\\u0435\\u043c \\u043d\\u0430\\u0434\\u0435\\u044f\\u0442\\u044c\\u0441\\u044f, \\u0447\\u0442\\u043e \\u043d\\u0430\\u043f\\u0440\\u044f\\u0436\\u0451\\u043d\\u043d\\u043e\\u0435 \\u043b\\u0435\\u0442\\u043e \\u043b\\u0438\\u0448\\u044c \\u0437\\u0430\\u043c\\u043e\\u0442\\u0438\\u0432\\u0438\\u0440\\u0443\\u0435\\u0442 \\u041a\\u0430\\u043f\\u0440\\u0438\\u0437\\u043e\\u0432\\u0430 \\u043d\\u0430 \\u043d\\u043e\\u0432\\u044b\\u0435 \\u0441\\u0432\\u0435\\u0440\\u0448\\u0435\\u043d\\u0438\\u044f.\"\n        ],\n        \"semantic_type\": \"\",\n        \"description\": \"\"\n      }\n    },\n    {\n      \"column\": \"title\",\n      \"properties\": {\n        \"dtype\": \"string\",\n        \"num_unique_values\": 15778,\n        \"samples\": [\n          \"\\u0420\\u0443\\u0431\\u043b\\u0451\\u0432 \\u043f\\u0440\\u043e\\u0438\\u0433\\u0440\\u0430\\u043b \\u0444\\u0438\\u043d\\u0430\\u043b \\u0426\\u0438\\u0446\\u0438\\u043f\\u0430\\u0441\\u0443. \\u0421\\u043b\\u0435\\u0434\\u0443\\u044e\\u0449\\u0438\\u0439 \\u043f\\u043e\\u0435\\u0434\\u0438\\u043d\\u043e\\u043a \\u0440\\u043e\\u0441\\u0441\\u0438\\u044f\\u043d\\u0438\\u043d\\u0430 \\u0431\\u0443\\u0434\\u0435\\u0442 \\u0443\\u0436\\u0435 \\u0432 \\u0410\\u0432\\u0441\\u0442\\u0440\\u0430\\u043b\\u0438\\u0438\",\n          \"\\u00ab\\u041d\\u0435 \\u0432\\u044b\\u0434\\u0432\\u0438\\u043d\\u0443 \\u043e\\u0431\\u0432\\u0438\\u043d\\u0435\\u043d\\u0438\\u0439, \\u0435\\u0441\\u043b\\u0438 \\u043f\\u043e\\u0434\\u043f\\u0438\\u0448\\u0435\\u0442 \\u043a\\u043e\\u043d\\u0442\\u0440\\u0430\\u043a\\u0442\\u00bb. \\u0425\\u0430\\u0441\\u0431\\u0438\\u043a \\u0432\\u0440\\u0435\\u0437\\u0430\\u043b \\u043e\\u043b\\u0438\\u043c\\u043f\\u0438\\u0439\\u0441\\u043a\\u043e\\u043c\\u0443 \\u0447\\u0435\\u043c\\u043f\\u0438\\u043e\\u043d\\u0443!\",\n          \"\\u042f\\u0440\\u0451\\u043c\\u0435\\u043d\\u043a\\u043e: \\u043d\\u0430\\u0434\\u0435\\u044e\\u0441\\u044c, \\u0432\\u0442\\u043e\\u0440\\u043e\\u0439 \\u043a\\u0440\\u0443\\u0433 \\u0427\\u0420 \\u0431\\u0443\\u0434\\u0435\\u0442 \\u0438\\u043d\\u0442\\u0435\\u0440\\u0435\\u0441\\u043d\\u0435\\u0435\"\n        ],\n        \"semantic_type\": \"\",\n        \"description\": \"\"\n      }\n    },\n    {\n      \"column\": \"subtitle\",\n      \"properties\": {\n        \"dtype\": \"string\",\n        \"num_unique_values\": 15758,\n        \"samples\": [\n          \"\\u0422\\u0438\\u043c\\u043e\\u0444\\u0435\\u0439 \\u041c\\u043e\\u0437\\u0433\\u043e\\u0432 \\u043f\\u043e\\u043c\\u043e\\u0433\\u0430\\u043b \\u041b\\u0435\\u0431\\u0440\\u043e\\u043d\\u0443 \\u0414\\u0436\\u0435\\u0439\\u043c\\u0441\\u0443 \\u0437\\u0430\\u0432\\u043e\\u0451\\u0432\\u044b\\u0432\\u0430\\u0442\\u044c \\u0447\\u0435\\u043c\\u043f\\u0438\\u043e\\u043d\\u0441\\u0442\\u0432\\u043e \\u0432 \\u00ab\\u041a\\u043b\\u0438\\u0432\\u043b\\u0435\\u043d\\u0434\\u0435\\u00bb, \\u0430 \\u0441\\u0435\\u0439\\u0447\\u0430\\u0441 \\u043e\\u0442 \\u043d\\u0435\\u0433\\u043e \\u043e\\u0442\\u043a\\u0430\\u0437\\u0430\\u043b\\u0438\\u0441\\u044c \\u0432 \\u043d\\u0430\\u0446\\u0438\\u043e\\u043d\\u0430\\u043b\\u044c\\u043d\\u043e\\u0439 \\u0441\\u0431\\u043e\\u0440\\u043d\\u043e\\u0439.\",\n          \"\\u0422\\u043e\\u0442 \\u0441\\u043b\\u0443\\u0447\\u0430\\u0439, \\u043a\\u043e\\u0433\\u0434\\u0430 \\u043d\\u0430\\u0448 \\u0444\\u0443\\u0442\\u0431\\u043e\\u043b \\u043f\\u0440\\u0438\\u043d\\u043e\\u0441\\u0438\\u0442 \\u0430\\u0431\\u0441\\u043e\\u043b\\u044e\\u0442\\u043d\\u043e\\u0435 \\u0441\\u0447\\u0430\\u0441\\u0442\\u044c\\u0435.\",\n          \"\\u0416\\u0435\\u0440\\u0442\\u0432\\u0430\\u043c\\u0438 \\u043a\\u043e\\u043d\\u0444\\u043b\\u0438\\u043a\\u0442\\u0430 \\u0441 \\u043f\\u0440\\u0430\\u0432\\u0438\\u0442\\u0435\\u043b\\u044c\\u0441\\u0442\\u0432\\u043e\\u043c \\u0443\\u0436\\u0435 \\u043f\\u0430\\u043b\\u0438 \\u0441\\u0435\\u043c\\u0435\\u0439\\u043d\\u044b\\u0435 \\u0443\\u0437\\u044b, \\u0430\\u043a\\u043a\\u0430\\u0443\\u043d\\u0442 \\u0432 \\u00ab\\u0442\\u0432\\u0438\\u0442\\u0442\\u0435\\u0440\\u0435\\u00bb \\u0438 \\u0433\\u0440\\u0430\\u0436\\u0434\\u0430\\u043d\\u0441\\u0442\\u0432\\u043e. \\u041d\\u0430 \\u043e\\u0447\\u0435\\u0440\\u0435\\u0434\\u0438 \\u2014 \\u0441\\u0432\\u043e\\u0431\\u043e\\u0434\\u0430.\"\n        ],\n        \"semantic_type\": \"\",\n        \"description\": \"\"\n      }\n    },\n    {\n      \"column\": \"date\",\n      \"properties\": {\n        \"dtype\": \"string\",\n        \"num_unique_values\": 15744,\n        \"samples\": [\n          \"24 \\u0430\\u0432\\u0433\\u0443\\u0441\\u0442\\u0430 2022, 20:00 \\u041c\\u0421\\u041a\",\n          \"26 \\u0438\\u044e\\u043d\\u044f 2021, 12:00 \\u041c\\u0421\\u041a\",\n          \"4 \\u043c\\u0430\\u044f 2023, 23:10 \\u041c\\u0421\\u041a\"\n        ],\n        \"semantic_type\": \"\",\n        \"description\": \"\"\n      }\n    },\n    {\n      \"column\": \"sport\",\n      \"properties\": {\n        \"dtype\": \"category\",\n        \"num_unique_values\": 7,\n        \"samples\": [\n          \"auto\",\n          \"basketball\",\n          \"tennis\"\n        ],\n        \"semantic_type\": \"\",\n        \"description\": \"\"\n      }\n    }\n  ]\n}"
            }
          },
          "metadata": {},
          "execution_count": 4
        }
      ]
    },
    {
      "cell_type": "code",
      "source": [
        "# описание столбцов:\n",
        "\n",
        "# text - статья\n",
        "# title - ее заголовок\n",
        "# subtitle - подзаголовок статьи\n",
        "# date - дата публикации (str)\n",
        "# sport - вид спорта\n",
        "\n"
      ],
      "metadata": {
        "id": "nPsUprwI6p_B"
      },
      "execution_count": null,
      "outputs": []
    },
    {
      "cell_type": "code",
      "source": [
        "# для предсказания о каком виде спорта (sport) идет речь в статье, используем только заголовок (title) и подзаголовок (subtitle)\n",
        "names = ['title', 'subtitle', 'sport']\n",
        "data = data[names]"
      ],
      "metadata": {
        "id": "KGIQA4Eq3UzE"
      },
      "execution_count": null,
      "outputs": []
    },
    {
      "cell_type": "code",
      "source": [
        "# соединим title & subtitle в одну строку:\n",
        "data['title'] = data['title'].apply(lambda txt: txt + ' ' if txt[-1] in '.?!;' else txt + '. ')\n",
        "data['title&subtitle'] = data['title'] + data['subtitle']"
      ],
      "metadata": {
        "id": "WfYmDDC93U18",
        "colab": {
          "base_uri": "https://localhost:8080/"
        },
        "outputId": "469c5666-013d-4368-c6ad-06e566458daf"
      },
      "execution_count": null,
      "outputs": [
        {
          "output_type": "stream",
          "name": "stderr",
          "text": [
            "<ipython-input-6-d09c71b2f11a>:2: SettingWithCopyWarning: \n",
            "A value is trying to be set on a copy of a slice from a DataFrame.\n",
            "Try using .loc[row_indexer,col_indexer] = value instead\n",
            "\n",
            "See the caveats in the documentation: https://pandas.pydata.org/pandas-docs/stable/user_guide/indexing.html#returning-a-view-versus-a-copy\n",
            "  data['title'] = data['title'].apply(lambda txt: txt + ' ' if txt[-1] in '.?!;' else txt + '. ')\n",
            "<ipython-input-6-d09c71b2f11a>:3: SettingWithCopyWarning: \n",
            "A value is trying to be set on a copy of a slice from a DataFrame.\n",
            "Try using .loc[row_indexer,col_indexer] = value instead\n",
            "\n",
            "See the caveats in the documentation: https://pandas.pydata.org/pandas-docs/stable/user_guide/indexing.html#returning-a-view-versus-a-copy\n",
            "  data['title&subtitle'] = data['title'] + data['subtitle']\n"
          ]
        }
      ]
    },
    {
      "cell_type": "code",
      "source": [
        "# взглянем что получилось:\n",
        "data['title&subtitle'].values[:5].tolist()"
      ],
      "metadata": {
        "colab": {
          "base_uri": "https://localhost:8080/"
        },
        "id": "r6-MJfZG3U47",
        "outputId": "3c14fa83-a5a8-4633-ccaf-0b1c09bae0b4"
      },
      "execution_count": null,
      "outputs": [
        {
          "output_type": "execute_result",
          "data": {
            "text/plain": [
              "['10 худших команд в истории Формулы-1. От деревенских энтузиастов до «Ламборгини». Одна из команд была связана с Советским Союзом.',\n",
              " 'Норрис в «Феррари», Леклер в «Мерседесе»?! Разбираем свежие трансферные слухи. Через год Формулу-1 могут подкараулить мощнейшие перестановки.',\n",
              " 'Скучаете по шинным войнам в Формуле-1? Вот 2 причины, почему монополия неизбежна. Хэмилтон за возвращение дуэли шинников, но это лишь мечты.',\n",
              " '8 громких случаев, когда пилоты Формулы-1 покидали команду прямо по ходу сезона. Однажды «Феррари» выгнала гонщика уже после первого этапа.',\n",
              " 'Звезда IndyCar рвётся в Ф-1. Но у Палоу не получится стать новым Монтойей и Вильнёвом. Алекс, безусловно, талантлив, но выстрелить сразу у него вряд ли получится.']"
            ]
          },
          "metadata": {},
          "execution_count": 7
        }
      ]
    },
    {
      "cell_type": "code",
      "source": [],
      "metadata": {
        "id": "BI7bHl8s3U7e"
      },
      "execution_count": null,
      "outputs": []
    },
    {
      "cell_type": "markdown",
      "source": [
        "### Анализ данных\n"
      ],
      "metadata": {
        "id": "yTEHxhL67X3N"
      }
    },
    {
      "cell_type": "code",
      "source": [
        "# какие виды спорта представлены, сколько их всего, есть ли дисбаланс классов, наличие пропусков:\n",
        "data['sport'].value_counts(dropna=False).plot(kind='bar')\n",
        "plt.xticks(rotation=0)\n",
        "plt.title('Распределение статей по видам спорта');"
      ],
      "metadata": {
        "colab": {
          "base_uri": "https://localhost:8080/",
          "height": 472
        },
        "id": "cAu7lRk03U-a",
        "outputId": "a61d9159-d1ec-4e6d-ae31-4ce377d52766"
      },
      "execution_count": null,
      "outputs": [
        {
          "output_type": "display_data",
          "data": {
            "text/plain": [
              "<Figure size 640x480 with 1 Axes>"
            ],
            "image/png": "[encoded data removed]"
          },
          "metadata": {}
        }
      ]
    },
    {
      "cell_type": "markdown",
      "source": [
        "Всего 7 классов,\n",
        "пропусков нет,\n",
        "только теннис немного просел, считаем классы сбалансированными.\n",
        "Зависит ли длина заголовков и кол-во цифр в них от вида спорта?"
      ],
      "metadata": {
        "id": "2FqAJgK-WOQE"
      }
    },
    {
      "cell_type": "code",
      "source": [
        "%%time\n",
        "# длина заголовков:\n",
        "data['title&subtitle_len'] = data['title&subtitle'].apply(lambda txt: len(txt))\n",
        "\n",
        "# кол-во цифр в заголовке:\n",
        "data['digit_num'] = data['title&subtitle'].apply(lambda txt: sum(1 for char in txt if char.isdigit()))"
      ],
      "metadata": {
        "colab": {
          "base_uri": "https://localhost:8080/"
        },
        "id": "ECIRXI2e3VG0",
        "outputId": "8c636f82-12ae-4eea-8228-93919d2f863a"
      },
      "execution_count": null,
      "outputs": [
        {
          "output_type": "stream",
          "name": "stdout",
          "text": [
            "CPU times: user 244 ms, sys: 5.64 ms, total: 249 ms\n",
            "Wall time: 249 ms\n"
          ]
        }
      ]
    },
    {
      "cell_type": "code",
      "source": [
        "plt.figure(figsize=(14., 4.5))\n",
        "# распределение длин заголовков по видам спорта:\n",
        "ax1 = plt.subplot(1,2,1)\n",
        "sns.boxplot(data=data,\n",
        "            x='sport',\n",
        "            y='title&subtitle_len',\n",
        "            ax=ax1)\n",
        "plt.title('Длина заголовка')\n",
        "\n",
        "ax2 = plt.subplot(1,2,2)\n",
        "sns.boxplot(data=data,\n",
        "            x='sport',\n",
        "            y='digit_num',\n",
        "            ax=ax2)\n",
        "plt.title('Кол-во цифр в заголовке');\n"
      ],
      "metadata": {
        "colab": {
          "base_uri": "https://localhost:8080/",
          "height": 429
        },
        "id": "-FmTEuhS3VJT",
        "outputId": "1b99b75c-2392-445f-8c89-d6f4400a9e42"
      },
      "execution_count": null,
      "outputs": [
        {
          "output_type": "display_data",
          "data": {
            "text/plain": [
              "<Figure size 1400x450 with 2 Axes>"
            ],
            "image/png": "[encoded data removed]"
          },
          "metadata": {}
        }
      ]
    },
    {
      "cell_type": "markdown",
      "source": [
        "Теннис чемпион по длине заголовка, а футбол и бокс заметно отстают.\n",
        "В боксе и воллейболе цифры - редкость, а вот в теннисе и автоспорте нет."
      ],
      "metadata": {
        "id": "2CZpV5OkWwWS"
      }
    },
    {
      "cell_type": "code",
      "source": [
        "# исследовать распределение частей речи (POS) по классам\n",
        "# not today..."
      ],
      "metadata": {
        "id": "dpaH-6b93VRb"
      },
      "execution_count": null,
      "outputs": []
    },
    {
      "cell_type": "markdown",
      "source": [
        "### Dataset\n",
        "Преобразуем данные в Dataset формат для удобства их обработки"
      ],
      "metadata": {
        "id": "nCErYnTlCn2m"
      }
    },
    {
      "cell_type": "code",
      "source": [
        "import datasets"
      ],
      "metadata": {
        "id": "55tV3aCQ3VW8"
      },
      "execution_count": null,
      "outputs": []
    },
    {
      "cell_type": "code",
      "source": [
        "# данные будут в формате Dataset:\n",
        "dataset = datasets.Dataset.from_pandas(data.loc[:, ['title&subtitle', 'sport']])\n",
        "dataset = dataset.shuffle(seed=12)\n",
        "\n",
        "# сменим имя title&subtitle -> text:\n",
        "dataset = dataset.rename_column('title&subtitle', 'text')"
      ],
      "metadata": {
        "id": "KjlWMSxK3VZU"
      },
      "execution_count": null,
      "outputs": []
    },
    {
      "cell_type": "code",
      "source": [
        "# разделим на train/eval части:\n",
        "dataset = dataset.train_test_split(test_size=0.2, shuffle=True, seed=14)"
      ],
      "metadata": {
        "id": "3RoxyZbz3Vb8"
      },
      "execution_count": null,
      "outputs": []
    },
    {
      "cell_type": "code",
      "source": [
        "dataset"
      ],
      "metadata": {
        "colab": {
          "base_uri": "https://localhost:8080/"
        },
        "id": "619WEIhn3Ver",
        "outputId": "251b28af-4f1c-4031-c0aa-b83e4909f570"
      },
      "execution_count": null,
      "outputs": [
        {
          "output_type": "execute_result",
          "data": {
            "text/plain": [
              "DatasetDict({\n",
              "    train: Dataset({\n",
              "        features: ['text', 'sport'],\n",
              "        num_rows: 12837\n",
              "    })\n",
              "    test: Dataset({\n",
              "        features: ['text', 'sport'],\n",
              "        num_rows: 3210\n",
              "    })\n",
              "})"
            ]
          },
          "metadata": {},
          "execution_count": 12
        }
      ]
    },
    {
      "cell_type": "code",
      "source": [
        "# пронумеруем каждый вид спорта:\n",
        "N = 7 # видов спорта в датасете\n",
        "label2id = {k: v for k, v in zip(data['sport'].value_counts().index, range(N))}\n",
        "id2label = {v: k for k, v in label2id.items()}\n",
        "print(label2id)"
      ],
      "metadata": {
        "id": "x4T8dBv6DcYl",
        "colab": {
          "base_uri": "https://localhost:8080/"
        },
        "outputId": "63771cb2-7493-4e81-b471-12881d8a5268"
      },
      "execution_count": null,
      "outputs": [
        {
          "output_type": "stream",
          "name": "stdout",
          "text": [
            "{'volleyball': 0, 'hockey': 1, 'boxing': 2, 'basketball': 3, 'auto': 4, 'football': 5, 'tennis': 6}\n"
          ]
        }
      ]
    },
    {
      "cell_type": "code",
      "source": [],
      "metadata": {
        "id": "U77Qpkw7DcVm"
      },
      "execution_count": null,
      "outputs": []
    },
    {
      "cell_type": "markdown",
      "source": [
        "## Глава 2. ruBert vs mBert"
      ],
      "metadata": {
        "id": "FfcGHNpyIdpb"
      }
    },
    {
      "cell_type": "markdown",
      "source": [
        "### Выбор модели\n",
        "Сравним работу двух encoder'ов"
      ],
      "metadata": {
        "id": "-J1kzDdqH2fQ"
      }
    },
    {
      "cell_type": "code",
      "source": [
        "#model_checkpoint = \"DeepPavlov/rubert-base-cased\"\n",
        "model_checkpoint = \"google-bert/bert-base-multilingual-cased\""
      ],
      "metadata": {
        "id": "qVA9g03bH4gO"
      },
      "execution_count": null,
      "outputs": []
    },
    {
      "cell_type": "markdown",
      "source": [
        "### Preprocessing"
      ],
      "metadata": {
        "id": "Tdumtzc_Diud"
      }
    },
    {
      "cell_type": "code",
      "source": [
        "from transformers import AutoTokenizer\n",
        "\n",
        "tokenizer = AutoTokenizer.from_pretrained(model_checkpoint)\n",
        "\n",
        "tokenizer.is_fast"
      ],
      "metadata": {
        "id": "ePaovn1X2_p7",
        "colab": {
          "base_uri": "https://localhost:8080/",
          "height": 287,
          "referenced_widgets": [
            "cdc2306085ed496db21be7e8907a64bd",
            "2fc79dd09cf64771abe049fadb4b7ce9",
            "f03c33dad4a34421a0976f536e61a5d1",
            "010904b87b984361a6205112f6ce309c",
            "2f90f524af1f489cac9d3a2468136225",
            "9023f3e1d35c475a8e56ecf5df2c8856",
            "f420ceecbc934f6d9caea35a9ace922f",
            "8e505c66964549dabc7299a72dd1a94e",
            "aabaf469c929413f92ffd90576c46511",
            "f783bec17ddd4326a516d250b5d8567f",
            "52e784b993054181900792dfcf075f7a",
            "e6fb393233094ccf8a07d7ca6e9f57bc",
            "d6121dee12294e2da424c58adf896feb",
            "1131f779c4c74cacb38ee49956f6995f",
            "513e97a4799b49ac875c50bb9ac19d09",
            "37186eae6e754207ae92873034687229",
            "da4290fa7edd4b5c8edac92c0fee3d25",
            "c807f99ee15d454faeea0af7f02ed9e8",
            "4a60cdd4a23849ab9614d163ac25d4e2",
            "f8e9e50c78e448f5b24f1d4083eafcb8",
            "a4b2446cf2b24723bd390fd962dc5040",
            "15ba7ca18642418eaab765d8db0a8832",
            "302400a2540c456d9bd8a63559242142",
            "ed1c8e4f5d524186a452ada8f19a515f",
            "7586072a354e4f369e806ab0da22006b",
            "8cec1f89cc504648aeeca05721cbc3b8",
            "ddd9c9f86f774f059ce0acb61ff5b194",
            "bbcd64aa5484433294dc7abba590f894",
            "015788a2b87649cf951e9aed4f28ede0",
            "f418a0ab926548ff8741f20252df955c",
            "e14d8e2e8619490f8349b78e2ca4aca4",
            "abcf025e8e9c420baf39c85f3aa8d0a6",
            "b49d1e1f161c466cbc5e67ee90c6300c",
            "19dd4c5df65147648db53b6dfce58274",
            "e3fd66465d7f4822a1f89c89315fd248",
            "2e319796594546cf85f5c4546d177b99",
            "e8453a5f814e4468bbda38526ca3f96b",
            "c65e2078f0354b82b7080f26f007301e",
            "291f4e5a23f643f2a7bce8091b4e4c08",
            "d13837192698458884c4ea1786d5221d",
            "ffcdaed2a8b94907a13ec0e66f42997e",
            "7f9248efbbd4479cbd194ae19f2e54f6",
            "5b09515442b34af08d434794cd32c064",
            "3e56f29490b84c449fb62de1eba4bd3b"
          ]
        },
        "collapsed": true,
        "outputId": "c606261f-1620-47c9-fb14-5812827c5fbf"
      },
      "execution_count": null,
      "outputs": [
        {
          "output_type": "stream",
          "name": "stderr",
          "text": [
            "/usr/local/lib/python3.10/dist-packages/huggingface_hub/utils/_auth.py:94: UserWarning: \n",
            "The secret `HF_TOKEN` does not exist in your Colab secrets.\n",
            "To authenticate with the Hugging Face Hub, create a token in your settings tab (https://huggingface.co/settings/tokens), set it as secret in your Google Colab and restart your session.\n",
            "You will be able to reuse this secret in all of your notebooks.\n",
            "Please note that authentication is recommended but still optional to access public models or datasets.\n",
            "  warnings.warn(\n"
          ]
        },
        {
          "output_type": "display_data",
          "data": {
            "text/plain": [
              "tokenizer_config.json:   0%|          | 0.00/49.0 [00:00<?, ?B/s]"
            ],
            "application/vnd.jupyter.widget-view+json": {
              "version_major": 2,
              "version_minor": 0,
              "model_id": "cdc2306085ed496db21be7e8907a64bd"
            }
          },
          "metadata": {}
        },
        {
          "output_type": "display_data",
          "data": {
            "text/plain": [
              "config.json:   0%|          | 0.00/625 [00:00<?, ?B/s]"
            ],
            "application/vnd.jupyter.widget-view+json": {
              "version_major": 2,
              "version_minor": 0,
              "model_id": "e6fb393233094ccf8a07d7ca6e9f57bc"
            }
          },
          "metadata": {}
        },
        {
          "output_type": "display_data",
          "data": {
            "text/plain": [
              "vocab.txt:   0%|          | 0.00/996k [00:00<?, ?B/s]"
            ],
            "application/vnd.jupyter.widget-view+json": {
              "version_major": 2,
              "version_minor": 0,
              "model_id": "302400a2540c456d9bd8a63559242142"
            }
          },
          "metadata": {}
        },
        {
          "output_type": "display_data",
          "data": {
            "text/plain": [
              "tokenizer.json:   0%|          | 0.00/1.96M [00:00<?, ?B/s]"
            ],
            "application/vnd.jupyter.widget-view+json": {
              "version_major": 2,
              "version_minor": 0,
              "model_id": "19dd4c5df65147648db53b6dfce58274"
            }
          },
          "metadata": {}
        },
        {
          "output_type": "execute_result",
          "data": {
            "text/plain": [
              "True"
            ]
          },
          "metadata": {},
          "execution_count": 13
        }
      ]
    },
    {
      "cell_type": "code",
      "source": [
        "# токенизируем тексты и заменим вид спорта на чиселки:\n",
        "\n",
        "def preprocessing(examples):\n",
        "  # токенизация:\n",
        "  inputs = tokenizer(examples['text'],\n",
        "                     return_tensors='np',\n",
        "                     max_length=256,\n",
        "                     truncation=True)\n",
        "  examples['input_ids'] = inputs['input_ids']\n",
        "  examples['attention_mask'] = inputs['attention_mask']\n",
        "  # sport mapping:\n",
        "  examples['labels'] = [label2id[sport] for sport in examples['sport']]\n",
        "\n",
        "  return examples"
      ],
      "metadata": {
        "id": "kUUUwhPwDcb4"
      },
      "execution_count": null,
      "outputs": []
    },
    {
      "cell_type": "code",
      "source": [
        "tokenized_dataset = dataset.map(preprocessing, batched=True)"
      ],
      "metadata": {
        "colab": {
          "base_uri": "https://localhost:8080/",
          "height": 81,
          "referenced_widgets": [
            "29c2a0194a904fa194d54765f23f8d7d",
            "7a727ebabc09436399dbf0554e51e9a0",
            "c1bf9581088a472185b17e5683257de7",
            "2ed3185c32fe42268c6f87bc810bd7ed",
            "07450ac48cbc475da7a9c71e0f8261c8",
            "f9e5ce840d1c45e0b16b753072a056a6",
            "958be428b7874e278fd8a19487c3f5e8",
            "6b3dbbae55544897b21f768b26d5c0c4",
            "6e71fca1573141939a2bfd8d2b9b5f02",
            "6dd090f8523748878a12bcee907a7a95",
            "a356eef3a1a74b41b13b6c5d46ea504b",
            "8545b1eeb5944acbafc8d322512baea4",
            "7f7db5fbef0445dc9e31bd3627b00e9c",
            "67bbc5c02fd44e46bbb392d0547bdebc",
            "3b544fc6227242bc89f7ec42d643573f",
            "2d0914512e4e4e41a433708eafef4eb3",
            "c8aa1a2db138494c853c2810dcf82d8d",
            "f94b6eb7ace44d3995265533ee51a74c",
            "6801838af5e44444bf8fc0fd076ec849",
            "c452038907044c5fb07d7a6e590ad855",
            "2614cefaf2634189aee2107cdb94ffd1",
            "027d705f4e134a639b6ec97d480321db"
          ]
        },
        "id": "EZvamL17FGNh",
        "outputId": "d8001534-3028-4c96-9006-47c8da2ed975"
      },
      "execution_count": null,
      "outputs": [
        {
          "output_type": "display_data",
          "data": {
            "text/plain": [
              "Map:   0%|          | 0/12837 [00:00<?, ? examples/s]"
            ],
            "application/vnd.jupyter.widget-view+json": {
              "version_major": 2,
              "version_minor": 0,
              "model_id": "29c2a0194a904fa194d54765f23f8d7d"
            }
          },
          "metadata": {}
        },
        {
          "output_type": "display_data",
          "data": {
            "text/plain": [
              "Map:   0%|          | 0/3210 [00:00<?, ? examples/s]"
            ],
            "application/vnd.jupyter.widget-view+json": {
              "version_major": 2,
              "version_minor": 0,
              "model_id": "8545b1eeb5944acbafc8d322512baea4"
            }
          },
          "metadata": {}
        }
      ]
    },
    {
      "cell_type": "code",
      "source": [
        "tokenized_dataset"
      ],
      "metadata": {
        "colab": {
          "base_uri": "https://localhost:8080/"
        },
        "id": "NWVJZG-iFGQH",
        "outputId": "7b601d74-e7d7-4a3c-b9f1-622945a7c353"
      },
      "execution_count": null,
      "outputs": [
        {
          "output_type": "execute_result",
          "data": {
            "text/plain": [
              "DatasetDict({\n",
              "    train: Dataset({\n",
              "        features: ['text', 'sport', 'input_ids', 'attention_mask', 'labels'],\n",
              "        num_rows: 12837\n",
              "    })\n",
              "    test: Dataset({\n",
              "        features: ['text', 'sport', 'input_ids', 'attention_mask', 'labels'],\n",
              "        num_rows: 3210\n",
              "    })\n",
              "})"
            ]
          },
          "metadata": {},
          "execution_count": 16
        }
      ]
    },
    {
      "cell_type": "code",
      "source": [
        "# пример:\n",
        "for k,v in tokenized_dataset['test'][0].items():\n",
        "  print(k+': ', v)"
      ],
      "metadata": {
        "colab": {
          "base_uri": "https://localhost:8080/"
        },
        "id": "rTt2oeGOFGSx",
        "outputId": "73974e79-1ea3-4f16-cfc4-1455c9104157"
      },
      "execution_count": null,
      "outputs": [
        {
          "output_type": "stream",
          "name": "stdout",
          "text": [
            "text:  Уникальные фото Формулы-1: в Турции машины приобрели очень необычный вид. Как вам, к примеру, зеркала заднего вида, в которых вообще ничего не видно?\n",
            "sport:  auto\n",
            "input_ids:  [101, 57280, 6908, 20486, 31993, 130, 138, 156, 845, 15555, 14798, 36427, 7805, 63608, 3810, 132, 5405, 29526, 128, 861, 20807, 128, 47087, 46356, 14684, 128, 845, 5327, 17050, 14179, 1699, 26506, 166, 102]\n",
            "attention_mask:  [1, 1, 1, 1, 1, 1, 1, 1, 1, 1, 1, 1, 1, 1, 1, 1, 1, 1, 1, 1, 1, 1, 1, 1, 1, 1, 1, 1, 1, 1, 1, 1, 1, 1]\n",
            "labels:  4\n"
          ]
        }
      ]
    },
    {
      "cell_type": "code",
      "source": [
        "# удалим text и sport:\n",
        "tokenized_dataset = tokenized_dataset.remove_columns(['text', 'sport'])"
      ],
      "metadata": {
        "id": "lzxKIH0a3T_1"
      },
      "execution_count": null,
      "outputs": []
    },
    {
      "cell_type": "code",
      "source": [
        "# кол-во токенов в input_ids:\n",
        "num_tokens = list(map(len, tokenized_dataset['train']['input_ids']))\n",
        "plt.hist(num_tokens, bins=30)\n",
        "plt.title('Кол-во токенов в input_ids')\n",
        "plt.xlabel(\"# токенов\")\n",
        "plt.ylabel('частота');"
      ],
      "metadata": {
        "id": "9oIOJQMA3UIz",
        "colab": {
          "base_uri": "https://localhost:8080/",
          "height": 472
        },
        "outputId": "ac341b72-6116-4d45-96f7-fe5845e1887f"
      },
      "execution_count": null,
      "outputs": [
        {
          "output_type": "display_data",
          "data": {
            "text/plain": [
              "<Figure size 640x480 with 1 Axes>"
            ],
            "image/png": "[encoded data removed]"
          },
          "metadata": {}
        }
      ]
    },
    {
      "cell_type": "markdown",
      "source": [
        "Максимальное число токенов ~ 70, в токинизаторе max_length=128 что существенно больше чем 70. Т.е. мы ничего не обрезали и не потеряли никакую информацию"
      ],
      "metadata": {
        "id": "MdY3blEIYyPs"
      }
    },
    {
      "cell_type": "code",
      "source": [],
      "metadata": {
        "id": "KpyfbM2VIgbg"
      },
      "execution_count": null,
      "outputs": []
    },
    {
      "cell_type": "markdown",
      "source": [
        "### Импорт модели + data_collator"
      ],
      "metadata": {
        "id": "qgxeGNqpMeo9"
      }
    },
    {
      "cell_type": "code",
      "source": [
        "from transformers import AutoModelForSequenceClassification, DataCollatorWithPadding\n",
        "\n",
        "model = AutoModelForSequenceClassification.from_pretrained(\n",
        "    model_checkpoint, num_labels=len(label2id), id2label=id2label, label2id=label2id,\n",
        ")"
      ],
      "metadata": {
        "colab": {
          "base_uri": "https://localhost:8080/",
          "height": 104,
          "referenced_widgets": [
            "30f665feca1d499e83f810ee05981c4e",
            "c93d3a8a826a4db7bdb6b8ad61f1c146",
            "45ab3b691d154716a5ae61c30dd74be3",
            "8e49dde406ac49b283ffd54772dcd894",
            "d0c5d04e61654ad8a9ff6b88aa9e85a1",
            "27a0bbb94a424f14a7013dd81285a3a8",
            "80268bd5994a4d889414562006cb7cfd",
            "ff659a8f2d2147e5a1cada1b24af42ad",
            "31eaf03b80914e26abd7b9728da51736",
            "55e4623ce38b4370ae43c9a058881498",
            "a04fe3acbd0242bcb2e3e959f4beb891"
          ]
        },
        "id": "-Oixzng7LjcP",
        "outputId": "48b00970-e4d7-46fc-dc7a-06d45cc1bbec"
      },
      "execution_count": null,
      "outputs": [
        {
          "output_type": "display_data",
          "data": {
            "text/plain": [
              "model.safetensors:   0%|          | 0.00/714M [00:00<?, ?B/s]"
            ],
            "application/vnd.jupyter.widget-view+json": {
              "version_major": 2,
              "version_minor": 0,
              "model_id": "30f665feca1d499e83f810ee05981c4e"
            }
          },
          "metadata": {}
        },
        {
          "output_type": "stream",
          "name": "stderr",
          "text": [
            "Some weights of BertForSequenceClassification were not initialized from the model checkpoint at google-bert/bert-base-multilingual-cased and are newly initialized: ['classifier.bias', 'classifier.weight']\n",
            "You should probably TRAIN this model on a down-stream task to be able to use it for predictions and inference.\n"
          ]
        }
      ]
    },
    {
      "cell_type": "code",
      "source": [
        "# т.к. данные подаются в модель параллельно, они должны быть одной длины.\n",
        "# добить input_ids pad_token'ми до одной длины нам поможет data_collator\n",
        "# и заодно attention_mask заполнит 0 для игнора векторов от pad_token'ов\n",
        "\n",
        "data_collator = DataCollatorWithPadding(tokenizer)"
      ],
      "metadata": {
        "id": "FIKIwe1uMwn8"
      },
      "execution_count": null,
      "outputs": []
    },
    {
      "cell_type": "code",
      "source": [],
      "metadata": {
        "id": "mvU3-hDRNVI_"
      },
      "execution_count": null,
      "outputs": []
    },
    {
      "cell_type": "markdown",
      "source": [
        "### Dataloader"
      ],
      "metadata": {
        "id": "gmIQKpbTNXeA"
      }
    },
    {
      "cell_type": "code",
      "source": [
        "import torch\n",
        "from torch.utils.data import DataLoader"
      ],
      "metadata": {
        "id": "ITcl4X8fNZOH"
      },
      "execution_count": null,
      "outputs": []
    },
    {
      "cell_type": "code",
      "source": [
        "# обучающая и тестовая выборки для модели:\n",
        "train_loader = DataLoader(tokenized_dataset['train'],\n",
        "                          batch_size=16,\n",
        "                          shuffle=True,\n",
        "                          collate_fn=data_collator)\n",
        "\n",
        "\n",
        "test_loader = DataLoader(tokenized_dataset['test'],\n",
        "                          batch_size=16,\n",
        "                          shuffle=False,\n",
        "                          collate_fn=data_collator)"
      ],
      "metadata": {
        "id": "AqyYCqB6NeB-"
      },
      "execution_count": null,
      "outputs": []
    },
    {
      "cell_type": "code",
      "source": [
        "# проверим работу:\n",
        "for x_batch in test_loader:\n",
        "  break\n",
        "\n",
        "{k: v.shape for k,v in x_batch.items()}"
      ],
      "metadata": {
        "colab": {
          "base_uri": "https://localhost:8080/"
        },
        "id": "YPIsSdj2OUUM",
        "outputId": "7634ef25-9e2a-4518-a74e-250bccb71fbd"
      },
      "execution_count": null,
      "outputs": [
        {
          "output_type": "execute_result",
          "data": {
            "text/plain": [
              "{'input_ids': torch.Size([16, 69]),\n",
              " 'attention_mask': torch.Size([16, 69]),\n",
              " 'labels': torch.Size([16])}"
            ]
          },
          "metadata": {},
          "execution_count": 30
        }
      ]
    },
    {
      "cell_type": "code",
      "source": [
        "# распределение классов в test, вдруг неравномерно разделили данные:\n",
        "pd.Series(tokenized_dataset['test']['labels']).value_counts().plot(kind='bar')"
      ],
      "metadata": {
        "colab": {
          "base_uri": "https://localhost:8080/",
          "height": 442
        },
        "id": "jbeBly0mOYv8",
        "outputId": "007418d3-af3c-4294-990e-10e234b40052"
      },
      "execution_count": null,
      "outputs": [
        {
          "output_type": "execute_result",
          "data": {
            "text/plain": [
              "<Axes: >"
            ]
          },
          "metadata": {},
          "execution_count": 30
        },
        {
          "output_type": "display_data",
          "data": {
            "text/plain": [
              "<Figure size 640x480 with 1 Axes>"
            ],
            "image/png": "[encoded data removed]"
          },
          "metadata": {}
        }
      ]
    },
    {
      "cell_type": "markdown",
      "source": [
        "### Model to GPU/CPU"
      ],
      "metadata": {
        "id": "nT-56bNgOY5l"
      }
    },
    {
      "cell_type": "code",
      "source": [
        "# device:\n",
        "device = torch.device(\"cuda\" if torch.cuda.is_available() else \"cpu\")\n",
        "device"
      ],
      "metadata": {
        "colab": {
          "base_uri": "https://localhost:8080/"
        },
        "id": "zM1Ei5W2ObCw",
        "outputId": "ecc9fffa-74d4-49ab-e795-89b2ebd2201e"
      },
      "execution_count": null,
      "outputs": [
        {
          "output_type": "execute_result",
          "data": {
            "text/plain": [
              "device(type='cuda')"
            ]
          },
          "metadata": {},
          "execution_count": 21
        }
      ]
    },
    {
      "cell_type": "code",
      "source": [
        "model.to(device)"
      ],
      "metadata": {
        "colab": {
          "base_uri": "https://localhost:8080/"
        },
        "id": "ZJHL3MsSOfSK",
        "outputId": "7a4189c6-91fc-4e46-a40a-b55678e0cf41",
        "collapsed": true
      },
      "execution_count": null,
      "outputs": [
        {
          "output_type": "execute_result",
          "data": {
            "text/plain": [
              "BertForSequenceClassification(\n",
              "  (bert): BertModel(\n",
              "    (embeddings): BertEmbeddings(\n",
              "      (word_embeddings): Embedding(119547, 768, padding_idx=0)\n",
              "      (position_embeddings): Embedding(512, 768)\n",
              "      (token_type_embeddings): Embedding(2, 768)\n",
              "      (LayerNorm): LayerNorm((768,), eps=1e-12, elementwise_affine=True)\n",
              "      (dropout): Dropout(p=0.1, inplace=False)\n",
              "    )\n",
              "    (encoder): BertEncoder(\n",
              "      (layer): ModuleList(\n",
              "        (0-11): 12 x BertLayer(\n",
              "          (attention): BertAttention(\n",
              "            (self): BertSdpaSelfAttention(\n",
              "              (query): Linear(in_features=768, out_features=768, bias=True)\n",
              "              (key): Linear(in_features=768, out_features=768, bias=True)\n",
              "              (value): Linear(in_features=768, out_features=768, bias=True)\n",
              "              (dropout): Dropout(p=0.1, inplace=False)\n",
              "            )\n",
              "            (output): BertSelfOutput(\n",
              "              (dense): Linear(in_features=768, out_features=768, bias=True)\n",
              "              (LayerNorm): LayerNorm((768,), eps=1e-12, elementwise_affine=True)\n",
              "              (dropout): Dropout(p=0.1, inplace=False)\n",
              "            )\n",
              "          )\n",
              "          (intermediate): BertIntermediate(\n",
              "            (dense): Linear(in_features=768, out_features=3072, bias=True)\n",
              "            (intermediate_act_fn): GELUActivation()\n",
              "          )\n",
              "          (output): BertOutput(\n",
              "            (dense): Linear(in_features=3072, out_features=768, bias=True)\n",
              "            (LayerNorm): LayerNorm((768,), eps=1e-12, elementwise_affine=True)\n",
              "            (dropout): Dropout(p=0.1, inplace=False)\n",
              "          )\n",
              "        )\n",
              "      )\n",
              "    )\n",
              "    (pooler): BertPooler(\n",
              "      (dense): Linear(in_features=768, out_features=768, bias=True)\n",
              "      (activation): Tanh()\n",
              "    )\n",
              "  )\n",
              "  (dropout): Dropout(p=0.1, inplace=False)\n",
              "  (classifier): Linear(in_features=768, out_features=7, bias=True)\n",
              ")"
            ]
          },
          "metadata": {},
          "execution_count": 22
        }
      ]
    },
    {
      "cell_type": "code",
      "source": [
        "from sklearn.metrics import accuracy_score, precision_score, recall_score, f1_score, confusion_matrix\n",
        "from tqdm import tqdm"
      ],
      "metadata": {
        "id": "9AEfGkfDOgpk"
      },
      "execution_count": null,
      "outputs": []
    },
    {
      "cell_type": "markdown",
      "source": [
        "### Качество модели до fine-tuning'а\n",
        "Модель можно разделить на 2 части: encoder и classifier\n",
        "веса во второй части - рандомные, в первой - нет.\n",
        "Поэтому без fine-tuning'a модель должна угадывать примерно 1/7 ответов,\n",
        "давайте это проверим"
      ],
      "metadata": {
        "id": "6-QlbtFMOmlG"
      }
    },
    {
      "cell_type": "code",
      "source": [
        "# доля случайных угадываний:\n",
        "round(1/7, 3)"
      ],
      "metadata": {
        "colab": {
          "base_uri": "https://localhost:8080/"
        },
        "id": "-Q7FWBPVPuEu",
        "outputId": "9aad56ee-3016-4c0e-f42b-7476864d2668"
      },
      "execution_count": null,
      "outputs": [
        {
          "output_type": "execute_result",
          "data": {
            "text/plain": [
              "0.143"
            ]
          },
          "metadata": {},
          "execution_count": 54
        }
      ]
    },
    {
      "cell_type": "code",
      "source": [
        "eval_loss = 0\n",
        "N_sample = len(tokenized_dataset['test'])\n",
        "y_pred = []\n",
        "#_ = 0\n",
        "\n",
        "model.eval()\n",
        "for x_batch in tqdm(test_loader):\n",
        "  #_ += 1\n",
        "  x_batch = {k: v.to(device) for k,v in x_batch.items()}\n",
        "  with torch.no_grad():\n",
        "    output = model(**x_batch)\n",
        "  loss = output['loss'].cpu().item()\n",
        "  logits = output['logits'].cpu()\n",
        "\n",
        "  eval_loss += loss\n",
        "  preds = logits.argmax(dim=-1).tolist()\n",
        "  y_pred += preds\n",
        "  #if _ == 15:\n",
        "  #  break"
      ],
      "metadata": {
        "colab": {
          "base_uri": "https://localhost:8080/"
        },
        "id": "tclbHda-PvAr",
        "outputId": "d14e3cbc-14e4-41d7-95ca-e9e1585efdd3"
      },
      "execution_count": null,
      "outputs": [
        {
          "output_type": "stream",
          "name": "stderr",
          "text": [
            "100%|██████████| 201/201 [00:14<00:00, 13.55it/s]\n"
          ]
        }
      ]
    },
    {
      "cell_type": "code",
      "source": [
        "y_true = tokenized_dataset['test']['labels'][:len(y_pred)]"
      ],
      "metadata": {
        "id": "N2bPJPkDRLv8"
      },
      "execution_count": null,
      "outputs": []
    },
    {
      "cell_type": "code",
      "source": [
        "print('eval loss w/o fine-tuning:', round(eval_loss / len(y_true), 4))\n",
        "print('accuracy:', round(accuracy_score(y_true, y_pred), 4),  'random label choice:', round(1/7, 4))\n",
        "print('precision:', round(precision_score(y_true, y_pred, average='macro', zero_division='warn'), 4))\n",
        "print('recall:', round(recall_score(y_true, y_pred, average='macro'), 4))\n",
        "print('F1:', round(f1_score(y_true, y_pred, average='macro'), 4))"
      ],
      "metadata": {
        "colab": {
          "base_uri": "https://localhost:8080/"
        },
        "id": "VsEsLKlIRPip",
        "outputId": "0d1d375e-4ce3-47c2-cf72-818809177dc7"
      },
      "execution_count": null,
      "outputs": [
        {
          "output_type": "stream",
          "name": "stdout",
          "text": [
            "eval loss w/o fine-tuning: 0.1224\n",
            "accuracy: 0.1302 random label choice: 0.1429\n",
            "precision: 0.032\n",
            "recall: 0.1301\n",
            "F1: 0.0483\n"
          ]
        },
        {
          "output_type": "stream",
          "name": "stderr",
          "text": [
            "/usr/local/lib/python3.10/dist-packages/sklearn/metrics/_classification.py:1531: UndefinedMetricWarning: Precision is ill-defined and being set to 0.0 in labels with no predicted samples. Use `zero_division` parameter to control this behavior.\n",
            "  _warn_prf(average, modifier, f\"{metric.capitalize()} is\", len(result))\n"
          ]
        }
      ]
    },
    {
      "cell_type": "markdown",
      "source": [
        "Доля угадываний =  0.1302 и это близко к 0.143, все хорошо."
      ],
      "metadata": {
        "id": "q2AgTXwpacLf"
      }
    },
    {
      "cell_type": "code",
      "source": [],
      "metadata": {
        "id": "rELoLbC5Wy0U"
      },
      "execution_count": null,
      "outputs": []
    },
    {
      "cell_type": "markdown",
      "source": [
        "### Fine-tuning модели:\n",
        "Используем train'овые данные для подправки модели."
      ],
      "metadata": {
        "id": "cYWIF9nKTvx0"
      }
    },
    {
      "cell_type": "code",
      "source": [
        "from torch.optim import AdamW\n",
        "from transformers import get_linear_schedule_with_warmup"
      ],
      "metadata": {
        "id": "k0D556jlTwfD"
      },
      "execution_count": null,
      "outputs": []
    },
    {
      "cell_type": "code",
      "source": [
        "# думаю, для classifier слой требуется больший lr чем для остального encoder'a:\n",
        "#param_groups = []\n",
        "#for name, parameter in model.named_parameters():\n",
        "#  if 'classifier' in name:\n",
        "#    param_groups.append({'params': [parameter], 'lr': 3e-4})"
      ],
      "metadata": {
        "id": "yExpwVfIT_rG"
      },
      "execution_count": null,
      "outputs": []
    },
    {
      "cell_type": "code",
      "source": [
        "optim = AdamW(model.parameters(), lr=3e-5, weight_decay=0.01)  #"
      ],
      "metadata": {
        "id": "Ox6eet-8UajD"
      },
      "execution_count": null,
      "outputs": []
    },
    {
      "cell_type": "code",
      "source": [
        "# scheduler:\n",
        "\n",
        "N_epochs = 3 # 3 эпохи обучения\n",
        "n_train_steps = len(train_loader) * (N_epochs + 1)\n",
        "\n",
        "lr_scheduler = get_linear_schedule_with_warmup(\n",
        "    optimizer=optim,\n",
        "    num_warmup_steps=0,\n",
        "    num_training_steps=n_train_steps)"
      ],
      "metadata": {
        "id": "6K9-BmzzUelj"
      },
      "execution_count": null,
      "outputs": []
    },
    {
      "cell_type": "code",
      "source": [
        "# train/eval loops:\n",
        "loss_hist = [] # train loss history\n",
        "eval_loss_hist = [] # eval loss history\n",
        "y_true = tokenized_dataset['test']['labels']\n",
        "N_sample = len(tokenized_dataset['test'])\n",
        "#_ = 0\n",
        "\n",
        "for epoch in range(1, N_epochs+1):\n",
        "  model.train()\n",
        "  for x_batch in tqdm(train_loader):\n",
        "    # to device:\n",
        "    x_batch = {k: v.to(device) for k,v in x_batch.items()}\n",
        "    #_ += 1\n",
        "\n",
        "    optim.zero_grad()\n",
        "    output = model(**x_batch)\n",
        "    output['loss'].backward()\n",
        "    # clip grads:\n",
        "    #torch.nn.utils.clip_grad_norm_(model.parameters(), 1.0)\n",
        "    optim.step()\n",
        "\n",
        "    # get and save loss:\n",
        "    loss = output['loss'].detach().cpu().item()\n",
        "    loss_hist.append(loss)\n",
        "\n",
        "    # scheduler step:\n",
        "    lr_scheduler.step()\n",
        "\n",
        "    #if _ == 10:\n",
        "    #  break\n",
        "\n",
        "  #_ = 0\n",
        "  # eval:\n",
        "  eval_loss = 0 # eval\n",
        "  y_pred = [] # eval\n",
        "  model.eval()\n",
        "  for x_batch in tqdm(test_loader):\n",
        "    #_ += 1\n",
        "    x_batch = {k: v.to(device) for k,v in x_batch.items()}\n",
        "    with torch.no_grad():\n",
        "      output = model(**x_batch)\n",
        "    loss = output['loss'].cpu().item()\n",
        "    logits = output['logits']\n",
        "\n",
        "    eval_loss += loss#.cpu().item()\n",
        "    eval_loss_hist.append(loss)#.cpu().item())\n",
        "    preds = logits.cpu().argmax(dim=-1).tolist()\n",
        "    y_pred += preds\n",
        "\n",
        "    #if _ == 20:\n",
        "    #  break\n",
        "\n",
        "\n",
        "  # metrics:\n",
        "  #y_pred = net_pred\n",
        "  n = len(y_pred)\n",
        "  print(f'\\nepoch: {epoch} \\t\\tmodel: {model_checkpoint}')\n",
        "  print(f'eval loss: {round(eval_loss/n, 4)}')\n",
        "  print(f'accuracy: {round(accuracy_score(y_true[:n], y_pred), 4)}')\n",
        "  print(f\"precision: {round(precision_score(y_true[:n], y_pred, average='macro'), 4)}\")\n",
        "  print(f\"recall: {round(recall_score(y_true[:n], y_pred, average='macro'), 4)}\")\n",
        "  print(f\"f1: {round(f1_score(y_true[:n], y_pred, average='macro'), 4)}\")\n",
        "  print()\n"
      ],
      "metadata": {
        "colab": {
          "base_uri": "https://localhost:8080/"
        },
        "id": "9OZg2cNUUnyj",
        "outputId": "4587e8d2-2f7e-4c29-b254-c3db28475061"
      },
      "execution_count": null,
      "outputs": [
        {
          "output_type": "stream",
          "name": "stderr",
          "text": [
            "100%|██████████| 803/803 [03:28<00:00,  3.85it/s]\n",
            "100%|██████████| 201/201 [00:14<00:00, 13.45it/s]\n"
          ]
        },
        {
          "output_type": "stream",
          "name": "stdout",
          "text": [
            "\n",
            "epoch: 1 \t\tmodel: google-bert/bert-base-multilingual-cased\n",
            "eval loss: 0.0116\n",
            "accuracy: 0.9417\n",
            "precision: 0.9422\n",
            "recall: 0.9416\n",
            "f1: 0.9418\n",
            "\n"
          ]
        },
        {
          "output_type": "stream",
          "name": "stderr",
          "text": [
            "100%|██████████| 803/803 [03:35<00:00,  3.73it/s]\n",
            "100%|██████████| 201/201 [00:14<00:00, 13.72it/s]\n"
          ]
        },
        {
          "output_type": "stream",
          "name": "stdout",
          "text": [
            "\n",
            "epoch: 2 \t\tmodel: google-bert/bert-base-multilingual-cased\n",
            "eval loss: 0.0096\n",
            "accuracy: 0.9474\n",
            "precision: 0.9475\n",
            "recall: 0.9473\n",
            "f1: 0.9472\n",
            "\n"
          ]
        },
        {
          "output_type": "stream",
          "name": "stderr",
          "text": [
            "100%|██████████| 803/803 [03:35<00:00,  3.73it/s]\n",
            "100%|██████████| 201/201 [00:14<00:00, 13.75it/s]"
          ]
        },
        {
          "output_type": "stream",
          "name": "stdout",
          "text": [
            "\n",
            "epoch: 3 \t\tmodel: google-bert/bert-base-multilingual-cased\n",
            "eval loss: 0.0087\n",
            "accuracy: 0.953\n",
            "precision: 0.9554\n",
            "recall: 0.9524\n",
            "f1: 0.9532\n",
            "\n"
          ]
        },
        {
          "output_type": "stream",
          "name": "stderr",
          "text": [
            "\n"
          ]
        }
      ]
    },
    {
      "cell_type": "markdown",
      "source": [
        "Заветные 95% качества выбиты, все ок. Сравним результаты с ruBert'ом"
      ],
      "metadata": {
        "id": "RMSbUWeHb6TF"
      }
    },
    {
      "cell_type": "code",
      "source": [
        "#                                        model: DeepPavlov/rubert-base-cased\n",
        "# epoch: 1\n",
        "# eval loss: 0.0077\n",
        "# accuracy: 0.9573\n",
        "# precision: 0.9597\n",
        "# recall: 0.9568\n",
        "# f1: 0.9577\n",
        "\n",
        "# epoch: 2\n",
        "# eval loss: 0.0072\n",
        "# accuracy: 0.9598\n",
        "# precision: 0.9614\n",
        "# recall: 0.9592\n",
        "# f1: 0.9599\n",
        "\n",
        "# epoch: 3\n",
        "# eval loss: 0.0067\n",
        "# accuracy: 0.9626\n",
        "# precision: 0.9623\n",
        "# recall: 0.9624\n",
        "# f1: 0.9622\n"
      ],
      "metadata": {
        "id": "ZT5TVLuUw8Rq"
      },
      "execution_count": null,
      "outputs": []
    },
    {
      "cell_type": "code",
      "source": [
        "plt.figure(figsize=(12, 4))\n",
        "\n",
        "plt.subplot(121)\n",
        "plt.plot(loss_hist)\n",
        "plt.title('Train loss history')\n",
        "plt.xlabel('# iter')\n",
        "plt.ylabel('loss')\n",
        "\n",
        "plt.subplot(122)\n",
        "plt.plot(eval_loss_hist)\n",
        "plt.title('Test loss history')\n",
        "plt.xlabel('# iter')\n",
        "plt.ylabel('loss');"
      ],
      "metadata": {
        "colab": {
          "base_uri": "https://localhost:8080/",
          "height": 410
        },
        "id": "ZFXqadIDwVFI",
        "outputId": "40313432-5567-476d-c2e5-23ea40c78cb5"
      },
      "execution_count": null,
      "outputs": [
        {
          "output_type": "display_data",
          "data": {
            "text/plain": [
              "<Figure size 1200x400 with 2 Axes>"
            ],
            "image/png": "[encoded data removed]"
          },
          "metadata": {}
        }
      ]
    },
    {
      "cell_type": "markdown",
      "source": [
        "Рассмотрим матрицу ошибок чтобы оценить какие классы модель путает и заодно выведем примеры ошибочных предсказаний"
      ],
      "metadata": {
        "id": "1ZJ2qjWLcZ8m"
      }
    },
    {
      "cell_type": "code",
      "source": [
        "conf_df = pd.DataFrame(confusion_matrix(y_true[:n], y_pred,),\n",
        "                       index=[id2label[k] for k in id2label],\n",
        "                       columns=[id2label[k] for k in id2label]\n",
        ")"
      ],
      "metadata": {
        "id": "xGzctYXTX70i"
      },
      "execution_count": null,
      "outputs": []
    },
    {
      "cell_type": "code",
      "source": [
        "conf_df"
      ],
      "metadata": {
        "id": "4wIqKwWvX9my",
        "colab": {
          "base_uri": "https://localhost:8080/",
          "height": 269
        },
        "outputId": "9379ca65-48c0-41fc-d06f-9f92bef9b861"
      },
      "execution_count": null,
      "outputs": [
        {
          "output_type": "execute_result",
          "data": {
            "text/plain": [
              "            volleyball  hockey  boxing  basketball  auto  football  tennis\n",
              "volleyball         456       0       0           8     0        10       3\n",
              "hockey               1     440       0           8     0        12       0\n",
              "boxing               1       4     421           5     0         9       4\n",
              "basketball          10       5       0         414     2        21       1\n",
              "auto                 0       3       0           4   481         4       0\n",
              "football             0       3       0           6     1       455       1\n",
              "tennis               0       4       0           3     1        17     392"
            ],
            "text/html": [
              "\n",
              "  <div id=\"df-2cd24740-ab58-4a89-b2c4-58c8135b9c7a\" class=\"colab-df-container\">\n",
              "    <div>\n",
              "<style scoped>\n",
              "    .dataframe tbody tr th:only-of-type {\n",
              "        vertical-align: middle;\n",
              "    }\n",
              "\n",
              "    .dataframe tbody tr th {\n",
              "        vertical-align: top;\n",
              "    }\n",
              "\n",
              "    .dataframe thead th {\n",
              "        text-align: right;\n",
              "    }\n",
              "</style>\n",
              "<table border=\"1\" class=\"dataframe\">\n",
              "  <thead>\n",
              "    <tr style=\"text-align: right;\">\n",
              "      <th></th>\n",
              "      <th>volleyball</th>\n",
              "      <th>hockey</th>\n",
              "      <th>boxing</th>\n",
              "      <th>basketball</th>\n",
              "      <th>auto</th>\n",
              "      <th>football</th>\n",
              "      <th>tennis</th>\n",
              "    </tr>\n",
              "  </thead>\n",
              "  <tbody>\n",
              "    <tr>\n",
              "      <th>volleyball</th>\n",
              "      <td>456</td>\n",
              "      <td>0</td>\n",
              "      <td>0</td>\n",
              "      <td>8</td>\n",
              "      <td>0</td>\n",
              "      <td>10</td>\n",
              "      <td>3</td>\n",
              "    </tr>\n",
              "    <tr>\n",
              "      <th>hockey</th>\n",
              "      <td>1</td>\n",
              "      <td>440</td>\n",
              "      <td>0</td>\n",
              "      <td>8</td>\n",
              "      <td>0</td>\n",
              "      <td>12</td>\n",
              "      <td>0</td>\n",
              "    </tr>\n",
              "    <tr>\n",
              "      <th>boxing</th>\n",
              "      <td>1</td>\n",
              "      <td>4</td>\n",
              "      <td>421</td>\n",
              "      <td>5</td>\n",
              "      <td>0</td>\n",
              "      <td>9</td>\n",
              "      <td>4</td>\n",
              "    </tr>\n",
              "    <tr>\n",
              "      <th>basketball</th>\n",
              "      <td>10</td>\n",
              "      <td>5</td>\n",
              "      <td>0</td>\n",
              "      <td>414</td>\n",
              "      <td>2</td>\n",
              "      <td>21</td>\n",
              "      <td>1</td>\n",
              "    </tr>\n",
              "    <tr>\n",
              "      <th>auto</th>\n",
              "      <td>0</td>\n",
              "      <td>3</td>\n",
              "      <td>0</td>\n",
              "      <td>4</td>\n",
              "      <td>481</td>\n",
              "      <td>4</td>\n",
              "      <td>0</td>\n",
              "    </tr>\n",
              "    <tr>\n",
              "      <th>football</th>\n",
              "      <td>0</td>\n",
              "      <td>3</td>\n",
              "      <td>0</td>\n",
              "      <td>6</td>\n",
              "      <td>1</td>\n",
              "      <td>455</td>\n",
              "      <td>1</td>\n",
              "    </tr>\n",
              "    <tr>\n",
              "      <th>tennis</th>\n",
              "      <td>0</td>\n",
              "      <td>4</td>\n",
              "      <td>0</td>\n",
              "      <td>3</td>\n",
              "      <td>1</td>\n",
              "      <td>17</td>\n",
              "      <td>392</td>\n",
              "    </tr>\n",
              "  </tbody>\n",
              "</table>\n",
              "</div>\n",
              "    <div class=\"colab-df-buttons\">\n",
              "\n",
              "  <div class=\"colab-df-container\">\n",
              "    <button class=\"colab-df-convert\" onclick=\"convertToInteractive('df-2cd24740-ab58-4a89-b2c4-58c8135b9c7a')\"\n",
              "            title=\"Convert this dataframe to an interactive table.\"\n",
              "            style=\"display:none;\">\n",
              "\n",
              "  <svg xmlns=\"http://www.w3.org/2000/svg\" height=\"24px\" viewBox=\"0 -960 960 960\">\n",
              "    <path d=\"M120-120v-720h720v720H120Zm60-500h600v-160H180v160Zm220 220h160v-160H400v160Zm0 220h160v-160H400v160ZM180-400h160v-160H180v160Zm440 0h160v-160H620v160ZM180-180h160v-160H180v160Zm440 0h160v-160H620v160Z\"/>\n",
              "  </svg>\n",
              "    </button>\n",
              "\n",
              "  <style>\n",
              "    .colab-df-container {\n",
              "      display:flex;\n",
              "      gap: 12px;\n",
              "    }\n",
              "\n",
              "    .colab-df-convert {\n",
              "      background-color: #E8F0FE;\n",
              "      border: none;\n",
              "      border-radius: 50%;\n",
              "      cursor: pointer;\n",
              "      display: none;\n",
              "      fill: #1967D2;\n",
              "      height: 32px;\n",
              "      padding: 0 0 0 0;\n",
              "      width: 32px;\n",
              "    }\n",
              "\n",
              "    .colab-df-convert:hover {\n",
              "      background-color: #E2EBFA;\n",
              "      box-shadow: 0px 1px 2px rgba(60, 64, 67, 0.3), 0px 1px 3px 1px rgba(60, 64, 67, 0.15);\n",
              "      fill: #174EA6;\n",
              "    }\n",
              "\n",
              "    .colab-df-buttons div {\n",
              "      margin-bottom: 4px;\n",
              "    }\n",
              "\n",
              "    [theme=dark] .colab-df-convert {\n",
              "      background-color: #3B4455;\n",
              "      fill: #D2E3FC;\n",
              "    }\n",
              "\n",
              "    [theme=dark] .colab-df-convert:hover {\n",
              "      background-color: #434B5C;\n",
              "      box-shadow: 0px 1px 3px 1px rgba(0, 0, 0, 0.15);\n",
              "      filter: drop-shadow(0px 1px 2px rgba(0, 0, 0, 0.3));\n",
              "      fill: #FFFFFF;\n",
              "    }\n",
              "  </style>\n",
              "\n",
              "    <script>\n",
              "      const buttonEl =\n",
              "        document.querySelector('#df-2cd24740-ab58-4a89-b2c4-58c8135b9c7a button.colab-df-convert');\n",
              "      buttonEl.style.display =\n",
              "        google.colab.kernel.accessAllowed ? 'block' : 'none';\n",
              "\n",
              "      async function convertToInteractive(key) {\n",
              "        const element = document.querySelector('#df-2cd24740-ab58-4a89-b2c4-58c8135b9c7a');\n",
              "        const dataTable =\n",
              "          await google.colab.kernel.invokeFunction('convertToInteractive',\n",
              "                                                    [key], {});\n",
              "        if (!dataTable) return;\n",
              "\n",
              "        const docLinkHtml = 'Like what you see? Visit the ' +\n",
              "          '<a target=\"_blank\" href=https://colab.research.google.com/notebooks/data_table.ipynb>data table notebook</a>'\n",
              "          + ' to learn more about interactive tables.';\n",
              "        element.innerHTML = '';\n",
              "        dataTable['output_type'] = 'display_data';\n",
              "        await google.colab.output.renderOutput(dataTable, element);\n",
              "        const docLink = document.createElement('div');\n",
              "        docLink.innerHTML = docLinkHtml;\n",
              "        element.appendChild(docLink);\n",
              "      }\n",
              "    </script>\n",
              "  </div>\n",
              "\n",
              "\n",
              "<div id=\"df-387f1d96-f4be-4783-8d8b-5331dae43523\">\n",
              "  <button class=\"colab-df-quickchart\" onclick=\"quickchart('df-387f1d96-f4be-4783-8d8b-5331dae43523')\"\n",
              "            title=\"Suggest charts\"\n",
              "            style=\"display:none;\">\n",
              "\n",
              "<svg xmlns=\"http://www.w3.org/2000/svg\" height=\"24px\"viewBox=\"0 0 24 24\"\n",
              "     width=\"24px\">\n",
              "    <g>\n",
              "        <path d=\"M19 3H5c-1.1 0-2 .9-2 2v14c0 1.1.9 2 2 2h14c1.1 0 2-.9 2-2V5c0-1.1-.9-2-2-2zM9 17H7v-7h2v7zm4 0h-2V7h2v10zm4 0h-2v-4h2v4z\"/>\n",
              "    </g>\n",
              "</svg>\n",
              "  </button>\n",
              "\n",
              "<style>\n",
              "  .colab-df-quickchart {\n",
              "      --bg-color: #E8F0FE;\n",
              "      --fill-color: #1967D2;\n",
              "      --hover-bg-color: #E2EBFA;\n",
              "      --hover-fill-color: #174EA6;\n",
              "      --disabled-fill-color: #AAA;\n",
              "      --disabled-bg-color: #DDD;\n",
              "  }\n",
              "\n",
              "  [theme=dark] .colab-df-quickchart {\n",
              "      --bg-color: #3B4455;\n",
              "      --fill-color: #D2E3FC;\n",
              "      --hover-bg-color: #434B5C;\n",
              "      --hover-fill-color: #FFFFFF;\n",
              "      --disabled-bg-color: #3B4455;\n",
              "      --disabled-fill-color: #666;\n",
              "  }\n",
              "\n",
              "  .colab-df-quickchart {\n",
              "    background-color: var(--bg-color);\n",
              "    border: none;\n",
              "    border-radius: 50%;\n",
              "    cursor: pointer;\n",
              "    display: none;\n",
              "    fill: var(--fill-color);\n",
              "    height: 32px;\n",
              "    padding: 0;\n",
              "    width: 32px;\n",
              "  }\n",
              "\n",
              "  .colab-df-quickchart:hover {\n",
              "    background-color: var(--hover-bg-color);\n",
              "    box-shadow: 0 1px 2px rgba(60, 64, 67, 0.3), 0 1px 3px 1px rgba(60, 64, 67, 0.15);\n",
              "    fill: var(--button-hover-fill-color);\n",
              "  }\n",
              "\n",
              "  .colab-df-quickchart-complete:disabled,\n",
              "  .colab-df-quickchart-complete:disabled:hover {\n",
              "    background-color: var(--disabled-bg-color);\n",
              "    fill: var(--disabled-fill-color);\n",
              "    box-shadow: none;\n",
              "  }\n",
              "\n",
              "  .colab-df-spinner {\n",
              "    border: 2px solid var(--fill-color);\n",
              "    border-color: transparent;\n",
              "    border-bottom-color: var(--fill-color);\n",
              "    animation:\n",
              "      spin 1s steps(1) infinite;\n",
              "  }\n",
              "\n",
              "  @keyframes spin {\n",
              "    0% {\n",
              "      border-color: transparent;\n",
              "      border-bottom-color: var(--fill-color);\n",
              "      border-left-color: var(--fill-color);\n",
              "    }\n",
              "    20% {\n",
              "      border-color: transparent;\n",
              "      border-left-color: var(--fill-color);\n",
              "      border-top-color: var(--fill-color);\n",
              "    }\n",
              "    30% {\n",
              "      border-color: transparent;\n",
              "      border-left-color: var(--fill-color);\n",
              "      border-top-color: var(--fill-color);\n",
              "      border-right-color: var(--fill-color);\n",
              "    }\n",
              "    40% {\n",
              "      border-color: transparent;\n",
              "      border-right-color: var(--fill-color);\n",
              "      border-top-color: var(--fill-color);\n",
              "    }\n",
              "    60% {\n",
              "      border-color: transparent;\n",
              "      border-right-color: var(--fill-color);\n",
              "    }\n",
              "    80% {\n",
              "      border-color: transparent;\n",
              "      border-right-color: var(--fill-color);\n",
              "      border-bottom-color: var(--fill-color);\n",
              "    }\n",
              "    90% {\n",
              "      border-color: transparent;\n",
              "      border-bottom-color: var(--fill-color);\n",
              "    }\n",
              "  }\n",
              "</style>\n",
              "\n",
              "  <script>\n",
              "    async function quickchart(key) {\n",
              "      const quickchartButtonEl =\n",
              "        document.querySelector('#' + key + ' button');\n",
              "      quickchartButtonEl.disabled = true;  // To prevent multiple clicks.\n",
              "      quickchartButtonEl.classList.add('colab-df-spinner');\n",
              "      try {\n",
              "        const charts = await google.colab.kernel.invokeFunction(\n",
              "            'suggestCharts', [key], {});\n",
              "      } catch (error) {\n",
              "        console.error('Error during call to suggestCharts:', error);\n",
              "      }\n",
              "      quickchartButtonEl.classList.remove('colab-df-spinner');\n",
              "      quickchartButtonEl.classList.add('colab-df-quickchart-complete');\n",
              "    }\n",
              "    (() => {\n",
              "      let quickchartButtonEl =\n",
              "        document.querySelector('#df-387f1d96-f4be-4783-8d8b-5331dae43523 button');\n",
              "      quickchartButtonEl.style.display =\n",
              "        google.colab.kernel.accessAllowed ? 'block' : 'none';\n",
              "    })();\n",
              "  </script>\n",
              "</div>\n",
              "    </div>\n",
              "  </div>\n"
            ],
            "application/vnd.google.colaboratory.intrinsic+json": {
              "type": "dataframe",
              "variable_name": "conf_df",
              "summary": "{\n  \"name\": \"conf_df\",\n  \"rows\": 7,\n  \"fields\": [\n    {\n      \"column\": \"volleyball\",\n      \"properties\": {\n        \"dtype\": \"number\",\n        \"std\": 171,\n        \"min\": 0,\n        \"max\": 456,\n        \"num_unique_values\": 4,\n        \"samples\": [\n          1,\n          0,\n          456\n        ],\n        \"semantic_type\": \"\",\n        \"description\": \"\"\n      }\n    },\n    {\n      \"column\": \"hockey\",\n      \"properties\": {\n        \"dtype\": \"number\",\n        \"std\": 165,\n        \"min\": 0,\n        \"max\": 440,\n        \"num_unique_values\": 5,\n        \"samples\": [\n          440,\n          3,\n          4\n        ],\n        \"semantic_type\": \"\",\n        \"description\": \"\"\n      }\n    },\n    {\n      \"column\": \"boxing\",\n      \"properties\": {\n        \"dtype\": \"number\",\n        \"std\": 159,\n        \"min\": 0,\n        \"max\": 421,\n        \"num_unique_values\": 2,\n        \"samples\": [\n          421,\n          0\n        ],\n        \"semantic_type\": \"\",\n        \"description\": \"\"\n      }\n    },\n    {\n      \"column\": \"basketball\",\n      \"properties\": {\n        \"dtype\": \"number\",\n        \"std\": 154,\n        \"min\": 3,\n        \"max\": 414,\n        \"num_unique_values\": 6,\n        \"samples\": [\n          8,\n          5\n        ],\n        \"semantic_type\": \"\",\n        \"description\": \"\"\n      }\n    },\n    {\n      \"column\": \"auto\",\n      \"properties\": {\n        \"dtype\": \"number\",\n        \"std\": 181,\n        \"min\": 0,\n        \"max\": 481,\n        \"num_unique_values\": 4,\n        \"samples\": [\n          2,\n          1\n        ],\n        \"semantic_type\": \"\",\n        \"description\": \"\"\n      }\n    },\n    {\n      \"column\": \"football\",\n      \"properties\": {\n        \"dtype\": \"number\",\n        \"std\": 167,\n        \"min\": 4,\n        \"max\": 455,\n        \"num_unique_values\": 7,\n        \"samples\": [\n          10,\n          12\n        ],\n        \"semantic_type\": \"\",\n        \"description\": \"\"\n      }\n    },\n    {\n      \"column\": \"tennis\",\n      \"properties\": {\n        \"dtype\": \"number\",\n        \"std\": 147,\n        \"min\": 0,\n        \"max\": 392,\n        \"num_unique_values\": 5,\n        \"samples\": [\n          0,\n          392\n        ],\n        \"semantic_type\": \"\",\n        \"description\": \"\"\n      }\n    }\n  ]\n}"
            }
          },
          "metadata": {},
          "execution_count": 36
        }
      ]
    },
    {
      "cell_type": "code",
      "source": [
        "# на каких заголовках нейронка ошибается:\n",
        "y_true = np.array(y_true)\n",
        "y_pred = np.array(y_pred)\n",
        "mask_err = (y_pred != y_true)\n",
        "\n",
        "# всего ошибок:\n",
        "mask_err.sum()"
      ],
      "metadata": {
        "colab": {
          "base_uri": "https://localhost:8080/"
        },
        "id": "LTLdLxJkwrc-",
        "outputId": "0b681d1f-9c9b-4a81-c4da-2bb6cf79cc97"
      },
      "execution_count": null,
      "outputs": [
        {
          "output_type": "execute_result",
          "data": {
            "text/plain": [
              "151"
            ]
          },
          "metadata": {},
          "execution_count": 37
        }
      ]
    },
    {
      "cell_type": "code",
      "source": [
        "# примеры ошибочной классификации:\n",
        "_ = 0\n",
        "for i in range(len(mask_err)):\n",
        "  if mask_err[i]:\n",
        "    print(dataset['test']['text'][i])\n",
        "    print(f'sport: {id2label[y_true[i]]}  guess: {id2label[y_pred[i]]}')\n",
        "    print()\n",
        "    _ += 1\n",
        "  if _ == 20:\n",
        "    break"
      ],
      "metadata": {
        "colab": {
          "base_uri": "https://localhost:8080/"
        },
        "id": "IbtHsuZI1OlH",
        "outputId": "94c98b5e-22c7-4655-c26c-4740ba39fd22"
      },
      "execution_count": null,
      "outputs": [
        {
          "output_type": "stream",
          "name": "stdout",
          "text": [
            "Захарян, Шлеменко и ожидание US Open. Главное за неделю. Всё важное и интересное — в материалах «Чемпионата».\n",
            "sport: tennis  guess: hockey\n",
            "\n",
            "7 топ-матчей понедельника: Александрова, Медведев и Андреева рвутся в 1/4 Уимблдона. Что интересного в спорте сегодня, 10 июля: классный теннис в Лондоне, рубка США против Канады в футболе и Летняя лига НБА.\n",
            "sport: basketball  guess: tennis\n",
            "\n",
            "Шведская легенда одним ударом уложил белорусского Уборщика. Хорошая разминка перед Джонсом. Жаль, что 40-летний Матюшенко не ушёл на пенсию своевременно.\n",
            "sport: boxing  guess: hockey\n",
            "\n",
            "Пока Россия проигрывает Ирану, Аргентина «привозит» 39 очков Америке. Наш главный соперник по группе на Кубке мира — 2019 победил в Панамериканских играх, разгромив сборную США.\n",
            "sport: basketball  guess: volleyball\n",
            "\n",
            "10 топ-матчей субботы: Рублёв и Потапова в полуфиналах, Португалия — Нидерланды на Евро. Расписание на 24 июня: яркий теннис с нашими, волейбольная Лига наций и зарубы на Евро-2023 U21.\n",
            "sport: volleyball  guess: football\n",
            "\n",
            "Трансфер Дзюбы, победа Усика и триумф Канады. Главное за неделю. Всё важное и интересное — в материалах «Чемпионата».\n",
            "sport: basketball  guess: hockey\n",
            "\n",
            "«Негативный отзыв слышал лишь один». Что говорят в Чехии о возвращении Ярошика в Россию. Российский тренер-аналитик в Европе — о «забвении» Марцела Лички на родине и перспективах Кокорина в Италии.\n",
            "sport: football  guess: hockey\n",
            "\n",
            "Дебют Миранчука, деньги «Барселоны» и Медведев перед US Open. Главное за неделю. Всё важное и интересное — в материалах «Чемпионата».\n",
            "sport: boxing  guess: hockey\n",
            "\n",
            "Эпидемия травм в сборной России! Сразу пять человек пропустят домашний турнир. Им уже нашли достойные замены.\n",
            "sport: hockey  guess: football\n",
            "\n",
            "Когда Россия вернётся в мировой спорт? Главное за неделю. Всё важное и интересное — в материалах «Чемпионата».\n",
            "sport: boxing  guess: hockey\n",
            "\n",
            "Вы мечтали об этом. В России играют без легионеров. За полуфинал женской Премьер-лиги боролись курская «Ивента» и московская МБА. Ни в одном клубе не было иностранцев.\n",
            "sport: basketball  guess: volleyball\n",
            "\n",
            "Судимы, но не приговорены. У России есть шансы на медали чемпионата мира? Да, есть. Но каждая следующая ошибка может их уничтожить.\n",
            "sport: volleyball  guess: basketball\n",
            "\n",
            "«Победив в Москве, я вздохнул с облегчением». Прорыв Рублёва начался с Кубка Кремля. Как на московском турнире зажигались звёзды и за какой клуб КХЛ болеет швейцарец Марк Россе.\n",
            "sport: tennis  guess: hockey\n",
            "\n",
            "Олимпиада-2020. Россия в квалификации сыграет с Германией и Мексикой. Между Россией и Олимпиадой стоят немцы и мексиканцы. И победитель группы «Тунис, Хорватия, Бразилия». Мы должны пробиваться в Токио!\n",
            "sport: basketball  guess: volleyball\n",
            "\n",
            "10 избранных матчей субботы: Медведев претендует на финал Рима, в АПЛ заруба за еврокубки. Что смотреть сегодня, 20 мая: финалы конференций в НХЛ и НБА, схватка Медведева и Циципаса и очень много интриг в футболе.\n",
            "sport: basketball  guess: football\n",
            "\n",
            "10 избранных матчей воскресенья: старт финалов НХЛ, «Ролан Гаррос» и последний шанс «Юве». Что смотреть 4 июня: UFC ночью, много тенниса, Формула-1 в Испании и финал Кубка Португалии.\n",
            "sport: hockey  guess: football\n",
            "\n",
            "Ограбление Яна с Анкалаевым или мухлёж судьи в октагоне? Худшие судейские фейлы 2022 года. Кое-кому стоит приобрести очки.\n",
            "sport: boxing  guess: football\n",
            "\n",
            "«Попал в очень тяжёлую ситуацию». Сергей Харитонов полетел на разборки в Майами. Очередная невесёлая история с Десантником в главной роли.\n",
            "sport: boxing  guess: tennis\n",
            "\n",
            "Вечно молодой Ягр забил в 51 год. И отпраздновал юбилей, которого не было даже у Гретцки. Кажется, он будет играть вечно.\n",
            "sport: hockey  guess: football\n",
            "\n",
            "Всем сборным по серьгам. Полуфиналисты определены, и среди них, увы, нет сборной России. Вспомним самые интересные моменты игр в Катовицах и Лодзи.\n",
            "sport: volleyball  guess: basketball\n",
            "\n"
          ]
        }
      ]
    },
    {
      "cell_type": "code",
      "source": [
        "# очистимся:\n",
        "del model\n",
        "del tokenizer"
      ],
      "metadata": {
        "id": "U2Z2BbIn1PIH"
      },
      "execution_count": null,
      "outputs": []
    },
    {
      "cell_type": "markdown",
      "source": [
        "## Глава 3. mT5\n",
        "[m]T5  можно использовать несколькими способами для классификации текстов:\n",
        "во-первых, генерить и предсказывать вид спорта как текст: футбол, баскетбол, ...  (MT5ForConditionalGeneration)\n",
        "во-вторых, довесить классификационную часть поверх mT5  (MT5ForSequenceClassification)\n",
        "в-третьих, использовать только encoder часть и к нему прикрутить классификатор - это мы и реализуем ниже (MT5EncoderModel)."
      ],
      "metadata": {
        "id": "0WohVP2VFF5u"
      }
    },
    {
      "cell_type": "code",
      "source": [
        "from transformers import AutoTokenizer\n",
        "\n",
        "model_checkpoint = \"google/mt5-small\"\n",
        "tokenizer = AutoTokenizer.from_pretrained(model_checkpoint)\n",
        "\n",
        "# is fast:\n",
        "tokenizer.is_fast"
      ],
      "metadata": {
        "colab": {
          "base_uri": "https://localhost:8080/",
          "height": 339,
          "referenced_widgets": [
            "9a8c6123260c4e0d92d81d49972bade7",
            "b22e80d0290047499b35062652036b9a",
            "2a9a61c8592546079d0c9d443e58e2af",
            "7a6ef4c13a3e46689fcafa93d5464192",
            "8bbb9e57a8db4bd4899b5bc873d4e893",
            "17ba7b24d22a444aac58fc66e47a3b8c",
            "b03b948b089441dcaed7f5e746b26212",
            "cf3b54b03c7d45b29789c51d93f1e6f1",
            "1365d068ba374a54ac181fab173ac1a4",
            "dd3d86f4de274e7ab77608394c6d112e",
            "a227bcff1c8f4471a6086d7a9061414b",
            "3173ec2be42544389a1b1b6349daf2f0",
            "078eb455414748448c8bccc39d4a2f2f",
            "4165dc40aedc4b689de67e7de29b35b8",
            "309fdc7a18264eddb5d3b6b1b9bdefe4",
            "6776428fb7794dc1a16e7fec631c26f3",
            "5714597f3a0840fdbc8b8bdbad6320a1",
            "4d52821f70284b48a5054dbcd96d843a",
            "f5d552865868459087f565c49a3e9964",
            "5848fbd77f9b4d5e964936e9afe09764",
            "0768fa3d60014c0c83a7801d3aefa426",
            "3682b31185cd42f19f13e548f950d083",
            "3b6f474954334debb4143f6184bf0ff0",
            "725b4c83a2124656a8f5c3df964562c9",
            "ecc342929aca4c748b4ede63d3ff7b1e",
            "394315d6c76c43ae862336d70739cf65",
            "af16ea93e4b9441581f01c007f3f62f1",
            "f6aea5a5d4f449fcb095106efdcc2d6f",
            "aa919a81087c48338b46a7563aac55b8",
            "498a516d39764180a2a5409579d5b448",
            "36574a657bd24ab2a45e8398f96c0d94",
            "bdd4a9b7f5384a0c89c883b7a18f946b",
            "984eeb7a8a3a4f1abb8bdad19cdb40ac",
            "414a67f2c23c49fbad2f92d5d20609b3",
            "5e7aab842c954cd19d8046899b1f69a4",
            "2862ccefe5e94a22918bf9dbb828f187",
            "33035a5daaad4fcf9f2769ad7ff1b96d",
            "1c34849110614bdeb7ce5e9e291f4222",
            "b2734b7f12da45b4a02d8c9d1dce5424",
            "30b8c93ebae54cab9ce27f7528576892",
            "d6b425887a41451f98aaca6123663bb8",
            "4f58f50843fe4340b1d9696ad1fe6ede",
            "46b3306b50b84a36b452e66a9ff04ea4",
            "38b4d4dbaa7b4a6d8e81ace9223b965b"
          ]
        },
        "id": "FZeKvrlsHg0q",
        "outputId": "868da8c4-a380-4565-9bb0-c9eba772e443"
      },
      "execution_count": null,
      "outputs": [
        {
          "output_type": "stream",
          "name": "stderr",
          "text": [
            "/usr/local/lib/python3.10/dist-packages/huggingface_hub/utils/_auth.py:94: UserWarning: \n",
            "The secret `HF_TOKEN` does not exist in your Colab secrets.\n",
            "To authenticate with the Hugging Face Hub, create a token in your settings tab (https://huggingface.co/settings/tokens), set it as secret in your Google Colab and restart your session.\n",
            "You will be able to reuse this secret in all of your notebooks.\n",
            "Please note that authentication is recommended but still optional to access public models or datasets.\n",
            "  warnings.warn(\n"
          ]
        },
        {
          "output_type": "display_data",
          "data": {
            "text/plain": [
              "tokenizer_config.json:   0%|          | 0.00/82.0 [00:00<?, ?B/s]"
            ],
            "application/vnd.jupyter.widget-view+json": {
              "version_major": 2,
              "version_minor": 0,
              "model_id": "9a8c6123260c4e0d92d81d49972bade7"
            }
          },
          "metadata": {}
        },
        {
          "output_type": "display_data",
          "data": {
            "text/plain": [
              "config.json:   0%|          | 0.00/553 [00:00<?, ?B/s]"
            ],
            "application/vnd.jupyter.widget-view+json": {
              "version_major": 2,
              "version_minor": 0,
              "model_id": "3173ec2be42544389a1b1b6349daf2f0"
            }
          },
          "metadata": {}
        },
        {
          "output_type": "display_data",
          "data": {
            "text/plain": [
              "spiece.model:   0%|          | 0.00/4.31M [00:00<?, ?B/s]"
            ],
            "application/vnd.jupyter.widget-view+json": {
              "version_major": 2,
              "version_minor": 0,
              "model_id": "3b6f474954334debb4143f6184bf0ff0"
            }
          },
          "metadata": {}
        },
        {
          "output_type": "display_data",
          "data": {
            "text/plain": [
              "special_tokens_map.json:   0%|          | 0.00/99.0 [00:00<?, ?B/s]"
            ],
            "application/vnd.jupyter.widget-view+json": {
              "version_major": 2,
              "version_minor": 0,
              "model_id": "414a67f2c23c49fbad2f92d5d20609b3"
            }
          },
          "metadata": {}
        },
        {
          "output_type": "stream",
          "name": "stderr",
          "text": [
            "You are using the default legacy behaviour of the <class 'transformers.models.t5.tokenization_t5.T5Tokenizer'>. This is expected, and simply means that the `legacy` (previous) behavior will be used so nothing changes for you. If you want to use the new behaviour, set `legacy=False`. This should only be set if you understand what it means, and thoroughly read the reason why this was added as explained in https://github.com/huggingface/transformers/pull/24565\n",
            "/usr/local/lib/python3.10/dist-packages/transformers/convert_slow_tokenizer.py:561: UserWarning: The sentencepiece tokenizer that you are converting to a fast tokenizer uses the byte fallback option which is not implemented in the fast tokenizers. In practice this means that the fast version of the tokenizer can produce unknown tokens whereas the sentencepiece version would have converted these unknown tokens into a sequence of byte tokens matching the original piece of text.\n",
            "  warnings.warn(\n"
          ]
        },
        {
          "output_type": "execute_result",
          "data": {
            "text/plain": [
              "True"
            ]
          },
          "metadata": {},
          "execution_count": 12
        }
      ]
    },
    {
      "cell_type": "code",
      "source": [],
      "metadata": {
        "id": "IM1T7CTlIXR0"
      },
      "execution_count": null,
      "outputs": []
    },
    {
      "cell_type": "code",
      "source": [
        "dataset"
      ],
      "metadata": {
        "colab": {
          "base_uri": "https://localhost:8080/"
        },
        "id": "pQHhsMtAIZNk",
        "outputId": "82af71be-aa2d-4a0d-a672-6e8164bdfeda"
      },
      "execution_count": null,
      "outputs": [
        {
          "output_type": "execute_result",
          "data": {
            "text/plain": [
              "DatasetDict({\n",
              "    train: Dataset({\n",
              "        features: ['text', 'sport'],\n",
              "        num_rows: 12837\n",
              "    })\n",
              "    test: Dataset({\n",
              "        features: ['text', 'sport'],\n",
              "        num_rows: 3210\n",
              "    })\n",
              "})"
            ]
          },
          "metadata": {},
          "execution_count": 13
        }
      ]
    },
    {
      "cell_type": "code",
      "source": [
        "# в dataset хранятся заголовки и вид спорта\n",
        "# преобразуем их сызнова токенизатором от mT5\n",
        "# и заменим виды спорта на числа\n",
        "\n",
        "def preprocessing(examples):\n",
        "    labels = list(map(lambda txt: label2id[txt], examples['sport']))\n",
        "    examples['labels'] = labels\n",
        "\n",
        "    return tokenizer(examples['text'], max_length=128, truncation=True, return_tensors='np')"
      ],
      "metadata": {
        "id": "NGS5Z3yoIZ0F"
      },
      "execution_count": null,
      "outputs": []
    },
    {
      "cell_type": "code",
      "source": [
        "tokenized_dataset = dataset.map(preprocessing, batched=True)"
      ],
      "metadata": {
        "colab": {
          "base_uri": "https://localhost:8080/",
          "height": 81,
          "referenced_widgets": [
            "30984e121a974c2d911c8f2dfed14c11",
            "114555058afa4f21be6c0c971f90adcb",
            "8a99d6f9ac6647e3ac3fa6d26aaa8f43",
            "3fc7dd3c012c45de867b498799f6962e",
            "97a89bb63af14c7ca17048343706f552",
            "033ed3e9704d45638bc9d068aa5004e7",
            "cd6b5f7f14b64069b30885a8aeeeb479",
            "404d62459e3b48268a198d734c867387",
            "a96e49c20fc74566ab26415ba95d7a4e",
            "a5cf55ebd44241eb81581b154996e279",
            "698532c45b5d49028a7c6da1dea89c33",
            "1c016e36025d4fb98733223672ccbf31",
            "8e7e4219a8d241288bcef4fdbd2ef9e2",
            "5a7ca07583014f61a9d885c28ad98295",
            "b3864b2b16d241489035cd3c764698bb",
            "b120bce02a7d4ab3a670f2063cf31e44",
            "550ef8298938405dabb862f41a8bab46",
            "15284c5d47684a7c8c4d654ebbe27972",
            "84dbdb6ba1bc468d92e7bae9a7400ef3",
            "74241d53996a4a0988b4b24393b04ea8",
            "10b986eb14844a8da6e5bf2b5a0a9738",
            "b0de3ded449c4a1aa71ea50165a724e9"
          ]
        },
        "id": "WltzbskRJXbT",
        "outputId": "f27fb8ef-2107-4585-b8b1-9efd888fb1f4"
      },
      "execution_count": null,
      "outputs": [
        {
          "output_type": "display_data",
          "data": {
            "text/plain": [
              "Map:   0%|          | 0/12837 [00:00<?, ? examples/s]"
            ],
            "application/vnd.jupyter.widget-view+json": {
              "version_major": 2,
              "version_minor": 0,
              "model_id": "30984e121a974c2d911c8f2dfed14c11"
            }
          },
          "metadata": {}
        },
        {
          "output_type": "display_data",
          "data": {
            "text/plain": [
              "Map:   0%|          | 0/3210 [00:00<?, ? examples/s]"
            ],
            "application/vnd.jupyter.widget-view+json": {
              "version_major": 2,
              "version_minor": 0,
              "model_id": "1c016e36025d4fb98733223672ccbf31"
            }
          },
          "metadata": {}
        }
      ]
    },
    {
      "cell_type": "code",
      "source": [
        "# пример:\n",
        "for k, v in tokenized_dataset['test'][1].items():\n",
        "  print(k+': ', v)"
      ],
      "metadata": {
        "colab": {
          "base_uri": "https://localhost:8080/"
        },
        "id": "GlQPMi-XJYjK",
        "outputId": "b8322b60-b54a-4698-a2cf-c37b3af15b25"
      },
      "execution_count": null,
      "outputs": [
        {
          "output_type": "stream",
          "name": "stdout",
          "text": [
            "text:  Разгорающийся скандал вокруг Ничушкина и триумф «Чайки» в МХЛ. Итоги дня в хоккее. Сезон в КХЛ продолжается, а знаковый игрок СКА закончил игровую карьеру.\n",
            "sport:  hockey\n",
            "labels:  1\n",
            "input_ids:  [10161, 73124, 128190, 97678, 315, 67289, 6872, 1531, 47002, 558, 259, 279, 6035, 4766, 3378, 404, 120727, 657, 436, 315, 1278, 3391, 6125, 260, 156652, 51843, 259, 12515, 315, 100113, 1625, 324, 260, 688, 111524, 315, 1035, 3391, 6125, 18713, 7990, 261, 259, 308, 4778, 122972, 9681, 1358, 259, 57230, 6297, 35437, 9681, 44531, 259, 154454, 80726, 260, 1]\n",
            "attention_mask:  [1, 1, 1, 1, 1, 1, 1, 1, 1, 1, 1, 1, 1, 1, 1, 1, 1, 1, 1, 1, 1, 1, 1, 1, 1, 1, 1, 1, 1, 1, 1, 1, 1, 1, 1, 1, 1, 1, 1, 1, 1, 1, 1, 1, 1, 1, 1, 1, 1, 1, 1, 1, 1, 1, 1, 1, 1, 1, 1]\n"
          ]
        }
      ]
    },
    {
      "cell_type": "code",
      "source": [
        "# удалим text и sport:\n",
        "tokenized_dataset = tokenized_dataset.remove_columns(['text', 'sport',])"
      ],
      "metadata": {
        "id": "IvDHEs46JbEi"
      },
      "execution_count": null,
      "outputs": []
    },
    {
      "cell_type": "code",
      "source": [],
      "metadata": {
        "id": "nFX9j7v3KEA8"
      },
      "execution_count": null,
      "outputs": []
    },
    {
      "cell_type": "markdown",
      "source": [
        "### Data_collator"
      ],
      "metadata": {
        "id": "5hmIgOrtKFJa"
      }
    },
    {
      "cell_type": "code",
      "source": [
        "import torch\n",
        "from transformers import DataCollatorWithPadding"
      ],
      "metadata": {
        "id": "s9JsXVrvKKd5"
      },
      "execution_count": null,
      "outputs": []
    },
    {
      "cell_type": "code",
      "source": [
        "# т.к. данные подаются в модель параллельно, они должны быть одной длины.\n",
        "# добить input_ids pad_token'ми до одной длины нам поможет data_collator\n",
        "\n",
        "data_collator = DataCollatorWithPadding(tokenizer=tokenizer)"
      ],
      "metadata": {
        "id": "a1nseCbNKGsm"
      },
      "execution_count": null,
      "outputs": []
    },
    {
      "cell_type": "code",
      "source": [],
      "metadata": {
        "id": "ksNnzWGcMNMD"
      },
      "execution_count": null,
      "outputs": []
    },
    {
      "cell_type": "markdown",
      "source": [
        "### Dataloader"
      ],
      "metadata": {
        "id": "2Lkn195YMNSy"
      }
    },
    {
      "cell_type": "code",
      "source": [
        "from torch.utils.data import DataLoader"
      ],
      "metadata": {
        "id": "KoYqbXoWMOXn"
      },
      "execution_count": null,
      "outputs": []
    },
    {
      "cell_type": "code",
      "source": [
        "# загрузчики данных для нейронки:\n",
        "train_loader = DataLoader(tokenized_dataset['train'],\n",
        "                          batch_size=32,\n",
        "                          shuffle=True,\n",
        "                          collate_fn=data_collator)\n",
        "\n",
        "\n",
        "test_loader = DataLoader(tokenized_dataset['test'],\n",
        "                          batch_size=32,\n",
        "                          shuffle=False,\n",
        "                          collate_fn=data_collator)"
      ],
      "metadata": {
        "id": "uKiAAGHdMQlH"
      },
      "execution_count": null,
      "outputs": []
    },
    {
      "cell_type": "code",
      "source": [
        "# работает:\n",
        "for x_batch in train_loader:\n",
        "  break\n",
        "\n",
        "{k: v.shape for k,v in x_batch.items()}"
      ],
      "metadata": {
        "colab": {
          "base_uri": "https://localhost:8080/"
        },
        "id": "8pNVP0iCMTZ5",
        "outputId": "832d7cbc-73c7-43e3-bad9-7def2651e581"
      },
      "execution_count": null,
      "outputs": [
        {
          "output_type": "execute_result",
          "data": {
            "text/plain": [
              "{'labels': torch.Size([32]),\n",
              " 'input_ids': torch.Size([32, 78]),\n",
              " 'attention_mask': torch.Size([32, 78])}"
            ]
          },
          "metadata": {},
          "execution_count": 24
        }
      ]
    },
    {
      "cell_type": "code",
      "source": [],
      "metadata": {
        "id": "ddrX2P3QMc0D"
      },
      "execution_count": null,
      "outputs": []
    },
    {
      "cell_type": "markdown",
      "source": [
        "### Model\n",
        "Пару слов о модели:\n",
        "от mT5 берем encoder часть и к ней добавляем линейный слой с 7 выходами (число классов).\n",
        "Вектора токенов на выходе encoder'a усредняем (игноря вектора от pad_token'ов),\n",
        "эти усредненные и подаем в линейный слой (классификатор) и получаем логиты по 7 классам.\n",
        "Считаем лосс (CrossEntropyLoss), считаем градиенты и обновляем веса."
      ],
      "metadata": {
        "id": "X_b3GO1WMdIp"
      }
    },
    {
      "cell_type": "code",
      "source": [
        "from transformers import MT5EncoderModel\n",
        "\n",
        "model = MT5EncoderModel.from_pretrained(model_checkpoint)"
      ],
      "metadata": {
        "id": "CLyFiyH2NiGy"
      },
      "execution_count": null,
      "outputs": []
    },
    {
      "cell_type": "code",
      "source": [
        "import torch.nn"
      ],
      "metadata": {
        "id": "Ke3FSI-nNoyF"
      },
      "execution_count": null,
      "outputs": []
    },
    {
      "cell_type": "code",
      "source": [
        "class myT5(torch.nn.Module):\n",
        "  def __init__(self, n_classes):\n",
        "    \"\"\"\n",
        "    mT5 encoder block + linear layer\n",
        "    \"\"\"\n",
        "    super().__init__()\n",
        "\n",
        "    self.encoderT5 = model\n",
        "    self.clf = torch.nn.Linear(512, n_classes)  # 512 - размерность векторов токенов на выходе из encoder'a\n",
        "\n",
        "  def forward(self, x_batch):\n",
        "    # кол-во токенов в input_ids, кроме pad_token'ов:\n",
        "    den = x_batch['attention_mask'].sum(dim=1, keepdim=True) # (bs, 1)\n",
        "    # чтобы игнорировать выходы pad_token'ов:\n",
        "    attn_mask = x_batch['attention_mask'].unsqueeze(dim=-1) # (bs, seq_len, 1)\n",
        "\n",
        "    outp = self.encoderT5(**x_batch)\n",
        "    # вектора токенов на выходе из Encoder'a\n",
        "    hidden_state = outp.last_hidden_state # (bs, seq_len, hid_dim)\n",
        "\n",
        "    # усреднем вектора, игнорируя вектора pad_token'ов:\n",
        "    clf_input = (hidden_state * attn_mask).sum(dim=1) / den  # (bs, hid_dim)\n",
        "    assert clf_input.shape[1] == 512, 'Wrong math!'\n",
        "\n",
        "    # clf:\n",
        "    clf_outp = self.clf(clf_input) # (bs, n_classуы)\n",
        "\n",
        "    return clf_outp"
      ],
      "metadata": {
        "id": "gIBuMQrYN5Ig"
      },
      "execution_count": null,
      "outputs": []
    },
    {
      "cell_type": "code",
      "source": [
        "# N = 7\n",
        "custom_model = myT5(N)"
      ],
      "metadata": {
        "id": "2wQsx5NyN5La"
      },
      "execution_count": null,
      "outputs": []
    },
    {
      "cell_type": "code",
      "source": [],
      "metadata": {
        "id": "IyRwEqNdN5Oo"
      },
      "execution_count": null,
      "outputs": []
    },
    {
      "cell_type": "markdown",
      "source": [
        "### Move to GPU/CPU"
      ],
      "metadata": {
        "id": "ovDy6gCmLuXi"
      }
    },
    {
      "cell_type": "code",
      "source": [
        "# device:\n",
        "device = torch.device(\"cuda\" if torch.cuda.is_available() else \"cpu\")\n",
        "device"
      ],
      "metadata": {
        "id": "Hz7r4cj5N5RR",
        "colab": {
          "base_uri": "https://localhost:8080/"
        },
        "outputId": "c98259e5-29f7-47f4-e2d2-b0a876245449"
      },
      "execution_count": null,
      "outputs": [
        {
          "output_type": "execute_result",
          "data": {
            "text/plain": [
              "device(type='cuda')"
            ]
          },
          "metadata": {},
          "execution_count": 43
        }
      ]
    },
    {
      "cell_type": "code",
      "source": [
        "custom_model.to(device)"
      ],
      "metadata": {
        "collapsed": true,
        "colab": {
          "base_uri": "https://localhost:8080/"
        },
        "id": "Gga63UziNBLB",
        "outputId": "e9c61e0a-9991-41c5-f8cc-1120c06396a3"
      },
      "execution_count": null,
      "outputs": [
        {
          "output_type": "execute_result",
          "data": {
            "text/plain": [
              "myT5(\n",
              "  (encoderT5): MT5EncoderModel(\n",
              "    (shared): Embedding(250112, 512)\n",
              "    (encoder): MT5Stack(\n",
              "      (embed_tokens): Embedding(250112, 512)\n",
              "      (block): ModuleList(\n",
              "        (0): MT5Block(\n",
              "          (layer): ModuleList(\n",
              "            (0): MT5LayerSelfAttention(\n",
              "              (SelfAttention): MT5Attention(\n",
              "                (q): Linear(in_features=512, out_features=384, bias=False)\n",
              "                (k): Linear(in_features=512, out_features=384, bias=False)\n",
              "                (v): Linear(in_features=512, out_features=384, bias=False)\n",
              "                (o): Linear(in_features=384, out_features=512, bias=False)\n",
              "                (relative_attention_bias): Embedding(32, 6)\n",
              "              )\n",
              "              (layer_norm): MT5LayerNorm()\n",
              "              (dropout): Dropout(p=0.1, inplace=False)\n",
              "            )\n",
              "            (1): MT5LayerFF(\n",
              "              (DenseReluDense): MT5DenseGatedActDense(\n",
              "                (wi_0): Linear(in_features=512, out_features=1024, bias=False)\n",
              "                (wi_1): Linear(in_features=512, out_features=1024, bias=False)\n",
              "                (wo): Linear(in_features=1024, out_features=512, bias=False)\n",
              "                (dropout): Dropout(p=0.1, inplace=False)\n",
              "                (act): NewGELUActivation()\n",
              "              )\n",
              "              (layer_norm): MT5LayerNorm()\n",
              "              (dropout): Dropout(p=0.1, inplace=False)\n",
              "            )\n",
              "          )\n",
              "        )\n",
              "        (1-7): 7 x MT5Block(\n",
              "          (layer): ModuleList(\n",
              "            (0): MT5LayerSelfAttention(\n",
              "              (SelfAttention): MT5Attention(\n",
              "                (q): Linear(in_features=512, out_features=384, bias=False)\n",
              "                (k): Linear(in_features=512, out_features=384, bias=False)\n",
              "                (v): Linear(in_features=512, out_features=384, bias=False)\n",
              "                (o): Linear(in_features=384, out_features=512, bias=False)\n",
              "              )\n",
              "              (layer_norm): MT5LayerNorm()\n",
              "              (dropout): Dropout(p=0.1, inplace=False)\n",
              "            )\n",
              "            (1): MT5LayerFF(\n",
              "              (DenseReluDense): MT5DenseGatedActDense(\n",
              "                (wi_0): Linear(in_features=512, out_features=1024, bias=False)\n",
              "                (wi_1): Linear(in_features=512, out_features=1024, bias=False)\n",
              "                (wo): Linear(in_features=1024, out_features=512, bias=False)\n",
              "                (dropout): Dropout(p=0.1, inplace=False)\n",
              "                (act): NewGELUActivation()\n",
              "              )\n",
              "              (layer_norm): MT5LayerNorm()\n",
              "              (dropout): Dropout(p=0.1, inplace=False)\n",
              "            )\n",
              "          )\n",
              "        )\n",
              "      )\n",
              "      (final_layer_norm): MT5LayerNorm()\n",
              "      (dropout): Dropout(p=0.1, inplace=False)\n",
              "    )\n",
              "  )\n",
              "  (clf): Linear(in_features=512, out_features=7, bias=True)\n",
              ")"
            ]
          },
          "metadata": {},
          "execution_count": 44
        }
      ]
    },
    {
      "cell_type": "code",
      "source": [],
      "metadata": {
        "id": "IaMd8pHZNBdQ"
      },
      "execution_count": null,
      "outputs": []
    },
    {
      "cell_type": "markdown",
      "source": [
        "### Fine-tuning модели"
      ],
      "metadata": {
        "id": "_7NphqDlNLLP"
      }
    },
    {
      "cell_type": "code",
      "source": [
        "from torch.optim import AdamW\n",
        "from transformers import get_linear_schedule_with_warmup\n",
        "from sklearn.metrics import accuracy_score, precision_score, recall_score, f1_score, confusion_matrix\n",
        "from tqdm import tqdm\n",
        "from torch.nn import CrossEntropyLoss"
      ],
      "metadata": {
        "id": "x17nCyYhNNrs"
      },
      "execution_count": null,
      "outputs": []
    },
    {
      "cell_type": "code",
      "source": [
        "#param_groups = []#[{'params': model['classification_head'], 'lr': 5e-4}]\n",
        "#for name, parameter in model.named_parameters():\n",
        "#  if 'clf' in name:\n",
        "#    param_groups.append({'params': [parameter], 'lr': 6e-4})"
      ],
      "metadata": {
        "id": "BIOzCnWkNgH2"
      },
      "execution_count": null,
      "outputs": []
    },
    {
      "cell_type": "code",
      "source": [
        "optim = AdamW(custom_model.parameters(), lr=3e-4, weight_decay=0.01)  # param_groups"
      ],
      "metadata": {
        "id": "aqYgd3J9NgLJ"
      },
      "execution_count": null,
      "outputs": []
    },
    {
      "cell_type": "code",
      "source": [
        "# лосс функция, замеряющая ошибки:\n",
        "loss_fn = CrossEntropyLoss()"
      ],
      "metadata": {
        "id": "TuYNNx60NgOI"
      },
      "execution_count": null,
      "outputs": []
    },
    {
      "cell_type": "code",
      "source": [
        "# scheduler:\n",
        "\n",
        "N_epochs = 4\n",
        "n_train_steps = len(train_loader) * N_epochs\n",
        "\n",
        "lr_scheduler = get_linear_schedule_with_warmup(\n",
        "    optimizer=optim,\n",
        "    num_warmup_steps=0,\n",
        "    num_training_steps=n_train_steps)"
      ],
      "metadata": {
        "id": "l0uak70SOGRR"
      },
      "execution_count": null,
      "outputs": []
    },
    {
      "cell_type": "code",
      "source": [
        "# train/eval loops:\n",
        "\n",
        "loss_hist = [] # train loss history\n",
        "y_true = tokenized_dataset['test']['labels']\n",
        "N_sample = len(tokenized_dataset['test'])\n",
        "\n",
        "for epoch in range(1, N_epochs+1):\n",
        "  #_ = 0\n",
        "  custom_model.train()\n",
        "  for x_batch in tqdm(train_loader):\n",
        "    labels = x_batch['labels']\n",
        "    del x_batch['labels']\n",
        "\n",
        "    # to device:\n",
        "    x_batch = {k: v.to(device) for k,v in x_batch.items()}\n",
        "\n",
        "    #_ += 1\n",
        "    optim.zero_grad()\n",
        "    output = custom_model(x_batch)\n",
        "    loss = loss_fn(output, labels.to(device))\n",
        "    loss.backward()\n",
        "\n",
        "    # clip grads:\n",
        "    #torch.nn.utils.clip_grad_norm_(model.parameters(), 1.0)\n",
        "\n",
        "    optim.step()\n",
        "\n",
        "    # get and save loss:\n",
        "    loss_hist.append(loss.detach().cpu().item())\n",
        "\n",
        "    # scheduler step:\n",
        "    lr_scheduler.step()\n",
        "\n",
        "    #if _ == 25:\n",
        "    #  break\n",
        "\n",
        "  #_ = 0\n",
        "  # eval:\n",
        "  eval_loss = 0 # eval\n",
        "  y_pred = [] # eval\n",
        "  custom_model.eval()\n",
        "  for x_batch in tqdm(test_loader):\n",
        "    #_ += 1\n",
        "    labels = x_batch['labels']\n",
        "    del x_batch['labels']\n",
        "\n",
        "    x_batch = {k: v.to(device) for k,v in x_batch.items()}\n",
        "\n",
        "    with torch.no_grad():\n",
        "      output = custom_model(x_batch)\n",
        "    loss = loss_fn(output, labels.to(device))\n",
        "    eval_loss += loss.cpu().item()\n",
        "\n",
        "    preds = output.cpu().argmax(dim=-1).tolist()\n",
        "    y_pred += preds\n",
        "\n",
        "    #if _ == 15:\n",
        "    #  break\n",
        "\n",
        "\n",
        "  # metrics:\n",
        "  n = len(y_pred)\n",
        "  print(f'\\nepoch: {epoch}')\n",
        "  print(f'eval loss: {round(eval_loss/len(y_pred), 5)}')\n",
        "  print(f'accuracy: {round(accuracy_score(y_true[:n], y_pred), 5)}')\n",
        "  print(f\"precision: {round(precision_score(y_true[:n], y_pred, average='macro'), 5)}\")\n",
        "  print(f\"recall: {round(recall_score(y_true[:n], y_pred, average='macro'), 5)}\")\n",
        "  print(f\"f1: {round(f1_score(y_true[:n], y_pred, average='macro'), 5)}\")\n",
        "  print()\n"
      ],
      "metadata": {
        "colab": {
          "base_uri": "https://localhost:8080/"
        },
        "id": "EgF88XUZOLOj",
        "outputId": "9c6a662d-f23a-4c2a-d4a8-ae4d1efec876"
      },
      "execution_count": null,
      "outputs": [
        {
          "output_type": "stream",
          "name": "stderr",
          "text": [
            "100%|██████████| 402/402 [01:07<00:00,  5.99it/s]\n",
            "100%|██████████| 101/101 [00:04<00:00, 24.46it/s]\n"
          ]
        },
        {
          "output_type": "stream",
          "name": "stdout",
          "text": [
            "\n",
            "epoch: 1\n",
            "eval loss: 0.01188\n",
            "accuracy: 0.87882\n",
            "precision: 0.8954\n",
            "recall: 0.87819\n",
            "f1: 0.87999\n",
            "\n"
          ]
        },
        {
          "output_type": "stream",
          "name": "stderr",
          "text": [
            "100%|██████████| 402/402 [01:09<00:00,  5.76it/s]\n",
            "100%|██████████| 101/101 [00:04<00:00, 23.26it/s]\n"
          ]
        },
        {
          "output_type": "stream",
          "name": "stdout",
          "text": [
            "\n",
            "epoch: 2\n",
            "eval loss: 0.00834\n",
            "accuracy: 0.91994\n",
            "precision: 0.92147\n",
            "recall: 0.91972\n",
            "f1: 0.91987\n",
            "\n"
          ]
        },
        {
          "output_type": "stream",
          "name": "stderr",
          "text": [
            "100%|██████████| 402/402 [01:10<00:00,  5.73it/s]\n",
            "100%|██████████| 101/101 [00:04<00:00, 22.67it/s]\n"
          ]
        },
        {
          "output_type": "stream",
          "name": "stdout",
          "text": [
            "\n",
            "epoch: 3\n",
            "eval loss: 0.00735\n",
            "accuracy: 0.93053\n",
            "precision: 0.93025\n",
            "recall: 0.93043\n",
            "f1: 0.93017\n",
            "\n"
          ]
        },
        {
          "output_type": "stream",
          "name": "stderr",
          "text": [
            "100%|██████████| 402/402 [01:10<00:00,  5.73it/s]\n",
            "100%|██████████| 101/101 [00:04<00:00, 23.35it/s]\n"
          ]
        },
        {
          "output_type": "stream",
          "name": "stdout",
          "text": [
            "\n",
            "epoch: 4\n",
            "eval loss: 0.00689\n",
            "accuracy: 0.93333\n",
            "precision: 0.93334\n",
            "recall: 0.93316\n",
            "f1: 0.93306\n",
            "\n"
          ]
        }
      ]
    },
    {
      "cell_type": "markdown",
      "source": [
        "Результаты очень близки к ruBert/mBert, в каких-то прогонах у меня выбивалось качество под 94.5%, надо поварьировать гиперпараметры  "
      ],
      "metadata": {
        "id": "DvJOiLgLfHUn"
      }
    },
    {
      "cell_type": "code",
      "source": [
        "plt.plot(loss_hist)\n",
        "plt.title('Train loss history')\n",
        "plt.xlabel('# iter')\n",
        "plt.ylabel('loss');"
      ],
      "metadata": {
        "colab": {
          "base_uri": "https://localhost:8080/",
          "height": 472
        },
        "id": "BZeYoRX0Rf9n",
        "outputId": "7cf8265c-c710-47bd-a974-b00cecbde385"
      },
      "execution_count": null,
      "outputs": [
        {
          "output_type": "display_data",
          "data": {
            "text/plain": [
              "<Figure size 640x480 with 1 Axes>"
            ],
            "image/png": "[encoded data removed]"
          },
          "metadata": {}
        }
      ]
    },
    {
      "cell_type": "code",
      "source": [
        "# Матрица ошибок предсказаний классов:\n",
        "conf_df = pd.DataFrame(confusion_matrix(y_true[:n], y_pred,),\n",
        "                       index=[id2label[k] for k in id2label],\n",
        "                       columns=[id2label[k] for k in id2label]\n",
        ")"
      ],
      "metadata": {
        "id": "FUuK68RpRmGN",
        "colab": {
          "base_uri": "https://localhost:8080/",
          "height": 211
        },
        "outputId": "55bfe008-1b8c-4dd3-8e46-a730a4865d7e"
      },
      "execution_count": null,
      "outputs": [
        {
          "output_type": "error",
          "ename": "NameError",
          "evalue": "name 'confusion_matrix' is not defined",
          "traceback": [
            "\u001b[0;31m---------------------------------------------------------------------------\u001b[0m",
            "\u001b[0;31mNameError\u001b[0m                                 Traceback (most recent call last)",
            "\u001b[0;32m<ipython-input-14-39941bd2420b>\u001b[0m in \u001b[0;36m<cell line: 2>\u001b[0;34m()\u001b[0m\n\u001b[1;32m      1\u001b[0m \u001b[0;31m# Матрица ошибок предсказаний классов:\u001b[0m\u001b[0;34m\u001b[0m\u001b[0;34m\u001b[0m\u001b[0m\n\u001b[0;32m----> 2\u001b[0;31m conf_df = pd.DataFrame(confusion_matrix(y_true[:n], y_pred,),\n\u001b[0m\u001b[1;32m      3\u001b[0m                        \u001b[0mindex\u001b[0m\u001b[0;34m=\u001b[0m\u001b[0;34m[\u001b[0m\u001b[0mid2label\u001b[0m\u001b[0;34m[\u001b[0m\u001b[0mk\u001b[0m\u001b[0;34m]\u001b[0m \u001b[0;32mfor\u001b[0m \u001b[0mk\u001b[0m \u001b[0;32min\u001b[0m \u001b[0mid2label\u001b[0m\u001b[0;34m]\u001b[0m\u001b[0;34m,\u001b[0m\u001b[0;34m\u001b[0m\u001b[0;34m\u001b[0m\u001b[0m\n\u001b[1;32m      4\u001b[0m                        \u001b[0mcolumns\u001b[0m\u001b[0;34m=\u001b[0m\u001b[0;34m[\u001b[0m\u001b[0mid2label\u001b[0m\u001b[0;34m[\u001b[0m\u001b[0mk\u001b[0m\u001b[0;34m]\u001b[0m \u001b[0;32mfor\u001b[0m \u001b[0mk\u001b[0m \u001b[0;32min\u001b[0m \u001b[0mid2label\u001b[0m\u001b[0;34m]\u001b[0m\u001b[0;34m\u001b[0m\u001b[0;34m\u001b[0m\u001b[0m\n\u001b[1;32m      5\u001b[0m )\n",
            "\u001b[0;31mNameError\u001b[0m: name 'confusion_matrix' is not defined"
          ]
        }
      ]
    },
    {
      "cell_type": "code",
      "source": [
        "conf_df"
      ],
      "metadata": {
        "colab": {
          "base_uri": "https://localhost:8080/",
          "height": 269
        },
        "id": "pITKK25mRmmn",
        "outputId": "77130be2-deb9-42d1-f159-245fd311b66c"
      },
      "execution_count": null,
      "outputs": [
        {
          "output_type": "execute_result",
          "data": {
            "text/plain": [
              "            volleyball  hockey  boxing  basketball  auto  football  tennis\n",
              "volleyball         449       4       3           6     0        10       5\n",
              "hockey               1     426       0          15     1        13       5\n",
              "boxing               0       4     418           7     0         3      12\n",
              "basketball          15       5       6         406     0        14       7\n",
              "auto                 1       1       0           3   477         4       6\n",
              "football             0      12       3          18     2       424       7\n",
              "tennis               1       3       0           5     1        11     396"
            ],
            "text/html": [
              "\n",
              "  <div id=\"df-79fe2194-0a25-450e-9ed1-3341a2b6ace3\" class=\"colab-df-container\">\n",
              "    <div>\n",
              "<style scoped>\n",
              "    .dataframe tbody tr th:only-of-type {\n",
              "        vertical-align: middle;\n",
              "    }\n",
              "\n",
              "    .dataframe tbody tr th {\n",
              "        vertical-align: top;\n",
              "    }\n",
              "\n",
              "    .dataframe thead th {\n",
              "        text-align: right;\n",
              "    }\n",
              "</style>\n",
              "<table border=\"1\" class=\"dataframe\">\n",
              "  <thead>\n",
              "    <tr style=\"text-align: right;\">\n",
              "      <th></th>\n",
              "      <th>volleyball</th>\n",
              "      <th>hockey</th>\n",
              "      <th>boxing</th>\n",
              "      <th>basketball</th>\n",
              "      <th>auto</th>\n",
              "      <th>football</th>\n",
              "      <th>tennis</th>\n",
              "    </tr>\n",
              "  </thead>\n",
              "  <tbody>\n",
              "    <tr>\n",
              "      <th>volleyball</th>\n",
              "      <td>449</td>\n",
              "      <td>4</td>\n",
              "      <td>3</td>\n",
              "      <td>6</td>\n",
              "      <td>0</td>\n",
              "      <td>10</td>\n",
              "      <td>5</td>\n",
              "    </tr>\n",
              "    <tr>\n",
              "      <th>hockey</th>\n",
              "      <td>1</td>\n",
              "      <td>426</td>\n",
              "      <td>0</td>\n",
              "      <td>15</td>\n",
              "      <td>1</td>\n",
              "      <td>13</td>\n",
              "      <td>5</td>\n",
              "    </tr>\n",
              "    <tr>\n",
              "      <th>boxing</th>\n",
              "      <td>0</td>\n",
              "      <td>4</td>\n",
              "      <td>418</td>\n",
              "      <td>7</td>\n",
              "      <td>0</td>\n",
              "      <td>3</td>\n",
              "      <td>12</td>\n",
              "    </tr>\n",
              "    <tr>\n",
              "      <th>basketball</th>\n",
              "      <td>15</td>\n",
              "      <td>5</td>\n",
              "      <td>6</td>\n",
              "      <td>406</td>\n",
              "      <td>0</td>\n",
              "      <td>14</td>\n",
              "      <td>7</td>\n",
              "    </tr>\n",
              "    <tr>\n",
              "      <th>auto</th>\n",
              "      <td>1</td>\n",
              "      <td>1</td>\n",
              "      <td>0</td>\n",
              "      <td>3</td>\n",
              "      <td>477</td>\n",
              "      <td>4</td>\n",
              "      <td>6</td>\n",
              "    </tr>\n",
              "    <tr>\n",
              "      <th>football</th>\n",
              "      <td>0</td>\n",
              "      <td>12</td>\n",
              "      <td>3</td>\n",
              "      <td>18</td>\n",
              "      <td>2</td>\n",
              "      <td>424</td>\n",
              "      <td>7</td>\n",
              "    </tr>\n",
              "    <tr>\n",
              "      <th>tennis</th>\n",
              "      <td>1</td>\n",
              "      <td>3</td>\n",
              "      <td>0</td>\n",
              "      <td>5</td>\n",
              "      <td>1</td>\n",
              "      <td>11</td>\n",
              "      <td>396</td>\n",
              "    </tr>\n",
              "  </tbody>\n",
              "</table>\n",
              "</div>\n",
              "    <div class=\"colab-df-buttons\">\n",
              "\n",
              "  <div class=\"colab-df-container\">\n",
              "    <button class=\"colab-df-convert\" onclick=\"convertToInteractive('df-79fe2194-0a25-450e-9ed1-3341a2b6ace3')\"\n",
              "            title=\"Convert this dataframe to an interactive table.\"\n",
              "            style=\"display:none;\">\n",
              "\n",
              "  <svg xmlns=\"http://www.w3.org/2000/svg\" height=\"24px\" viewBox=\"0 -960 960 960\">\n",
              "    <path d=\"M120-120v-720h720v720H120Zm60-500h600v-160H180v160Zm220 220h160v-160H400v160Zm0 220h160v-160H400v160ZM180-400h160v-160H180v160Zm440 0h160v-160H620v160ZM180-180h160v-160H180v160Zm440 0h160v-160H620v160Z\"/>\n",
              "  </svg>\n",
              "    </button>\n",
              "\n",
              "  <style>\n",
              "    .colab-df-container {\n",
              "      display:flex;\n",
              "      gap: 12px;\n",
              "    }\n",
              "\n",
              "    .colab-df-convert {\n",
              "      background-color: #E8F0FE;\n",
              "      border: none;\n",
              "      border-radius: 50%;\n",
              "      cursor: pointer;\n",
              "      display: none;\n",
              "      fill: #1967D2;\n",
              "      height: 32px;\n",
              "      padding: 0 0 0 0;\n",
              "      width: 32px;\n",
              "    }\n",
              "\n",
              "    .colab-df-convert:hover {\n",
              "      background-color: #E2EBFA;\n",
              "      box-shadow: 0px 1px 2px rgba(60, 64, 67, 0.3), 0px 1px 3px 1px rgba(60, 64, 67, 0.15);\n",
              "      fill: #174EA6;\n",
              "    }\n",
              "\n",
              "    .colab-df-buttons div {\n",
              "      margin-bottom: 4px;\n",
              "    }\n",
              "\n",
              "    [theme=dark] .colab-df-convert {\n",
              "      background-color: #3B4455;\n",
              "      fill: #D2E3FC;\n",
              "    }\n",
              "\n",
              "    [theme=dark] .colab-df-convert:hover {\n",
              "      background-color: #434B5C;\n",
              "      box-shadow: 0px 1px 3px 1px rgba(0, 0, 0, 0.15);\n",
              "      filter: drop-shadow(0px 1px 2px rgba(0, 0, 0, 0.3));\n",
              "      fill: #FFFFFF;\n",
              "    }\n",
              "  </style>\n",
              "\n",
              "    <script>\n",
              "      const buttonEl =\n",
              "        document.querySelector('#df-79fe2194-0a25-450e-9ed1-3341a2b6ace3 button.colab-df-convert');\n",
              "      buttonEl.style.display =\n",
              "        google.colab.kernel.accessAllowed ? 'block' : 'none';\n",
              "\n",
              "      async function convertToInteractive(key) {\n",
              "        const element = document.querySelector('#df-79fe2194-0a25-450e-9ed1-3341a2b6ace3');\n",
              "        const dataTable =\n",
              "          await google.colab.kernel.invokeFunction('convertToInteractive',\n",
              "                                                    [key], {});\n",
              "        if (!dataTable) return;\n",
              "\n",
              "        const docLinkHtml = 'Like what you see? Visit the ' +\n",
              "          '<a target=\"_blank\" href=https://colab.research.google.com/notebooks/data_table.ipynb>data table notebook</a>'\n",
              "          + ' to learn more about interactive tables.';\n",
              "        element.innerHTML = '';\n",
              "        dataTable['output_type'] = 'display_data';\n",
              "        await google.colab.output.renderOutput(dataTable, element);\n",
              "        const docLink = document.createElement('div');\n",
              "        docLink.innerHTML = docLinkHtml;\n",
              "        element.appendChild(docLink);\n",
              "      }\n",
              "    </script>\n",
              "  </div>\n",
              "\n",
              "\n",
              "<div id=\"df-1e5c9177-65f5-4f6a-908b-b49512ecab20\">\n",
              "  <button class=\"colab-df-quickchart\" onclick=\"quickchart('df-1e5c9177-65f5-4f6a-908b-b49512ecab20')\"\n",
              "            title=\"Suggest charts\"\n",
              "            style=\"display:none;\">\n",
              "\n",
              "<svg xmlns=\"http://www.w3.org/2000/svg\" height=\"24px\"viewBox=\"0 0 24 24\"\n",
              "     width=\"24px\">\n",
              "    <g>\n",
              "        <path d=\"M19 3H5c-1.1 0-2 .9-2 2v14c0 1.1.9 2 2 2h14c1.1 0 2-.9 2-2V5c0-1.1-.9-2-2-2zM9 17H7v-7h2v7zm4 0h-2V7h2v10zm4 0h-2v-4h2v4z\"/>\n",
              "    </g>\n",
              "</svg>\n",
              "  </button>\n",
              "\n",
              "<style>\n",
              "  .colab-df-quickchart {\n",
              "      --bg-color: #E8F0FE;\n",
              "      --fill-color: #1967D2;\n",
              "      --hover-bg-color: #E2EBFA;\n",
              "      --hover-fill-color: #174EA6;\n",
              "      --disabled-fill-color: #AAA;\n",
              "      --disabled-bg-color: #DDD;\n",
              "  }\n",
              "\n",
              "  [theme=dark] .colab-df-quickchart {\n",
              "      --bg-color: #3B4455;\n",
              "      --fill-color: #D2E3FC;\n",
              "      --hover-bg-color: #434B5C;\n",
              "      --hover-fill-color: #FFFFFF;\n",
              "      --disabled-bg-color: #3B4455;\n",
              "      --disabled-fill-color: #666;\n",
              "  }\n",
              "\n",
              "  .colab-df-quickchart {\n",
              "    background-color: var(--bg-color);\n",
              "    border: none;\n",
              "    border-radius: 50%;\n",
              "    cursor: pointer;\n",
              "    display: none;\n",
              "    fill: var(--fill-color);\n",
              "    height: 32px;\n",
              "    padding: 0;\n",
              "    width: 32px;\n",
              "  }\n",
              "\n",
              "  .colab-df-quickchart:hover {\n",
              "    background-color: var(--hover-bg-color);\n",
              "    box-shadow: 0 1px 2px rgba(60, 64, 67, 0.3), 0 1px 3px 1px rgba(60, 64, 67, 0.15);\n",
              "    fill: var(--button-hover-fill-color);\n",
              "  }\n",
              "\n",
              "  .colab-df-quickchart-complete:disabled,\n",
              "  .colab-df-quickchart-complete:disabled:hover {\n",
              "    background-color: var(--disabled-bg-color);\n",
              "    fill: var(--disabled-fill-color);\n",
              "    box-shadow: none;\n",
              "  }\n",
              "\n",
              "  .colab-df-spinner {\n",
              "    border: 2px solid var(--fill-color);\n",
              "    border-color: transparent;\n",
              "    border-bottom-color: var(--fill-color);\n",
              "    animation:\n",
              "      spin 1s steps(1) infinite;\n",
              "  }\n",
              "\n",
              "  @keyframes spin {\n",
              "    0% {\n",
              "      border-color: transparent;\n",
              "      border-bottom-color: var(--fill-color);\n",
              "      border-left-color: var(--fill-color);\n",
              "    }\n",
              "    20% {\n",
              "      border-color: transparent;\n",
              "      border-left-color: var(--fill-color);\n",
              "      border-top-color: var(--fill-color);\n",
              "    }\n",
              "    30% {\n",
              "      border-color: transparent;\n",
              "      border-left-color: var(--fill-color);\n",
              "      border-top-color: var(--fill-color);\n",
              "      border-right-color: var(--fill-color);\n",
              "    }\n",
              "    40% {\n",
              "      border-color: transparent;\n",
              "      border-right-color: var(--fill-color);\n",
              "      border-top-color: var(--fill-color);\n",
              "    }\n",
              "    60% {\n",
              "      border-color: transparent;\n",
              "      border-right-color: var(--fill-color);\n",
              "    }\n",
              "    80% {\n",
              "      border-color: transparent;\n",
              "      border-right-color: var(--fill-color);\n",
              "      border-bottom-color: var(--fill-color);\n",
              "    }\n",
              "    90% {\n",
              "      border-color: transparent;\n",
              "      border-bottom-color: var(--fill-color);\n",
              "    }\n",
              "  }\n",
              "</style>\n",
              "\n",
              "  <script>\n",
              "    async function quickchart(key) {\n",
              "      const quickchartButtonEl =\n",
              "        document.querySelector('#' + key + ' button');\n",
              "      quickchartButtonEl.disabled = true;  // To prevent multiple clicks.\n",
              "      quickchartButtonEl.classList.add('colab-df-spinner');\n",
              "      try {\n",
              "        const charts = await google.colab.kernel.invokeFunction(\n",
              "            'suggestCharts', [key], {});\n",
              "      } catch (error) {\n",
              "        console.error('Error during call to suggestCharts:', error);\n",
              "      }\n",
              "      quickchartButtonEl.classList.remove('colab-df-spinner');\n",
              "      quickchartButtonEl.classList.add('colab-df-quickchart-complete');\n",
              "    }\n",
              "    (() => {\n",
              "      let quickchartButtonEl =\n",
              "        document.querySelector('#df-1e5c9177-65f5-4f6a-908b-b49512ecab20 button');\n",
              "      quickchartButtonEl.style.display =\n",
              "        google.colab.kernel.accessAllowed ? 'block' : 'none';\n",
              "    })();\n",
              "  </script>\n",
              "</div>\n",
              "    </div>\n",
              "  </div>\n"
            ],
            "application/vnd.google.colaboratory.intrinsic+json": {
              "type": "dataframe",
              "variable_name": "conf_df",
              "summary": "{\n  \"name\": \"conf_df\",\n  \"rows\": 7,\n  \"fields\": [\n    {\n      \"column\": \"volleyball\",\n      \"properties\": {\n        \"dtype\": \"number\",\n        \"std\": 168,\n        \"min\": 0,\n        \"max\": 449,\n        \"num_unique_values\": 4,\n        \"samples\": [\n          1,\n          15,\n          449\n        ],\n        \"semantic_type\": \"\",\n        \"description\": \"\"\n      }\n    },\n    {\n      \"column\": \"hockey\",\n      \"properties\": {\n        \"dtype\": \"number\",\n        \"std\": 159,\n        \"min\": 1,\n        \"max\": 426,\n        \"num_unique_values\": 6,\n        \"samples\": [\n          4,\n          426,\n          3\n        ],\n        \"semantic_type\": \"\",\n        \"description\": \"\"\n      }\n    },\n    {\n      \"column\": \"boxing\",\n      \"properties\": {\n        \"dtype\": \"number\",\n        \"std\": 157,\n        \"min\": 0,\n        \"max\": 418,\n        \"num_unique_values\": 4,\n        \"samples\": [\n          0,\n          6,\n          3\n        ],\n        \"semantic_type\": \"\",\n        \"description\": \"\"\n      }\n    },\n    {\n      \"column\": \"basketball\",\n      \"properties\": {\n        \"dtype\": \"number\",\n        \"std\": 150,\n        \"min\": 3,\n        \"max\": 406,\n        \"num_unique_values\": 7,\n        \"samples\": [\n          6,\n          15,\n          18\n        ],\n        \"semantic_type\": \"\",\n        \"description\": \"\"\n      }\n    },\n    {\n      \"column\": \"auto\",\n      \"properties\": {\n        \"dtype\": \"number\",\n        \"std\": 180,\n        \"min\": 0,\n        \"max\": 477,\n        \"num_unique_values\": 4,\n        \"samples\": [\n          1,\n          2,\n          0\n        ],\n        \"semantic_type\": \"\",\n        \"description\": \"\"\n      }\n    },\n    {\n      \"column\": \"football\",\n      \"properties\": {\n        \"dtype\": \"number\",\n        \"std\": 156,\n        \"min\": 3,\n        \"max\": 424,\n        \"num_unique_values\": 7,\n        \"samples\": [\n          10,\n          13,\n          424\n        ],\n        \"semantic_type\": \"\",\n        \"description\": \"\"\n      }\n    },\n    {\n      \"column\": \"tennis\",\n      \"properties\": {\n        \"dtype\": \"number\",\n        \"std\": 147,\n        \"min\": 5,\n        \"max\": 396,\n        \"num_unique_values\": 5,\n        \"samples\": [\n          12,\n          396,\n          7\n        ],\n        \"semantic_type\": \"\",\n        \"description\": \"\"\n      }\n    }\n  ]\n}"
            }
          },
          "metadata": {},
          "execution_count": 56
        }
      ]
    },
    {
      "cell_type": "code",
      "source": [],
      "metadata": {
        "id": "eicCObj3hurN"
      },
      "execution_count": null,
      "outputs": []
    }
  ]
}